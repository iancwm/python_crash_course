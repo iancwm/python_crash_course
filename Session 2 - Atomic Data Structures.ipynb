{
 "cells": [
  {
   "cell_type": "markdown",
   "metadata": {
    "id": "cNvDq97j47d2"
   },
   "source": [
    "\n",
    "<h1><font color='blue'>Session 2 - Atomic Data Structures</font></h1>\n",
    "\n",
    "Again, these are basic structures in Python for holding data and performing standardized operations on them. Combined with other basic structures, you can more or less implement virtually every algorithm out there.\n",
    "\n",
    "Here is where programming starts to get useful. Maybe not interesting, but useful.\n",
    "\n",
    "----\n",
    "\n",
    "# Section 1 - Lists\n",
    "\n",
    "A Python list can hold multiple elements of different data types. \n",
    "\n",
    "In the picture below, $L$ is the `list`, and $L_0$, $L_1 \\dots$ are the elements of $L$, with $L_3$ itself being a `list`\n",
    "\n",
    "$Type(L_0)=int$\n",
    "\n",
    "$Type(L_1)=str$\n",
    "\n",
    "$Type(L_2)=float$\n",
    "\n",
    "$Type(L_3)=list$\n",
    "\n",
    "![](https://scaler.com/topics/images/list_methods_in_python.webp)\n",
    "\n",
    "In other languages this would be called an `array`. However, Python lists have more capabilities and functions than a typical array. For instance, in other languages arrays are usually fixed in width and can only hold one type of data i.e. you can't have both `float` and `int` in the same array, but you can in Python.\n",
    "\n",
    "You can also easily `append` new items to the back of the list. As mentioned above, they don't have to be the same type."
   ]
  },
  {
   "cell_type": "code",
   "execution_count": 1,
   "metadata": {
    "colab": {
     "base_uri": "https://localhost:8080/"
    },
    "executionInfo": {
     "elapsed": 38,
     "status": "ok",
     "timestamp": 1670028883645,
     "user": {
      "displayName": "Ian Chong",
      "userId": "10615222189260864195"
     },
     "user_tz": -480
    },
    "id": "zE-EZ3I64qGy",
    "outputId": "afe61e22-6c98-40a4-cd37-e3557ab3e18c"
   },
   "outputs": [
    {
     "name": "stdout",
     "output_type": "stream",
     "text": [
      "my_list contents:  ['Richard', 'Symonds', 1]\n",
      "The length of my_list is : 3\n",
      "Contents of my_list ['Richard', 'Symonds', 1]\n",
      "Appending 2.0\n",
      "The length of my_list is now: 4\n",
      "Contents of my_list ['Richard', 'Symonds', 1, 2.0]\n"
     ]
    }
   ],
   "source": [
    "my_list = [\"Richard\",\"Symonds\",1]\n",
    "\n",
    "print(\"my_list contents: \",my_list)\n",
    "\n",
    "print(\"The length of my_list is :\",len(my_list))\n",
    "print(\"Contents of my_list\",my_list)\n",
    "\n",
    "to_append = 2.0\n",
    "print(\"Appending 2.0\")\n",
    "my_list.append(to_append)\n",
    "\n",
    "print(\"The length of my_list is now:\",len(my_list))\n",
    "print(\"Contents of my_list\",my_list)"
   ]
  },
  {
   "cell_type": "code",
   "execution_count": 2,
   "metadata": {},
   "outputs": [
    {
     "name": "stdout",
     "output_type": "stream",
     "text": [
      "Wrong data types. Plsfixnoob\n"
     ]
    }
   ],
   "source": [
    "try:\n",
    "    print(\" \".join(my_list))\n",
    "except:\n",
    "    print(\"Wrong data types. Plsfixnoob\")"
   ]
  },
  {
   "cell_type": "markdown",
   "metadata": {},
   "source": [
    "List comprehension! Will be explained later. Essentially coerces all elements in my_list to be strings, which is required for the .join() operation"
   ]
  },
  {
   "cell_type": "code",
   "execution_count": 3,
   "metadata": {},
   "outputs": [
    {
     "data": {
      "text/plain": [
       "'Richard Symonds 1 2.0'"
      ]
     },
     "execution_count": 3,
     "metadata": {},
     "output_type": "execute_result"
    }
   ],
   "source": [
    "\" \".join([str(i) for i in my_list])"
   ]
  },
  {
   "cell_type": "code",
   "execution_count": 4,
   "metadata": {},
   "outputs": [
    {
     "data": {
      "text/plain": [
       "'RichardRichard SymondsSymonds 2 4.0'"
      ]
     },
     "execution_count": 4,
     "metadata": {},
     "output_type": "execute_result"
    }
   ],
   "source": [
    "\" \".join([str(i+i) for i in my_list])"
   ]
  },
  {
   "cell_type": "code",
   "execution_count": 5,
   "metadata": {},
   "outputs": [
    {
     "data": {
      "text/plain": [
       "'Richard Symonds 1 2.0'"
      ]
     },
     "execution_count": 5,
     "metadata": {},
     "output_type": "execute_result"
    }
   ],
   "source": [
    "my_new_list = []\n",
    "\n",
    "for i in my_list:\n",
    "    my_new_list.append(str(i))\n",
    "\n",
    "\" \".join(my_new_list)"
   ]
  },
  {
   "cell_type": "markdown",
   "metadata": {
    "id": "3Di4uS4109vZ"
   },
   "source": [
    "## 1.1 - Indexing\n",
    "\n",
    "We alluded to indexing when we covered strings. A string is basically a list of individual characters put together.\n",
    "\n",
    "Indexing lists follows the same convention as what we did in strings. Here's a refresher. \n",
    "\n",
    "> *Note: Don't worry about the for loop. We will cover it in detail later. Just know that it repeatedly calls the code within on each element within an iterable like a list*"
   ]
  },
  {
   "cell_type": "code",
   "execution_count": 6,
   "metadata": {
    "colab": {
     "base_uri": "https://localhost:8080/"
    },
    "executionInfo": {
     "elapsed": 37,
     "status": "ok",
     "timestamp": 1670028883645,
     "user": {
      "displayName": "Ian Chong",
      "userId": "10615222189260864195"
     },
     "user_tz": -480
    },
    "id": "S0TDBG8R0YRx",
    "outputId": "6f5bdacc-42c9-46fb-cdbc-491ec72af41e"
   },
   "outputs": [
    {
     "name": "stdout",
     "output_type": "stream",
     "text": [
      "my_list is now:  [0, 1, 2, 3, 4, 5, 6, 7, 8, 9]\n",
      "The second element in my_list is:  1\n",
      "my_list in reverse is:  [9, 8, 7, 6, 5, 4, 3, 2, 1, 0]\n",
      "All odd elements in my_list is:  [0, 2, 4, 6, 8]\n"
     ]
    }
   ],
   "source": [
    "my_list = []\n",
    "\n",
    "for i in range(10):\n",
    "    my_list.append(i)\n",
    "\n",
    "print(\"my_list is now: \", my_list)\n",
    "\n",
    "print(\"The second element in my_list is: \",my_list[1])\n",
    "\n",
    "print(\"my_list in reverse is: \",my_list[::-1])\n",
    "\n",
    "print(\"All odd elements in my_list is: \",my_list[::2])"
   ]
  },
  {
   "cell_type": "markdown",
   "metadata": {},
   "source": [
    "To split a list into halves no matter the length, use the len() function to automatically compute the length!"
   ]
  },
  {
   "cell_type": "code",
   "execution_count": 7,
   "metadata": {},
   "outputs": [
    {
     "name": "stdout",
     "output_type": "stream",
     "text": [
      "First half: [0, 1, 2, 3, 4]\n",
      "Second half: [5, 6, 7, 8]\n"
     ]
    }
   ],
   "source": [
    "length=len(my_list)\n",
    "first_half=my_list[0:int(length/2)]\n",
    "second_half=my_list[int(length/2):-1]\n",
    "print(\"First half:\",first_half)\n",
    "print(\"Second half:\",second_half)"
   ]
  },
  {
   "cell_type": "code",
   "execution_count": 8,
   "metadata": {},
   "outputs": [
    {
     "data": {
      "text/plain": [
       "5"
      ]
     },
     "execution_count": 8,
     "metadata": {},
     "output_type": "execute_result"
    }
   ],
   "source": [
    "int(length/2)"
   ]
  },
  {
   "cell_type": "markdown",
   "metadata": {
    "id": "q-Fyl7487YG3"
   },
   "source": [
    "## 1.2 - List Operations\n",
    "\n",
    "You can assign an expression to update an existing element of list, and insert new elements at specified locations.\n",
    "\n",
    "You can also remove elements by using the `.remove()` method or `del` statement.\n",
    "\n",
    "> Note: .remove() will remove the elements `in situ` i.e. you cannot assign `list.remove()` to a variable. Just call the method for it to work."
   ]
  },
  {
   "cell_type": "code",
   "execution_count": 9,
   "metadata": {
    "colab": {
     "base_uri": "https://localhost:8080/"
    },
    "executionInfo": {
     "elapsed": 36,
     "status": "ok",
     "timestamp": 1670028883646,
     "user": {
      "displayName": "Ian Chong",
      "userId": "10615222189260864195"
     },
     "user_tz": -480
    },
    "id": "ySYfB5_81xZb",
    "outputId": "195892ba-3ae0-453b-8e9c-485b58d790aa"
   },
   "outputs": [
    {
     "name": "stdout",
     "output_type": "stream",
     "text": [
      "Length of my list is currently:  10\n",
      "my_list now has:  [0, 1, 2, 3, 4, 5, 6, 7, 8, 9]\n",
      "After changing the first element, my_list is now:  [9999, 1, 2, 3, 4, 5, 6, 7, 8, 9]\n",
      "Length of my list is still:  10\n",
      "After inserting before position 3, my_list is now:  [9999, 1, 2, 'Richard', 3, 4, 5, 6, 7, 8, 9]\n",
      "Length of my list is currently:  11\n",
      "After removing the element 'Richard', my_list is now:  [9999, 1, 2, 3, 4, 5, 6, 7, 8, 9]\n",
      "After removing the first element', my_list is now:  [1, 2, 3, 4, 5, 6, 7, 8, 9]\n",
      "Length of my list is currently:  9\n"
     ]
    }
   ],
   "source": [
    "print(\"Length of my list is currently: \",len(my_list))\n",
    "print(\"my_list now has: \",my_list)\n",
    "\n",
    "my_list[0]=9999\n",
    "\n",
    "print(\"After changing the first element, my_list is now: \",my_list)\n",
    "print(\"Length of my list is still: \",len(my_list))\n",
    "\n",
    "my_list.insert(3,\"Richard\")\n",
    "\n",
    "print(\"After inserting before position 3, my_list is now: \",my_list)\n",
    "print(\"Length of my list is currently: \",len(my_list))\n",
    "\n",
    "my_list.remove(\"Richard\")\n",
    "print(\"After removing the element 'Richard', my_list is now: \",my_list)\n",
    "\n",
    "del my_list[0]\n",
    "print(\"After removing the first element', my_list is now: \",my_list)\n",
    "print(\"Length of my list is currently: \",len(my_list))"
   ]
  },
  {
   "cell_type": "markdown",
   "metadata": {
    "id": "2hGhY4a89Kru"
   },
   "source": [
    "When you add two lists together, it concatenates them. It does not do element-wise addition.\n",
    "\n",
    "The `for` loop indexes each element in `first_list`, adds it to the corresponding element in `second_list` and appends the result to a new `sum` list. We will cover `for` loops in greater detail in the next Session on Flow Control."
   ]
  },
  {
   "cell_type": "code",
   "execution_count": 10,
   "metadata": {
    "colab": {
     "base_uri": "https://localhost:8080/"
    },
    "executionInfo": {
     "elapsed": 35,
     "status": "ok",
     "timestamp": 1670028883647,
     "user": {
      "displayName": "Ian Chong",
      "userId": "10615222189260864195"
     },
     "user_tz": -480
    },
    "id": "cu-wVf-x8pYo",
    "outputId": "0df6dd7a-f44d-4d33-e31b-3b02f734837a"
   },
   "outputs": [
    {
     "name": "stdout",
     "output_type": "stream",
     "text": [
      "Concatenated:  [1, 2, 3, 4, 5, 6, 7, 8]\n",
      "Element-wise sum:  [6, 8, 10, 12]\n"
     ]
    }
   ],
   "source": [
    "first_list = [1,2,3,4]\n",
    "second_list = [5,6,7,8]\n",
    "\n",
    "# Adding two lists will combine them\n",
    "concatenated = first_list+second_list\n",
    "\n",
    "# To get the element wise sum, use a loop\n",
    "sum=[]\n",
    "for i in range(len(first_list)):\n",
    "    sum.append(first_list[i]+second_list[i])\n",
    "\n",
    "print(\"Concatenated: \",concatenated)\n",
    "print(\"Element-wise sum: \",sum)"
   ]
  },
  {
   "cell_type": "markdown",
   "metadata": {
    "id": "IvZY_7gB-0Rq"
   },
   "source": [
    "You can *unpack* a list by assigning it to multiple variables on the left hand side.\n",
    "\n",
    "> *Note: \\n means a new line. Hence the below is printed on a new line for each variable*"
   ]
  },
  {
   "cell_type": "code",
   "execution_count": 11,
   "metadata": {
    "colab": {
     "base_uri": "https://localhost:8080/"
    },
    "executionInfo": {
     "elapsed": 33,
     "status": "ok",
     "timestamp": 1670028883647,
     "user": {
      "displayName": "Ian Chong",
      "userId": "10615222189260864195"
     },
     "user_tz": -480
    },
    "id": "GiONZ48-9uqb",
    "outputId": "2c60d884-f3d1-496b-ee03-cfee92e02d57"
   },
   "outputs": [
    {
     "name": "stdout",
     "output_type": "stream",
     "text": [
      "a:1\n",
      "b:2\n",
      "c:3\n",
      "d:4\n"
     ]
    }
   ],
   "source": [
    "a,b,c,d=first_list\n",
    "print(f\"a:{a}\\nb:{b}\\nc:{c}\\nd:{d}\")"
   ]
  },
  {
   "cell_type": "markdown",
   "metadata": {
    "id": "lmRf5Y-dHRWu"
   },
   "source": [
    "## 1.3 - Deep vs Shallow copy\n",
    "\n",
    "This is a very important concept to get as it will save you from a lot of confusion.\n",
    "\n",
    "![](https://www.i2tutorials.com/wp-content/media/2018/11/python-shallow-and-deepi2tutorials.com_.png)\n",
    "\n",
    "See [Real Python - Copying Python Objects](https://realpython.com/copying-python-objects/) for in depth discussion:"
   ]
  },
  {
   "cell_type": "code",
   "execution_count": 12,
   "metadata": {
    "colab": {
     "base_uri": "https://localhost:8080/"
    },
    "executionInfo": {
     "elapsed": 33,
     "status": "ok",
     "timestamp": 1670028883648,
     "user": {
      "displayName": "Ian Chong",
      "userId": "10615222189260864195"
     },
     "user_tz": -480
    },
    "id": "rdZTwAUbHtl1",
    "outputId": "bad57c18-a023-4f7e-9f18-f305a87f7e05"
   },
   "outputs": [
    {
     "name": "stdout",
     "output_type": "stream",
     "text": [
      "xs contents:  [[1, 2, 3], [4, 5, 6], [7, 8, 9]]\n",
      "ys contents:  [[1, 2, 3], [4, 5, 6], [7, 8, 9]]\n"
     ]
    }
   ],
   "source": [
    "xs = [[1, 2, 3], [4, 5, 6], [7, 8, 9]]\n",
    "\n",
    "ys = list(xs)  # Make a shallow copy\n",
    "\n",
    "print(\"xs contents: \",xs)\n",
    "print(\"ys contents: \",ys)"
   ]
  },
  {
   "cell_type": "markdown",
   "metadata": {
    "id": "7lbyGYXoH2rO"
   },
   "source": [
    "If we add a new sublist to the original (xs) and then check to make sure this modification didn’t affect the copy (ys)...."
   ]
  },
  {
   "cell_type": "code",
   "execution_count": 13,
   "metadata": {
    "colab": {
     "base_uri": "https://localhost:8080/"
    },
    "executionInfo": {
     "elapsed": 32,
     "status": "ok",
     "timestamp": 1670028883648,
     "user": {
      "displayName": "Ian Chong",
      "userId": "10615222189260864195"
     },
     "user_tz": -480
    },
    "id": "v50u7v-nH9vY",
    "outputId": "bc169ea0-fec7-408c-ad63-36563d560094"
   },
   "outputs": [
    {
     "name": "stdout",
     "output_type": "stream",
     "text": [
      "xs has changed!  [[1, 2, 3], [4, 5, 6], [7, 8, 9], ['new sublist']]\n",
      "ys has not?  [[1, 2, 3], [4, 5, 6], [7, 8, 9]]\n"
     ]
    }
   ],
   "source": [
    "xs.append(['new sublist'])\n",
    "\n",
    "print(\"xs has changed! \",xs)\n",
    "print(\"ys has not? \",ys)"
   ]
  },
  {
   "cell_type": "markdown",
   "metadata": {
    "id": "5M6CbaHNII1x"
   },
   "source": [
    "Not exactly. We only created a shallow copy of the original list so `ys` still contains references to the original child objects stored in `xs`.\n",
    "\n",
    "These children were not copied. They were merely referenced again in the copied list.\n",
    "\n",
    "Therefore, when you modify one of the child objects in `xs`, this modification will be reflected in `ys` as well—that’s because both lists share the same child objects. The copy is only a shallow, one level deep copy:"
   ]
  },
  {
   "cell_type": "code",
   "execution_count": 14,
   "metadata": {
    "colab": {
     "base_uri": "https://localhost:8080/"
    },
    "executionInfo": {
     "elapsed": 30,
     "status": "ok",
     "timestamp": 1670028883648,
     "user": {
      "displayName": "Ian Chong",
      "userId": "10615222189260864195"
     },
     "user_tz": -480
    },
    "id": "UTnpXS4bJtV8",
    "outputId": "48a0b284-e343-4d7d-b99f-7b0991860ddb"
   },
   "outputs": [
    {
     "name": "stdout",
     "output_type": "stream",
     "text": [
      "xs has changed!  [[1, 2, 3], ['X', 5, 6], [7, 8, 9], ['new sublist']]\n",
      "ys has changed too!  [[1, 2, 3], ['X', 5, 6], [7, 8, 9]]\n"
     ]
    }
   ],
   "source": [
    "xs[1][0] = 'X'\n",
    "\n",
    "print(\"xs has changed! \",xs)\n",
    "print(\"ys has changed too! \",ys)"
   ]
  },
  {
   "cell_type": "markdown",
   "metadata": {
    "id": "EqZrnWaBBHa9"
   },
   "source": [
    "----\n",
    "\n",
    "# Section 2 - Tuples\n",
    "\n",
    "Tuples are like lists, except immutable. i.e. you cannot change it once it is created. These are useful when you do not expect values to change.\n",
    "\n",
    "In the interests of time I won't cover too much of this as it is quite self explanatory."
   ]
  },
  {
   "cell_type": "code",
   "execution_count": 15,
   "metadata": {
    "colab": {
     "base_uri": "https://localhost:8080/"
    },
    "executionInfo": {
     "elapsed": 29,
     "status": "ok",
     "timestamp": 1670028883649,
     "user": {
      "displayName": "Ian Chong",
      "userId": "10615222189260864195"
     },
     "user_tz": -480
    },
    "id": "o_gNsQCW_EjV",
    "outputId": "6890fe41-fef1-4716-fc89-0907abd85846"
   },
   "outputs": [
    {
     "name": "stdout",
     "output_type": "stream",
     "text": [
      "my_tuple contains:  ('Name', 'Richard')\n",
      "first element of my_tuple is:  Name\n",
      "second element of my_tuple is:  Richard\n",
      "I could not do the impossible as tuples are immutable.\n",
      "But I can create a new tuple and re-assign it to the same variable! See:  ('Name', 'Ian')\n"
     ]
    }
   ],
   "source": [
    "my_tuple=('Name','Richard')\n",
    "print(\"my_tuple contains: \",my_tuple)\n",
    "print(\"first element of my_tuple is: \",my_tuple[0])\n",
    "print(\"second element of my_tuple is: \",my_tuple[1])\n",
    "\n",
    "try:\n",
    "    my_tuple[1]=\"Weeb\"\n",
    "    print(my_tuple)\n",
    "    print(\"Did I just do the impossible?\")\n",
    "\n",
    "except:\n",
    "    print(\"I could not do the impossible as tuples are immutable.\")\n",
    "\n",
    "my_tuple=('Name','Ian')\n",
    "print('But I can create a new tuple and re-assign it to the same variable! See: ',my_tuple)"
   ]
  },
  {
   "cell_type": "markdown",
   "metadata": {
    "id": "0z-2sQZyCPYE"
   },
   "source": [
    "You can create tuples from multiple lists using `zip()`. Note: If the lengths of the lists are different, you will only get as many tuples as the shortest length list.\n",
    "\n",
    "![](https://blog.finxter.com/wp-content/uploads/2021/01/zip-1024x576.jpg)"
   ]
  },
  {
   "cell_type": "code",
   "execution_count": 16,
   "metadata": {
    "colab": {
     "base_uri": "https://localhost:8080/"
    },
    "executionInfo": {
     "elapsed": 27,
     "status": "ok",
     "timestamp": 1670028883649,
     "user": {
      "displayName": "Ian Chong",
      "userId": "10615222189260864195"
     },
     "user_tz": -480
    },
    "id": "ewpyCiClBwwf",
    "outputId": "070f6f5b-889d-4b00-ecdb-409a2fe95fa9"
   },
   "outputs": [
    {
     "name": "stdout",
     "output_type": "stream",
     "text": [
      "Result of zipping first_list and second_list is:  [(1, 5), (2, 6), (3, 7), (4, 8)]\n"
     ]
    }
   ],
   "source": [
    "zip_result=[]\n",
    "for i in zip(first_list,second_list):\n",
    "    zip_result.append(i)\n",
    "\n",
    "print(\"Result of zipping first_list and second_list is: \",zip_result)"
   ]
  },
  {
   "cell_type": "markdown",
   "metadata": {
    "id": "fzH8TCBdDC9I"
   },
   "source": [
    "----\n",
    "\n",
    "# Section 3 - Dictionaries\n",
    "\n",
    "Now we are really cooking with gas. Dictionaries contain data or `values` which are accessed by `keys`. Together they are called an `item` in the dictionary.\n",
    "\n",
    "![](http://www.trytoprogram.com/images/python_dictionary.jpg)\n",
    "\n",
    "They are a very powerful representation of data as you can now model data with relationships. In other languages this would be called an `object` (JavaScript) or `hashmap`. The ubiquitous JSON format which more or less the entire web runs on is an example of how useful this data structure is. See [Programiz - Python Dictionaries](https://www.programiz.com/python-programming/dictionary) for a more thorough introduction.\n",
    "\n",
    "Let's say we want to make a phone book of the following people.\n",
    "\n",
    "|Name|Address|Telephone|\n",
    "|---|---|---|\n",
    "|Ian Chong|Furry Kingdom|696969|\n",
    "|Richard Symonds|Weebland|969696|"
   ]
  },
  {
   "cell_type": "code",
   "execution_count": 17,
   "metadata": {
    "colab": {
     "base_uri": "https://localhost:8080/"
    },
    "executionInfo": {
     "elapsed": 27,
     "status": "ok",
     "timestamp": 1670028883650,
     "user": {
      "displayName": "Ian Chong",
      "userId": "10615222189260864195"
     },
     "user_tz": -480
    },
    "id": "QoINxqhjCd7s",
    "outputId": "fbdb9ccf-485a-469b-92b9-644c1ea0492f"
   },
   "outputs": [
    {
     "name": "stdout",
     "output_type": "stream",
     "text": [
      "{'Ian Chong': {'Address': 'Furry Kingdom', 'Telephone': 696969}, 'Richard Symonds': {'Address': 'Weebland', 'Telephone': 969696}}\n"
     ]
    }
   ],
   "source": [
    "phonebook={'Ian Chong':{'Address':'Furry Kingdom','Telephone':696969},'Richard Symonds':{'Address':'Weebland','Telephone':969696}}\n",
    "print(phonebook)"
   ]
  },
  {
   "cell_type": "markdown",
   "metadata": {
    "id": "2QprvXWCEiao"
   },
   "source": [
    "Obviously this is a little hard to read so feel free to format your code by using line breaks. The following is equivalent.\n",
    "\n",
    "**!!!IMPORTANT!!!**: In Python, tab or space are different characters. And they matter in determining how the code runs. Stick to one common way of adding whitespace to your code. If you use tabs, make sure to use them all the way."
   ]
  },
  {
   "cell_type": "code",
   "execution_count": 18,
   "metadata": {
    "colab": {
     "base_uri": "https://localhost:8080/"
    },
    "executionInfo": {
     "elapsed": 24,
     "status": "ok",
     "timestamp": 1670028883650,
     "user": {
      "displayName": "Ian Chong",
      "userId": "10615222189260864195"
     },
     "user_tz": -480
    },
    "id": "16BK1vW_Efuk",
    "outputId": "cf9eb85a-e2f4-4b5c-973e-3e415b93868c"
   },
   "outputs": [
    {
     "name": "stdout",
     "output_type": "stream",
     "text": [
      "{'Ian Chong': {'Address': 'Furry Kingdom', 'Telephone': 696969}, 'Richard Symonds': {'Address': 'Weebland', 'Telephone': 969696}}\n"
     ]
    }
   ],
   "source": [
    "phonebook={\n",
    "    'Ian Chong':{\n",
    "        'Address':'Furry Kingdom',\n",
    "        'Telephone':696969},\n",
    "    'Richard Symonds':{\n",
    "        'Address':'Weebland',\n",
    "        'Telephone':969696}\n",
    "        }\n",
    "print(phonebook)"
   ]
  },
  {
   "cell_type": "markdown",
   "metadata": {
    "id": "gdR4KwI5FDhV"
   },
   "source": [
    "You access the elements of a dictionary using keys."
   ]
  },
  {
   "cell_type": "code",
   "execution_count": 19,
   "metadata": {
    "colab": {
     "base_uri": "https://localhost:8080/"
    },
    "executionInfo": {
     "elapsed": 22,
     "status": "ok",
     "timestamp": 1670028883650,
     "user": {
      "displayName": "Ian Chong",
      "userId": "10615222189260864195"
     },
     "user_tz": -480
    },
    "id": "fZoZ-X0DFGfC",
    "outputId": "e3c64413-b225-4afb-de72-0d6d34604c8f"
   },
   "outputs": [
    {
     "name": "stdout",
     "output_type": "stream",
     "text": [
      "The keys in phonebook are:  dict_keys(['Ian Chong', 'Richard Symonds'])\n",
      "The values in phonebook are:  dict_values([{'Address': 'Furry Kingdom', 'Telephone': 696969}, {'Address': 'Weebland', 'Telephone': 969696}])\n",
      "Here is Ian's data:  {'Address': 'Furry Kingdom', 'Telephone': 696969}\n"
     ]
    }
   ],
   "source": [
    "print(\"The keys in phonebook are: \", phonebook.keys())\n",
    "print(\"The values in phonebook are: \", phonebook.values())\n",
    "\n",
    "ian_data=phonebook['Ian Chong']\n",
    "print(\"Here is Ian's data: \", ian_data)"
   ]
  },
  {
   "cell_type": "markdown",
   "metadata": {
    "id": "0GeO9SlAFyyW"
   },
   "source": [
    "If you want all keys and values as tuple pairs, use the `.items()` method."
   ]
  },
  {
   "cell_type": "code",
   "execution_count": 20,
   "metadata": {
    "colab": {
     "base_uri": "https://localhost:8080/"
    },
    "executionInfo": {
     "elapsed": 20,
     "status": "ok",
     "timestamp": 1670028883651,
     "user": {
      "displayName": "Ian Chong",
      "userId": "10615222189260864195"
     },
     "user_tz": -480
    },
    "id": "p0GWegf1F3qZ",
    "outputId": "d46c10d5-c7f7-4d55-c2e0-e9b90f8d8880"
   },
   "outputs": [
    {
     "name": "stdout",
     "output_type": "stream",
     "text": [
      "All items in phonebook:  dict_items([('Ian Chong', {'Address': 'Furry Kingdom', 'Telephone': 696969}), ('Richard Symonds', {'Address': 'Weebland', 'Telephone': 969696})])\n",
      "Key:  Ian Chong \n",
      "Value: {'Address': 'Furry Kingdom', 'Telephone': 696969}\n",
      "Key:  Richard Symonds \n",
      "Value: {'Address': 'Weebland', 'Telephone': 969696}\n"
     ]
    }
   ],
   "source": [
    "print(\"All items in phonebook: \",phonebook.items())\n",
    "\n",
    "for key, value in phonebook.items():\n",
    "    print(\"Key: \",key,\"\\nValue:\",value)"
   ]
  },
  {
   "cell_type": "markdown",
   "metadata": {
    "id": "LXUi3GzUG6gN"
   },
   "source": [
    "Updating values in dictionaries is kind of like updating values in lists. You just index differently."
   ]
  },
  {
   "cell_type": "code",
   "execution_count": 21,
   "metadata": {
    "colab": {
     "base_uri": "https://localhost:8080/"
    },
    "executionInfo": {
     "elapsed": 19,
     "status": "ok",
     "timestamp": 1670028883651,
     "user": {
      "displayName": "Ian Chong",
      "userId": "10615222189260864195"
     },
     "user_tz": -480
    },
    "id": "B7UKpf7vHC0r",
    "outputId": "67ddaec9-4037-4c3b-b782-fa094bc89621"
   },
   "outputs": [
    {
     "name": "stdout",
     "output_type": "stream",
     "text": [
      "Here is Ian's data after updating:  {'Address': 'Furry Mountain', 'Telephone': 696969}\n"
     ]
    }
   ],
   "source": [
    "phonebook['Ian Chong']['Address']='Furry Mountain'\n",
    "ian_data=phonebook['Ian Chong']\n",
    "print(\"Here is Ian's data after updating: \", ian_data)"
   ]
  },
  {
   "cell_type": "markdown",
   "metadata": {
    "id": "FVcxpCJaEwu7"
   },
   "source": [
    "As can be seen above, dictionaries are very versatile. We just represented a whole data table in a single structure. And if we want to modify the structure of the data, we are free to do so. Let's say we want to add email addresses...."
   ]
  },
  {
   "cell_type": "code",
   "execution_count": 22,
   "metadata": {
    "colab": {
     "base_uri": "https://localhost:8080/"
    },
    "executionInfo": {
     "elapsed": 17,
     "status": "ok",
     "timestamp": 1670028883651,
     "user": {
      "displayName": "Ian Chong",
      "userId": "10615222189260864195"
     },
     "user_tz": -480
    },
    "id": "NUqBTmCfEvP_",
    "outputId": "bef297e9-dedd-4e5b-cd66-c357178e47dc"
   },
   "outputs": [
    {
     "name": "stdout",
     "output_type": "stream",
     "text": [
      "The phone book is now updated with email:  dict_items([('Ian Chong', {'Address': 'Furry Mountain', 'Telephone': 696969, 'E-mail': 'freedom@gundam.net'}), ('Richard Symonds', {'Address': 'Weebland', 'Telephone': 969696, 'E-mail': 'warrior@zaku.org'})])\n"
     ]
    }
   ],
   "source": [
    "phonebook['Ian Chong']['E-mail']='freedom@gundam.net'\n",
    "phonebook['Richard Symonds']['E-mail']='warrior@zaku.org'\n",
    "\n",
    "print(\"The phone book is now updated with email: \",phonebook.items())"
   ]
  }
 ],
 "metadata": {
  "colab": {
   "authorship_tag": "ABX9TyOsj2lJMCymt/Sd3pNYNins",
   "provenance": []
  },
  "kernelspec": {
   "display_name": "Python 3 (ipykernel)",
   "language": "python",
   "name": "python3"
  },
  "language_info": {
   "codemirror_mode": {
    "name": "ipython",
    "version": 3
   },
   "file_extension": ".py",
   "mimetype": "text/x-python",
   "name": "python",
   "nbconvert_exporter": "python",
   "pygments_lexer": "ipython3",
   "version": "3.8.10"
  }
 },
 "nbformat": 4,
 "nbformat_minor": 1
}
