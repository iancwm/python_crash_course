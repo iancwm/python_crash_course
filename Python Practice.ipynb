{
 "cells": [
  {
   "cell_type": "markdown",
   "id": "27a7013c",
   "metadata": {},
   "source": [
    "# Function writing practice\n",
    "\n",
    "Let's practice writing proper basic functions.\n",
    "\n",
    "\n",
    "# Math\n",
    "\n",
    "Try writing the following functions\n",
    "\n",
    "1. Pythagorean theorem $a^2=b^2+c^2$\n",
    "2. Area of circle $=\\pi r^2$\n",
    "3. Time value of money $$PV=\\frac{PMT}{rate}\\times \\big(1+\\frac{1}{(1+rate)^{nper}}\\big)+\\frac{FV}{(1+rate)^{nper}}$$"
   ]
  },
  {
   "cell_type": "code",
   "execution_count": 1,
   "id": "a9e652f3",
   "metadata": {},
   "outputs": [],
   "source": [
    "def hypotenuse(a,b):\n",
    "    \"\"\"Calculate the hypotenuse of a right angled triangle given a and b\n",
    "    Arguments:\n",
    "        a (float): One side of a right angled triangle\n",
    "        b (float): Other side of a right angled triangle\n",
    "    Returns:\n",
    "        (float) Length of hypotenuse\n",
    "    \"\"\"\n",
    "    c = (a**2+b**2)**0.5\n",
    "    print(f\"Length of the hypotenuse with sides [{a:.2f}] units and [{b:.2f}] units is [{c:.2f}] units\")\n",
    "    return c\n",
    "\n",
    "\n",
    "def circle_area(radius):\n",
    "    \"\"\"Calculates area of circle given radius\n",
    "    Args:\n",
    "        radius (float)\n",
    "    Returns\n",
    "        (float) Area of circle\n",
    "    \"\"\"\n",
    "    from math import pi\n",
    "    area = pi*radius**2\n",
    "    print(f\"Area of circle with radius [{radius:.2f}] units is [{area:.2f}] units squared\")\n",
    "    return area\n",
    "\n",
    "\n",
    "def PV(rate, nper, pmt, fv=0, due=False):\n",
    "    \"\"\"\n",
    "    Arguments:\n",
    "        rate (float): Interest rate\n",
    "        nper (int): Number of periods\n",
    "        pmt (float): Regular payment amount\n",
    "        fv (float): Face value if any\n",
    "        due (bool): Whether it is an annuity due or not. Default to False\n",
    "    Returns:\n",
    "        (float) Present value of cashflows given the above characteristics\n",
    "    \"\"\"\n",
    "    print(f\"rate={rate:.2f}\\nnper={nper}\\npmt={pmt:.2f}\\nfv={fv:.2f}\\ndue={due}\")\n",
    "    if due:\n",
    "        print(\"Calculating PV of annuity due\")\n",
    "        PV = pmt*(1-(1+rate)**-nper)/rate+fv/(1+rate)**nper*(1+rate)\n",
    "\n",
    "    else:\n",
    "        print(\"Calculating PV of ordinary annuity\")\n",
    "        PV= pmt*(1-(1+rate)**-nper)/rate+fv/(1+rate)**nper\n",
    "        \n",
    "    print(f\"PV of cash flows is [$ {PV:.2f}]\")\n",
    "    return PV\n",
    "\n",
    "def median(numbers):\n",
    "    \"\"\"Find the median of a list of numbers\n",
    "    \"\"\"\n",
    "    length = len(numbers)\n",
    "    numbers.sort()\n",
    "    \n",
    "    if length%2==0:\n",
    "        return (numbers[int(length/2)-1]+numbers[int(length/2)])/2\n",
    "    else:\n",
    "        return numbers[length//2]\n",
    "    "
   ]
  },
  {
   "cell_type": "code",
   "execution_count": 2,
   "id": "c3e74339",
   "metadata": {},
   "outputs": [
    {
     "name": "stdout",
     "output_type": "stream",
     "text": [
      "Length of the hypotenuse with sides [10.00] units and [70.00] units is [70.71] units\n"
     ]
    },
    {
     "data": {
      "text/plain": [
       "70.71067811865476"
      ]
     },
     "execution_count": 2,
     "metadata": {},
     "output_type": "execute_result"
    }
   ],
   "source": [
    "hypotenuse(10,70)"
   ]
  },
  {
   "cell_type": "code",
   "execution_count": 3,
   "id": "0635f15b",
   "metadata": {},
   "outputs": [
    {
     "name": "stdout",
     "output_type": "stream",
     "text": [
      "Area of circle with radius [5.00] units is [78.54] units squared\n"
     ]
    },
    {
     "data": {
      "text/plain": [
       "78.53981633974483"
      ]
     },
     "execution_count": 3,
     "metadata": {},
     "output_type": "execute_result"
    }
   ],
   "source": [
    "circle_area(5)"
   ]
  },
  {
   "cell_type": "code",
   "execution_count": 4,
   "id": "bf1087db",
   "metadata": {},
   "outputs": [
    {
     "name": "stdout",
     "output_type": "stream",
     "text": [
      "rate=0.05\n",
      "nper=10\n",
      "pmt=5.00\n",
      "fv=100.00\n",
      "due=True\n",
      "Calculating PV of annuity due\n",
      "PV of cash flows is [$ 103.07]\n"
     ]
    },
    {
     "data": {
      "text/plain": [
       "103.06956626770379"
      ]
     },
     "execution_count": 4,
     "metadata": {},
     "output_type": "execute_result"
    }
   ],
   "source": [
    "PV(rate=0.05,nper=10,pmt=5,fv=100,due=True)"
   ]
  },
  {
   "cell_type": "code",
   "execution_count": 5,
   "id": "0fb19ac4",
   "metadata": {},
   "outputs": [
    {
     "data": {
      "text/plain": [
       "2.0"
      ]
     },
     "execution_count": 5,
     "metadata": {},
     "output_type": "execute_result"
    }
   ],
   "source": [
    "median([1,3,-4,3])"
   ]
  },
  {
   "cell_type": "markdown",
   "id": "b9f05edd",
   "metadata": {},
   "source": [
    "# String Operations\n",
    "\n",
    "1. Reverse string\n",
    "2. CaMeL cAsE\n",
    "3. Extract consonants\n",
    "4. Print banner text\n",
    "5. Reverse a sentence"
   ]
  },
  {
   "cell_type": "code",
   "execution_count": 6,
   "id": "b28cd12b",
   "metadata": {},
   "outputs": [],
   "source": [
    "def reverse(string):\n",
    "    \"\"\"Reverses a given string\n",
    "    Arguments:\n",
    "        string (str): String to reverse\n",
    "    Returns:\n",
    "        (str) reversed string\n",
    "    \"\"\"\n",
    "    result = string[::-1]\n",
    "    return result\n",
    "\n",
    "\n",
    "def camelcase(string):\n",
    "    \"\"\"Generate a string with alternating lower and upper cases\n",
    "    Args:\n",
    "        string (str): String to camelcase\n",
    "    Returns:\n",
    "        (str): Camel cased string\n",
    "    \"\"\"\n",
    "    lower_string=string.lower()\n",
    "    return \"\".join([letter.upper() if index%2!=0 else letter for index, letter in enumerate(lower_string)])\n",
    "\n",
    "\n",
    "def consonants(string):\n",
    "    \"\"\"Extracts consonants from a given string\n",
    "    Arguments:\n",
    "        string (str): String to extract\n",
    "    Returns:\n",
    "        (str) Consonants of string\n",
    "    \"\"\"\n",
    "    \n",
    "    return \"\".join([i for i in string if i not in 'aeiouAEIOU'])\n",
    "\n",
    "\n",
    "def banner_print(string,char=\"=\"):\n",
    "    \"\"\"Prints strings with a given banner of a specified char\n",
    "    Arguments:\n",
    "        string (str): String to print\n",
    "        char (str): The character to fill the banner with\n",
    "    Returns:\n",
    "        None. But it will print out a string.\n",
    "    \"\"\"\n",
    "    print(char*len(string))\n",
    "    print(string)\n",
    "    print(char*len(string))\n",
    "\n",
    "    \n",
    "def reverse_sentence(sentence):\n",
    "    \"\"\"Reverse the order of the words in a sentence\n",
    "    Arguments:\n",
    "        sentence (str): Words separated by spaces\n",
    "    Returns:\n",
    "        reversed (str): Reversed sentence\n",
    "    \"\"\"\n",
    "    if sentence[-1] in ['!','.','?']: #if a sentence ends in punctuation\n",
    "        punctuation = sentence[-1] #store punctuation in variable\n",
    "        sentence=sentence[:-2] #shorten sentence to not include the punctuation\n",
    "    else:\n",
    "        punctuation = ''\n",
    "    \n",
    "    words = sentence.split(\" \")\n",
    "    reversed = \" \".join(words[::-1])+punctuation\n",
    "    return reversed\n",
    "\n",
    "\n",
    "def is_palindrome(string):\n",
    "    \"\"\"Determine if a given string is a palindrome i.e. is symmetrical in its spelling\n",
    "    Arguments:\n",
    "        string (str): String to check\n",
    "    Returns:\n",
    "        (bool): Whether the string is palindromic or not\n",
    "    \"\"\"\n",
    "    for i in range(len(string)//2):\n",
    "        if string[i].lower()!=string[-1-i].lower():\n",
    "            return False\n",
    "    \n",
    "    return True"
   ]
  },
  {
   "cell_type": "code",
   "execution_count": 7,
   "id": "2a687b96",
   "metadata": {},
   "outputs": [
    {
     "data": {
      "text/plain": [
       "'!snikneJ yoreeL'"
      ]
     },
     "execution_count": 7,
     "metadata": {},
     "output_type": "execute_result"
    }
   ],
   "source": [
    "reverse(\"Leeroy Jenkins!\")"
   ]
  },
  {
   "cell_type": "code",
   "execution_count": 8,
   "id": "2ffc13e4",
   "metadata": {},
   "outputs": [
    {
     "data": {
      "text/plain": [
       "'bUsInEsS DeVeLoPmEnT2'"
      ]
     },
     "execution_count": 8,
     "metadata": {},
     "output_type": "execute_result"
    }
   ],
   "source": [
    "camelcase(\"Business Development2\")"
   ]
  },
  {
   "cell_type": "code",
   "execution_count": 9,
   "id": "b96b1a3b",
   "metadata": {},
   "outputs": [
    {
     "data": {
      "text/plain": [
       "'brdn'"
      ]
     },
     "execution_count": 9,
     "metadata": {},
     "output_type": "execute_result"
    }
   ],
   "source": [
    "consonants(\"Aberdeen\")"
   ]
  },
  {
   "cell_type": "code",
   "execution_count": 10,
   "id": "33466c04",
   "metadata": {},
   "outputs": [
    {
     "name": "stdout",
     "output_type": "stream",
     "text": [
      "===============================\n",
      "Pull on my motherfucking beads!\n",
      "===============================\n"
     ]
    }
   ],
   "source": [
    "banner_print(\"Pull on my motherfucking beads!\")"
   ]
  },
  {
   "cell_type": "code",
   "execution_count": 11,
   "id": "6fa2b228",
   "metadata": {},
   "outputs": [
    {
     "data": {
      "text/plain": [
       "'bead motherfucking my on Pull!'"
      ]
     },
     "execution_count": 11,
     "metadata": {},
     "output_type": "execute_result"
    }
   ],
   "source": [
    "reverse_sentence(\"Pull on my motherfucking beads!\")"
   ]
  },
  {
   "cell_type": "code",
   "execution_count": 12,
   "id": "75d3f6ec",
   "metadata": {},
   "outputs": [
    {
     "data": {
      "text/plain": [
       "True"
      ]
     },
     "execution_count": 12,
     "metadata": {},
     "output_type": "execute_result"
    }
   ],
   "source": [
    "is_palindrome('Radar')"
   ]
  },
  {
   "cell_type": "markdown",
   "id": "dd44658a",
   "metadata": {},
   "source": [
    "# List Operations\n",
    "\n",
    "1. Element wise calculation (all operators)\n",
    "2. Reverse a list\n",
    "3. Generate a list of even numbers up to a given number\n",
    "4. FizzBuzz test\n",
    "5. FizzBuzz test List Comprehension"
   ]
  },
  {
   "cell_type": "code",
   "execution_count": 13,
   "id": "6cc702b6",
   "metadata": {},
   "outputs": [],
   "source": [
    "def elementwise(first_list,second_list,operation='sum'):\n",
    "    \"\"\"Do elementwise arithmetic with a specified operator\n",
    "    Arguments:\n",
    "        first_list (list): First array\n",
    "        second_list (list): Second array\n",
    "        operation (str): The operator you want. Choose from\n",
    "            + add, addition, sum, plus\n",
    "            - subtract, subtraction, minus\n",
    "            * multiply, multiplication, times, product\n",
    "            / divide, division\n",
    "            ** power, exponent\n",
    "    Returns:\n",
    "        (str) reversed string\n",
    "    \"\"\"\n",
    "    if operation in ['add','addition','sum','plus']:\n",
    "        result = [first_list[i] + second_list[i] for i in range(len(first_list))]\n",
    "    elif operation in ['subtract','subtraction','minus']:\n",
    "        result = [first_list[i] - second_list[i] for i in range(len(first_list))]\n",
    "    elif operation in ['multiply','multiplication','times','product']:\n",
    "        result = [first_list[i] * second_list[i] for i in range(len(first_list))]\n",
    "    elif operation in ['divide','division']:\n",
    "        result = [first_list[i] / second_list[i] for i in range(len(first_list))]\n",
    "    elif operation in ['power','exponent']:\n",
    "        result = [first_list[i] ** second_list[i] for i in range(len(first_list))]\n",
    "    \n",
    "    return result\n",
    "\n",
    "def reverse_list(my_list):\n",
    "    return my_list[::-1]\n",
    "\n",
    "def fizzbuzz(number):\n",
    "    \"\"\"The Fizz Buzz test.\n",
    "    \n",
    "    Given an integer n, return a string array answer (1-indexed) where:\n",
    "\n",
    "    answer[i] == \"FizzBuzz\" if i is divisible by 3 and 5.\n",
    "    answer[i] == \"Fizz\" if i is divisible by 3.\n",
    "    answer[i] == \"Buzz\" if i is divisible by 5.\n",
    "    answer[i] == i (as a string) if none of the above conditions are true.\n",
    "    \n",
    "    Arguments:\n",
    "        number (int): The number up to which to generate\n",
    "    Returns:\n",
    "        (list) Fizz Buzz test\n",
    "    \"\"\"\n",
    "    result = []\n",
    "    \n",
    "    for i in range(number):\n",
    "        if (i%3==0) and (i%5==0):\n",
    "            result.append(\"FizzBuzz\")\n",
    "        elif i%3==0:\n",
    "            result.append(\"Fizz\")\n",
    "        elif i%5==0:\n",
    "            result.append(\"Buzz\")\n",
    "        else:\n",
    "            result.append(str(i))\n",
    "    \n",
    "    return result\n",
    "\n",
    "def fizzbuzz_comprehension(number):\n",
    "    \"\"\"Fizz Buzz test in list comprehension form\n",
    "    \"\"\"\n",
    "    return ['FizzBuzz' if i%3==0 and i%5==0 else 'Fizz' if i%3==0 else 'Buzz' if i%5==0 else str(i) for i in range(number)]"
   ]
  },
  {
   "cell_type": "code",
   "execution_count": 14,
   "id": "5c6651b3",
   "metadata": {},
   "outputs": [
    {
     "data": {
      "text/plain": [
       "[0, 27, 66, 117, 180, 255, 342, 441, 552, 675]"
      ]
     },
     "execution_count": 14,
     "metadata": {},
     "output_type": "execute_result"
    }
   ],
   "source": [
    "first_list = [3*i for i in range(10)]\n",
    "second_list = [7+2*i for i in range(10)]\n",
    "\n",
    "elementwise(first_list,second_list,'times')"
   ]
  },
  {
   "cell_type": "code",
   "execution_count": 15,
   "id": "cd1128bf",
   "metadata": {},
   "outputs": [
    {
     "data": {
      "text/plain": [
       "['Kwong', 'Richard', 'Ian']"
      ]
     },
     "execution_count": 15,
     "metadata": {},
     "output_type": "execute_result"
    }
   ],
   "source": [
    "reverse_list([\"Ian\",\"Richard\",\"Kwong\"])"
   ]
  },
  {
   "cell_type": "code",
   "execution_count": 16,
   "id": "8b3fc86c",
   "metadata": {},
   "outputs": [
    {
     "data": {
      "text/plain": [
       "['FizzBuzz', '1', '2', 'Fizz', '4', 'Buzz', 'Fizz', '7', '8', 'Fizz']"
      ]
     },
     "execution_count": 16,
     "metadata": {},
     "output_type": "execute_result"
    }
   ],
   "source": [
    "fizzbuzz(10)"
   ]
  },
  {
   "cell_type": "code",
   "execution_count": 17,
   "id": "7bb1ad09",
   "metadata": {},
   "outputs": [
    {
     "data": {
      "text/plain": [
       "['FizzBuzz', '1', '2', 'Fizz', '4', 'Buzz', 'Fizz', '7', '8', 'Fizz']"
      ]
     },
     "execution_count": 17,
     "metadata": {},
     "output_type": "execute_result"
    }
   ],
   "source": [
    "fizzbuzz_comprehension(10)"
   ]
  },
  {
   "cell_type": "markdown",
   "id": "6153d896",
   "metadata": {},
   "source": [
    "# Dictionary Operations\n",
    "\n",
    "- Reverse key value pairs in a dictionary\n",
    "- Count unique letters in a string"
   ]
  },
  {
   "cell_type": "code",
   "execution_count": 18,
   "id": "754aa6c5",
   "metadata": {},
   "outputs": [],
   "source": [
    "def reverse_dict(dictionary):\n",
    "    \"\"\"Returns a dictionary with keys and values swapped. Duplicate values are not stored\n",
    "    Args:\n",
    "        dictionary (dict): A dictionary\n",
    "    \n",
    "    Returns:\n",
    "        (dict): A dictionary with values as keys and keys as values.\n",
    "    \"\"\"\n",
    "    return {v:k for k,v in dictionary.items()}\n",
    "\n",
    "def letter_count(string):\n",
    "    \"\"\"Generate dictionary with count of each unique character in a string\n",
    "    Args:\n",
    "        string (str): A string\n",
    "        \n",
    "    Returns:\n",
    "        (dict): A dictionary with the count of each unique character in order of first appearance\n",
    "    \"\"\"\n",
    "    result_dict={}\n",
    "    for i in string:\n",
    "        if i not in result_dict.keys():\n",
    "            result_dict[i]=1\n",
    "        else:\n",
    "            result_dict[i]+=1\n",
    "    return result_dict\n",
    "\n",
    "def even_numbers(number_list):\n",
    "    \"\"\"Sort even and odd integers in a list and store in a dictionary of lists.\n",
    "    Args:\n",
    "        number_list (list): A list of integers\n",
    "    Returns:\n",
    "        (dict): A dictionary containing sublists of the odd and even numbers in number_list\n",
    "    \"\"\"\n",
    "    result={}\n",
    "    result['Even'] = [number for number in number_list if number%2==0]\n",
    "    result['Odd'] = [number for number in number_list if number%2!=0]\n",
    "    return result"
   ]
  },
  {
   "cell_type": "code",
   "execution_count": 19,
   "id": "bcb8ae79",
   "metadata": {},
   "outputs": [
    {
     "data": {
      "text/plain": [
       "{'Gundam': 'Ian', 'Darktide': 'Richard', 'Zombie Army 4': 'Kwong'}"
      ]
     },
     "execution_count": 19,
     "metadata": {},
     "output_type": "execute_result"
    }
   ],
   "source": [
    "reverse_dict({'Ian':'Gundam','Richard':'Darktide','Kwong':'Zombie Army 4'})"
   ]
  },
  {
   "cell_type": "code",
   "execution_count": 20,
   "id": "86751214",
   "metadata": {},
   "outputs": [
    {
     "data": {
      "text/plain": [
       "{'T': 2,\n",
       " 'h': 3,\n",
       " 'i': 8,\n",
       " 's': 4,\n",
       " ' ': 13,\n",
       " 'm': 3,\n",
       " 'y': 2,\n",
       " 'r': 3,\n",
       " 'f': 1,\n",
       " 'l': 2,\n",
       " 'e': 7,\n",
       " '.': 2,\n",
       " 'a': 2,\n",
       " 'n': 3,\n",
       " 'k': 1,\n",
       " 't': 3,\n",
       " 'b': 1,\n",
       " 'u': 1,\n",
       " 'o': 1}"
      ]
     },
     "execution_count": 20,
     "metadata": {},
     "output_type": "execute_result"
    }
   ],
   "source": [
    "letter_count(\"This is my rifle. There are many like it but this one is mine.\")"
   ]
  },
  {
   "cell_type": "code",
   "execution_count": 21,
   "id": "4b8c3fc0",
   "metadata": {},
   "outputs": [
    {
     "data": {
      "text/plain": [
       "{'Even': [0, 2, 4, 6, 8], 'Odd': [1, 3, 5, 7, 9]}"
      ]
     },
     "execution_count": 21,
     "metadata": {},
     "output_type": "execute_result"
    }
   ],
   "source": [
    "even_numbers([i for i in range(10)])"
   ]
  },
  {
   "cell_type": "markdown",
   "id": "3a4ef70d",
   "metadata": {},
   "source": [
    "# Extensions\n",
    "\n",
    "- Fizz Buzz in list comprehension form"
   ]
  },
  {
   "cell_type": "code",
   "execution_count": 22,
   "id": "c06bdbe9",
   "metadata": {},
   "outputs": [],
   "source": [
    "def fizzbuzz_comprehension(number):\n",
    "    \"\"\"Fizz Buzz test in list comprehension form\n",
    "    \"\"\"\n",
    "    return ['FizzBuzz' if i%3==0 and i%5==0 else 'Fizz' if i%3==0 else 'Buzz' if i%5==0 else str(i) for i in range(number)]"
   ]
  },
  {
   "cell_type": "markdown",
   "id": "af81ad21",
   "metadata": {},
   "source": [
    "- Count consonants in strings"
   ]
  },
  {
   "cell_type": "code",
   "execution_count": 23,
   "id": "963c27f5",
   "metadata": {},
   "outputs": [],
   "source": [
    "def vowel_count(string):\n",
    "    \"\"\"Generate dictionary with count of each unique vowel in a string\n",
    "    Args:\n",
    "        string (str): A string\n",
    "        \n",
    "    Returns:\n",
    "        (dict): A dictionary with the count of each unique vowel in order of first appearance\n",
    "    \"\"\"\n",
    "    result_dict={}\n",
    "    for i in string:\n",
    "        if i in \"aeiouAEIOU\":\n",
    "            if i not in result_dict.keys():\n",
    "                result_dict[i]=1\n",
    "            else:\n",
    "                result_dict[i]+=1\n",
    "    return result_dict"
   ]
  },
  {
   "cell_type": "code",
   "execution_count": 24,
   "id": "63296159",
   "metadata": {},
   "outputs": [
    {
     "data": {
      "text/plain": [
       "{'u': 2, 'e': 2, 'a': 3, 'i': 7, 'o': 2}"
      ]
     },
     "execution_count": 24,
     "metadata": {},
     "output_type": "execute_result"
    }
   ],
   "source": [
    "vowel_count(\"Supercalifragilisticexpialidocious\")"
   ]
  },
  {
   "cell_type": "markdown",
   "id": "31230475",
   "metadata": {},
   "source": [
    "- Reverse key value pairs in a dictionary without losing duplicates."
   ]
  },
  {
   "cell_type": "code",
   "execution_count": 25,
   "id": "6e41d459",
   "metadata": {},
   "outputs": [],
   "source": [
    "def reverse_dict(dictionary):\n",
    "    \"\"\"Returns a dictionary with keys and values swapped. Duplicate values are stored in a list\n",
    "    Args:\n",
    "        dictionary (dict): A dictionary\n",
    "    \n",
    "    Returns:\n",
    "        (dict): A dictionary with values as keys and keys as values.\n",
    "    \"\"\"\n",
    "    return {v:[k for k in dictionary.keys() if dictionary[k]==v] for k,v in dictionary.items()}"
   ]
  },
  {
   "cell_type": "code",
   "execution_count": 26,
   "id": "d5f50dbb",
   "metadata": {},
   "outputs": [
    {
     "data": {
      "text/plain": [
       "{'Gundam': ['Ian', 'Rick'], 'Zombie Army 4': ['Kwong']}"
      ]
     },
     "execution_count": 26,
     "metadata": {},
     "output_type": "execute_result"
    }
   ],
   "source": [
    "games = {'Ian':'Gundam','Rick':'Gundam','Kwong':'Zombie Army 4'}\n",
    "reverse_dict(games)"
   ]
  }
 ],
 "metadata": {
  "kernelspec": {
   "display_name": "Python 3.8.10 64-bit",
   "language": "python",
   "name": "python3"
  },
  "language_info": {
   "codemirror_mode": {
    "name": "ipython",
    "version": 3
   },
   "file_extension": ".py",
   "mimetype": "text/x-python",
   "name": "python",
   "nbconvert_exporter": "python",
   "pygments_lexer": "ipython3",
   "version": "3.8.10"
  },
  "vscode": {
   "interpreter": {
    "hash": "31f2aee4e71d21fbe5cf8b01ff0e069b9275f58929596ceb00d14d90e3e16cd6"
   }
  }
 },
 "nbformat": 4,
 "nbformat_minor": 5
}
