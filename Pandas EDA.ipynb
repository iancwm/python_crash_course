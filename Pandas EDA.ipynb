{
 "cells": [
  {
   "cell_type": "markdown",
   "metadata": {},
   "source": [
    "# Whirlwind Tour of `pandas`\n",
    "\n",
    "This notebook will use the Pokemon dataset from Serebii.net to illustrate key concepts"
   ]
  },
  {
   "cell_type": "code",
   "execution_count": 10,
   "metadata": {},
   "outputs": [],
   "source": [
    "import pandas as pd\n",
    "from matplotlib import pyplot as plt"
   ]
  },
  {
   "cell_type": "code",
   "execution_count": 2,
   "metadata": {},
   "outputs": [
    {
     "name": "stdout",
     "output_type": "stream",
     "text": [
      "<class 'pandas.core.frame.DataFrame'>\n",
      "RangeIndex: 801 entries, 0 to 800\n",
      "Data columns (total 41 columns):\n",
      " #   Column             Non-Null Count  Dtype  \n",
      "---  ------             --------------  -----  \n",
      " 0   abilities          801 non-null    object \n",
      " 1   against_bug        801 non-null    float64\n",
      " 2   against_dark       801 non-null    float64\n",
      " 3   against_dragon     801 non-null    float64\n",
      " 4   against_electric   801 non-null    float64\n",
      " 5   against_fairy      801 non-null    float64\n",
      " 6   against_fight      801 non-null    float64\n",
      " 7   against_fire       801 non-null    float64\n",
      " 8   against_flying     801 non-null    float64\n",
      " 9   against_ghost      801 non-null    float64\n",
      " 10  against_grass      801 non-null    float64\n",
      " 11  against_ground     801 non-null    float64\n",
      " 12  against_ice        801 non-null    float64\n",
      " 13  against_normal     801 non-null    float64\n",
      " 14  against_poison     801 non-null    float64\n",
      " 15  against_psychic    801 non-null    float64\n",
      " 16  against_rock       801 non-null    float64\n",
      " 17  against_steel      801 non-null    float64\n",
      " 18  against_water      801 non-null    float64\n",
      " 19  attack             801 non-null    int64  \n",
      " 20  base_egg_steps     801 non-null    int64  \n",
      " 21  base_happiness     801 non-null    int64  \n",
      " 22  base_total         801 non-null    int64  \n",
      " 23  capture_rate       801 non-null    object \n",
      " 24  classfication      801 non-null    object \n",
      " 25  defense            801 non-null    int64  \n",
      " 26  experience_growth  801 non-null    int64  \n",
      " 27  height_m           781 non-null    float64\n",
      " 28  hp                 801 non-null    int64  \n",
      " 29  japanese_name      801 non-null    object \n",
      " 30  name               801 non-null    object \n",
      " 31  percentage_male    703 non-null    float64\n",
      " 32  pokedex_number     801 non-null    int64  \n",
      " 33  sp_attack          801 non-null    int64  \n",
      " 34  sp_defense         801 non-null    int64  \n",
      " 35  speed              801 non-null    int64  \n",
      " 36  type1              801 non-null    object \n",
      " 37  type2              417 non-null    object \n",
      " 38  weight_kg          781 non-null    float64\n",
      " 39  generation         801 non-null    int64  \n",
      " 40  is_legendary       801 non-null    int64  \n",
      "dtypes: float64(21), int64(13), object(7)\n",
      "memory usage: 256.7+ KB\n"
     ]
    }
   ],
   "source": [
    "pokemon = 'data/pokemon.csv'\n",
    "df = pd.read_csv(pokemon)\n",
    "df.info()"
   ]
  },
  {
   "cell_type": "markdown",
   "metadata": {},
   "source": [
    "# Indexing\n",
    "\n",
    "To get columns as Series or DataFrame objects, just index using the column name"
   ]
  },
  {
   "cell_type": "code",
   "execution_count": 6,
   "metadata": {},
   "outputs": [
    {
     "data": {
      "text/plain": [
       "0       Bulbasaur\n",
       "1         Ivysaur\n",
       "2        Venusaur\n",
       "3      Charmander\n",
       "4      Charmeleon\n",
       "          ...    \n",
       "796    Celesteela\n",
       "797       Kartana\n",
       "798      Guzzlord\n",
       "799      Necrozma\n",
       "800      Magearna\n",
       "Name: name, Length: 801, dtype: object"
      ]
     },
     "execution_count": 6,
     "metadata": {},
     "output_type": "execute_result"
    }
   ],
   "source": [
    "df['name']"
   ]
  },
  {
   "cell_type": "markdown",
   "metadata": {},
   "source": [
    "To get a specific row in the DataFrame, you can use `.loc[]` to search by index, or `.iloc[]` to search by row number"
   ]
  },
  {
   "cell_type": "code",
   "execution_count": 14,
   "metadata": {},
   "outputs": [
    {
     "name": "stdout",
     "output_type": "stream",
     "text": [
      "We are looking at index 10, Metapod\n"
     ]
    },
    {
     "data": {
      "text/plain": [
       "abilities             ['Shed Skin']\n",
       "against_bug                     1.0\n",
       "against_dark                    1.0\n",
       "against_dragon                  1.0\n",
       "against_electric                1.0\n",
       "against_fairy                   1.0\n",
       "against_fight                   0.5\n",
       "against_fire                    2.0\n",
       "against_flying                  2.0\n",
       "against_ghost                   1.0\n",
       "against_grass                   0.5\n",
       "against_ground                  0.5\n",
       "against_ice                     1.0\n",
       "against_normal                  1.0\n",
       "against_poison                  1.0\n",
       "against_psychic                 1.0\n",
       "against_rock                    2.0\n",
       "against_steel                   1.0\n",
       "against_water                   1.0\n",
       "attack                           20\n",
       "base_egg_steps                 3840\n",
       "base_happiness                   70\n",
       "base_total                      205\n",
       "capture_rate                    120\n",
       "classfication        Cocoon Pokémon\n",
       "defense                          55\n",
       "experience_growth           1000000\n",
       "height_m                        0.7\n",
       "hp                               50\n",
       "japanese_name          Transelトランセル\n",
       "name                        Metapod\n",
       "percentage_male                50.0\n",
       "pokedex_number                   11\n",
       "sp_attack                        25\n",
       "sp_defense                       25\n",
       "speed                            30\n",
       "type1                           bug\n",
       "type2                           NaN\n",
       "weight_kg                       9.9\n",
       "generation                        1\n",
       "is_legendary                      0\n",
       "Name: 10, dtype: object"
      ]
     },
     "execution_count": 14,
     "metadata": {},
     "output_type": "execute_result"
    }
   ],
   "source": [
    "print(f\"We are looking at index 10, {df.iloc[10]['name']}\")\n",
    "df.iloc[10]"
   ]
  },
  {
   "cell_type": "markdown",
   "metadata": {},
   "source": [
    "In this case the index was not specified when creating the DataFrame so it defaults to an integer based index (`RangeIndex`)."
   ]
  },
  {
   "cell_type": "code",
   "execution_count": 9,
   "metadata": {},
   "outputs": [
    {
     "data": {
      "text/plain": [
       "abilities             ['Shed Skin']\n",
       "against_bug                     1.0\n",
       "against_dark                    1.0\n",
       "against_dragon                  1.0\n",
       "against_electric                1.0\n",
       "against_fairy                   1.0\n",
       "against_fight                   0.5\n",
       "against_fire                    2.0\n",
       "against_flying                  2.0\n",
       "against_ghost                   1.0\n",
       "against_grass                   0.5\n",
       "against_ground                  0.5\n",
       "against_ice                     1.0\n",
       "against_normal                  1.0\n",
       "against_poison                  1.0\n",
       "against_psychic                 1.0\n",
       "against_rock                    2.0\n",
       "against_steel                   1.0\n",
       "against_water                   1.0\n",
       "attack                           20\n",
       "base_egg_steps                 3840\n",
       "base_happiness                   70\n",
       "base_total                      205\n",
       "capture_rate                    120\n",
       "classfication        Cocoon Pokémon\n",
       "defense                          55\n",
       "experience_growth           1000000\n",
       "height_m                        0.7\n",
       "hp                               50\n",
       "japanese_name          Transelトランセル\n",
       "name                        Metapod\n",
       "percentage_male                50.0\n",
       "pokedex_number                   11\n",
       "sp_attack                        25\n",
       "sp_defense                       25\n",
       "speed                            30\n",
       "type1                           bug\n",
       "type2                           NaN\n",
       "weight_kg                       9.9\n",
       "generation                        1\n",
       "is_legendary                      0\n",
       "Name: 10, dtype: object"
      ]
     },
     "execution_count": 9,
     "metadata": {},
     "output_type": "execute_result"
    }
   ],
   "source": [
    "df.loc[10]"
   ]
  },
  {
   "cell_type": "markdown",
   "metadata": {},
   "source": [
    "You can call the index explicitly by using the `.index` attribute. same for columns, with `.columns`."
   ]
  },
  {
   "cell_type": "code",
   "execution_count": 12,
   "metadata": {},
   "outputs": [
    {
     "name": "stdout",
     "output_type": "stream",
     "text": [
      "Index(['abilities', 'against_bug', 'against_dark', 'against_dragon',\n",
      "       'against_electric', 'against_fairy', 'against_fight', 'against_fire',\n",
      "       'against_flying', 'against_ghost', 'against_grass', 'against_ground',\n",
      "       'against_ice', 'against_normal', 'against_poison', 'against_psychic',\n",
      "       'against_rock', 'against_steel', 'against_water', 'attack',\n",
      "       'base_egg_steps', 'base_happiness', 'base_total', 'capture_rate',\n",
      "       'classfication', 'defense', 'experience_growth', 'height_m', 'hp',\n",
      "       'japanese_name', 'name', 'percentage_male', 'pokedex_number',\n",
      "       'sp_attack', 'sp_defense', 'speed', 'type1', 'type2', 'weight_kg',\n",
      "       'generation', 'is_legendary'],\n",
      "      dtype='object')\n",
      "RangeIndex(start=0, stop=801, step=1)\n"
     ]
    }
   ],
   "source": [
    "print(df.columns)\n",
    "print(df.index)"
   ]
  },
  {
   "cell_type": "markdown",
   "metadata": {},
   "source": [
    "# Querying\n",
    "\n",
    "Sometimes you need to get data using criteria other than the index. DataFrame.query() allows you to easily subset your data."
   ]
  },
  {
   "cell_type": "code",
   "execution_count": 7,
   "metadata": {},
   "outputs": [
    {
     "data": {
      "text/html": [
       "<div>\n",
       "<style scoped>\n",
       "    .dataframe tbody tr th:only-of-type {\n",
       "        vertical-align: middle;\n",
       "    }\n",
       "\n",
       "    .dataframe tbody tr th {\n",
       "        vertical-align: top;\n",
       "    }\n",
       "\n",
       "    .dataframe thead th {\n",
       "        text-align: right;\n",
       "    }\n",
       "</style>\n",
       "<table border=\"1\" class=\"dataframe\">\n",
       "  <thead>\n",
       "    <tr style=\"text-align: right;\">\n",
       "      <th></th>\n",
       "      <th>abilities</th>\n",
       "      <th>against_bug</th>\n",
       "      <th>against_dark</th>\n",
       "      <th>against_dragon</th>\n",
       "      <th>against_electric</th>\n",
       "      <th>against_fairy</th>\n",
       "      <th>against_fight</th>\n",
       "      <th>against_fire</th>\n",
       "      <th>against_flying</th>\n",
       "      <th>against_ghost</th>\n",
       "      <th>...</th>\n",
       "      <th>percentage_male</th>\n",
       "      <th>pokedex_number</th>\n",
       "      <th>sp_attack</th>\n",
       "      <th>sp_defense</th>\n",
       "      <th>speed</th>\n",
       "      <th>type1</th>\n",
       "      <th>type2</th>\n",
       "      <th>weight_kg</th>\n",
       "      <th>generation</th>\n",
       "      <th>is_legendary</th>\n",
       "    </tr>\n",
       "  </thead>\n",
       "  <tbody>\n",
       "    <tr>\n",
       "      <th>149</th>\n",
       "      <td>['Pressure', 'Unnerve']</td>\n",
       "      <td>2.0</td>\n",
       "      <td>2.0</td>\n",
       "      <td>1.0</td>\n",
       "      <td>1.0</td>\n",
       "      <td>1.0</td>\n",
       "      <td>0.5</td>\n",
       "      <td>1.0</td>\n",
       "      <td>1.0</td>\n",
       "      <td>2.0</td>\n",
       "      <td>...</td>\n",
       "      <td>NaN</td>\n",
       "      <td>150</td>\n",
       "      <td>194</td>\n",
       "      <td>120</td>\n",
       "      <td>140</td>\n",
       "      <td>psychic</td>\n",
       "      <td>NaN</td>\n",
       "      <td>122.0</td>\n",
       "      <td>1</td>\n",
       "      <td>1</td>\n",
       "    </tr>\n",
       "  </tbody>\n",
       "</table>\n",
       "<p>1 rows × 41 columns</p>\n",
       "</div>"
      ],
      "text/plain": [
       "                   abilities  against_bug  against_dark  against_dragon  \\\n",
       "149  ['Pressure', 'Unnerve']          2.0           2.0             1.0   \n",
       "\n",
       "     against_electric  against_fairy  against_fight  against_fire  \\\n",
       "149               1.0            1.0            0.5           1.0   \n",
       "\n",
       "     against_flying  against_ghost  ...  percentage_male  pokedex_number  \\\n",
       "149             1.0            2.0  ...              NaN             150   \n",
       "\n",
       "     sp_attack  sp_defense  speed    type1  type2  weight_kg  generation  \\\n",
       "149        194         120    140  psychic    NaN      122.0           1   \n",
       "\n",
       "     is_legendary  \n",
       "149             1  \n",
       "\n",
       "[1 rows x 41 columns]"
      ]
     },
     "execution_count": 7,
     "metadata": {},
     "output_type": "execute_result"
    }
   ],
   "source": [
    "df.query(\"pokedex_number==150\")"
   ]
  },
  {
   "cell_type": "code",
   "execution_count": null,
   "metadata": {},
   "outputs": [],
   "source": []
  }
 ],
 "metadata": {
  "kernelspec": {
   "display_name": "Python 3.8.10 64-bit",
   "language": "python",
   "name": "python3"
  },
  "language_info": {
   "codemirror_mode": {
    "name": "ipython",
    "version": 3
   },
   "file_extension": ".py",
   "mimetype": "text/x-python",
   "name": "python",
   "nbconvert_exporter": "python",
   "pygments_lexer": "ipython3",
   "version": "3.8.10"
  },
  "orig_nbformat": 4,
  "vscode": {
   "interpreter": {
    "hash": "916dbcbb3f70747c44a77c7bcd40155683ae19c65e1c03b4aa3499c5328201f1"
   }
  }
 },
 "nbformat": 4,
 "nbformat_minor": 2
}
