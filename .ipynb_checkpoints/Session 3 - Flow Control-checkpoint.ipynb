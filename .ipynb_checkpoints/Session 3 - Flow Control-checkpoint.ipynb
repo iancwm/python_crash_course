{
 "cells": [
  {
   "cell_type": "markdown",
   "metadata": {
    "id": "wjgMzOPTe0wj"
   },
   "source": [
    "<h1><font color='blue'>Session 3 - Flow Control</font></h1>\n",
    "\n",
    "We are now in the big leagues. The prior 2 sessions were like understanding how to press buttons on a calculator. This lesson is about how to make decisions based on what your calculator says.\n",
    "\n",
    "[See this article](https://pynative.com/python-control-flow-statements/) for more in-depth coverage.\n",
    "\n",
    "The three main statements types are conditional (`if-else`), transfer (`break`,`continue`,`pass`) and iterative (`for`/`while` loops) statements.\n",
    "\n",
    "We will also cover error handling (`try-except`) to help your code fail elegantly.\n",
    "\n",
    "----\n",
    "\n",
    "# Section 1 - `if-else`\n",
    "\n",
    "First and foremost, take note of your indentation. \n",
    "\n",
    "If you don't indent your code after the if statement, Python will throw an error as shown below."
   ]
  },
  {
   "cell_type": "code",
   "execution_count": 4,
   "metadata": {},
   "outputs": [
    {
     "ename": "IndentationError",
     "evalue": "expected an indented block (2421747264.py, line 5)",
     "output_type": "error",
     "traceback": [
      "\u001b[0;36m  Cell \u001b[0;32mIn[4], line 5\u001b[0;36m\u001b[0m\n\u001b[0;31m    print(j)\u001b[0m\n\u001b[0m    ^\u001b[0m\n\u001b[0;31mIndentationError\u001b[0m\u001b[0;31m:\u001b[0m expected an indented block\n"
     ]
    }
   ],
   "source": [
    "for i in [1,2,3,4]:\n",
    "    print(i)\n",
    "    \n",
    "for j in [5,6,7,8]:\n",
    "print(j)"
   ]
  },
  {
   "cell_type": "markdown",
   "metadata": {},
   "source": [
    "The `if` statement is the simplest form. It takes a condition and evaluates to either `True` or `False` (remember Boolean values? Here is where they start to shine!)."
   ]
  },
  {
   "cell_type": "code",
   "execution_count": 1,
   "metadata": {
    "colab": {
     "base_uri": "https://localhost:8080/"
    },
    "executionInfo": {
     "elapsed": 8,
     "status": "ok",
     "timestamp": 1670029255890,
     "user": {
      "displayName": "Ian Chong",
      "userId": "10615222189260864195"
     },
     "user_tz": -480
    },
    "id": "gHm-fHd0eua0",
    "outputId": "a057d823-ce78-48f6-bdf2-de7512a2c396"
   },
   "outputs": [
    {
     "name": "stdout",
     "output_type": "stream",
     "text": [
      "You must be a crypto bro\n",
      "Done with loop\n"
     ]
    }
   ],
   "source": [
    "asset_class = \"crypto\"\n",
    "style=\"aggressive\"\n",
    "\n",
    "if asset_class == 'stocks':\n",
    "    if style==\"aggressive\":\n",
    "        print(\"Value investing ftw!\")\n",
    "    else:\n",
    "        print(\"Dividend yield, my bros.\")\n",
    "elif asset_class == 'bonds':\n",
    "    print(\"God damn the Fed\")\n",
    "else:\n",
    "    print(\"You must be a crypto bro\")\n",
    "\n",
    "print(\"Done with loop\")"
   ]
  },
  {
   "cell_type": "markdown",
   "metadata": {
    "id": "C-ZYTrSehoaU"
   },
   "source": [
    "In the example above, since `asset_class` was not 'stocks', the first block of code did not execute. It was not 'bonds' either so that did not execute as well. When the program reached the `else` bit, it would execute that block of code regardless.\n",
    "\n",
    "Hence, the `else` statement is meant as a catch all for whatever other cases that you did not factor into your code.\n",
    "\n",
    "With simple logic like above, you can make your code more 'intelligent' as they can execute logic based on conditions you set.\n",
    "\n",
    "Try changing `asset_class` and verify how the for loop works."
   ]
  },
  {
   "cell_type": "code",
   "execution_count": 2,
   "metadata": {
    "colab": {
     "base_uri": "https://localhost:8080/"
    },
    "executionInfo": {
     "elapsed": 7,
     "status": "ok",
     "timestamp": 1670029255891,
     "user": {
      "displayName": "Ian Chong",
      "userId": "10615222189260864195"
     },
     "user_tz": -480
    },
    "id": "IL7tP9TAFRs_",
    "outputId": "df3a0b59-2cb8-45f9-932f-cab343eb2928"
   },
   "outputs": [
    {
     "name": "stdout",
     "output_type": "stream",
     "text": [
      "God damn the Fed\n",
      "Done with loop\n"
     ]
    }
   ],
   "source": [
    "asset_class = \"bonds\"\n",
    "style=\"aggressive\"\n",
    "\n",
    "if asset_class == 'stocks':\n",
    "    if style==\"aggressive\":\n",
    "        print(\"Value investing ftw!\")\n",
    "    else:\n",
    "        print(\"Dividend yield, my bros.\")\n",
    "elif asset_class == 'bonds':\n",
    "    print(\"God damn the Fed\")\n",
    "else:\n",
    "    print(\"You must be a crypto bro\")\n",
    "\n",
    "print(\"Done with loop\")"
   ]
  },
  {
   "cell_type": "markdown",
   "metadata": {
    "id": "8Gu44HcFFbFf"
   },
   "source": [
    "> NOTE: The if else statement will execute the first block of code where the condition evaluates to `True`. For the following code, even though c is indeed greater than a, because the first condition evaluates to `True`, that code will be executed and the rest of the code will be skipped."
   ]
  },
  {
   "cell_type": "code",
   "execution_count": 3,
   "metadata": {
    "colab": {
     "base_uri": "https://localhost:8080/"
    },
    "executionInfo": {
     "elapsed": 5,
     "status": "ok",
     "timestamp": 1670029255891,
     "user": {
      "displayName": "Ian Chong",
      "userId": "10615222189260864195"
     },
     "user_tz": -480
    },
    "id": "ReyX_E0Lhk39",
    "outputId": "1b0a3e81-3dc5-4a2c-bf13-f5d464b7a691"
   },
   "outputs": [
    {
     "name": "stdout",
     "output_type": "stream",
     "text": [
      "b is greater than a\n"
     ]
    }
   ],
   "source": [
    "a = 2\n",
    "b = 3\n",
    "c = 4\n",
    "\n",
    "if b>a:\n",
    "    print(\"b is greater than a\")\n",
    "elif c>a:\n",
    "    print(\"c is greater than a\")\n",
    "else:\n",
    "    print(\"There is an error\")"
   ]
  },
  {
   "cell_type": "markdown",
   "metadata": {
    "id": "d6wpXG-n6fjN"
   },
   "source": [
    "To fix the above logic, we can use a nested `if-else` statement. Try changing the values of a, b and c"
   ]
  },
  {
   "cell_type": "code",
   "execution_count": 4,
   "metadata": {
    "colab": {
     "base_uri": "https://localhost:8080/"
    },
    "executionInfo": {
     "elapsed": 31,
     "status": "ok",
     "timestamp": 1670029256380,
     "user": {
      "displayName": "Ian Chong",
      "userId": "10615222189260864195"
     },
     "user_tz": -480
    },
    "id": "sTz0078wik7T",
    "outputId": "87b0d584-296f-4290-b91e-191af715aa4a"
   },
   "outputs": [
    {
     "name": "stdout",
     "output_type": "stream",
     "text": [
      "c is greater than a\n"
     ]
    }
   ],
   "source": [
    "a = 2\n",
    "b = 3\n",
    "c = 4\n",
    "\n",
    "if b>a:\n",
    "    if c>a:\n",
    "        print(\"c is greater than a\")\n",
    "    else:\n",
    "        print(\"b is greater than a\")\n",
    "else:\n",
    "    print(\"a is greater than b\")"
   ]
  },
  {
   "cell_type": "markdown",
   "metadata": {
    "id": "rYTWKy8M7hEN"
   },
   "source": [
    "----\n",
    "\n",
    "# Section 2 - `for` and `while` loops\n",
    "\n",
    "Loops allow you to execute the same code on a container/iterable object like a list, tuple or dictionary. Very useful for automating manual processes. Remember that strings are containers too!\n",
    "\n",
    "## 2.1 `for` loops\n",
    "\n",
    "A `for` loop requires an iterable to be provided. The code will then be executed on each of the elements of an iterable.\n",
    "\n",
    "**!!!IMPORTANT!!!**  The indentation of your code matters. See below.\n",
    "\n",
    "![](https://blog.enterprisedna.co/wp-content/uploads/2023/05/461cc8b9-247b-440a-8d26-1dc4e9d641c2-1.png)"
   ]
  },
  {
   "cell_type": "code",
   "execution_count": 5,
   "metadata": {
    "colab": {
     "base_uri": "https://localhost:8080/"
    },
    "executionInfo": {
     "elapsed": 31,
     "status": "ok",
     "timestamp": 1670029256381,
     "user": {
      "displayName": "Ian Chong",
      "userId": "10615222189260864195"
     },
     "user_tz": -480
    },
    "id": "sqXnDiiN7zIT",
    "outputId": "5f6af3b8-dcd8-471b-f661-7d27d0fc45cb"
   },
   "outputs": [
    {
     "name": "stdout",
     "output_type": "stream",
     "text": [
      "< B >\n",
      "< r >\n",
      "< u >\n",
      "< c >\n",
      "< e >\n"
     ]
    }
   ],
   "source": [
    "name = \"Bruce\"\n",
    "\n",
    "for x in name: # you can make the placeholder any variable name you want\n",
    "    print(\"<\",x,\">\")"
   ]
  },
  {
   "cell_type": "markdown",
   "metadata": {},
   "source": [
    "Use `enumerate` for cleaner code. it returns a tuple of `(index,element)`"
   ]
  },
  {
   "cell_type": "code",
   "execution_count": 6,
   "metadata": {},
   "outputs": [
    {
     "name": "stdout",
     "output_type": "stream",
     "text": [
      " i\n",
      "  t\n",
      "    \n",
      "    i\n",
      "     s\n",
      "       \n",
      "       w\n",
      "        e\n",
      "         d\n",
      "          n\n",
      "           e\n",
      "            s\n",
      "             d\n",
      "              a\n",
      "               y\n",
      "                 \n",
      "                 m\n",
      "                  y\n",
      "                    \n",
      "                    d\n",
      "                     u\n",
      "                      d\n",
      "                       e\n",
      "                        s\n"
     ]
    }
   ],
   "source": [
    "string=\"it is wednesday my dudes\"\n",
    "for i,v in enumerate(string):\n",
    "#     if i%2==0:\n",
    "#         print(v)\n",
    "#     else:\n",
    "#         print(\"\\t\",v)\n",
    "    print(i*\" \",v)"
   ]
  },
  {
   "cell_type": "markdown",
   "metadata": {
    "id": "hxKOdgpY8HYK"
   },
   "source": [
    "Recalling that example of adding numbers in two lists element-wise. You might think that using two for loops will do the job right?"
   ]
  },
  {
   "cell_type": "code",
   "execution_count": 7,
   "metadata": {
    "colab": {
     "base_uri": "https://localhost:8080/"
    },
    "executionInfo": {
     "elapsed": 30,
     "status": "ok",
     "timestamp": 1670029256382,
     "user": {
      "displayName": "Ian Chong",
      "userId": "10615222189260864195"
     },
     "user_tz": -480
    },
    "id": "MxXIZ2vr8Pie",
    "outputId": "557645d9-c6f3-469e-9e48-f0ff1dbf1b51"
   },
   "outputs": [
    {
     "data": {
      "text/plain": [
       "[6, 7, 8, 9, 7, 8, 9, 10, 8, 9, 10, 11, 9, 10, 11, 12]"
      ]
     },
     "execution_count": 7,
     "metadata": {},
     "output_type": "execute_result"
    }
   ],
   "source": [
    "first_list = [1,2,3,4]\n",
    "second_list = [5,6,7,8]\n",
    "\n",
    "result=[]\n",
    "\n",
    "for i in first_list:\n",
    "    for j in second_list:\n",
    "        result.append(i+j)\n",
    "\n",
    "result"
   ]
  },
  {
   "cell_type": "markdown",
   "metadata": {
    "id": "plthtY9t8TWG"
   },
   "source": [
    "Well that doesn't quite look right. We were supposed to get a list of the same length as first_list. What happened? Maybe this code will illustrate better."
   ]
  },
  {
   "cell_type": "code",
   "execution_count": 8,
   "metadata": {
    "colab": {
     "base_uri": "https://localhost:8080/"
    },
    "executionInfo": {
     "elapsed": 29,
     "status": "ok",
     "timestamp": 1670029256382,
     "user": {
      "displayName": "Ian Chong",
      "userId": "10615222189260864195"
     },
     "user_tz": -480
    },
    "id": "k7MbRPRF8v23",
    "outputId": "52f4aee5-fd80-4f1e-bec4-2a97ed0d5887"
   },
   "outputs": [
    {
     "name": "stdout",
     "output_type": "stream",
     "text": [
      "Adding 1 and 5\n",
      "Adding 1 and 6\n",
      "Adding 1 and 7\n",
      "Adding 1 and 8\n",
      "Adding 2 and 5\n",
      "Adding 2 and 6\n",
      "Adding 2 and 7\n",
      "Adding 2 and 8\n",
      "Adding 3 and 5\n",
      "Adding 3 and 6\n",
      "Adding 3 and 7\n",
      "Adding 3 and 8\n",
      "Adding 4 and 5\n",
      "Adding 4 and 6\n",
      "Adding 4 and 7\n",
      "Adding 4 and 8\n"
     ]
    }
   ],
   "source": [
    "first_list = [1,2,3,4]\n",
    "second_list = [5,6,7,8]\n",
    "\n",
    "for i in first_list:\n",
    "    for j in second_list:\n",
    "        print(f\"Adding {i} and {j}\")"
   ]
  },
  {
   "cell_type": "code",
   "execution_count": 9,
   "metadata": {},
   "outputs": [
    {
     "name": "stdout",
     "output_type": "stream",
     "text": [
      "Adding 1 and 5\n",
      "Adding 2 and 5\n",
      "Adding 3 and 5\n",
      "Adding 4 and 5\n",
      "Adding 1 and 6\n",
      "Adding 2 and 6\n",
      "Adding 3 and 6\n",
      "Adding 4 and 6\n",
      "Adding 1 and 7\n",
      "Adding 2 and 7\n",
      "Adding 3 and 7\n",
      "Adding 4 and 7\n",
      "Adding 1 and 8\n",
      "Adding 2 and 8\n",
      "Adding 3 and 8\n",
      "Adding 4 and 8\n"
     ]
    }
   ],
   "source": [
    "for j in second_list:\n",
    "    for i in first_list:\n",
    "        print(f\"Adding {i} and {j}\")"
   ]
  },
  {
   "cell_type": "markdown",
   "metadata": {
    "id": "-NTC5m5E83Ht"
   },
   "source": [
    "What the above code was doing was taking the first element in first_list, and then adding all the elements in second_list to it, before moving on to the second element in first_list, and repeating the process. What we were doing is finding the sum of all pairs of elements formed between the two lists.\n",
    "\n",
    "The order of the loop matters!\n",
    "\n",
    "Back to the question. To have the element-wise sum of both lists, you need to index the relevant element in each list first. Fixing the code below:\n",
    "\n",
    "> Note: range() takes an integer and creates a sequence of consecutive integers up to the integer specified. i.e. range(2) gets you `[0,1]` and range(7) gets you `[0,1,2,3,4,5,6]`. To iterate through an entire list, you can pass in the length of the list i.e. `len(first_list)` to make sure the sequence is as long as the list."
   ]
  },
  {
   "cell_type": "code",
   "execution_count": 10,
   "metadata": {
    "colab": {
     "base_uri": "https://localhost:8080/"
    },
    "executionInfo": {
     "elapsed": 28,
     "status": "ok",
     "timestamp": 1670029256383,
     "user": {
      "displayName": "Ian Chong",
      "userId": "10615222189260864195"
     },
     "user_tz": -480
    },
    "id": "DFIRKWbO9yEC",
    "outputId": "4bfc0150-42fb-421a-86d3-1d90d92d5dfd"
   },
   "outputs": [
    {
     "data": {
      "text/plain": [
       "[6, 8, 10, 12]"
      ]
     },
     "execution_count": 10,
     "metadata": {},
     "output_type": "execute_result"
    }
   ],
   "source": [
    "result = []\n",
    "for i in range(len(first_list)): # i is now an index, not the element itself!\n",
    "    result.append(first_list[i]+second_list[i])\n",
    "result"
   ]
  },
  {
   "cell_type": "markdown",
   "metadata": {},
   "source": [
    "Same result but cleaner with `enumerate`"
   ]
  },
  {
   "cell_type": "code",
   "execution_count": 11,
   "metadata": {},
   "outputs": [
    {
     "data": {
      "text/plain": [
       "[6, 8, 10, 12]"
      ]
     },
     "execution_count": 11,
     "metadata": {},
     "output_type": "execute_result"
    }
   ],
   "source": [
    "result = []\n",
    "for i,v in enumerate(first_list):\n",
    "    result.append(first_list[i]+second_list[i])\n",
    "result"
   ]
  },
  {
   "cell_type": "code",
   "execution_count": 12,
   "metadata": {},
   "outputs": [
    {
     "name": "stdout",
     "output_type": "stream",
     "text": [
      "{'Ian Chong': {'Address': 'Nowhere', 'Telephone': 1234321}, 'Chan Soon Huat': {'Address': 'Now Here', 'Telephone': 4321234}}\n"
     ]
    }
   ],
   "source": [
    "phonebook={\n",
    "    'Ian Chong':{\n",
    "        'Address':'Nowhere',\n",
    "        'Telephone':1234321},\n",
    "    'Chan Soon Huat':{\n",
    "        'Address':'Now Here',\n",
    "        'Telephone':4321234}\n",
    "        }\n",
    "\n",
    "print(phonebook)"
   ]
  },
  {
   "cell_type": "code",
   "execution_count": 13,
   "metadata": {},
   "outputs": [],
   "source": [
    "for key in phonebook.keys():\n",
    "    phonebook[key]['email']=f\"{''.join(key.lower().split(' '))}@bazinga.com\"\n",
    "\n",
    "for value in phonebook.values():\n",
    "    value['Interests']= 'CFA'"
   ]
  },
  {
   "cell_type": "code",
   "execution_count": 14,
   "metadata": {},
   "outputs": [
    {
     "data": {
      "text/plain": [
       "{'Ian Chong': {'Address': 'Nowhere',\n",
       "  'Telephone': 1234321,\n",
       "  'email': 'ianchong@bazinga.com',\n",
       "  'Interests': 'CFA'},\n",
       " 'Chan Soon Huat': {'Address': 'Now Here',\n",
       "  'Telephone': 4321234,\n",
       "  'email': 'chansoonhuat@bazinga.com',\n",
       "  'Interests': 'CFA'}}"
      ]
     },
     "execution_count": 14,
     "metadata": {},
     "output_type": "execute_result"
    }
   ],
   "source": [
    "phonebook"
   ]
  },
  {
   "cell_type": "markdown",
   "metadata": {
    "id": "AgaJ1XfcNKQW"
   },
   "source": [
    "## 2.2 `while` loops\n",
    "\n",
    "Again, watch your indentation.\n",
    "\n",
    "`while` loops are a little different in that they are given a condition that is consistently evaluated for `True`. The loop exits only when that condition is `False`.\n",
    "\n",
    "This is dangerous because your program can get stuck in an infinite loop and never stop running.\n",
    "\n",
    "For this reason, it is better to stick with `for` loops where possible."
   ]
  },
  {
   "cell_type": "code",
   "execution_count": 15,
   "metadata": {
    "colab": {
     "base_uri": "https://localhost:8080/"
    },
    "executionInfo": {
     "elapsed": 27,
     "status": "ok",
     "timestamp": 1670029256383,
     "user": {
      "displayName": "Ian Chong",
      "userId": "10615222189260864195"
     },
     "user_tz": -480
    },
    "id": "atrHJtL0Nkwb",
    "outputId": "9ab3abd3-13e9-4768-f35d-4e22cec5292c"
   },
   "outputs": [
    {
     "name": "stdout",
     "output_type": "stream",
     "text": [
      "a is:  4\n",
      "after adding 1, a is:  5\n",
      "a is:  5\n",
      "after adding 1, a is:  6\n",
      "a is:  6\n",
      "after adding 1, a is:  7\n",
      "a is:  7\n",
      "after adding 1, a is:  8\n",
      "a is:  8\n",
      "after adding 1, a is:  9\n",
      "Exited while loop\n"
     ]
    }
   ],
   "source": [
    "a = 4\n",
    "b = 9\n",
    "\n",
    "while a<b:\n",
    "    print(\"a is: \",a)\n",
    "    a+=1\n",
    "    print(\"after adding 1, a is: \",a)\n",
    "\n",
    "print(\"Exited while loop\")"
   ]
  },
  {
   "cell_type": "markdown",
   "metadata": {
    "id": "yWQYIggs5kL-"
   },
   "source": [
    "----\n",
    "\n",
    "# Section 3 - `break` and `continue`\n",
    "\n",
    "When you initiate flow control, sometimes you want Python to stop it altogether because a certain condition has been met. This is where `break` comes in.\n",
    "\n",
    "> break stops all flow control code (exits the loop or if-else block) and continues with the code that comes after\n",
    "\n",
    "To stop a for loop, use break"
   ]
  },
  {
   "cell_type": "code",
   "execution_count": 16,
   "metadata": {
    "colab": {
     "base_uri": "https://localhost:8080/"
    },
    "executionInfo": {
     "elapsed": 25,
     "status": "ok",
     "timestamp": 1670029256383,
     "user": {
      "displayName": "Ian Chong",
      "userId": "10615222189260864195"
     },
     "user_tz": -480
    },
    "id": "6hiYFc786KiP",
    "outputId": "41192471-d00b-447e-fff4-b337b8da9d1c"
   },
   "outputs": [
    {
     "name": "stdout",
     "output_type": "stream",
     "text": [
      "R\n",
      "i\n",
      "c\n",
      "Stopping at h\n"
     ]
    }
   ],
   "source": [
    "name = \"Richard\"\n",
    "\n",
    "for character in name: # you can make the placeholder any variable name you want\n",
    "    if character == 'h':\n",
    "        print(\"Stopping at h\")\n",
    "        break\n",
    "    else:\n",
    "        print(character)"
   ]
  },
  {
   "cell_type": "markdown",
   "metadata": {
    "id": "oCOqdxHVL6wK"
   },
   "source": [
    "To skip that iteration but still continue with the rest of the iterable, use `continue`"
   ]
  },
  {
   "cell_type": "code",
   "execution_count": 17,
   "metadata": {
    "colab": {
     "base_uri": "https://localhost:8080/"
    },
    "executionInfo": {
     "elapsed": 24,
     "status": "ok",
     "timestamp": 1670029256384,
     "user": {
      "displayName": "Ian Chong",
      "userId": "10615222189260864195"
     },
     "user_tz": -480
    },
    "id": "yz4KRdfHL5l3",
    "outputId": "99204f16-f68e-4852-c6c8-6c09db40ad1a"
   },
   "outputs": [
    {
     "name": "stdout",
     "output_type": "stream",
     "text": [
      "R\n",
      "i\n",
      "c\n",
      "Skipping h\n",
      "a\n",
      "r\n",
      "d\n"
     ]
    }
   ],
   "source": [
    "name = \"Richard\"\n",
    "\n",
    "for character in name: # you can make the placeholder any variable name you want\n",
    "    if character == 'h':\n",
    "        print(\"Skipping h\")\n",
    "        continue\n",
    "    else:\n",
    "        print(character)"
   ]
  },
  {
   "cell_type": "markdown",
   "metadata": {
    "id": "Lk1RpY_bOtOc"
   },
   "source": [
    "---\n",
    "\n",
    "# Section 4 - Comprehensions\n",
    "\n",
    "Comprehensions are a special Python feature that allow you to create iterables like lists or dictionaries with for loops. They are more efficient than regular for loops.\n",
    "\n",
    "## 4.1 - List Comprehensions\n",
    "\n",
    "![](https://datagy.io/wp-content/uploads/2020/05/Python-List-Comprehensions-Syntax.png)"
   ]
  },
  {
   "cell_type": "code",
   "execution_count": 18,
   "metadata": {
    "colab": {
     "base_uri": "https://localhost:8080/"
    },
    "executionInfo": {
     "elapsed": 22,
     "status": "ok",
     "timestamp": 1670029256384,
     "user": {
      "displayName": "Ian Chong",
      "userId": "10615222189260864195"
     },
     "user_tz": -480
    },
    "id": "fOzcWBjbMAPz",
    "outputId": "44a0f30b-bb96-4ad1-b098-a065e060aeec"
   },
   "outputs": [
    {
     "name": "stdout",
     "output_type": "stream",
     "text": [
      "List comprehension result:  ['|R|', '|i|', '|c|', '|h|', '|a|', '|r|', '|d|']\n",
      "Joined into one string: |R||i||c||h||a||r||d|\n"
     ]
    }
   ],
   "source": [
    "name = \"Richard\"\n",
    "pretty_letters = [\"|\"+character+\"|\" for character in \"Richard\"] # this is the comprehension\n",
    "\n",
    "print(\"List comprehension result: \",pretty_letters)\n",
    "\n",
    "pretty_name = \"\".join(pretty_letters)\n",
    "\n",
    "print(\"Joined into one string:\", pretty_name)"
   ]
  },
  {
   "cell_type": "code",
   "execution_count": 19,
   "metadata": {
    "colab": {
     "base_uri": "https://localhost:8080/"
    },
    "executionInfo": {
     "elapsed": 22,
     "status": "ok",
     "timestamp": 1670029256385,
     "user": {
      "displayName": "Ian Chong",
      "userId": "10615222189260864195"
     },
     "user_tz": -480
    },
    "id": "rdmQe6fMPKdz",
    "outputId": "02dedf6f-7829-41e3-a9ec-dd3e59c8eec2"
   },
   "outputs": [
    {
     "name": "stdout",
     "output_type": "stream",
     "text": [
      "[0, 1, 4, 9, 16, 25, 36, 49, 64, 81]\n",
      "[0, 1, 4, 9, 16, 25, 36, 49, 64, 81]\n"
     ]
    }
   ],
   "source": [
    "squares_comprehension = [i**2 for i in range(10)]\n",
    "print(squares_comprehension)\n",
    "\n",
    "# the following is equivalent code\n",
    "\n",
    "squares_for_loop = []\n",
    "\n",
    "for i in range(10):\n",
    "    squares_for_loop.append(i**2)\n",
    "\n",
    "print(squares_for_loop)"
   ]
  },
  {
   "cell_type": "markdown",
   "metadata": {
    "id": "BKAy07vMTCld"
   },
   "source": [
    "Bringing back the element-wise addition example from Section 2.1, the following is a much more compact representation using a list comprehension."
   ]
  },
  {
   "cell_type": "code",
   "execution_count": 20,
   "metadata": {
    "colab": {
     "base_uri": "https://localhost:8080/"
    },
    "executionInfo": {
     "elapsed": 21,
     "status": "ok",
     "timestamp": 1670029256385,
     "user": {
      "displayName": "Ian Chong",
      "userId": "10615222189260864195"
     },
     "user_tz": -480
    },
    "id": "vXHKdSLwPYIG",
    "outputId": "18945945-3ff2-4814-f163-070b360c682b"
   },
   "outputs": [
    {
     "data": {
      "text/plain": [
       "[6, 8, 10, 12]"
      ]
     },
     "execution_count": 20,
     "metadata": {},
     "output_type": "execute_result"
    }
   ],
   "source": [
    "first_list = [1,2,3,4]\n",
    "second_list = [5,6,7,8]\n",
    "sum = [first_list[i]+second_list[i] for i in range(len(first_list))]\n",
    "sum"
   ]
  },
  {
   "cell_type": "markdown",
   "metadata": {
    "id": "pMOdswt2QWf-"
   },
   "source": [
    "You can also nest conditional logic in list comprehensions.\n",
    "\n",
    "View [pythonexamples](https://pythonexamples.org/python-list-comprehension-multiple-if-conditions/) for more info."
   ]
  },
  {
   "cell_type": "code",
   "execution_count": 21,
   "metadata": {
    "colab": {
     "base_uri": "https://localhost:8080/"
    },
    "executionInfo": {
     "elapsed": 20,
     "status": "ok",
     "timestamp": 1670029256385,
     "user": {
      "displayName": "Ian Chong",
      "userId": "10615222189260864195"
     },
     "user_tz": -480
    },
    "id": "MsLiyelcQZuS",
    "outputId": "7fdb5335-1498-48bf-9b63-fde0bd1cee00"
   },
   "outputs": [
    {
     "data": {
      "text/plain": [
       "[0, 4, 16, 36, 64]"
      ]
     },
     "execution_count": 21,
     "metadata": {},
     "output_type": "execute_result"
    }
   ],
   "source": [
    "even_squares=[i**2 for i in range(10) if i%2==0]\n",
    "even_squares"
   ]
  },
  {
   "cell_type": "markdown",
   "metadata": {
    "id": "3rKt1zO6PouN"
   },
   "source": [
    "## 4.2 - Dictionary Comprehension\n",
    "\n",
    "You can even make dictionaries from comprehensions!\n",
    "\n",
    "![](https://datagy.io/wp-content/uploads/2020/04/Python-Dictionary-Comprehension-Syntax.png)"
   ]
  },
  {
   "cell_type": "code",
   "execution_count": 22,
   "metadata": {
    "colab": {
     "base_uri": "https://localhost:8080/"
    },
    "executionInfo": {
     "elapsed": 20,
     "status": "ok",
     "timestamp": 1670029256386,
     "user": {
      "displayName": "Ian Chong",
      "userId": "10615222189260864195"
     },
     "user_tz": -480
    },
    "id": "99LCI6EwPlQ2",
    "outputId": "95168b73-4db6-44ac-fa72-3805c42ae0cf"
   },
   "outputs": [
    {
     "name": "stdout",
     "output_type": "stream",
     "text": [
      "milk old price:\t1.02\n",
      "coffee old price:\t2.5\n",
      "bread old price:\t2.5\n",
      "milk new price:\t0.7752\n",
      "coffee new price:\t1.9\n",
      "bread new price:\t1.9\n"
     ]
    }
   ],
   "source": [
    "#item price in dollars\n",
    "old_price = {'milk': 1.02, 'coffee': 2.5, 'bread': 2.5}\n",
    "for k,v in old_price.items():\n",
    "    print(f\"{k} old price:\\t{str(v)}\")\n",
    "\n",
    "dollar_to_pound = 0.76\n",
    "new_price = {item: value*dollar_to_pound for (item, value) in old_price.items()}\n",
    "for k,v in new_price.items():\n",
    "    print(f\"{k} new price:\\t{str(v)}\")"
   ]
  },
  {
   "cell_type": "markdown",
   "metadata": {
    "id": "4Ai08yueGGED"
   },
   "source": [
    "## 4.3 - Generator Expressions\n",
    "\n",
    "Advanced topic. See [Real Python](https://realpython.com/introduction-to-python-generators/) for more info. \n",
    "\n",
    "Generator functions are a special kind of function that return a lazy iterator. Lazy means they only execute when instructed to do so. \n",
    "\n",
    "You can loop over a generator like a list. However, unlike lists, lazy iterators do not store their contents in memory, instead retrieving the data just in time when the program is asked to evaluate.\n",
    "\n",
    "This is useful when you are trying to represent an infinite stream of data and it is not feasible to load everything into memory. You can retrieve only what you need at a point in time.\n",
    "\n",
    "The easiest way to make a generator is a generator expression by enclosing a list comprehension instead with parenthesis rather than square brackets, shown here."
   ]
  },
  {
   "cell_type": "code",
   "execution_count": 23,
   "metadata": {
    "colab": {
     "base_uri": "https://localhost:8080/"
    },
    "executionInfo": {
     "elapsed": 19,
     "status": "ok",
     "timestamp": 1670029256386,
     "user": {
      "displayName": "Ian Chong",
      "userId": "10615222189260864195"
     },
     "user_tz": -480
    },
    "id": "WtpLEJlsGyKT",
    "outputId": "8b580960-c7ac-4a1b-f2aa-13ec344b9a22"
   },
   "outputs": [
    {
     "data": {
      "text/plain": [
       "<generator object <genexpr> at 0x7f89dc281ac0>"
      ]
     },
     "execution_count": 23,
     "metadata": {},
     "output_type": "execute_result"
    }
   ],
   "source": [
    "some_text = \"it is wednesday my dudes\"\n",
    "\n",
    "some_text_generator = (i for i in some_text)\n",
    "some_text_generator"
   ]
  },
  {
   "cell_type": "markdown",
   "metadata": {
    "id": "X6GaPVQbHY21"
   },
   "source": [
    "You can call `next()` on a generator to `yield` the next item. The following code pulls all the characters in `some_text`"
   ]
  },
  {
   "cell_type": "code",
   "execution_count": 24,
   "metadata": {
    "colab": {
     "base_uri": "https://localhost:8080/"
    },
    "executionInfo": {
     "elapsed": 18,
     "status": "ok",
     "timestamp": 1670029256387,
     "user": {
      "displayName": "Ian Chong",
      "userId": "10615222189260864195"
     },
     "user_tz": -480
    },
    "id": "fjdobLlrHEgS",
    "outputId": "a49004ad-a661-4397-e31e-eed7e531080c"
   },
   "outputs": [
    {
     "name": "stdout",
     "output_type": "stream",
     "text": [
      "Retrieving character i: ' i '\n",
      "Retrieving character i: ' t '\n",
      "Retrieving character i: '   '\n",
      "Retrieving character i: ' i '\n",
      "Retrieving character i: ' s '\n",
      "Retrieving character i: '   '\n",
      "Retrieving character i: ' w '\n",
      "Retrieving character i: ' e '\n",
      "Retrieving character i: ' d '\n",
      "Retrieving character i: ' n '\n",
      "Retrieving character i: ' e '\n",
      "Retrieving character i: ' s '\n",
      "Retrieving character i: ' d '\n",
      "Retrieving character i: ' a '\n",
      "Retrieving character i: ' y '\n",
      "Retrieving character i: '   '\n",
      "Retrieving character i: ' m '\n",
      "Retrieving character i: ' y '\n",
      "Retrieving character i: '   '\n",
      "Retrieving character i: ' d '\n",
      "Retrieving character i: ' u '\n",
      "Retrieving character i: ' d '\n",
      "Retrieving character i: ' e '\n",
      "Retrieving character i: ' s '\n"
     ]
    }
   ],
   "source": [
    "for i in range(len(some_text)):\n",
    "    print(\"Retrieving character i: '\",next(some_text_generator),\"'\")"
   ]
  },
  {
   "cell_type": "markdown",
   "metadata": {
    "id": "9f9_msSaHgr9"
   },
   "source": [
    "But when you call next on `some_text_generator` again, it fails. This is because a generator remembers its own state: it discards the elements after it yields them, or *consumes* them.\n",
    "\n",
    "When you call next on a generator that has yielded the last of its elements, it will have nothing more to yield."
   ]
  },
  {
   "cell_type": "code",
   "execution_count": 25,
   "metadata": {
    "colab": {
     "base_uri": "https://localhost:8080/",
     "height": 166
    },
    "executionInfo": {
     "elapsed": 17,
     "status": "error",
     "timestamp": 1670029256387,
     "user": {
      "displayName": "Ian Chong",
      "userId": "10615222189260864195"
     },
     "user_tz": -480
    },
    "id": "0x1M1eOfHYS4",
    "outputId": "5ece36c9-0716-4158-9dd2-3d9c86d5be92"
   },
   "outputs": [
    {
     "ename": "StopIteration",
     "evalue": "",
     "output_type": "error",
     "traceback": [
      "\u001b[0;31m---------------------------------------------------------------------------\u001b[0m",
      "\u001b[0;31mStopIteration\u001b[0m                             Traceback (most recent call last)",
      "Cell \u001b[0;32mIn[25], line 1\u001b[0m\n\u001b[0;32m----> 1\u001b[0m \u001b[38;5;28;43mnext\u001b[39;49m\u001b[43m(\u001b[49m\u001b[43msome_text_generator\u001b[49m\u001b[43m)\u001b[49m\n",
      "\u001b[0;31mStopIteration\u001b[0m: "
     ]
    }
   ],
   "source": [
    "next(some_text_generator)"
   ]
  },
  {
   "cell_type": "markdown",
   "metadata": {
    "id": "8wz0q8QATVOn"
   },
   "source": [
    "----\n",
    "\n",
    "# Section 5 - Error Handling\n",
    "\n",
    "Computers are dumb. You have to provide the exact data and logic to it to execute. If something unexpected comes up, the program will throw an error and crash. [See this page for details](https://www.geeksforgeeks.org/python-try-except/).\n",
    "\n",
    "It is hence the job of the software engineer to determine how best to handle errors.\n",
    "\n",
    "## 5.1 - `try` and `except`\n",
    "\n",
    "In Python, this is done using `try` and `except`. While this is not always the best way to write a program (it obscures the kind of error that the program is encountering, which might hamper debugging as the program gets bigger and bigger), in most situations, it makes code more robust.\n",
    "\n",
    "The following code will fail because even after the last letter is printed, the for loop continues."
   ]
  },
  {
   "cell_type": "code",
   "execution_count": 26,
   "metadata": {
    "colab": {
     "base_uri": "https://localhost:8080/",
     "height": 322
    },
    "executionInfo": {
     "elapsed": 344,
     "status": "error",
     "timestamp": 1670029268725,
     "user": {
      "displayName": "Ian Chong",
      "userId": "10615222189260864195"
     },
     "user_tz": -480
    },
    "id": "bT3ayNQKQuhO",
    "outputId": "4f4b088c-be12-4964-ff75-65a633306764"
   },
   "outputs": [
    {
     "name": "stdout",
     "output_type": "stream",
     "text": [
      "R\n",
      "i\n",
      "c\n",
      "h\n",
      "a\n",
      "r\n",
      "d\n"
     ]
    },
    {
     "ename": "IndexError",
     "evalue": "string index out of range",
     "output_type": "error",
     "traceback": [
      "\u001b[0;31m---------------------------------------------------------------------------\u001b[0m",
      "\u001b[0;31mIndexError\u001b[0m                                Traceback (most recent call last)",
      "Cell \u001b[0;32mIn[26], line 4\u001b[0m\n\u001b[1;32m      1\u001b[0m name \u001b[38;5;241m=\u001b[39m \u001b[38;5;124m\"\u001b[39m\u001b[38;5;124mRichard\u001b[39m\u001b[38;5;124m\"\u001b[39m\n\u001b[1;32m      3\u001b[0m \u001b[38;5;28;01mfor\u001b[39;00m i \u001b[38;5;129;01min\u001b[39;00m \u001b[38;5;28mrange\u001b[39m(\u001b[38;5;241m15\u001b[39m):\n\u001b[0;32m----> 4\u001b[0m     \u001b[38;5;28mprint\u001b[39m(\u001b[43mname\u001b[49m\u001b[43m[\u001b[49m\u001b[43mi\u001b[49m\u001b[43m]\u001b[49m)\n",
      "\u001b[0;31mIndexError\u001b[0m: string index out of range"
     ]
    }
   ],
   "source": [
    "name = \"Richard\"\n",
    "\n",
    "for i in range(15):\n",
    "    print(name[i])"
   ]
  },
  {
   "cell_type": "markdown",
   "metadata": {
    "id": "vvFOC3pjUKzI"
   },
   "source": [
    "You can get Python to `try` executing a block of code, and if an error is encountered, switch to another block of code."
   ]
  },
  {
   "cell_type": "code",
   "execution_count": 27,
   "metadata": {
    "colab": {
     "base_uri": "https://localhost:8080/"
    },
    "executionInfo": {
     "elapsed": 5,
     "status": "ok",
     "timestamp": 1670029269082,
     "user": {
      "displayName": "Ian Chong",
      "userId": "10615222189260864195"
     },
     "user_tz": -480
    },
    "id": "R05kHOfUUCSO",
    "outputId": "7ec89756-1b06-49bb-ba48-5ed5b8c2e943"
   },
   "outputs": [
    {
     "name": "stdout",
     "output_type": "stream",
     "text": [
      "R\n",
      "i\n",
      "c\n",
      "h\n",
      "a\n",
      "r\n",
      "d\n",
      "Index 7 is out of range for Richard which has 7 characters\n",
      "Index 8 is out of range for Richard which has 7 characters\n",
      "Index 9 is out of range for Richard which has 7 characters\n",
      "Index 10 is out of range for Richard which has 7 characters\n",
      "Index 11 is out of range for Richard which has 7 characters\n",
      "Index 12 is out of range for Richard which has 7 characters\n",
      "Index 13 is out of range for Richard which has 7 characters\n",
      "Index 14 is out of range for Richard which has 7 characters\n"
     ]
    }
   ],
   "source": [
    "name = \"Richard\"\n",
    "\n",
    "for i in range(15):\n",
    "    try:\n",
    "        print(name[i])\n",
    "    except:\n",
    "        print(f\"Index {i} is out of range for {name} which has {len(name)} characters\")"
   ]
  },
  {
   "cell_type": "markdown",
   "metadata": {
    "id": "r7O3RYBcWkEH"
   },
   "source": [
    "This way, when you encounter an error, the program still runs.\n",
    "\n",
    "The opposing school of thought is to let errors surface naturally and write code that properly addresses the logical flaw. For instance, for the code above, you should pass the length of the string into the `range()` function to remove the possibility of the loop ever moving past the length of the string.\n",
    "\n",
    "## 5.2 `assert`\n",
    "\n",
    "You can use `assert` to test if a condition holds true before executing. It helps ensure new bugs are not introduced while adding features and fixing other bugs in your code. See [Real Python - Python's assert](https://realpython.com/python-assert-statement/) for more details."
   ]
  },
  {
   "cell_type": "code",
   "execution_count": 28,
   "metadata": {
    "executionInfo": {
     "elapsed": 5,
     "status": "ok",
     "timestamp": 1670029269083,
     "user": {
      "displayName": "Ian Chong",
      "userId": "10615222189260864195"
     },
     "user_tz": -480
    },
    "id": "SIqqBgN_W9no"
   },
   "outputs": [],
   "source": [
    "number = 42\n",
    "assert number > 0"
   ]
  },
  {
   "cell_type": "code",
   "execution_count": 29,
   "metadata": {
    "colab": {
     "base_uri": "https://localhost:8080/",
     "height": 184
    },
    "executionInfo": {
     "elapsed": 5,
     "status": "error",
     "timestamp": 1670029269083,
     "user": {
      "displayName": "Ian Chong",
      "userId": "10615222189260864195"
     },
     "user_tz": -480
    },
    "id": "VOlqN7KnfcP_",
    "outputId": "e3387531-01e6-4d89-fb31-884915a9ec10"
   },
   "outputs": [
    {
     "ename": "AssertionError",
     "evalue": "",
     "output_type": "error",
     "traceback": [
      "\u001b[0;31m---------------------------------------------------------------------------\u001b[0m",
      "\u001b[0;31mAssertionError\u001b[0m                            Traceback (most recent call last)",
      "Cell \u001b[0;32mIn[29], line 2\u001b[0m\n\u001b[1;32m      1\u001b[0m number \u001b[38;5;241m=\u001b[39m \u001b[38;5;241m-\u001b[39m\u001b[38;5;241m42\u001b[39m\n\u001b[0;32m----> 2\u001b[0m \u001b[38;5;28;01massert\u001b[39;00m number \u001b[38;5;241m>\u001b[39m \u001b[38;5;241m0\u001b[39m\n",
      "\u001b[0;31mAssertionError\u001b[0m: "
     ]
    }
   ],
   "source": [
    "number = -42\n",
    "assert number > 0"
   ]
  },
  {
   "cell_type": "markdown",
   "metadata": {
    "id": "iCnipUATgyVm"
   },
   "source": [
    "The above isn't very helpful. It stops the code but doesn't tell you the problem. Add assertion strings to document your code! Then your code will have failed successfully.\n",
    "\n",
    "Simply add a comma, and a string after the assert statement."
   ]
  },
  {
   "cell_type": "code",
   "execution_count": 30,
   "metadata": {
    "colab": {
     "base_uri": "https://localhost:8080/",
     "height": 184
    },
    "executionInfo": {
     "elapsed": 4,
     "status": "error",
     "timestamp": 1670029289021,
     "user": {
      "displayName": "Ian Chong",
      "userId": "10615222189260864195"
     },
     "user_tz": -480
    },
    "id": "DNVftomWfeui",
    "outputId": "01d9eb61-4396-4283-9f64-62e029fd783c"
   },
   "outputs": [
    {
     "ename": "AssertionError",
     "evalue": "Number -42 is less than 0",
     "output_type": "error",
     "traceback": [
      "\u001b[0;31m---------------------------------------------------------------------------\u001b[0m",
      "\u001b[0;31mAssertionError\u001b[0m                            Traceback (most recent call last)",
      "Cell \u001b[0;32mIn[30], line 2\u001b[0m\n\u001b[1;32m      1\u001b[0m number \u001b[38;5;241m=\u001b[39m \u001b[38;5;241m-\u001b[39m\u001b[38;5;241m42\u001b[39m\n\u001b[0;32m----> 2\u001b[0m \u001b[38;5;28;01massert\u001b[39;00m number \u001b[38;5;241m>\u001b[39m \u001b[38;5;241m0\u001b[39m, \u001b[38;5;124mf\u001b[39m\u001b[38;5;124m\"\u001b[39m\u001b[38;5;124mNumber \u001b[39m\u001b[38;5;132;01m{\u001b[39;00mnumber\u001b[38;5;132;01m}\u001b[39;00m\u001b[38;5;124m is less than 0\u001b[39m\u001b[38;5;124m\"\u001b[39m\n",
      "\u001b[0;31mAssertionError\u001b[0m: Number -42 is less than 0"
     ]
    }
   ],
   "source": [
    "number = -42\n",
    "assert number > 0, f\"Number {number} is less than 0\""
   ]
  }
 ],
 "metadata": {
  "colab": {
   "authorship_tag": "ABX9TyMOxG5OwsUy7H39eLx5QdvN",
   "provenance": []
  },
  "kernelspec": {
   "display_name": "Python 3 (ipykernel)",
   "language": "python",
   "name": "python3"
  },
  "language_info": {
   "codemirror_mode": {
    "name": "ipython",
    "version": 3
   },
   "file_extension": ".py",
   "mimetype": "text/x-python",
   "name": "python",
   "nbconvert_exporter": "python",
   "pygments_lexer": "ipython3",
   "version": "3.8.10"
  }
 },
 "nbformat": 4,
 "nbformat_minor": 1
}
