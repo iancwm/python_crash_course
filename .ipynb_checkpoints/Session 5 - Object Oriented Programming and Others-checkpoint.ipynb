{
 "cells": [
  {
   "cell_type": "markdown",
   "metadata": {
    "id": "zqrss-fsSBpB"
   },
   "source": [
    "<h1><font color='blue'>Session 5 - OOP and Other Concepts</font></h1>\n",
    "\n",
    "\"Object Oriented Programming\" is one of the hardest concepts in basic programming to get and requires a sound understanding of all the prior concepts. That said, we can go through the basics here so you at least know what a Class is. This will help a lot when you actually go through it in class.\n",
    "\n",
    "![](https://media.geeksforgeeks.org/wp-content/uploads/20220608174843/OOPS1-282x300.png)\n",
    "\n",
    "# Section 1 - OOP\n",
    "\n",
    "Object-oriented programming is a programming paradigm that provides a means of structuring programs so that properties and behaviors are bundled into individual objects.\n",
    "\n",
    "For instance, an object could represent a person with:\n",
    "- properties (attributes): \n",
    "    - name\n",
    "    - age\n",
    "    - address \n",
    "- behaviors (methods):\n",
    "    - walk()\n",
    "    - talk()\n",
    "    - breathe()\n",
    "    - run() \n",
    "    \n",
    "Put another way, object-oriented programming is an approach for modeling concrete, real-world things, like cars, as well as relations between things, like companies and employees, students and teachers, and so on. OOP models real-world entities as software objects that have some data associated with them and can perform certain functions.\n",
    "\n",
    "![](https://media.geeksforgeeks.org/wp-content/uploads/Blank-Diagram-Page-1-3.png)\n",
    "\n",
    "The blue print for an object is the Class. A Class determines the basic properties and functions that an object would have. An Object is simply an instance of a Class. We can have multiple Objects all of the same Class, but they are separate instances and keep track of their own data. In the example above, `Dog` is the Class. `Dog 1` is an instance of the `Dog` Class, along with `Dog 2`, `3` and `4`.\n",
    "\n",
    "Let's make a simple program consisting of a `Soldier` class and a `Weapon` class. Our `Soldier` has a `Name`, some `HP` and `Accuracy` stats, and `arms` himself with a `Weapon` . The `Soldier` can `attack` an enemy `Soldier`, and rolls a random normal distribution. If the value is lower than the `Accuracy`, he misses. Otherwise, the enemy Soldier gets `wound`. If `Soldier` HP decreases below zero, his `status` is now \"Dead\".\n",
    "\n",
    "Put into Python terms, the `Soldier` Class has the following attributes:\n",
    "- `Name`\n",
    "- `HP`\n",
    "- `Accuracy`\n",
    "\n",
    "It also has the following methods:\n",
    "- `arm`\n",
    "- `attack`\n",
    "- `wound`\n",
    "\n",
    "Our `Weapon` Class has `Damage` and `Accuracy` attributes."
   ]
  },
  {
   "cell_type": "code",
   "execution_count": 1,
   "metadata": {
    "id": "m3y6SvqCR2J1"
   },
   "outputs": [],
   "source": [
    "from random import random\n",
    "\n",
    "class Soldier:\n",
    "    \n",
    "    def __init__(self,Name, HP, Accuracy):\n",
    "        # Also called the constructor. It is a special method that is run when an instance of a class is created.\n",
    "        # It will take the arguments entered into the class when you initialize it.\n",
    "        self.Name = Name\n",
    "        self.HP = HP        \n",
    "        self.Accuracy = Accuracy\n",
    "        self.Status = \"Alive\"\n",
    "        print(f\"Soldier Name:{self.Name} has entered the fray.\\nHP:{self.HP}\\nAccuracy:{self.Accuracy}\")\n",
    "\n",
    "    \n",
    "    def arm(self,Weapon):\n",
    "        # Arm the Soldier with a Weapon\n",
    "        self.Weapon = Weapon\n",
    "        print(f\"{self.Name} locks and loads his {self.Weapon.Name}\")\n",
    "\n",
    "    def attack(self,Enemy):\n",
    "        # Attack an enemy Soldier\n",
    "        if self.Status == \"Dead\":\n",
    "            print(f\"{self.Name} is dead. Cannot attack.\")\n",
    "        else:\n",
    "            print(f\"{self.Name} aims his {self.Weapon.Name} at {Enemy.Name}\")\n",
    "            roll = random()\n",
    "            print(f\"{self.Name} rolls {roll}\")\n",
    "            if roll < self.Accuracy:                \n",
    "                Enemy.wound(self.Weapon.Damage)\n",
    "                \n",
    "            else:\n",
    "                print(f\"{self.Name} missed a shot.\")\n",
    "    \n",
    "    def wound(self,damage):\n",
    "        # Reduce HP by specified amount\n",
    "        print(f\"{self.Name} takes {damage} damage\")\n",
    "        self.HP-=damage\n",
    "        if self.HP <=0:\n",
    "            self.Status = \"Dead\"\n",
    "            print(f\"{self.Name} bites the dust\")\n",
    "            \n",
    "\n",
    "class Weapon:\n",
    "    def __init__(self,Name,Damage):\n",
    "        self.Name=Name\n",
    "        self.Damage=Damage"
   ]
  },
  {
   "cell_type": "code",
   "execution_count": 2,
   "metadata": {
    "colab": {
     "base_uri": "https://localhost:8080/"
    },
    "executionInfo": {
     "elapsed": 10,
     "status": "ok",
     "timestamp": 1669215683675,
     "user": {
      "displayName": "Ian Chong",
      "userId": "10615222189260864195"
     },
     "user_tz": -480
    },
    "id": "1_Jnp7Y9WN9C",
    "outputId": "a31c24ab-21c7-4d8a-eb5d-e896cb644cb3"
   },
   "outputs": [
    {
     "name": "stdout",
     "output_type": "stream",
     "text": [
      "Soldier Name:Richard has entered the fray.\n",
      "HP:100\n",
      "Accuracy:0.7\n",
      "Richard locks and loads his M16\n",
      "Soldier Name:UberMensch has entered the fray.\n",
      "HP:1000\n",
      "Accuracy:0.9\n",
      "UberMensch locks and loads his Doom BFG\n"
     ]
    }
   ],
   "source": [
    "Richard = Soldier(Name='Richard',HP=100,Accuracy=0.7)\n",
    "M16 = Weapon(Name=\"M16\",Damage=30)\n",
    "Richard.arm(M16)\n",
    "\n",
    "Jason = Soldier(Name='UberMensch',HP=1000, Accuracy=0.9)\n",
    "BFG = Weapon(Name=\"Doom BFG\",Damage=9000)\n",
    "Jason.arm(BFG)"
   ]
  },
  {
   "cell_type": "code",
   "execution_count": 3,
   "metadata": {
    "colab": {
     "base_uri": "https://localhost:8080/"
    },
    "executionInfo": {
     "elapsed": 10,
     "status": "ok",
     "timestamp": 1669215683675,
     "user": {
      "displayName": "Ian Chong",
      "userId": "10615222189260864195"
     },
     "user_tz": -480
    },
    "id": "bpmfmwXKXNzr",
    "outputId": "b7fe8d0e-164e-4e62-cc3f-cf8e0c39c8fd"
   },
   "outputs": [
    {
     "name": "stdout",
     "output_type": "stream",
     "text": [
      "UberMensch aims his Doom BFG at Richard\n",
      "UberMensch rolls 0.8756244440289468\n",
      "Richard takes 9000 damage\n",
      "Richard bites the dust\n"
     ]
    }
   ],
   "source": [
    "Jason.attack(Richard)"
   ]
  },
  {
   "cell_type": "code",
   "execution_count": 4,
   "metadata": {
    "colab": {
     "base_uri": "https://localhost:8080/"
    },
    "executionInfo": {
     "elapsed": 8,
     "status": "ok",
     "timestamp": 1669215683675,
     "user": {
      "displayName": "Ian Chong",
      "userId": "10615222189260864195"
     },
     "user_tz": -480
    },
    "id": "xklNyPCfX5s9",
    "outputId": "fce2d227-0640-48b8-9f5f-ef6afe60cd77"
   },
   "outputs": [
    {
     "name": "stdout",
     "output_type": "stream",
     "text": [
      "Richard is dead. Cannot attack.\n"
     ]
    }
   ],
   "source": [
    "Richard.attack(Jason)"
   ]
  },
  {
   "cell_type": "markdown",
   "metadata": {
    "id": "EL0_Ee4zv1w_"
   },
   "source": [
    "## 1.1 - Attributes\n",
    "\n",
    "We need to distinguish between Class attributes and Instance attributes. If an attribute is common to the whole Class and doesn't change with the instances, its a Class attribute. If its an attribute which differs among the instances i.e. you set the attribute when you initialize the instance like the HP in the Soldier Class above, its an Instance Attribute. \n",
    "\n",
    "You can access attributes of an instance/object directly simply by calling it."
   ]
  },
  {
   "cell_type": "code",
   "execution_count": 5,
   "metadata": {
    "colab": {
     "base_uri": "https://localhost:8080/"
    },
    "executionInfo": {
     "elapsed": 7,
     "status": "ok",
     "timestamp": 1669215683675,
     "user": {
      "displayName": "Ian Chong",
      "userId": "10615222189260864195"
     },
     "user_tz": -480
    },
    "id": "ja_RhXdxvpC2",
    "outputId": "47135763-fcca-4db8-b647-8306c85f0dde"
   },
   "outputs": [
    {
     "data": {
      "text/plain": [
       "-8900"
      ]
     },
     "execution_count": 5,
     "metadata": {},
     "output_type": "execute_result"
    }
   ],
   "source": [
    "Richard.HP"
   ]
  },
  {
   "cell_type": "code",
   "execution_count": 6,
   "metadata": {
    "colab": {
     "base_uri": "https://localhost:8080/"
    },
    "executionInfo": {
     "elapsed": 6,
     "status": "ok",
     "timestamp": 1669215683675,
     "user": {
      "displayName": "Ian Chong",
      "userId": "10615222189260864195"
     },
     "user_tz": -480
    },
    "id": "br52hEzJwbx_",
    "outputId": "6c5b3ae4-5722-4fcd-fd3f-1d47543a8b73"
   },
   "outputs": [
    {
     "data": {
      "text/plain": [
       "30"
      ]
     },
     "execution_count": 6,
     "metadata": {},
     "output_type": "execute_result"
    }
   ],
   "source": [
    "M16.Damage"
   ]
  },
  {
   "cell_type": "markdown",
   "metadata": {
    "id": "BYb_-OKlwjwJ"
   },
   "source": [
    "Not recommended but you can modify the values of your attributes simply by assigning them."
   ]
  },
  {
   "cell_type": "code",
   "execution_count": 7,
   "metadata": {
    "colab": {
     "base_uri": "https://localhost:8080/"
    },
    "executionInfo": {
     "elapsed": 7,
     "status": "ok",
     "timestamp": 1669215683676,
     "user": {
      "displayName": "Ian Chong",
      "userId": "10615222189260864195"
     },
     "user_tz": -480
    },
    "id": "oKI3aI9sweyn",
    "outputId": "c3acda0f-9610-41c0-baf8-4b4ac5ecf885"
   },
   "outputs": [
    {
     "data": {
      "text/plain": [
       "50"
      ]
     },
     "execution_count": 7,
     "metadata": {},
     "output_type": "execute_result"
    }
   ],
   "source": [
    "M16.Damage = 50\n",
    "M16.Damage"
   ]
  },
  {
   "cell_type": "markdown",
   "metadata": {
    "id": "1MxTdxRIwsV5"
   },
   "source": [
    "## 1.2 - Methods\n",
    "\n",
    "Methods are functions specific to the Object. You cannot call them outside of the object. However, you can assign a function object to a class. Let's try defining a `yell()` function and then adding it to a Class.\n",
    "\n",
    "Note: Remember, the function name without the parentheses is the function object e.g. `yell`. It is only a function call if you add the parentheses e.g. `yell()`"
   ]
  },
  {
   "cell_type": "code",
   "execution_count": 8,
   "metadata": {
    "colab": {
     "base_uri": "https://localhost:8080/"
    },
    "executionInfo": {
     "elapsed": 6,
     "status": "ok",
     "timestamp": 1669215683676,
     "user": {
      "displayName": "Ian Chong",
      "userId": "10615222189260864195"
     },
     "user_tz": -480
    },
    "id": "cpETlJ5lwili",
    "outputId": "805745e4-b4e0-4308-9c4d-dd9df0f02c4e"
   },
   "outputs": [
    {
     "name": "stdout",
     "output_type": "stream",
     "text": [
      "EDF! EDF! EDF!\n"
     ]
    }
   ],
   "source": [
    "def yell():\n",
    "    print(\"EDF! EDF! EDF!\")\n",
    "\n",
    "Jason.shout = yell\n",
    "Jason.shout()"
   ]
  },
  {
   "cell_type": "markdown",
   "metadata": {},
   "source": [
    "Richard has no shout because you have not defined it when the class was defined!"
   ]
  },
  {
   "cell_type": "code",
   "execution_count": 9,
   "metadata": {},
   "outputs": [
    {
     "ename": "AttributeError",
     "evalue": "'Soldier' object has no attribute 'shout'",
     "output_type": "error",
     "traceback": [
      "\u001b[0;31m---------------------------------------------------------------------------\u001b[0m",
      "\u001b[0;31mAttributeError\u001b[0m                            Traceback (most recent call last)",
      "\u001b[0;32m<ipython-input-9-45fb01cd55ac>\u001b[0m in \u001b[0;36m<module>\u001b[0;34m\u001b[0m\n\u001b[0;32m----> 1\u001b[0;31m \u001b[0mRichard\u001b[0m\u001b[0;34m.\u001b[0m\u001b[0mshout\u001b[0m\u001b[0;34m(\u001b[0m\u001b[0;34m)\u001b[0m\u001b[0;34m\u001b[0m\u001b[0;34m\u001b[0m\u001b[0m\n\u001b[0m",
      "\u001b[0;31mAttributeError\u001b[0m: 'Soldier' object has no attribute 'shout'"
     ]
    }
   ],
   "source": [
    "Richard.shout()"
   ]
  },
  {
   "cell_type": "markdown",
   "metadata": {
    "id": "7PbHKnvy1Iul"
   },
   "source": [
    "# Section 2 - File I/O \n",
    "\n",
    "See [Programiz](https://www.programiz.com/python-programming/file-operation) for more in-depth examples.\n",
    "\n",
    "What we've done so far is manually creating data and performing operations in memory. It's great for learning the basics. However, you often need to: \n",
    "- output your computations to a file for storage\n",
    "- read files to get inputs for your algorithms\n",
    "- automate processes\n",
    "\n",
    "Run the following code if you're running on Colab only, as Google colab's computers aren't directly linked to your Google Drive unless you set it up. You will need login in the pop up widow to authorize Colab to read your Google Drive."
   ]
  },
  {
   "cell_type": "code",
   "execution_count": 9,
   "metadata": {
    "colab": {
     "base_uri": "https://localhost:8080/"
    },
    "executionInfo": {
     "elapsed": 2665,
     "status": "ok",
     "timestamp": 1669215686336,
     "user": {
      "displayName": "Ian Chong",
      "userId": "10615222189260864195"
     },
     "user_tz": -480
    },
    "id": "5utDK3Wy12R5",
    "outputId": "394044bd-c11b-419a-d1f7-852c855bbcbb"
   },
   "outputs": [],
   "source": [
    "import os\n",
    "\n",
    "try:\n",
    "    from google.colab import drive\n",
    "\n",
    "    drive.mount('/content/drive')\n",
    "    os.chdir('/content/drive/My Drive/Python Crash Course')\n",
    "\n",
    "except:\n",
    "    pass"
   ]
  },
  {
   "cell_type": "markdown",
   "metadata": {
    "id": "TVQtXfj6T7cq"
   },
   "source": [
    "Run this code to create a folder called data if it does not exist."
   ]
  },
  {
   "cell_type": "code",
   "execution_count": 10,
   "metadata": {
    "colab": {
     "base_uri": "https://localhost:8080/"
    },
    "executionInfo": {
     "elapsed": 9,
     "status": "ok",
     "timestamp": 1669215686336,
     "user": {
      "displayName": "Ian Chong",
      "userId": "10615222189260864195"
     },
     "user_tz": -480
    },
    "id": "sa_KlUnxPXvK",
    "outputId": "5b63199e-dad8-4236-f62e-0b6b4b72d21c"
   },
   "outputs": [
    {
     "name": "stdout",
     "output_type": "stream",
     "text": [
      "removed './data/BFG.json'\r\n",
      "removed './data/M16.json'\r\n",
      "removed './data/jason.json'\r\n",
      "removed './data/myfile.txt'\r\n",
      "removed './data/pokemon.csv'\r\n",
      "removed './data/richard.json'\r\n"
     ]
    }
   ],
   "source": [
    "if not os.path.exists(\"data\"):\n",
    "    os.makedirs(\"data\")\n",
    "\n",
    "!rm -v ./data/*"
   ]
  },
  {
   "cell_type": "markdown",
   "metadata": {
    "id": "F0VTt7CVT--9"
   },
   "source": [
    "## 2.1 - Plaintext files\n",
    "\n",
    "Here we will create a simple text file with a few lines of text and save it to `myfile.txt`."
   ]
  },
  {
   "cell_type": "code",
   "execution_count": 11,
   "metadata": {
    "id": "kftyeGUU1MJw"
   },
   "outputs": [],
   "source": [
    "with open(\"data/myfile.txt\", \"x\") as f:\n",
    "    for i in range(10):\n",
    "        f.write(f\"This is Line {i}\\n\")"
   ]
  },
  {
   "cell_type": "markdown",
   "metadata": {
    "id": "465s9QBOUJe9"
   },
   "source": [
    "This code reads the file `myfile.txt` and outputs the lines to a list."
   ]
  },
  {
   "cell_type": "code",
   "execution_count": 12,
   "metadata": {
    "colab": {
     "base_uri": "https://localhost:8080/"
    },
    "executionInfo": {
     "elapsed": 7,
     "status": "ok",
     "timestamp": 1669215686337,
     "user": {
      "displayName": "Ian Chong",
      "userId": "10615222189260864195"
     },
     "user_tz": -480
    },
    "id": "qkp-A5yK2hnB",
    "outputId": "0044a6bb-93cc-40df-e889-5571d1775a01"
   },
   "outputs": [
    {
     "data": {
      "text/plain": [
       "['This is Line 0\\n',\n",
       " 'This is Line 1\\n',\n",
       " 'This is Line 2\\n',\n",
       " 'This is Line 3\\n',\n",
       " 'This is Line 4\\n',\n",
       " 'This is Line 5\\n',\n",
       " 'This is Line 6\\n',\n",
       " 'This is Line 7\\n',\n",
       " 'This is Line 8\\n',\n",
       " 'This is Line 9\\n']"
      ]
     },
     "execution_count": 12,
     "metadata": {},
     "output_type": "execute_result"
    }
   ],
   "source": [
    "with open(\"data/myfile.txt\", \"r\") as f:\n",
    "    file_data=f.readlines()\n",
    "\n",
    "file_data"
   ]
  },
  {
   "cell_type": "markdown",
   "metadata": {
    "id": "8DDb1AFAOhHF"
   },
   "source": [
    "A lot of the time there will be special characters when you read a file. You can get rid of them with the `.strip()` method."
   ]
  },
  {
   "cell_type": "code",
   "execution_count": 13,
   "metadata": {
    "colab": {
     "base_uri": "https://localhost:8080/"
    },
    "executionInfo": {
     "elapsed": 5,
     "status": "ok",
     "timestamp": 1669215686337,
     "user": {
      "displayName": "Ian Chong",
      "userId": "10615222189260864195"
     },
     "user_tz": -480
    },
    "id": "modjYP4UO2Lh",
    "outputId": "f3ff7772-fa65-4a0e-f119-6c84aa06fce1"
   },
   "outputs": [
    {
     "data": {
      "text/plain": [
       "['This is Line 0',\n",
       " 'This is Line 1',\n",
       " 'This is Line 2',\n",
       " 'This is Line 3',\n",
       " 'This is Line 4',\n",
       " 'This is Line 5',\n",
       " 'This is Line 6',\n",
       " 'This is Line 7',\n",
       " 'This is Line 8',\n",
       " 'This is Line 9']"
      ]
     },
     "execution_count": 13,
     "metadata": {},
     "output_type": "execute_result"
    }
   ],
   "source": [
    "file_data_cleaned = list(map(lambda x: x.strip(\"\\n\"),file_data))\n",
    "file_data_cleaned"
   ]
  },
  {
   "cell_type": "markdown",
   "metadata": {
    "id": "a-X7dd8vKHPp"
   },
   "source": [
    "## 2.2 - JSON\n",
    "\n",
    "The JavaScript Object Notation (or JSON for short) is a universal format for storing data. It is basically like a Python Dictionary. Most web applications on the internet communicate with each other via sending JSON responses.\n",
    "\n",
    "We will use a JSON file to save your character into a file, and that \"load\" it by initializing a Soldier object with the attributes."
   ]
  },
  {
   "cell_type": "code",
   "execution_count": 14,
   "metadata": {
    "id": "7-97BbPw2kc8"
   },
   "outputs": [],
   "source": [
    "import json\n",
    "\n",
    "richard_soldier_json={'Name':'Richard','HP':100,'Accuracy':0.70}\n",
    "jason_soldier_json={'Name':'Jason','HP':1000,'Accuracy':0.90}\n",
    "M16_weapon_json={'Name':'M16','Damage':30}\n",
    "BFG_weapon_json={'Name':'Doom BFG','Damage':9000}\n",
    "\n",
    "folder='data'\n",
    "\n",
    "with open(f\"{folder}/richard.json\", \"w\") as f:\n",
    "    json.dump(richard_soldier_json, f, indent=4)\n",
    "\n",
    "with open(f\"{folder}/jason.json\", \"w\") as f:\n",
    "    json.dump(jason_soldier_json, f, indent=4)\n",
    "\n",
    "with open(f\"{folder}/M16.json\", \"w\") as f:\n",
    "    json.dump(M16_weapon_json, f, indent=4)\n",
    "\n",
    "with open(f\"{folder}/BFG.json\", \"w\") as f:\n",
    "    json.dump(BFG_weapon_json, f, indent=4)"
   ]
  },
  {
   "cell_type": "markdown",
   "metadata": {
    "id": "xy3Ks6f8L0PF"
   },
   "source": [
    "To run command line commands in Jupyter, use an exclamation mark followed by the command. `ls` lists the files in your current working directory (cwd)"
   ]
  },
  {
   "cell_type": "code",
   "execution_count": 15,
   "metadata": {
    "colab": {
     "base_uri": "https://localhost:8080/"
    },
    "executionInfo": {
     "elapsed": 529,
     "status": "ok",
     "timestamp": 1669215686862,
     "user": {
      "displayName": "Ian Chong",
      "userId": "10615222189260864195"
     },
     "user_tz": -480
    },
    "id": "leSF0SAJLFtM",
    "outputId": "9810160a-ad24-41e6-f1db-15e6814e97d1"
   },
   "outputs": [
    {
     "name": "stdout",
     "output_type": "stream",
     "text": [
      "'Python Practice.ipynb'\r\n",
      " README.md\r\n",
      "'Session 1 - Atomic Data Types.ipynb'\r\n",
      "'Session 2 - Atomic Data Structures.ipynb'\r\n",
      "'Session 3 - Flow Control.ipynb'\r\n",
      "'Session 4 - Functional Programming.ipynb'\r\n",
      "'Session 5 - Object Oriented Programming and Others.ipynb'\r\n",
      "'Session 6 - Advanced Topics - Regular Expressions.ipynb'\r\n",
      "'Session 7 - Advanced Topics - Numpy.ipynb'\r\n",
      "'Session 8 - Advanced Topics - pandas.ipynb'\r\n",
      " data\r\n",
      " regex\r\n"
     ]
    }
   ],
   "source": [
    "!ls"
   ]
  },
  {
   "cell_type": "markdown",
   "metadata": {
    "id": "bBnpiqVtMpVV"
   },
   "source": [
    "We will now load the relevant data from JSON files into our program"
   ]
  },
  {
   "cell_type": "code",
   "execution_count": 16,
   "metadata": {
    "id": "GzyXCV0tL-xq"
   },
   "outputs": [],
   "source": [
    "with open(f\"{folder}/richard.json\", 'r') as f:\n",
    "    richard_data = json.load(f)\n",
    "\n",
    "with open(f'{folder}/jason.json', 'r') as f:\n",
    "    jason_data = json.load(f)\n",
    "\n",
    "with open(f'{folder}/M16.json', 'r') as f:\n",
    "    M16_data = json.load(f)\n",
    "\n",
    "with open(f'{folder}/BFG.json', 'r') as f:\n",
    "    BFG_data = json.load(f)"
   ]
  },
  {
   "cell_type": "markdown",
   "metadata": {
    "id": "ZoViTvDlMz4t"
   },
   "source": [
    "We now initialize the classes with keyword arguments"
   ]
  },
  {
   "cell_type": "code",
   "execution_count": 17,
   "metadata": {
    "colab": {
     "base_uri": "https://localhost:8080/"
    },
    "executionInfo": {
     "elapsed": 5,
     "status": "ok",
     "timestamp": 1669215686863,
     "user": {
      "displayName": "Ian Chong",
      "userId": "10615222189260864195"
     },
     "user_tz": -480
    },
    "id": "XCaIWQZhMoF_",
    "outputId": "be5f5359-ede4-441d-b2be-ff90f54565bb"
   },
   "outputs": [
    {
     "name": "stdout",
     "output_type": "stream",
     "text": [
      "Soldier Name:Richard has entered the fray.\n",
      "HP:100\n",
      "Accuracy:0.7\n",
      "Soldier Name:Jason has entered the fray.\n",
      "HP:1000\n",
      "Accuracy:0.9\n",
      "Richard locks and loads his Doom BFG\n",
      "Jason locks and loads his M16\n"
     ]
    }
   ],
   "source": [
    "richard_loaded = Soldier(**richard_data)\n",
    "jason_loaded = Soldier(**jason_data)\n",
    "M16_loaded = Weapon(**M16_data)\n",
    "BFG_loaded = Weapon(**BFG_data)\n",
    "\n",
    "richard_loaded.arm(BFG_loaded)\n",
    "jason_loaded.arm(M16_loaded)"
   ]
  },
  {
   "cell_type": "markdown",
   "metadata": {
    "id": "P9VJYA-4NPGY"
   },
   "source": [
    "Magic! We have programatically created our game from JSON files. We can now edit the files directly, and change the inputs into our program without touching the code!"
   ]
  },
  {
   "cell_type": "code",
   "execution_count": 18,
   "metadata": {
    "colab": {
     "base_uri": "https://localhost:8080/"
    },
    "executionInfo": {
     "elapsed": 4,
     "status": "ok",
     "timestamp": 1669215686863,
     "user": {
      "displayName": "Ian Chong",
      "userId": "10615222189260864195"
     },
     "user_tz": -480
    },
    "id": "jKbz7iwkNJc8",
    "outputId": "ff89f4f9-5029-403f-bf24-562f0f6c6ee2"
   },
   "outputs": [
    {
     "name": "stdout",
     "output_type": "stream",
     "text": [
      "Richard aims his Doom BFG at Jason\n",
      "Richard rolls 0.9760519061112828\n",
      "Richard missed a shot.\n"
     ]
    }
   ],
   "source": [
    "richard_loaded.attack(jason_loaded)"
   ]
  },
  {
   "cell_type": "markdown",
   "metadata": {
    "id": "PRGmw5Uk7ayT"
   },
   "source": [
    "## 2.3 - `requests`\n",
    "\n",
    "Probably the most practical skill you'll learn so far. Another way to get data is to get it directly from the internet! Obviously a more advanced solution would yield more results, but we will be sticking to a basic `requests` GET query. See [Dataquest - Introduction to requests](https://www.dataquest.io/blog/tutorial-an-introduction-to-python-requests-library/) for an in-depth tutorial.\n",
    "\n",
    "We are going to download live taxi data from [data.gov.sg](https://data.gov.sg/dataset/taxi-availability) and visualize it. It will be downloaded in, you guessed it, JSON format!"
   ]
  },
  {
   "cell_type": "code",
   "execution_count": 19,
   "metadata": {
    "id": "RPfaR5JMNbVw"
   },
   "outputs": [],
   "source": [
    "import requests\n",
    "from datetime import datetime\n",
    "\n",
    "now = datetime.now().strftime('%Y-%m-%dT%H:%M:%S')\n",
    "\n",
    "URL = 'https://api.data.gov.sg/v1/transport/taxi-availability'\n",
    "r = requests.get(URL,params={'date_time': now})\n",
    "data=r.json()"
   ]
  },
  {
   "cell_type": "markdown",
   "metadata": {
    "id": "r3hLKEI_-x9M"
   },
   "source": [
    "### 2.3.1 - Data Cleaning\n",
    "\n",
    "As an analytics professional you will spend more time preparing data than you do presenting your analysis. Time to get your hands dirty. Start by exploring the structure of the JSON data you just pulled"
   ]
  },
  {
   "cell_type": "code",
   "execution_count": 20,
   "metadata": {
    "colab": {
     "base_uri": "https://localhost:8080/"
    },
    "executionInfo": {
     "elapsed": 2,
     "status": "ok",
     "timestamp": 1669215687755,
     "user": {
      "displayName": "Ian Chong",
      "userId": "10615222189260864195"
     },
     "user_tz": -480
    },
    "id": "Q3okp6vm8WEv",
    "outputId": "8768af27-5a17-4626-9683-f386f7439ffc"
   },
   "outputs": [
    {
     "data": {
      "text/plain": [
       "dict_keys(['type', 'crs', 'features'])"
      ]
     },
     "execution_count": 20,
     "metadata": {},
     "output_type": "execute_result"
    }
   ],
   "source": [
    "data.keys()"
   ]
  },
  {
   "cell_type": "code",
   "execution_count": 21,
   "metadata": {
    "colab": {
     "base_uri": "https://localhost:8080/"
    },
    "executionInfo": {
     "elapsed": 437,
     "status": "ok",
     "timestamp": 1669215688191,
     "user": {
      "displayName": "Ian Chong",
      "userId": "10615222189260864195"
     },
     "user_tz": -480
    },
    "id": "IR7lzlyF_DL5",
    "outputId": "2de95696-616d-4f55-fb99-66636c52d58c"
   },
   "outputs": [
    {
     "data": {
      "text/plain": [
       "[{'type': 'Feature',\n",
       "  'geometry': {'type': 'MultiPoint',\n",
       "   'coordinates': [[103.62774, 1.26917],\n",
       "    [103.68738, 1.38],\n",
       "    [103.68827895, 1.339565],\n",
       "    [103.688874666667, 1.34104933333333],\n",
       "    [103.69107, 1.3433],\n",
       "    [103.691079, 1.334435],\n",
       "    [103.692149433333, 1.3463984],\n",
       "    [103.693173, 1.344691],\n",
       "    [103.6935, 1.34],\n",
       "    [103.697536433333, 1.35120953333333],\n",
       "    [103.69761, 1.34],\n",
       "    [103.698165, 1.3358715],\n",
       "    [103.70209, 1.34],\n",
       "    [103.70355, 1.34],\n",
       "    [103.704566666667, 1.34399916666667],\n",
       "    [103.70593415, 1.34231333333333],\n",
       "    [103.70645, 1.32151],\n",
       "    [103.707220166667, 1.3446195],\n",
       "    [103.70761, 1.34154],\n",
       "    [103.708144833333, 1.34768183333333],\n",
       "    [103.708165, 1.344844],\n",
       "    [103.7163, 1.35],\n",
       "    [103.716687, 1.32304],\n",
       "    [103.71939, 1.3482],\n",
       "    [103.72057, 1.32773],\n",
       "    [103.72112, 1.34],\n",
       "    [103.7218, 1.33642],\n",
       "    [103.72249, 1.33],\n",
       "    [103.723844833333, 1.32614383333333],\n",
       "    [103.72446, 1.32],\n",
       "    [103.724614266667, 1.37226195],\n",
       "    [103.72516, 1.34511],\n",
       "    [103.7255, 1.35],\n",
       "    [103.72827, 1.35212],\n",
       "    [103.731923833333, 1.34929083333333],\n",
       "    [103.734875233333, 1.34802875],\n",
       "    [103.73597, 1.38],\n",
       "    [103.73621, 1.34],\n",
       "    [103.737731833333, 1.37804216666667],\n",
       "    [103.73906, 1.3203],\n",
       "    [103.73917, 1.35292],\n",
       "    [103.73944, 1.35355],\n",
       "    [103.74013, 1.35],\n",
       "    [103.74026, 1.38],\n",
       "    [103.74077, 1.34],\n",
       "    [103.74087, 1.38],\n",
       "    [103.74193, 1.34483],\n",
       "    [103.74193, 1.35],\n",
       "    [103.742230166667, 1.39369216666667],\n",
       "    [103.7423, 1.38],\n",
       "    [103.74293, 1.33226],\n",
       "    [103.74412, 1.4],\n",
       "    [103.74517, 1.38],\n",
       "    [103.74534, 1.33442],\n",
       "    [103.74589, 1.36389],\n",
       "    [103.74635, 1.40027],\n",
       "    [103.74637, 1.36704],\n",
       "    [103.746668, 1.33140233333333],\n",
       "    [103.74671, 1.30147],\n",
       "    [103.7469, 1.3841],\n",
       "    [103.746959866667, 1.3604304],\n",
       "    [103.74746, 1.39648],\n",
       "    [103.74759, 1.39656],\n",
       "    [103.747776, 1.35769983333333],\n",
       "    [103.74784, 1.36],\n",
       "    [103.748499, 1.40191566666667],\n",
       "    [103.74867, 1.35737],\n",
       "    [103.74873, 1.36564],\n",
       "    [103.748737666667, 1.36137766666667],\n",
       "    [103.74891, 1.31781],\n",
       "    [103.74899, 1.4],\n",
       "    [103.749305, 1.392333],\n",
       "    [103.749488433333, 1.35879376666667],\n",
       "    [103.75044, 1.34699],\n",
       "    [103.75044, 1.35],\n",
       "    [103.75052, 1.36085],\n",
       "    [103.750585316667, 1.35524885],\n",
       "    [103.75086, 1.35964],\n",
       "    [103.751087333333, 1.40063716666667],\n",
       "    [103.7512, 1.35],\n",
       "    [103.75153, 1.35863],\n",
       "    [103.75216, 1.36612],\n",
       "    [103.75233, 1.34901],\n",
       "    [103.754178, 1.346843],\n",
       "    [103.7543, 1.34422],\n",
       "    [103.7549165, 1.38961666666667],\n",
       "    [103.755106, 1.37740916666667],\n",
       "    [103.75552, 1.34108],\n",
       "    [103.7558, 1.43137],\n",
       "    [103.7567, 1.3491],\n",
       "    [103.756779683333, 1.35057461666667],\n",
       "    [103.75715, 1.3857],\n",
       "    [103.75887, 1.31098],\n",
       "    [103.75891, 1.35],\n",
       "    [103.75969, 1.31],\n",
       "    [103.75983, 1.31486],\n",
       "    [103.75985, 1.33488],\n",
       "    [103.75997, 1.31267],\n",
       "    [103.760027383333, 1.3093986],\n",
       "    [103.76027, 1.3852205],\n",
       "    [103.76118, 1.37969],\n",
       "    [103.76124, 1.35908],\n",
       "    [103.761430333333, 1.3846305],\n",
       "    [103.761534616667, 1.42533611666667],\n",
       "    [103.76156, 1.38],\n",
       "    [103.76176, 1.38],\n",
       "    [103.761887933333, 1.32112671666667],\n",
       "    [103.7629, 1.30563],\n",
       "    [103.76436, 1.37628],\n",
       "    [103.764669, 1.37784733333333],\n",
       "    [103.76516, 1.32],\n",
       "    [103.76573375, 1.37241931666667],\n",
       "    [103.76586, 1.32154],\n",
       "    [103.76598, 1.3759],\n",
       "    [103.766001, 1.3218815],\n",
       "    [103.76637, 1.378042],\n",
       "    [103.766733433333, 1.38433453333333],\n",
       "    [103.766862916667, 1.37635876666667],\n",
       "    [103.767480333333, 1.30467683333333],\n",
       "    [103.7677, 1.38],\n",
       "    [103.768529333333, 1.430203],\n",
       "    [103.7692165, 1.44042883333333],\n",
       "    [103.76934, 1.44],\n",
       "    [103.7697, 1.31],\n",
       "    [103.76995, 1.42877],\n",
       "    [103.77005, 1.44648],\n",
       "    [103.77094, 1.31],\n",
       "    [103.77156, 1.41291],\n",
       "    [103.77159, 1.31189],\n",
       "    [103.77196, 1.38],\n",
       "    [103.77243, 1.44758],\n",
       "    [103.772906333333, 1.37514],\n",
       "    [103.77335, 1.44693],\n",
       "    [103.77355, 1.43],\n",
       "    [103.773718633333, 1.42692463333333],\n",
       "    [103.77389, 1.34013],\n",
       "    [103.77438355, 1.37914295],\n",
       "    [103.7745, 1.43347],\n",
       "    [103.775184, 1.37636383333333],\n",
       "    [103.77544, 1.4386],\n",
       "    [103.77549, 1.43],\n",
       "    [103.775854666667, 1.42837466666667],\n",
       "    [103.776, 1.36439],\n",
       "    [103.77616, 1.43],\n",
       "    [103.77649, 1.44],\n",
       "    [103.77767, 1.44],\n",
       "    [103.77844, 1.44],\n",
       "    [103.7788, 1.28626333333333],\n",
       "    [103.77885, 1.37],\n",
       "    [103.77886, 1.43057],\n",
       "    [103.77895, 1.44],\n",
       "    [103.779141416667, 1.43063815],\n",
       "    [103.77927, 1.43],\n",
       "    [103.77945445, 1.43096416666667],\n",
       "    [103.77973, 1.44],\n",
       "    [103.77982, 1.44],\n",
       "    [103.780142833333, 1.439774],\n",
       "    [103.78052, 1.44],\n",
       "    [103.7807, 1.43209],\n",
       "    [103.7807309, 1.43997616666667],\n",
       "    [103.78151, 1.31],\n",
       "    [103.78302, 1.34298],\n",
       "    [103.784097566667, 1.29433673333333],\n",
       "    [103.784187, 1.29496],\n",
       "    [103.78455, 1.29486],\n",
       "    [103.7847, 1.31],\n",
       "    [103.784731, 1.406662],\n",
       "    [103.78528, 1.29342],\n",
       "    [103.78777, 1.44],\n",
       "    [103.78793, 1.29097],\n",
       "    [103.78877, 1.30447],\n",
       "    [103.78882, 1.292],\n",
       "    [103.78891, 1.29774],\n",
       "    [103.78959, 1.29],\n",
       "    [103.79022, 1.43],\n",
       "    [103.790493933333, 1.4337559],\n",
       "    [103.79079, 1.43958],\n",
       "    [103.79124, 1.44475],\n",
       "    [103.791786866667, 1.44202345],\n",
       "    [103.792273666667, 1.34237416666667],\n",
       "    [103.7929401, 1.43389816666667],\n",
       "    [103.79375, 1.27695],\n",
       "    [103.7939245, 1.43165616666667],\n",
       "    [103.79413, 1.43],\n",
       "    [103.79419, 1.43],\n",
       "    [103.79422, 1.45],\n",
       "    [103.79452215, 1.4376401],\n",
       "    [103.79482, 1.45],\n",
       "    [103.795618316667, 1.45440583333333],\n",
       "    [103.79675, 1.43],\n",
       "    [103.7973645, 1.44629283333333],\n",
       "    [103.79775, 1.4304],\n",
       "    [103.79880635, 1.44290178333333],\n",
       "    [103.79932, 1.43441],\n",
       "    [103.79955, 1.44],\n",
       "    [103.799602933333, 1.44113123333333],\n",
       "    [103.80015, 1.29706],\n",
       "    [103.800451033333, 1.30634545],\n",
       "    [103.80082, 1.43713],\n",
       "    [103.80106, 1.43],\n",
       "    [103.80135, 1.30332],\n",
       "    [103.8014, 1.29758],\n",
       "    [103.80233, 1.44],\n",
       "    [103.80259, 1.29169],\n",
       "    [103.80291, 1.29819],\n",
       "    [103.802942533333, 1.29292678333333],\n",
       "    [103.80318, 1.44],\n",
       "    [103.80369, 1.29117],\n",
       "    [103.80375, 1.44233],\n",
       "    [103.80394, 1.43653],\n",
       "    [103.8042, 1.43772],\n",
       "    [103.8042, 1.44327],\n",
       "    [103.80420865, 1.43519008333333],\n",
       "    [103.80442, 1.3141],\n",
       "    [103.804612333333, 1.439952],\n",
       "    [103.8051, 1.45],\n",
       "    [103.80518, 1.44],\n",
       "    [103.80537, 1.28811],\n",
       "    [103.805609216667, 1.28815873333333],\n",
       "    [103.8057, 1.30954],\n",
       "    [103.80607175, 1.41369063333333],\n",
       "    [103.80618, 1.4389],\n",
       "    [103.806767566667, 1.4483201],\n",
       "    [103.80679, 1.32],\n",
       "    [103.80684, 1.28999],\n",
       "    [103.80706, 1.27],\n",
       "    [103.80737, 1.41],\n",
       "    [103.8074, 1.32657],\n",
       "    [103.8075388, 1.2904099],\n",
       "    [103.80754, 1.28637],\n",
       "    [103.80889, 1.27465],\n",
       "    [103.809177833333, 1.29378483333333],\n",
       "    [103.8096, 1.41553],\n",
       "    [103.81105, 1.27],\n",
       "    [103.81167, 1.29],\n",
       "    [103.8121, 1.27531],\n",
       "    [103.8123, 1.27482],\n",
       "    [103.812451416667, 1.28314166666667],\n",
       "    [103.812476416667, 1.27254753333333],\n",
       "    [103.812878166667, 1.28688916666667],\n",
       "    [103.81363, 1.32805],\n",
       "    [103.81386, 1.45],\n",
       "    [103.81419, 1.32],\n",
       "    [103.81448, 1.29],\n",
       "    [103.81521, 1.44999],\n",
       "    [103.81528, 1.4453],\n",
       "    [103.81544, 1.28479],\n",
       "    [103.815796283333, 1.26870788333333],\n",
       "    [103.81591, 1.29401],\n",
       "    [103.81608, 1.4544],\n",
       "    [103.81621, 1.28197],\n",
       "    [103.81637, 1.45],\n",
       "    [103.8167318, 1.45288305],\n",
       "    [103.81678, 1.27844],\n",
       "    [103.81683315, 1.28795826666667],\n",
       "    [103.81708, 1.25633],\n",
       "    [103.81739, 1.29931],\n",
       "    [103.8182, 1.28606],\n",
       "    [103.81846, 1.45042],\n",
       "    [103.8185, 1.25728],\n",
       "    [103.818504666667, 1.28658481666667],\n",
       "    [103.81866, 1.28],\n",
       "    [103.81876, 1.28],\n",
       "    [103.81962, 1.32217],\n",
       "    [103.81962, 1.397],\n",
       "    [103.81976, 1.2651],\n",
       "    [103.81978, 1.26517],\n",
       "    [103.819952933333, 1.28299318333333],\n",
       "    [103.82002, 1.2752],\n",
       "    [103.82024, 1.32782],\n",
       "    [103.82034375, 1.44656921666667],\n",
       "    [103.82124, 1.28552],\n",
       "    [103.8213, 1.27327],\n",
       "    [103.821369966667, 1.28342206666667],\n",
       "    [103.82216, 1.45],\n",
       "    [103.82249, 1.2848],\n",
       "    [103.82293, 1.2743],\n",
       "    [103.82319, 1.45],\n",
       "    [103.82332, 1.27824],\n",
       "    [103.8234, 1.290714],\n",
       "    [103.82365, 1.26541],\n",
       "    [103.8237, 1.2579],\n",
       "    [103.8237, 1.26533],\n",
       "    [103.82372, 1.25822],\n",
       "    [103.823804, 1.25599616666667],\n",
       "    [103.82382, 1.28088],\n",
       "    [103.82383, 1.2807],\n",
       "    [103.82385, 1.27],\n",
       "    [103.8239, 1.44],\n",
       "    [103.823969, 1.284768],\n",
       "    [103.8241, 1.28169],\n",
       "    [103.8241, 1.30361],\n",
       "    [103.82421, 1.28474],\n",
       "    [103.8243, 1.28149],\n",
       "    [103.824318516667, 1.28178006666667],\n",
       "    [103.82433, 1.28148],\n",
       "    [103.82462, 1.25483],\n",
       "    [103.824640666667, 1.27269433333333],\n",
       "    [103.82468975, 1.25556161666667],\n",
       "    [103.82508, 1.27419],\n",
       "    [103.82518, 1.28199],\n",
       "    [103.82524, 1.28483],\n",
       "    [103.82527, 1.27272],\n",
       "    [103.8253, 1.25392],\n",
       "    [103.82533, 1.424],\n",
       "    [103.82536, 1.29129],\n",
       "    [103.8254, 1.254535],\n",
       "    [103.82551, 1.25],\n",
       "    [103.82557, 1.25],\n",
       "    [103.82571, 1.44],\n",
       "    [103.82573, 1.25368],\n",
       "    [103.82573, 1.30469],\n",
       "    [103.82582, 1.28087],\n",
       "    [103.82582, 1.32],\n",
       "    [103.82587, 1.43735],\n",
       "    [103.826, 1.27],\n",
       "    [103.826022, 1.27203],\n",
       "    [103.8261, 1.26731],\n",
       "    [103.82615, 1.27427],\n",
       "    [103.82616, 1.26738],\n",
       "    [103.82621, 1.29089],\n",
       "    [103.8263, 1.27],\n",
       "    [103.8263445, 1.28149133333333],\n",
       "    [103.82678, 1.29],\n",
       "    [103.82712, 1.31247],\n",
       "    [103.82726, 1.29],\n",
       "    [103.82728, 1.32759],\n",
       "    [103.82744, 1.28266],\n",
       "    [103.82744, 1.4],\n",
       "    [103.82751, 1.28677],\n",
       "    [103.827572333333, 1.42872916666667],\n",
       "    [103.82778, 1.2494],\n",
       "    [103.82809, 1.2859],\n",
       "    [103.828098783333, 1.30602625],\n",
       "    [103.82811, 1.27976],\n",
       "    [103.828182083333, 1.38169571666667],\n",
       "    [103.828287266667, 1.28028315],\n",
       "    [103.828385, 1.43352516666667],\n",
       "    [103.8284, 1.43551],\n",
       "    [103.8286, 1.284273],\n",
       "    [103.82862, 1.44],\n",
       "    [103.82884, 1.43],\n",
       "    [103.8288675, 1.42975816666667],\n",
       "    [103.829294933333, 1.42617246666667],\n",
       "    [103.82955, 1.27773],\n",
       "    [103.82961, 1.27861],\n",
       "    [103.82976, 1.28949],\n",
       "    [103.829836166667, 1.28164616666667],\n",
       "    [103.82987, 1.43],\n",
       "    [103.83013, 1.36789],\n",
       "    [103.83029, 1.31],\n",
       "    [103.8305, 1.43746],\n",
       "    [103.8306972, 1.27715358333333],\n",
       "    [103.831, 1.30432],\n",
       "    [103.83106, 1.31246],\n",
       "    [103.831175166667, 1.413102],\n",
       "    [103.83127, 1.27752],\n",
       "    [103.8316, 1.30495],\n",
       "    [103.83193, 1.42],\n",
       "    [103.83213, 1.43],\n",
       "    [103.83248505, 1.28951515],\n",
       "    [103.83257, 1.27381],\n",
       "    [103.8328105, 1.429269],\n",
       "    [103.8329082, 1.30750733333333],\n",
       "    [103.8330835, 1.42274883333333],\n",
       "    [103.83321, 1.31],\n",
       "    [103.83341, 1.30858],\n",
       "    [103.83341855, 1.45368481666667],\n",
       "    [103.833567216667, 1.3088365],\n",
       "    [103.83381, 1.32621],\n",
       "    [103.83382, 1.3041],\n",
       "    [103.83389, 1.37],\n",
       "    [103.83415, 1.3021],\n",
       "    [103.8343, 1.302122],\n",
       "    [103.83453, 1.28275],\n",
       "    [103.83464225, 1.3016162],\n",
       "    [103.83489, 1.28258],\n",
       "    [103.83498, 1.27247],\n",
       "    [103.83514075, 1.36681308333333],\n",
       "    [103.83516, 1.28466],\n",
       "    [103.83518, 1.43],\n",
       "    [103.835262216667, 1.30049576666667],\n",
       "    [103.83536, 1.41889],\n",
       "    [103.83561, 1.30736],\n",
       "    [103.8359, 1.30267],\n",
       "    [103.83613, 1.42],\n",
       "    [103.83615, 1.2829],\n",
       "    [103.83619, 1.30278],\n",
       "    [103.83641, 1.43],\n",
       "    [103.836494883333, 1.30721238333333],\n",
       "    [103.8365, 1.44],\n",
       "    [103.83653, 1.37112],\n",
       "    [103.83653, 1.4296],\n",
       "    [103.8367, 1.2725],\n",
       "    [103.8368, 1.42934],\n",
       "    [103.836831116667, 1.36799345],\n",
       "    [103.83704, 1.37533],\n",
       "    [103.837069, 1.37539383333333],\n",
       "    [103.8371, 1.3],\n",
       "    [103.8371, 1.35],\n",
       "    [103.83714, 1.37],\n",
       "    [103.83744, 1.29475],\n",
       "    [103.83746, 1.34894],\n",
       "    [103.837542383333, 1.37165478333333],\n",
       "    [103.8377295, 1.30152066666667],\n",
       "    [103.837731416667, 1.3014861],\n",
       "    [103.83828, 1.24783],\n",
       "    [103.83834, 1.37],\n",
       "    [103.83834, 1.41899],\n",
       "    [103.83838, 1.44],\n",
       "    [103.83843, 1.35068],\n",
       "    [103.83871, 1.42],\n",
       "    [103.83872, 1.29999],\n",
       "    [103.83879, 1.2902],\n",
       "    [103.83903, 1.28],\n",
       "    [103.83911, 1.34],\n",
       "    [103.83935, 1.27951],\n",
       "    [103.839506833333, 1.43246883333333],\n",
       "    [103.83979, 1.32885],\n",
       "    [103.83984, 1.41666],\n",
       "    [103.83998, 1.30655],\n",
       "    [103.840233166667, 1.38188566666667],\n",
       "    [103.8402819, 1.37426301666667],\n",
       "    [103.840343166667, 1.3761335],\n",
       "    [103.84048, 1.42203],\n",
       "    [103.84053, 1.42447],\n",
       "    [103.840571833333, 1.37887166666667],\n",
       "    [103.8406545, 1.42771383333333],\n",
       "    [103.8407335, 1.35278183333333],\n",
       "    [103.84082, 1.28772],\n",
       "    [103.84083, 1.42191],\n",
       "    [103.84092, 1.2782],\n",
       "    [103.84093525, 1.38021185],\n",
       "    [103.8409746, 1.38018763333333],\n",
       "    [103.84102, 1.32],\n",
       "    [103.8411795, 1.36710916666667],\n",
       "    [103.84121, 1.29254],\n",
       "    [103.84141, 1.30056],\n",
       "    [103.841549216667, 1.27870358333333],\n",
       "    [103.841685233333, 1.30002618333333],\n",
       "    [103.84169, 1.28181],\n",
       "    [103.841691833333, 1.28757396666667],\n",
       "    [103.84176, 1.27549],\n",
       "    [103.8418725, 1.41938916666667],\n",
       "    [103.84188, 1.32564],\n",
       "    [103.84192, 1.31828],\n",
       "    [103.84224, 1.28516],\n",
       "    [103.84242, 1.24648],\n",
       "    [103.84255, 1.31118],\n",
       "    [103.84289, 1.33143],\n",
       "    [103.84305, 1.32843],\n",
       "    [103.84308, 1.31101],\n",
       "    [103.84309, 1.36367],\n",
       "    [103.84309, 1.42673],\n",
       "    [103.84313, 1.28395],\n",
       "    [103.843634133333, 1.32000033333333],\n",
       "    [103.8437, 1.38],\n",
       "    [103.84378, 1.31635],\n",
       "    [103.84385, 1.31853],\n",
       "    [103.843917, 1.37868216666667],\n",
       "    [103.84397, 1.41737],\n",
       "    [103.84411, 1.37033],\n",
       "    [103.84424, 1.28504],\n",
       "    [103.84425, 1.31755],\n",
       "    [103.8445, 1.368019],\n",
       "    [103.844516366667, 1.2995336],\n",
       "    [103.844556, 1.280922],\n",
       "    [103.84461, 1.31839],\n",
       "    [103.84498, 1.3127],\n",
       "    [103.844990116667, 1.36857031666667],\n",
       "    [103.8450036, 1.4186302],\n",
       "    [103.845044, 1.285125],\n",
       "    [103.84515, 1.28641],\n",
       "    [103.84533, 1.31422],\n",
       "    [103.845558333333, 1.3196905],\n",
       "    [103.845728633333, 1.3409613],\n",
       "    [103.84573, 1.4368],\n",
       "    [103.84574, 1.42],\n",
       "    [103.84583, 1.28],\n",
       "    [103.84597, 1.341],\n",
       "    [103.84605, 1.3],\n",
       "    [103.84617, 1.28882],\n",
       "    [103.84626, 1.33616],\n",
       "    [103.84644, 1.37347],\n",
       "    [103.84664, 1.42],\n",
       "    [103.84684, 1.42],\n",
       "    [103.84705, 1.3],\n",
       "    [103.84707, 1.42],\n",
       "    [103.8471, 1.34798],\n",
       "    [103.84718, 1.30861],\n",
       "    [103.84719, 1.34],\n",
       "    [103.847310083333, 1.37355081666667],\n",
       "    [103.84738115, 1.3092758],\n",
       "    [103.84752, 1.37],\n",
       "    [103.847590766667, 1.42686948333333],\n",
       "    [103.84769, 1.34092],\n",
       "    [103.84795, 1.28],\n",
       "    [103.84804, 1.33608],\n",
       "    [103.84806, 1.29],\n",
       "    [103.84806, 1.3106],\n",
       "    [103.84813, 1.28457],\n",
       "    [103.848175583333, 1.38393923333333],\n",
       "    [103.8483, 1.38467],\n",
       "    [103.848315666667, 1.38447616666667],\n",
       "    [103.8483305, 1.4234225],\n",
       "    [103.848419983333, 1.3850225],\n",
       "    [103.848477333333, 1.384481],\n",
       "    [103.84852, 1.39],\n",
       "    [103.84857, 1.42],\n",
       "    [103.84871, 1.3],\n",
       "    [103.848721133333, 1.38507333333333],\n",
       "    [103.848793366667, 1.38480875],\n",
       "    [103.848803483333, 1.34247886666667],\n",
       "    [103.848808066667, 1.38521661666667],\n",
       "    [103.84888, 1.34998],\n",
       "    [103.84895, 1.33265],\n",
       "    [103.84906, 1.34],\n",
       "    [103.84914, 1.31904],\n",
       "    [103.849231333333, 1.383895],\n",
       "    [103.8492585, 1.38441416666667],\n",
       "    [103.8493, 1.29799],\n",
       "    [103.8493064, 1.38418041666667],\n",
       "    [103.84934, 1.3],\n",
       "    [103.84934, 1.33415],\n",
       "    [103.849344, 1.38397366666667],\n",
       "    [103.84942, 1.42862],\n",
       "    [103.84951, 1.32364],\n",
       "    [103.849631833333, 1.3841865],\n",
       "    [103.84968, 1.37],\n",
       "    [103.849894966667, 1.30703475],\n",
       "    [103.84991, 1.31461],\n",
       "    [103.85003, 1.3031],\n",
       "    [103.850167833333, 1.30396133333333],\n",
       "    [103.85033, 1.34],\n",
       "    [103.85045, 1.30443],\n",
       "    [103.8508594, 1.31938056666667],\n",
       "    [103.85092, 1.29495],\n",
       "    [103.851701233333, 1.35947818333333],\n",
       "    [103.85173, 1.29545],\n",
       "    [103.85175, 1.37],\n",
       "    [103.85182, 1.36961],\n",
       "    [103.85188, 1.29668],\n",
       "    [103.85191, 1.28251],\n",
       "    [103.852, 1.28244],\n",
       "    [103.852102, 1.29358081666667],\n",
       "    [103.85211, 1.34],\n",
       "    [103.85221, 1.29968],\n",
       "    [103.85249, 1.28629],\n",
       "    [103.85266, 1.39662],\n",
       "    [103.85267, 1.33926],\n",
       "    [103.852756383333, 1.33415396666667],\n",
       "    [103.852781, 1.310927],\n",
       "    [103.85283, 1.29976],\n",
       "    [103.85284, 1.33],\n",
       "    [103.853101166667, 1.3646395],\n",
       "    [103.853192166667, 1.30947116666667],\n",
       "    [103.8532, 1.29517],\n",
       "    [103.85354, 1.34975],\n",
       "    [103.85359, 1.31962],\n",
       "    [103.85368, 1.36244483333333],\n",
       "    [103.8537, 1.28583],\n",
       "    [103.85382, 1.32409],\n",
       "    [103.85395, 1.31448],\n",
       "    [103.85395, 1.32915],\n",
       "    [103.853966, 1.325015],\n",
       "    [103.854015166667, 1.30262],\n",
       "    [103.85412, 1.36],\n",
       "    [103.85412, 1.36233],\n",
       "    [103.8541346, 1.36854185],\n",
       "    [103.85415, 1.31005],\n",
       "    [103.85435, 1.36],\n",
       "    [103.8544, 1.36294],\n",
       "    [103.85441, 1.31872],\n",
       "    [103.85455, 1.36846],\n",
       "    [103.854554883333, 1.30663525],\n",
       "    [103.85457, 1.36085],\n",
       "    [103.85467, 1.32926],\n",
       "    [103.854760566667, 1.32183791666667],\n",
       "    [103.8547981, 1.34117413333333],\n",
       "    [103.85504, 1.29192],\n",
       "    [103.85505, 1.31],\n",
       "    [103.8551, 1.29116],\n",
       "    [103.85519, 1.34113],\n",
       "    [103.85531, 1.34],\n",
       "    [103.85533, 1.33646],\n",
       "    [103.855574233333, 1.3666568],\n",
       "    [103.85565, 1.33348],\n",
       "    [103.85566, 1.3456],\n",
       "    [103.8558, 1.33592],\n",
       "    [103.855842333333, 1.3660815],\n",
       "    [103.856080933333, 1.37586101666667],\n",
       "    [103.85613, 1.32],\n",
       "    [103.8561655, 1.30430166666667],\n",
       "    [103.85619, 1.37],\n",
       "    [103.85633, 1.2775],\n",
       "    [103.85646, 1.30332],\n",
       "    [103.856518733333, 1.32431706666667],\n",
       "    [103.856607, 1.303266],\n",
       "    [103.85661, 1.34],\n",
       "    [103.85664, 1.34],\n",
       "    [103.856999666667, 1.31930533333333],\n",
       "    [103.85719245, 1.37034545],\n",
       "    [103.85728, 1.30249],\n",
       "    [103.85733, 1.31],\n",
       "    [103.85737, 1.34314],\n",
       "    [103.85743, 1.30243],\n",
       "    [103.857464333333, 1.362321],\n",
       "    [103.85748, 1.28969],\n",
       "    [103.85761, 1.31249],\n",
       "    [103.8577, 1.32],\n",
       "    [103.85772, 1.32],\n",
       "    [103.857911633333, 1.32443681666667],\n",
       "    [103.858052, 1.302187],\n",
       "    [103.858121, 1.38108648333333],\n",
       "    [103.85822, 1.33888],\n",
       "    [103.858523183333, 1.32479775],\n",
       "    [103.85867, 1.37],\n",
       "    [103.8587, 1.33906],\n",
       "    [103.85878, 1.3048],\n",
       "    [103.859, 1.29126],\n",
       "    [103.8591, 1.28179],\n",
       "    [103.859177166667, 1.29124616666667],\n",
       "    [103.859350033333, 1.31593776666667],\n",
       "    [103.859522433333, 1.36595663333333],\n",
       "    [103.85955, 1.26679],\n",
       "    [103.8596, 1.27047],\n",
       "    [103.85968, 1.29145],\n",
       "    [103.85968905, 1.3023131],\n",
       "    [103.85973, 1.27052],\n",
       "    [103.85985, 1.31123],\n",
       "    [103.85991, 1.31],\n",
       "    [103.859979333333, 1.307768],\n",
       "    [103.86, 1.28312],\n",
       "    [103.86027, 1.27066133333333],\n",
       "    [103.86028, 1.2833],\n",
       "    [103.86042, 1.30445],\n",
       "    [103.86045, 1.29141],\n",
       "    [103.8605, 1.30436],\n",
       "    [103.86058, 1.29227],\n",
       "    [103.86066, 1.29],\n",
       "    [103.86067, 1.29362],\n",
       "    [103.86067, 1.31369],\n",
       "    [103.860784, 1.288097],\n",
       "    [103.86091, 1.28479],\n",
       "    [103.86092, 1.28976],\n",
       "    [103.86132, 1.28473],\n",
       "    [103.86162, 1.30988],\n",
       "    [103.8618, 1.31978],\n",
       "    [103.86189, 1.27058],\n",
       "    [103.86196, 1.30222],\n",
       "    [103.86267, 1.27665],\n",
       "    [103.862819316667, 1.32480726666667],\n",
       "    [103.8628985, 1.30776883333333],\n",
       "    [103.86298, 1.31304],\n",
       "    [103.86314, 1.35536],\n",
       "    [103.86322, 1.30081],\n",
       "    [103.8633, 1.3],\n",
       "    [103.863344333333, 1.33483038333333],\n",
       "    [103.86337, 1.30209],\n",
       "    [103.86355, 1.30603],\n",
       "    [103.86358, 1.28992],\n",
       "    [103.8638, 1.32],\n",
       "    [103.864143183333, 1.29391455],\n",
       "    [103.86458, 1.3],\n",
       "    [103.86490535, 1.32304701666667],\n",
       "    [103.86516, 1.35055],\n",
       "    [103.86573, 1.28149],\n",
       "    [103.86589, 1.32404],\n",
       "    [103.8670185, 1.3542805],\n",
       "    [103.86752, 1.35379],\n",
       "    [103.86753, 1.35163],\n",
       "    [103.86754, 1.35],\n",
       "    [103.86838, 1.35361],\n",
       "    [103.86877, 1.38],\n",
       "    [103.868982833333, 1.3312595],\n",
       "    [103.86931, 1.32],\n",
       "    [103.86935, 1.33],\n",
       "    [103.86935, 1.37],\n",
       "    [103.86947, 1.33],\n",
       "    [103.86959125, 1.37268771666667],\n",
       "    [103.869952666667, 1.35444616666667],\n",
       "    [103.87001, 1.35],\n",
       "    [103.87002, 1.35],\n",
       "    [103.87033, 1.36998],\n",
       "    [103.870557483333, 1.3230888],\n",
       "    [103.870597233333, 1.40422323333333],\n",
       "    [103.87078, 1.36],\n",
       "    [103.8708, 1.30594],\n",
       "    [103.87096, 1.34],\n",
       "    [103.870991866667, 1.32101791666667],\n",
       "    [103.8711627, 1.31435685],\n",
       "    [103.8713367, 1.36868371666667],\n",
       "    [103.87134, 1.32],\n",
       "    [103.871515166667, 1.39058783333333],\n",
       "    [103.87162, 1.33403],\n",
       "    [103.87194, 1.37],\n",
       "    [103.8721, 1.315327],\n",
       "    [103.87214, 1.31186],\n",
       "    [103.87221, 1.33],\n",
       "    [103.87222, 1.31],\n",
       "    [103.87256, 1.31069],\n",
       "    [103.872742783333, 1.36684106666667],\n",
       "    [103.87299, 1.39513],\n",
       "    [103.87302, 1.36718],\n",
       "    [103.873022883333, 1.3687263],\n",
       "    [103.87328, 1.31],\n",
       "    [103.87333, 1.29543],\n",
       "    [103.873486166667, 1.3943725],\n",
       "    [103.87367, 1.35028],\n",
       "    [103.87401, 1.36946],\n",
       "    [103.87405, 1.34962],\n",
       "    [103.87405, 1.34968],\n",
       "    [103.87433, 1.39332],\n",
       "    [103.87446, 1.289892],\n",
       "    [103.87489, 1.37154],\n",
       "    [103.87558, 1.31152],\n",
       "    [103.87602, 1.30781],\n",
       "    [103.87628, 1.31366],\n",
       "    [103.87646, 1.32],\n",
       "    [103.87657, 1.37],\n",
       "    [103.87659, 1.37279],\n",
       "    [103.87719, 1.35218],\n",
       "    [103.87724, 1.35006],\n",
       "    [103.8773, 1.31],\n",
       "    [103.87777, 1.31699],\n",
       "    [103.87787, 1.31414],\n",
       "    [103.877967516667, 1.35633611666667],\n",
       "    [103.87863, 1.39576],\n",
       "    [103.87872, 1.39183],\n",
       "    [103.878832166667, 1.31535133333333],\n",
       "    [103.878894166667, 1.3800995],\n",
       "    [103.87908, 1.38961],\n",
       "    [103.879098583333, 1.31784911666667],\n",
       "    [103.8794, 1.38],\n",
       "    [103.87958, 1.29772],\n",
       "    [103.87966, 1.3364],\n",
       "    [103.879685766667, 1.39120333333333],\n",
       "    [103.879899666667, 1.329904],\n",
       "    [103.880133, 1.320453],\n",
       "    [103.88033, 1.38],\n",
       "    [103.88034, 1.34671],\n",
       "    [103.880486283333, 1.38100261666667],\n",
       "    [103.88087, 1.37968],\n",
       "    [103.88087975, 1.33415071666667],\n",
       "    [103.881028333333, 1.31240533333333],\n",
       "    [103.8812746, 1.3750537],\n",
       "    [103.88145, 1.37868],\n",
       "    [103.881453, 1.37142216666667],\n",
       "    [103.881908, 1.369422],\n",
       "    [103.882034216667, 1.37414665],\n",
       "    [103.88223, 1.37],\n",
       "    [103.8826583, 1.3211397],\n",
       "    [103.88292, 1.38463],\n",
       "    [103.883026183333, 1.33227016666667],\n",
       "    [103.88309, 1.35864],\n",
       "    [103.88346, 1.36],\n",
       "    [103.883720833333, 1.31438183333333],\n",
       "    [103.88378, 1.31],\n",
       "    [103.883801166667, 1.3715125],\n",
       "    [103.88383, 1.30763],\n",
       "    [103.884021583333, 1.31123213333333],\n",
       "    [103.884741166667, 1.31082833333333],\n",
       "    [103.88504, 1.32356],\n",
       "    [103.88507, 1.3197],\n",
       "    [103.8853, 1.39],\n",
       "    [103.88533, 1.37255],\n",
       "    [103.88539, 1.36196],\n",
       "    [103.88542, 1.31064],\n",
       "    [103.885708433333, 1.30790738333333],\n",
       "    [103.88589, 1.35005],\n",
       "    [103.886227, 1.35294566666667],\n",
       "    [103.8864, 1.39185],\n",
       "    [103.88656, 1.35303],\n",
       "    [103.8866702, 1.39246906666667],\n",
       "    [103.88677, 1.37],\n",
       "    [103.88732, 1.38],\n",
       "    [103.88775, 1.32],\n",
       "    [103.888146066667, 1.311963],\n",
       "    [103.888378833333, 1.3810017],\n",
       "    [103.88868, 1.38],\n",
       "    [103.88874, 1.36367],\n",
       "    [103.88888, 1.32352],\n",
       "    [103.889001166667, 1.31378866666667],\n",
       "    [103.88986, 1.31962],\n",
       "    [103.88994, 1.39883],\n",
       "    [103.889991833333, 1.38197716666667],\n",
       "    [103.89013, 1.39932],\n",
       "    [103.890271566667, 1.35413145],\n",
       "    [103.8904, 1.379586],\n",
       "    [103.89042, 1.39522],\n",
       "    [103.89071, 1.31571],\n",
       "    [103.89071, 1.39596],\n",
       "    [103.8908, 1.39433],\n",
       "    [103.8909, 1.38573],\n",
       "    [103.8911, 1.38],\n",
       "    [103.89117, 1.38],\n",
       "    [103.89138, 1.32],\n",
       "    [103.891541, 1.374024],\n",
       "    [103.8917, 1.37934],\n",
       "    [103.8917, 1.39],\n",
       "    [103.89174, 1.29569],\n",
       "    [103.8918345, 1.3905675],\n",
       "    [103.8922, 1.3173],\n",
       "    [103.892689833333, 1.32733826666667],\n",
       "    [103.89281, 1.32],\n",
       "    [103.892962, 1.317102],\n",
       "    [103.89298, 1.38697],\n",
       "    [103.892991, 1.400485],\n",
       "    [103.89321, 1.37],\n",
       "    [103.89345, 1.37732],\n",
       "    [103.89352, 1.32768],\n",
       "    [103.893740466667, 1.29553673333333],\n",
       "    [103.893924133333, 1.37001351666667],\n",
       "    [103.89415, 1.37],\n",
       "    [103.89418, 1.4],\n",
       "    [103.89453, 1.3],\n",
       "    [103.8949425, 1.30955383333333],\n",
       "    [103.89508, 1.39072],\n",
       "    [103.89568, 1.36822],\n",
       "    [103.896040833333, 1.40106316666667],\n",
       "    [103.89647, 1.38819],\n",
       "    [103.89675855, 1.36898705],\n",
       "    [103.89677, 1.30197],\n",
       "    [103.89699, 1.31252],\n",
       "    [103.8970532, 1.39279676666667],\n",
       "    [103.89712, 1.31064],\n",
       "    [103.89719, 1.37],\n",
       "    [103.89724, 1.39],\n",
       "    [103.8976, 1.4],\n",
       "    [103.89771, 1.3332],\n",
       "    [103.89788, 1.36847],\n",
       "    [103.89802, 1.31175],\n",
       "    [103.89807, 1.33196],\n",
       "    [103.89808, 1.33194],\n",
       "    [103.898093716667, 1.39616978333333],\n",
       "    [103.89918, 1.31397],\n",
       "    [103.89977, 1.30298],\n",
       "    [103.89989, 1.32],\n",
       "    [103.90001, 1.31827],\n",
       "    [103.90001, 1.39],\n",
       "    [103.90043, 1.39],\n",
       "    [103.90057, 1.38868],\n",
       "    [103.900667466667, 1.40326311666667],\n",
       "    [103.90077, 1.31],\n",
       "    [103.901322316667, 1.39879501666667],\n",
       "    [103.90142, 1.391535],\n",
       "    [103.90145, 1.38],\n",
       "    [103.90151, 1.35615],\n",
       "    [103.90152, 1.35627],\n",
       "    [103.9016153, 1.32954498333333],\n",
       "    [103.901640083333, 1.32518025],\n",
       "    [103.901731, 1.356571],\n",
       "    [103.901741333333, 1.32029583333333],\n",
       "    [103.902, 1.325104],\n",
       "    [103.902470833333, 1.32090333333333],\n",
       "    [103.90262, 1.37695],\n",
       "    [103.902930166667, 1.39302233333333],\n",
       "    [103.90344, 1.30295],\n",
       "    [103.9037865, 1.3108495],\n",
       "    [103.90382, 1.32],\n",
       "    [103.90411, 1.40357],\n",
       "    [103.90469, 1.30213],\n",
       "    [103.904929716667, 1.387513],\n",
       "    [103.90495, 1.40649],\n",
       "    [103.90503, 1.39711],\n",
       "    [103.905216783333, 1.31219735],\n",
       "    [103.90532, 1.3924],\n",
       "    [103.905878833333, 1.39004533333333],\n",
       "    [103.906063, 1.325987],\n",
       "    [103.90608, 1.39],\n",
       "    [103.90628, 1.4017],\n",
       "    [103.90633, 1.32],\n",
       "    [103.90666, 1.33425],\n",
       "    [103.90682, 1.39282],\n",
       "    [103.907656666667, 1.3031705],\n",
       "    [103.90779, 1.4],\n",
       "    [103.90803, 1.38858],\n",
       "    [103.90818, 1.3312],\n",
       "    [103.90832, 1.30873],\n",
       "    [103.90854, 1.33],\n",
       "    [103.9086064, 1.3970522],\n",
       "    [103.90892, 1.39],\n",
       "    [103.909795633333, 1.32968781666667],\n",
       "    [103.91006, 1.39562],\n",
       "    [103.91036, 1.4],\n",
       "    [103.91138, 1.33],\n",
       "    [103.91214, 1.30944],\n",
       "    [103.9123, 1.34],\n",
       "    [103.91253, 1.30862],\n",
       "    [103.912849833333, 1.30489133333333],\n",
       "    [103.91369, 1.31],\n",
       "    [103.913711116667, 1.39110345],\n",
       "    [103.91406905, 1.30385025],\n",
       "    [103.91515, 1.40045],\n",
       "    [103.916131333333, 1.33199233333333],\n",
       "    [103.91642, 1.30609],\n",
       "    [103.917912833333, 1.39965166666667],\n",
       "    [103.9189644, 1.3338514],\n",
       "    [103.91922, 1.38083933333333],\n",
       "    [103.920577833333, 1.32146033333333],\n",
       "    [103.92094, 1.31873],\n",
       "    [103.921818533333, 1.33733638333333],\n",
       "    [103.922, 1.32],\n",
       "    [103.92241, 1.33],\n",
       "    [103.9226455, 1.332172],\n",
       "    [103.92508, 1.33],\n",
       "    [103.92513, 1.32515],\n",
       "    [103.9251985, 1.32512016666667],\n",
       "    [103.9252325, 1.326945],\n",
       "    [103.92547, 1.33],\n",
       "    [103.92567, 1.33],\n",
       "    [103.92578, 1.30987],\n",
       "    [103.92627565, 1.31194626666667],\n",
       "    [103.926513733333, 1.32961403333333],\n",
       "    [103.926718666667, 1.3092035],\n",
       "    [103.92676, 1.32766],\n",
       "    [103.927071, 1.329731],\n",
       "    [103.92715, 1.33311],\n",
       "    [103.927528233333, 1.33002645],\n",
       "    [103.92809, 1.33],\n",
       "    [103.928408516667, 1.34939123333333],\n",
       "    [103.928516583333, 1.34929616666667],\n",
       "    [103.929007983333, 1.32904695],\n",
       "    [103.92966, 1.33],\n",
       "    [103.9303245, 1.327772],\n",
       "    [103.93072, 1.33],\n",
       "    [103.931340983333, 1.3550152],\n",
       "    [103.93145, 1.37373],\n",
       "    [103.931473283333, 1.32952211666667],\n",
       "    [103.93164, 1.32876],\n",
       "    [103.93214, 1.37351],\n",
       "    [103.93227, 1.34989],\n",
       "    [103.93327, 1.32779],\n",
       "    [103.93364, 1.33483],\n",
       "    [103.933953666667, 1.33555733333333],\n",
       "    [103.93446, 1.37967],\n",
       "    [103.93469, 1.35957],\n",
       "    [103.934729916667, 1.34846528333333],\n",
       "    [103.93497, 1.35],\n",
       "    [103.93499, 1.32],\n",
       "    [103.93509, 1.37904],\n",
       "    [103.935475, 1.327311],\n",
       "    [103.9357, 1.30741],\n",
       "    [103.93602, 1.35],\n",
       "    [103.93654, 1.34823],\n",
       "    [103.9368, 1.345846],\n",
       "    [103.93755, 1.33],\n",
       "    [103.9377, 1.34],\n",
       "    [103.93773, 1.32254],\n",
       "    [103.93776, 1.32933],\n",
       "    [103.93799, 1.37301],\n",
       "    [103.938134533333, 1.32233028333333],\n",
       "    [103.938515, 1.327374],\n",
       "    [103.938589666667, 1.33534783333333],\n",
       "    [103.93943, 1.33],\n",
       "    [103.939546466667, 1.32773286666667],\n",
       "    [103.9396, 1.35556],\n",
       "    [103.939724833333, 1.321447],\n",
       "    [103.939738866667, 1.31053265],\n",
       "    [103.93979, 1.31],\n",
       "    [103.939828216667, 1.37880385],\n",
       "    [103.93986, 1.37848],\n",
       "    [103.940199, 1.34564983333333],\n",
       "    [103.94023, 1.38],\n",
       "    [103.9403, 1.3245],\n",
       "    [103.940363266667, 1.32358303333333],\n",
       "    [103.94037, 1.35427],\n",
       "    [103.94058, 1.32374],\n",
       "    [103.94141, 1.33],\n",
       "    [103.941679783333, 1.36015478333333],\n",
       "    [103.94169, 1.38],\n",
       "    [103.94212, 1.38],\n",
       "    [103.9421373, 1.34830371666667],\n",
       "    [103.94215, 1.3595],\n",
       "    [103.94254, 1.37],\n",
       "    [103.942932616667, 1.37380868333333],\n",
       "    [103.9431, 1.34611],\n",
       "    [103.943384466667, 1.34658083333333],\n",
       "    [103.94362, 1.32004],\n",
       "    [103.94475, 1.3724],\n",
       "    [103.9454, 1.36],\n",
       "    [103.94639, 1.37247],\n",
       "    [103.94679, 1.3465],\n",
       "    [103.946804, 1.311858],\n",
       "    [103.94693, 1.34152],\n",
       "    [103.947470833333, 1.374998],\n",
       "    [103.94748, 1.36],\n",
       "    [103.947539333333, 1.34966233333333],\n",
       "    [103.94782, 1.37],\n",
       "    [103.94784, 1.34821],\n",
       "    [103.94834, 1.35],\n",
       "    [103.94836, 1.3713],\n",
       "    [103.949090216667, 1.3116087],\n",
       "    [103.94989, 1.31135],\n",
       "    [103.95033, 1.34226],\n",
       "    [103.9512, 1.37341],\n",
       "    [103.95136, 1.35785],\n",
       "    [103.95199, 1.35],\n",
       "    [103.95203, 1.34338],\n",
       "    [103.95216, 1.36],\n",
       "    ...]},\n",
       "  'properties': {'timestamp': '2022-12-18T12:32:19+08:00',\n",
       "   'taxi_count': 1266,\n",
       "   'api_info': {'status': 'healthy'}}}]"
      ]
     },
     "execution_count": 21,
     "metadata": {},
     "output_type": "execute_result"
    }
   ],
   "source": [
    "data['features']"
   ]
  },
  {
   "cell_type": "code",
   "execution_count": 22,
   "metadata": {
    "id": "_VsUKA0j8ZNW"
   },
   "outputs": [],
   "source": [
    "coordinates = [{'long':taxi[0],'lat':taxi[1]} for taxi in data['features'][0]['geometry']['coordinates']]"
   ]
  },
  {
   "cell_type": "code",
   "execution_count": 23,
   "metadata": {
    "colab": {
     "base_uri": "https://localhost:8080/",
     "height": 424
    },
    "executionInfo": {
     "elapsed": 376,
     "status": "ok",
     "timestamp": 1669215688566,
     "user": {
      "displayName": "Ian Chong",
      "userId": "10615222189260864195"
     },
     "user_tz": -480
    },
    "id": "5qVrM3yO93uV",
    "outputId": "563a86c4-9f01-42ce-9765-27c6ecae077e"
   },
   "outputs": [
    {
     "data": {
      "text/html": [
       "<div>\n",
       "<style scoped>\n",
       "    .dataframe tbody tr th:only-of-type {\n",
       "        vertical-align: middle;\n",
       "    }\n",
       "\n",
       "    .dataframe tbody tr th {\n",
       "        vertical-align: top;\n",
       "    }\n",
       "\n",
       "    .dataframe thead th {\n",
       "        text-align: right;\n",
       "    }\n",
       "</style>\n",
       "<table border=\"1\" class=\"dataframe\">\n",
       "  <thead>\n",
       "    <tr style=\"text-align: right;\">\n",
       "      <th></th>\n",
       "      <th>long</th>\n",
       "      <th>lat</th>\n",
       "    </tr>\n",
       "  </thead>\n",
       "  <tbody>\n",
       "    <tr>\n",
       "      <th>0</th>\n",
       "      <td>103.627740</td>\n",
       "      <td>1.269170</td>\n",
       "    </tr>\n",
       "    <tr>\n",
       "      <th>1</th>\n",
       "      <td>103.687380</td>\n",
       "      <td>1.380000</td>\n",
       "    </tr>\n",
       "    <tr>\n",
       "      <th>2</th>\n",
       "      <td>103.688279</td>\n",
       "      <td>1.339565</td>\n",
       "    </tr>\n",
       "    <tr>\n",
       "      <th>3</th>\n",
       "      <td>103.688875</td>\n",
       "      <td>1.341049</td>\n",
       "    </tr>\n",
       "    <tr>\n",
       "      <th>4</th>\n",
       "      <td>103.691070</td>\n",
       "      <td>1.343300</td>\n",
       "    </tr>\n",
       "    <tr>\n",
       "      <th>...</th>\n",
       "      <td>...</td>\n",
       "      <td>...</td>\n",
       "    </tr>\n",
       "    <tr>\n",
       "      <th>1261</th>\n",
       "      <td>103.990000</td>\n",
       "      <td>1.357460</td>\n",
       "    </tr>\n",
       "    <tr>\n",
       "      <th>1262</th>\n",
       "      <td>103.990110</td>\n",
       "      <td>1.358090</td>\n",
       "    </tr>\n",
       "    <tr>\n",
       "      <th>1263</th>\n",
       "      <td>103.990110</td>\n",
       "      <td>1.358420</td>\n",
       "    </tr>\n",
       "    <tr>\n",
       "      <th>1264</th>\n",
       "      <td>103.990180</td>\n",
       "      <td>1.358540</td>\n",
       "    </tr>\n",
       "    <tr>\n",
       "      <th>1265</th>\n",
       "      <td>103.990910</td>\n",
       "      <td>1.360520</td>\n",
       "    </tr>\n",
       "  </tbody>\n",
       "</table>\n",
       "<p>1266 rows × 2 columns</p>\n",
       "</div>"
      ],
      "text/plain": [
       "            long       lat\n",
       "0     103.627740  1.269170\n",
       "1     103.687380  1.380000\n",
       "2     103.688279  1.339565\n",
       "3     103.688875  1.341049\n",
       "4     103.691070  1.343300\n",
       "...          ...       ...\n",
       "1261  103.990000  1.357460\n",
       "1262  103.990110  1.358090\n",
       "1263  103.990110  1.358420\n",
       "1264  103.990180  1.358540\n",
       "1265  103.990910  1.360520\n",
       "\n",
       "[1266 rows x 2 columns]"
      ]
     },
     "execution_count": 23,
     "metadata": {},
     "output_type": "execute_result"
    }
   ],
   "source": [
    "import pandas as pd\n",
    "dataframe = pd.DataFrame(coordinates)\n",
    "dataframe"
   ]
  },
  {
   "cell_type": "markdown",
   "metadata": {
    "id": "6IjM61FG_KRc"
   },
   "source": [
    "### 2.3.2 - Data Analysis\n",
    "\n",
    "This dataset is very basic, so analysis is easy. pandas is a powerful tool to do analysis and manipulation. It is a mammoth so we will not go into details here. Just know you can easily do statistical analysis."
   ]
  },
  {
   "cell_type": "code",
   "execution_count": 24,
   "metadata": {
    "colab": {
     "base_uri": "https://localhost:8080/"
    },
    "executionInfo": {
     "elapsed": 314,
     "status": "ok",
     "timestamp": 1669215688877,
     "user": {
      "displayName": "Ian Chong",
      "userId": "10615222189260864195"
     },
     "user_tz": -480
    },
    "id": "-KdP7YUK-mRV",
    "outputId": "8f8bf67e-5c71-4c74-e335-88a836e6c53d"
   },
   "outputs": [
    {
     "data": {
      "text/plain": [
       "long    103.872929\n",
       "lat       1.346179\n",
       "dtype: float64"
      ]
     },
     "execution_count": 24,
     "metadata": {},
     "output_type": "execute_result"
    }
   ],
   "source": [
    "dataframe.mean()"
   ]
  },
  {
   "cell_type": "code",
   "execution_count": 25,
   "metadata": {
    "colab": {
     "base_uri": "https://localhost:8080/"
    },
    "executionInfo": {
     "elapsed": 7,
     "status": "ok",
     "timestamp": 1669215688877,
     "user": {
      "displayName": "Ian Chong",
      "userId": "10615222189260864195"
     },
     "user_tz": -480
    },
    "id": "ZifLwrok_VmN",
    "outputId": "8fe6c690-2042-49db-a890-ed4132d26305"
   },
   "outputs": [
    {
     "data": {
      "text/plain": [
       "long    103.990910\n",
       "lat       1.454406\n",
       "dtype: float64"
      ]
     },
     "execution_count": 25,
     "metadata": {},
     "output_type": "execute_result"
    }
   ],
   "source": [
    "dataframe.max()"
   ]
  },
  {
   "cell_type": "code",
   "execution_count": 26,
   "metadata": {
    "colab": {
     "base_uri": "https://localhost:8080/"
    },
    "executionInfo": {
     "elapsed": 6,
     "status": "ok",
     "timestamp": 1669215688877,
     "user": {
      "displayName": "Ian Chong",
      "userId": "10615222189260864195"
     },
     "user_tz": -480
    },
    "id": "e12cXjSD_YjY",
    "outputId": "de4570ca-a5a8-44df-b3f3-af36bc2cc2ed"
   },
   "outputs": [
    {
     "data": {
      "text/plain": [
       "long    103.62774\n",
       "lat       1.24648\n",
       "dtype: float64"
      ]
     },
     "execution_count": 26,
     "metadata": {},
     "output_type": "execute_result"
    }
   ],
   "source": [
    "dataframe.min()"
   ]
  },
  {
   "cell_type": "code",
   "execution_count": 27,
   "metadata": {
    "colab": {
     "base_uri": "https://localhost:8080/",
     "height": 300
    },
    "executionInfo": {
     "elapsed": 5,
     "status": "ok",
     "timestamp": 1669215688877,
     "user": {
      "displayName": "Ian Chong",
      "userId": "10615222189260864195"
     },
     "user_tz": -480
    },
    "id": "yfDfRwX5_Zu5",
    "outputId": "0dd82ed2-9f88-4e6e-9c0d-abb48033fa9c"
   },
   "outputs": [
    {
     "data": {
      "text/html": [
       "<div>\n",
       "<style scoped>\n",
       "    .dataframe tbody tr th:only-of-type {\n",
       "        vertical-align: middle;\n",
       "    }\n",
       "\n",
       "    .dataframe tbody tr th {\n",
       "        vertical-align: top;\n",
       "    }\n",
       "\n",
       "    .dataframe thead th {\n",
       "        text-align: right;\n",
       "    }\n",
       "</style>\n",
       "<table border=\"1\" class=\"dataframe\">\n",
       "  <thead>\n",
       "    <tr style=\"text-align: right;\">\n",
       "      <th></th>\n",
       "      <th>long</th>\n",
       "      <th>lat</th>\n",
       "    </tr>\n",
       "  </thead>\n",
       "  <tbody>\n",
       "    <tr>\n",
       "      <th>count</th>\n",
       "      <td>1266.000000</td>\n",
       "      <td>1266.000000</td>\n",
       "    </tr>\n",
       "    <tr>\n",
       "      <th>mean</th>\n",
       "      <td>103.872929</td>\n",
       "      <td>1.346179</td>\n",
       "    </tr>\n",
       "    <tr>\n",
       "      <th>std</th>\n",
       "      <td>0.075585</td>\n",
       "      <td>0.043883</td>\n",
       "    </tr>\n",
       "    <tr>\n",
       "      <th>min</th>\n",
       "      <td>103.627740</td>\n",
       "      <td>1.246480</td>\n",
       "    </tr>\n",
       "    <tr>\n",
       "      <th>25%</th>\n",
       "      <td>103.826042</td>\n",
       "      <td>1.312785</td>\n",
       "    </tr>\n",
       "    <tr>\n",
       "      <th>50%</th>\n",
       "      <td>103.860135</td>\n",
       "      <td>1.348960</td>\n",
       "    </tr>\n",
       "    <tr>\n",
       "      <th>75%</th>\n",
       "      <td>103.937753</td>\n",
       "      <td>1.370000</td>\n",
       "    </tr>\n",
       "    <tr>\n",
       "      <th>max</th>\n",
       "      <td>103.990910</td>\n",
       "      <td>1.454406</td>\n",
       "    </tr>\n",
       "  </tbody>\n",
       "</table>\n",
       "</div>"
      ],
      "text/plain": [
       "              long          lat\n",
       "count  1266.000000  1266.000000\n",
       "mean    103.872929     1.346179\n",
       "std       0.075585     0.043883\n",
       "min     103.627740     1.246480\n",
       "25%     103.826042     1.312785\n",
       "50%     103.860135     1.348960\n",
       "75%     103.937753     1.370000\n",
       "max     103.990910     1.454406"
      ]
     },
     "execution_count": 27,
     "metadata": {},
     "output_type": "execute_result"
    }
   ],
   "source": [
    "dataframe.describe()"
   ]
  },
  {
   "cell_type": "code",
   "execution_count": 28,
   "metadata": {
    "colab": {
     "base_uri": "https://localhost:8080/"
    },
    "executionInfo": {
     "elapsed": 6,
     "status": "ok",
     "timestamp": 1669215688878,
     "user": {
      "displayName": "Ian Chong",
      "userId": "10615222189260864195"
     },
     "user_tz": -480
    },
    "id": "KB7Q_D8d_l4e",
    "outputId": "786a0ef7-ecda-4e5b-86d1-3a675d984146"
   },
   "outputs": [
    {
     "name": "stdout",
     "output_type": "stream",
     "text": [
      "<class 'pandas.core.frame.DataFrame'>\n",
      "RangeIndex: 1266 entries, 0 to 1265\n",
      "Data columns (total 2 columns):\n",
      " #   Column  Non-Null Count  Dtype  \n",
      "---  ------  --------------  -----  \n",
      " 0   long    1266 non-null   float64\n",
      " 1   lat     1266 non-null   float64\n",
      "dtypes: float64(2)\n",
      "memory usage: 19.9 KB\n"
     ]
    }
   ],
   "source": [
    "dataframe.info(verbose=True)"
   ]
  },
  {
   "cell_type": "markdown",
   "metadata": {
    "id": "29fMBF_m_pie"
   },
   "source": [
    "### 2.3.3 - Data Visualization\n",
    "\n",
    "`matplotlib` is the most common data visualization tool. It is power and affords you great customization over your graphics. However, it is also a mammoth and will not be covered here."
   ]
  },
  {
   "cell_type": "code",
   "execution_count": 29,
   "metadata": {
    "colab": {
     "base_uri": "https://localhost:8080/",
     "height": 298
    },
    "executionInfo": {
     "elapsed": 646,
     "status": "ok",
     "timestamp": 1669215689519,
     "user": {
      "displayName": "Ian Chong",
      "userId": "10615222189260864195"
     },
     "user_tz": -480
    },
    "id": "ZrHGLHRL_nml",
    "outputId": "5ec0591a-eecb-4e08-a9f4-a8204771124e"
   },
   "outputs": [
    {
     "data": {
      "text/plain": [
       "Text(0.5, 1.0, 'Coordinates of Singapore Taxis as of 2022-12-18T12:33:07')"
      ]
     },
     "execution_count": 29,
     "metadata": {},
     "output_type": "execute_result"
    },
    {
     "data": {
      "image/png": "[encoded data removed]",
      "text/plain": [
       "<Figure size 432x288 with 1 Axes>"
      ]
     },
     "metadata": {
      "needs_background": "light"
     },
     "output_type": "display_data"
    }
   ],
   "source": [
    "from matplotlib import pyplot as plt\n",
    "\n",
    "plt.scatter(x=dataframe['long'],y=dataframe['lat'])\n",
    "plt.title(f\"Coordinates of Singapore Taxis as of {now}\")"
   ]
  }
 ],
 "metadata": {
  "colab": {
   "authorship_tag": "ABX9TyNvbW8Eb4Spsim6iR/SUg+F",
   "provenance": []
  },
  "kernelspec": {
   "display_name": "Python 3",
   "language": "python",
   "name": "python3"
  },
  "language_info": {
   "codemirror_mode": {
    "name": "ipython",
    "version": 3
   },
   "file_extension": ".py",
   "mimetype": "text/x-python",
   "name": "python",
   "nbconvert_exporter": "python",
   "pygments_lexer": "ipython3",
   "version": "3.8.10"
  }
 },
 "nbformat": 4,
 "nbformat_minor": 1
}
