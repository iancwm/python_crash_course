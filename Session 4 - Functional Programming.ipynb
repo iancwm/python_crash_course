{
 "cells": [
  {
   "cell_type": "markdown",
   "metadata": {
    "id": "JWaWIiDJXa0e"
   },
   "source": [
    "<h1><font color='blue'>Session 4 - Functional Programming</font></h1>\n",
    "\n",
    "After this lesson, you have the building blocks to write code that runs. Functions are a way of writing reusable code, which bring many benefits: \n",
    "\n",
    "1. **You don't have to repeat yourself**: Programmers are lazy. Anything that helps you be lazy is good.\n",
    "2. **Less chances of errors**: Think of a function as a sub unit of a program. If that sub unit is proven to work, just use it rather than try to copy it all the time. If you write code to do the same thing in two areas, and you have to update the code in the first area, that means you need to remember to update the code in the second area.\n",
    "3. **Easier to test and refactor**: When you know what goes in and what is supposed to come out of a function, you can focus on handling errors and improving efficiency in that function separate from the rest of the program. This helps to keep things tidy and neat.\n",
    "\n",
    "See [Real Python - Functional Programming in Python](https://realpython.com/python-functional-programming/) for details.\n",
    "\n",
    "----\n",
    "\n",
    "# Section 1 - Defining Functions\n",
    "\n",
    "## 1.1 - The basics\n",
    "\n",
    "![defining functions](https://pynative.com/wp-content/uploads/2022/08/python_function_argument_and_parameter.jpg)\n",
    "\n",
    "Let's define a simple function `square_list` to calculate the squares from a list:"
   ]
  },
  {
   "cell_type": "code",
   "execution_count": 1,
   "metadata": {
    "colab": {
     "base_uri": "https://localhost:8080/"
    },
    "executionInfo": {
     "elapsed": 9,
     "status": "ok",
     "timestamp": 1669217812445,
     "user": {
      "displayName": "Ian Chong",
      "userId": "10615222189260864195"
     },
     "user_tz": -480
    },
    "id": "w0ZgqZnPXDZo",
    "outputId": "1b8c8ff9-0334-405d-ef81-c3c622fac817"
   },
   "outputs": [
    {
     "data": {
      "text/plain": [
       "[1, 4, 9, 16, 25]"
      ]
     },
     "execution_count": 1,
     "metadata": {},
     "output_type": "execute_result"
    }
   ],
   "source": [
    "def square_list(my_list):\n",
    "    return [i**2 for i in my_list]\n",
    "\n",
    "a = [1,2,3,4,5]\n",
    "squares = square_list(a)\n",
    "squares"
   ]
  },
  {
   "cell_type": "code",
   "execution_count": 2,
   "metadata": {},
   "outputs": [
    {
     "name": "stdout",
     "output_type": "stream",
     "text": [
      "The area of a cylinder given radius 4 and height 3 is 150.80 cm2\n"
     ]
    },
    {
     "data": {
      "text/plain": [
       "150.79644737231007"
      ]
     },
     "execution_count": 2,
     "metadata": {},
     "output_type": "execute_result"
    }
   ],
   "source": [
    "def cylinder(radius,height):\n",
    "    \"\"\"Returns the area of a cylinder, given the radius and height.\n",
    "    Argumemts:\n",
    "        radius (float)\n",
    "        height (float)\n",
    "    Returns\n",
    "        (float) Area of cylinder\n",
    "    \"\"\"\n",
    "    from math import pi\n",
    "    result = pi*radius**2*height\n",
    "    print(f\"The area of a cylinder given radius {radius} and height {height} is {result:.2f} cm2\")\n",
    "    return result\n",
    "\n",
    "cylinder(4,3)"
   ]
  },
  {
   "cell_type": "code",
   "execution_count": 3,
   "metadata": {},
   "outputs": [
    {
     "name": "stdout",
     "output_type": "stream",
     "text": [
      "[7, 9, 11, 13, 15]\n"
     ]
    },
    {
     "ename": "AssertionError",
     "evalue": "LENGTHS NOT THE SAME",
     "output_type": "error",
     "traceback": [
      "\u001b[0;31m---------------------------------------------------------------------------\u001b[0m",
      "\u001b[0;31mAssertionError\u001b[0m                            Traceback (most recent call last)",
      "Cell \u001b[0;32mIn[3], line 9\u001b[0m\n\u001b[1;32m      5\u001b[0m     \u001b[38;5;28;01mreturn\u001b[39;00m \u001b[38;5;28msum\u001b[39m\n\u001b[1;32m      8\u001b[0m \u001b[38;5;28mprint\u001b[39m(elementwise_sum([\u001b[38;5;241m1\u001b[39m,\u001b[38;5;241m2\u001b[39m,\u001b[38;5;241m3\u001b[39m,\u001b[38;5;241m4\u001b[39m,\u001b[38;5;241m5\u001b[39m],[\u001b[38;5;241m6\u001b[39m,\u001b[38;5;241m7\u001b[39m,\u001b[38;5;241m8\u001b[39m,\u001b[38;5;241m9\u001b[39m,\u001b[38;5;241m10\u001b[39m]))\n\u001b[0;32m----> 9\u001b[0m \u001b[38;5;28mprint\u001b[39m(\u001b[43melementwise_sum\u001b[49m\u001b[43m(\u001b[49m\u001b[43m[\u001b[49m\u001b[38;5;241;43m1\u001b[39;49m\u001b[43m,\u001b[49m\u001b[38;5;241;43m2\u001b[39;49m\u001b[43m]\u001b[49m\u001b[43m,\u001b[49m\u001b[43m[\u001b[49m\u001b[38;5;241;43m3\u001b[39;49m\u001b[43m,\u001b[49m\u001b[38;5;241;43m4\u001b[39;49m\u001b[43m,\u001b[49m\u001b[38;5;241;43m5\u001b[39;49m\u001b[43m]\u001b[49m\u001b[43m)\u001b[49m)\n",
      "Cell \u001b[0;32mIn[3], line 2\u001b[0m, in \u001b[0;36melementwise_sum\u001b[0;34m(first_list, second_list)\u001b[0m\n\u001b[1;32m      1\u001b[0m \u001b[38;5;28;01mdef\u001b[39;00m \u001b[38;5;21melementwise_sum\u001b[39m(first_list,second_list):    \n\u001b[0;32m----> 2\u001b[0m     \u001b[38;5;28;01massert\u001b[39;00m \u001b[38;5;28mlen\u001b[39m(first_list)\u001b[38;5;241m==\u001b[39m\u001b[38;5;28mlen\u001b[39m(second_list), \u001b[38;5;124m\"\u001b[39m\u001b[38;5;124mLENGTHS NOT THE SAME\u001b[39m\u001b[38;5;124m\"\u001b[39m\n\u001b[1;32m      4\u001b[0m     \u001b[38;5;28msum\u001b[39m \u001b[38;5;241m=\u001b[39m [first_list[i]\u001b[38;5;241m+\u001b[39msecond_list[i] \u001b[38;5;28;01mfor\u001b[39;00m i \u001b[38;5;129;01min\u001b[39;00m \u001b[38;5;28mrange\u001b[39m(\u001b[38;5;28mlen\u001b[39m(first_list))]\n\u001b[1;32m      5\u001b[0m     \u001b[38;5;28;01mreturn\u001b[39;00m \u001b[38;5;28msum\u001b[39m\n",
      "\u001b[0;31mAssertionError\u001b[0m: LENGTHS NOT THE SAME"
     ]
    }
   ],
   "source": [
    "def elementwise_sum(first_list,second_list):    \n",
    "    assert len(first_list)==len(second_list), \"LENGTHS NOT THE SAME\"\n",
    "    \n",
    "    sum = [first_list[i]+second_list[i] for i in range(len(first_list))]\n",
    "    return sum\n",
    "    \n",
    "\n",
    "print(elementwise_sum([1,2,3,4,5],[6,7,8,9,10]))\n",
    "print(elementwise_sum([1,2],[3,4,5]))"
   ]
  },
  {
   "cell_type": "markdown",
   "metadata": {
    "id": "8lHAJSKfegwq"
   },
   "source": [
    "Congratulations! You have defined your first function. \n",
    "\n",
    "`my_list` in this context is known as an **parameter**. An argument is simply the value assigned to the parameter. A function can have as many parameters as you wish to define.\n",
    "\n",
    "\n",
    "What happens when you pass in a list of strings to `square_list()`, though?"
   ]
  },
  {
   "cell_type": "code",
   "execution_count": 4,
   "metadata": {
    "colab": {
     "base_uri": "https://localhost:8080/",
     "height": 329
    },
    "executionInfo": {
     "elapsed": 8,
     "status": "error",
     "timestamp": 1669217812445,
     "user": {
      "displayName": "Ian Chong",
      "userId": "10615222189260864195"
     },
     "user_tz": -480
    },
    "id": "NMRZuRs1d3oD",
    "outputId": "b4a0fd5f-6267-4d43-c9d1-fee6b6c796ad"
   },
   "outputs": [
    {
     "ename": "TypeError",
     "evalue": "unsupported operand type(s) for ** or pow(): 'str' and 'int'",
     "output_type": "error",
     "traceback": [
      "\u001b[0;31m---------------------------------------------------------------------------\u001b[0m",
      "\u001b[0;31mTypeError\u001b[0m                                 Traceback (most recent call last)",
      "Cell \u001b[0;32mIn[4], line 2\u001b[0m\n\u001b[1;32m      1\u001b[0m b \u001b[38;5;241m=\u001b[39m [\u001b[38;5;124m\"\u001b[39m\u001b[38;5;124mIan\u001b[39m\u001b[38;5;124m\"\u001b[39m,\u001b[38;5;124m\"\u001b[39m\u001b[38;5;124mRichard\u001b[39m\u001b[38;5;124m\"\u001b[39m]\n\u001b[0;32m----> 2\u001b[0m squares_string \u001b[38;5;241m=\u001b[39m \u001b[43msquare_list\u001b[49m\u001b[43m(\u001b[49m\u001b[43mb\u001b[49m\u001b[43m)\u001b[49m\n",
      "Cell \u001b[0;32mIn[1], line 2\u001b[0m, in \u001b[0;36msquare_list\u001b[0;34m(my_list)\u001b[0m\n\u001b[1;32m      1\u001b[0m \u001b[38;5;28;01mdef\u001b[39;00m \u001b[38;5;21msquare_list\u001b[39m(my_list):\n\u001b[0;32m----> 2\u001b[0m     \u001b[38;5;28;01mreturn\u001b[39;00m [i\u001b[38;5;241m*\u001b[39m\u001b[38;5;241m*\u001b[39m\u001b[38;5;241m2\u001b[39m \u001b[38;5;28;01mfor\u001b[39;00m i \u001b[38;5;129;01min\u001b[39;00m my_list]\n",
      "Cell \u001b[0;32mIn[1], line 2\u001b[0m, in \u001b[0;36m<listcomp>\u001b[0;34m(.0)\u001b[0m\n\u001b[1;32m      1\u001b[0m \u001b[38;5;28;01mdef\u001b[39;00m \u001b[38;5;21msquare_list\u001b[39m(my_list):\n\u001b[0;32m----> 2\u001b[0m     \u001b[38;5;28;01mreturn\u001b[39;00m [\u001b[43mi\u001b[49m\u001b[38;5;241;43m*\u001b[39;49m\u001b[38;5;241;43m*\u001b[39;49m\u001b[38;5;241;43m2\u001b[39;49m \u001b[38;5;28;01mfor\u001b[39;00m i \u001b[38;5;129;01min\u001b[39;00m my_list]\n",
      "\u001b[0;31mTypeError\u001b[0m: unsupported operand type(s) for ** or pow(): 'str' and 'int'"
     ]
    }
   ],
   "source": [
    "b = [\"Ian\",\"Richard\"]\n",
    "squares_string = square_list(b)"
   ]
  },
  {
   "cell_type": "markdown",
   "metadata": {
    "id": "sqq6KYSpern_"
   },
   "source": [
    "Obviously raising a string to the power of 2 is meaningless. We need to add in error handling to the function. After fixing this function here, the next time we call this function, we don't have to fix it again!\n",
    "\n",
    "That's why when you see your code start to repeat, you write reusable functions."
   ]
  },
  {
   "cell_type": "code",
   "execution_count": 5,
   "metadata": {
    "colab": {
     "base_uri": "https://localhost:8080/",
     "height": 322
    },
    "executionInfo": {
     "elapsed": 720,
     "status": "error",
     "timestamp": 1669217818677,
     "user": {
      "displayName": "Ian Chong",
      "userId": "10615222189260864195"
     },
     "user_tz": -480
    },
    "id": "O2aOtRmueqLh",
    "outputId": "e87782fa-98b6-4ba5-c314-91f325db90a3"
   },
   "outputs": [
    {
     "ename": "AssertionError",
     "evalue": "Element Ian is not a number!",
     "output_type": "error",
     "traceback": [
      "\u001b[0;31m---------------------------------------------------------------------------\u001b[0m",
      "\u001b[0;31mAssertionError\u001b[0m                            Traceback (most recent call last)",
      "Cell \u001b[0;32mIn[5], line 7\u001b[0m\n\u001b[1;32m      3\u001b[0m         \u001b[38;5;28;01massert\u001b[39;00m \u001b[38;5;28mtype\u001b[39m(i)\u001b[38;5;241m!=\u001b[39m\u001b[38;5;28mstr\u001b[39m, \u001b[38;5;124mf\u001b[39m\u001b[38;5;124m\"\u001b[39m\u001b[38;5;124mElement \u001b[39m\u001b[38;5;132;01m{\u001b[39;00mi\u001b[38;5;132;01m}\u001b[39;00m\u001b[38;5;124m is not a number!\u001b[39m\u001b[38;5;124m\"\u001b[39m\n\u001b[1;32m      5\u001b[0m     \u001b[38;5;28;01mreturn\u001b[39;00m [i\u001b[38;5;241m*\u001b[39m\u001b[38;5;241m*\u001b[39m\u001b[38;5;241m2\u001b[39m \u001b[38;5;28;01mfor\u001b[39;00m i \u001b[38;5;129;01min\u001b[39;00m my_list]\n\u001b[0;32m----> 7\u001b[0m squares_string \u001b[38;5;241m=\u001b[39m \u001b[43msquare_list\u001b[49m\u001b[43m(\u001b[49m\u001b[43mb\u001b[49m\u001b[43m)\u001b[49m\n",
      "Cell \u001b[0;32mIn[5], line 3\u001b[0m, in \u001b[0;36msquare_list\u001b[0;34m(my_list)\u001b[0m\n\u001b[1;32m      1\u001b[0m \u001b[38;5;28;01mdef\u001b[39;00m \u001b[38;5;21msquare_list\u001b[39m(my_list):\n\u001b[1;32m      2\u001b[0m     \u001b[38;5;28;01mfor\u001b[39;00m i \u001b[38;5;129;01min\u001b[39;00m my_list:\n\u001b[0;32m----> 3\u001b[0m         \u001b[38;5;28;01massert\u001b[39;00m \u001b[38;5;28mtype\u001b[39m(i)\u001b[38;5;241m!=\u001b[39m\u001b[38;5;28mstr\u001b[39m, \u001b[38;5;124mf\u001b[39m\u001b[38;5;124m\"\u001b[39m\u001b[38;5;124mElement \u001b[39m\u001b[38;5;132;01m{\u001b[39;00mi\u001b[38;5;132;01m}\u001b[39;00m\u001b[38;5;124m is not a number!\u001b[39m\u001b[38;5;124m\"\u001b[39m\n\u001b[1;32m      5\u001b[0m     \u001b[38;5;28;01mreturn\u001b[39;00m [i\u001b[38;5;241m*\u001b[39m\u001b[38;5;241m*\u001b[39m\u001b[38;5;241m2\u001b[39m \u001b[38;5;28;01mfor\u001b[39;00m i \u001b[38;5;129;01min\u001b[39;00m my_list]\n",
      "\u001b[0;31mAssertionError\u001b[0m: Element Ian is not a number!"
     ]
    }
   ],
   "source": [
    "def square_list(my_list):\n",
    "    for i in my_list:\n",
    "        assert type(i)!=str, f\"Element {i} is not a number!\"\n",
    "    \n",
    "    return [i**2 for i in my_list]\n",
    "\n",
    "squares_string = square_list(b)"
   ]
  },
  {
   "cell_type": "markdown",
   "metadata": {
    "id": "VdHvadBY0YnV"
   },
   "source": [
    "## 1.2 - Arguments\n",
    "\n",
    "In a function, if you don't specify which argument you are trying to pass in, it can lead to confusion. Let's take a more complex function which requires multiple arguments as an example. We will use the well known $PV$ function to calculate the net present value of future cashflows.\n",
    "\n",
    "$$PV=\\frac{PMT}{rate}\\times \\big(1+\\frac{1}{(1+rate)^{nper}}\\big)+\\frac{FV}{(1+rate)^{nper}}$$\n",
    "\n",
    "### 1.2.1 - Positional arguments\n",
    "\n",
    "If unspecified, the order that we need to pass in arguments is determined when we define the function. For our `PV()` function we need to pass in the interest rate, number of periods, paymnent, future value and due flag in that exact order."
   ]
  },
  {
   "cell_type": "code",
   "execution_count": 6,
   "metadata": {
    "colab": {
     "base_uri": "https://localhost:8080/"
    },
    "executionInfo": {
     "elapsed": 11,
     "status": "ok",
     "timestamp": 1669217818678,
     "user": {
      "displayName": "Ian Chong",
      "userId": "10615222189260864195"
     },
     "user_tz": -480
    },
    "id": "1N6wyPMj05W-",
    "outputId": "b7092794-ff49-4a36-9543-69ee669a06e8"
   },
   "outputs": [
    {
     "name": "stdout",
     "output_type": "stream",
     "text": [
      "rate = 0.05\n",
      "nper = 10\n",
      "pmt = 4\n",
      "fv = 105\n",
      "due = False\n",
      "Calculating PV of ordinary annuity\n",
      "95.35\n"
     ]
    }
   ],
   "source": [
    "def PV(rate, nper, pmt, fv, due):\n",
    "    \"\"\"\n",
    "    Arguments:\n",
    "        rate (float): Interest rate\n",
    "        nper (int): Number of periods\n",
    "        pmt (float): Regular payment amount\n",
    "        fv (float): Face value if any\n",
    "        due (bool): Whether it is an annuity due or not\n",
    "    Returns:\n",
    "        Present value of cashflows given the above characteristics\n",
    "    \"\"\"\n",
    "    \n",
    "    print(\"rate =\",rate)\n",
    "    print(\"nper =\",nper)\n",
    "    print(\"pmt =\",pmt)\n",
    "    print(\"fv =\",fv)\n",
    "    print(\"due =\",due)\n",
    "    \n",
    "    \n",
    "    if due:\n",
    "        print(\"Calculating PV of annuity due\")\n",
    "        return pmt*(1-(1+rate)**-nper)/rate+fv/(1+rate)**nper*(1+rate)\n",
    "    else:\n",
    "        print(\"Calculating PV of ordinary annuity\")\n",
    "        return pmt*(1-(1+rate)**-nper)/rate+fv/(1+rate)**nper\n",
    "\n",
    "rate = 0.05\n",
    "nper = 10\n",
    "pmt = 4\n",
    "fv = 105\n",
    "due = False\n",
    "\n",
    "result = PV(rate,nper,pmt,fv,due)\n",
    "print(f\"{result:.2f}\")"
   ]
  },
  {
   "cell_type": "markdown",
   "metadata": {
    "id": "mrpmMcNT6fuc"
   },
   "source": [
    "### 1.2.2 - Keyword arguments and default values\n",
    "\n",
    "The above function has several arguments - as more and more arguments are required and functions get more complex, keeping track of which variables you have passed as arguments gets challenging. It is good practice to use **keyword arguments** as shown below.\n",
    "\n",
    "Furthermore, sometimes arguments don't need to be specified for brevity's sake. You can give **default values** to the arguments by assigning a value to the argument in the definition. In the following example, fv defaults to 0 and due defaults to False."
   ]
  },
  {
   "cell_type": "code",
   "execution_count": 7,
   "metadata": {
    "colab": {
     "base_uri": "https://localhost:8080/"
    },
    "executionInfo": {
     "elapsed": 9,
     "status": "ok",
     "timestamp": 1669217818678,
     "user": {
      "displayName": "Ian Chong",
      "userId": "10615222189260864195"
     },
     "user_tz": -480
    },
    "id": "aexjpn7w65l4",
    "outputId": "d622cc60-f7e9-4ac3-957f-3364b6e20c20"
   },
   "outputs": [
    {
     "name": "stdout",
     "output_type": "stream",
     "text": [
      "Calculating PV of ordinary annuity\n",
      "95.35\n"
     ]
    }
   ],
   "source": [
    "def PV(rate, nper, pmt, fv=0, due=False):\n",
    "    \"\"\"\n",
    "    Arguments:\n",
    "        rate (float): Interest rate\n",
    "        nper (int): Number of periods\n",
    "        pmt (float): Regular payment amount\n",
    "        fv (float): Face value if any\n",
    "        due (bool): Whether it is an annuity due or not. Default to False\n",
    "    Returns:\n",
    "        Present value of cashflows given the above characteristics\n",
    "    \"\"\"\n",
    "    if due:\n",
    "        print(\"Calculating PV of annuity due\")\n",
    "        return pmt*(1-(1+rate)**-nper)/rate+fv/(1+rate)**nper*(1+rate)\n",
    "    else:\n",
    "        print(\"Calculating PV of ordinary annuity\")\n",
    "        return pmt*(1-(1+rate)**-nper)/rate+fv/(1+rate)**nper\n",
    "\n",
    "keyword_result = PV(rate=rate,pmt=pmt,fv=fv,nper=nper) # The order is wrong but the function still works.\n",
    "print(f\"{keyword_result:.2f}\")"
   ]
  },
  {
   "cell_type": "markdown",
   "metadata": {
    "id": "-WJFb_3A7FdQ"
   },
   "source": [
    "Even if you changed the order above in which you pass in the arguments, because you used keyword arguments, the function automatically knows which arguments to use for which variables in the function.\n",
    "\n",
    "And even though we didn't specify whether due was `False` or `True`, the same answer was obtained which means it was assigned `False` by default.\n",
    "\n",
    "You can even use a handy shortcut and store the variables you want in a dictionary and use the double asterisk to unpack arguments appropriately as shown below."
   ]
  },
  {
   "cell_type": "code",
   "execution_count": 8,
   "metadata": {
    "colab": {
     "base_uri": "https://localhost:8080/"
    },
    "executionInfo": {
     "elapsed": 8,
     "status": "ok",
     "timestamp": 1669217818678,
     "user": {
      "displayName": "Ian Chong",
      "userId": "10615222189260864195"
     },
     "user_tz": -480
    },
    "id": "NJPHwYa27h8C",
    "outputId": "e2f42f67-73bd-4010-e994-6ac176ceb8bc"
   },
   "outputs": [
    {
     "name": "stdout",
     "output_type": "stream",
     "text": [
      "Calculating PV of ordinary annuity\n"
     ]
    },
    {
     "data": {
      "text/plain": [
       "95.34783133851897"
      ]
     },
     "execution_count": 8,
     "metadata": {},
     "output_type": "execute_result"
    }
   ],
   "source": [
    "argument_dict = {'rate':0.05,'nper':10,'pmt':4,'fv':105}\n",
    "PV(**argument_dict)"
   ]
  },
  {
   "cell_type": "markdown",
   "metadata": {
    "id": "pBV-9piI77IS"
   },
   "source": [
    "This is useful when you store your arguments in a configuration file and want to pass the arguments stored there as a dictionary into your function. \n",
    "\n",
    "So for example, you want to run a machine learning experiment and want to keep track of the parameters you are passing into the solution. Rather than edit the inputs manually in the code, you can: \n",
    "\n",
    "- Read the arguments being passed into the code in a summarized form (no need to read the code and logic along side the inputs)\n",
    "- Edit the configuration file (all the relevant arguments will still be passed in as long as you don't change the form of the file)\n",
    "- Make a copy of the configuration file and save it elsewhere so you can compare results when you use different configurations\n",
    "\n",
    "### 1.2.3 - Arbitrary Arguments\n",
    "\n",
    "Sometimes you don't know how many arguments are going to be passed in. For example when you call print(), you can pass in as many strings as you like and the function will still run. This is because it uses **arbitrary arguments**. Use a single asterisk to indicate that a parameter can take in a variable number of values."
   ]
  },
  {
   "cell_type": "code",
   "execution_count": 9,
   "metadata": {
    "colab": {
     "base_uri": "https://localhost:8080/"
    },
    "executionInfo": {
     "elapsed": 7,
     "status": "ok",
     "timestamp": 1669217818678,
     "user": {
      "displayName": "Ian Chong",
      "userId": "10615222189260864195"
     },
     "user_tz": -480
    },
    "id": "UaRbVqkd_lSm",
    "outputId": "02418012-8e18-429b-a5d5-5d3fc4e6259c"
   },
   "outputs": [
    {
     "name": "stdout",
     "output_type": "stream",
     "text": [
      "6\n",
      "13\n"
     ]
    }
   ],
   "source": [
    "def find_sum(*numbers):\n",
    "    result = 0\n",
    "    \n",
    "    for num in numbers:\n",
    "        result = result + num\n",
    "    \n",
    "    return result    \n",
    "\n",
    "# function call with 3 arguments\n",
    "print(find_sum(1, 2, 3))\n",
    "\n",
    "# function call with 2 arguments\n",
    "print(find_sum(4, 9))"
   ]
  },
  {
   "cell_type": "markdown",
   "metadata": {
    "id": "CEFG-qRFNDG7"
   },
   "source": [
    "### 1.2.4 - Lexical Scoping\n",
    "\n",
    "Another very important concept - see [Real Python for more info](https://realpython.com/python-scope-legb-rule/). Variables declared in the main body of the code are `global` variables, and are available for use everywhere. Variables declared within functions are `local` and are only available for use within the function. The moment the code exits the function, the variables are lost.\n",
    "\n",
    "![](https://www.pythontutorial.net/wp-content/uploads/2020/11/Python-Variable-Scopes.png)"
   ]
  },
  {
   "cell_type": "code",
   "execution_count": 10,
   "metadata": {
    "colab": {
     "base_uri": "https://localhost:8080/"
    },
    "executionInfo": {
     "elapsed": 6,
     "status": "ok",
     "timestamp": 1669217818678,
     "user": {
      "displayName": "Ian Chong",
      "userId": "10615222189260864195"
     },
     "user_tz": -480
    },
    "id": "jJ_lu0SZNChB",
    "outputId": "c5bbcecb-aa66-4d55-a080-df9fb5104049"
   },
   "outputs": [
    {
     "name": "stdout",
     "output_type": "stream",
     "text": [
      "I can access the global variable 'Richard'\n",
      "I can access the local variable 'ThisIsMyArgument'\n",
      "I can access the value of my_parameter because it was returned from the function and saved into result:  ThisIsMyArgument\n",
      "I cannot access the local variable my_parameter directly.\n"
     ]
    }
   ],
   "source": [
    "my_global_variable = \"Richard\"\n",
    "\n",
    "def func_scope_demo(my_parameter):\n",
    "    print(f\"I can access the global variable '{my_global_variable}'\")\n",
    "    print(f\"I can access the local variable '{my_parameter}'\")\n",
    "    return my_parameter\n",
    "\n",
    "result = func_scope_demo(\"ThisIsMyArgument\")\n",
    "\n",
    "print(\"I can access the value of my_parameter because it was returned from the function and saved into result: \",result)\n",
    "\n",
    "try:\n",
    "    print(\"Can I access the impossible?: \", my_parameter)\n",
    "except:\n",
    "    print(\"I cannot access the local variable my_parameter directly.\")"
   ]
  },
  {
   "cell_type": "markdown",
   "metadata": {
    "id": "_9l3zrsW_xwb"
   },
   "source": [
    "## 1.3 - Return Values\n",
    "\n",
    "When using flow control, a return statement will stop the function. In the below code, when `a` is below 10, the function returns a and exits without moving into the `return None` statement, showing that the first return statement makes Python exit execution.\n",
    "\n",
    "We will use this concept heavily in recursion later."
   ]
  },
  {
   "cell_type": "code",
   "execution_count": 11,
   "metadata": {
    "colab": {
     "base_uri": "https://localhost:8080/"
    },
    "executionInfo": {
     "elapsed": 6,
     "status": "ok",
     "timestamp": 1669217818679,
     "user": {
      "displayName": "Ian Chong",
      "userId": "10615222189260864195"
     },
     "user_tz": -480
    },
    "id": "_AWcYoIa-lS6",
    "outputId": "d60f46fb-d625-46c7-ab8e-e00723fa107a"
   },
   "outputs": [
    {
     "name": "stdout",
     "output_type": "stream",
     "text": [
      "1\n",
      "2\n",
      "3\n",
      "4\n",
      "5\n",
      "6\n",
      "7\n",
      "8\n",
      "9\n",
      "10\n",
      "i is larger than a, exiting function\n",
      "i is larger than a, exiting function\n",
      "i is larger than a, exiting function\n",
      "i is larger than a, exiting function\n",
      "i is larger than a, exiting function\n",
      "i is larger than a, exiting function\n",
      "i is larger than a, exiting function\n",
      "i is larger than a, exiting function\n",
      "i is larger than a, exiting function\n"
     ]
    }
   ],
   "source": [
    "def my_func(a):\n",
    "    for i in range(a):\n",
    "        if a<=10:\n",
    "            return a        \n",
    "    \n",
    "    return \"i is larger than a, exiting function\"\n",
    "\n",
    "for i in range(1,20):\n",
    "    a = my_func(i)\n",
    "    print(a)"
   ]
  },
  {
   "cell_type": "markdown",
   "metadata": {
    "id": "F4Qmghj6ymYy"
   },
   "source": [
    "In Python, everything is an object. Even a function! We can rename a function as such. This is important as it is a prelude to decorators, which are basically functions which take another function as an argument and modify its behaviour without modifying the function passed in as an argument."
   ]
  },
  {
   "cell_type": "code",
   "execution_count": 12,
   "metadata": {
    "colab": {
     "base_uri": "https://localhost:8080/"
    },
    "executionInfo": {
     "elapsed": 340,
     "status": "ok",
     "timestamp": 1669217819014,
     "user": {
      "displayName": "Ian Chong",
      "userId": "10615222189260864195"
     },
     "user_tz": -480
    },
    "id": "TkIFYnlih5tE",
    "outputId": "bc865dde-8c41-42d3-c1bc-cbeabdaf6194"
   },
   "outputs": [
    {
     "data": {
      "text/plain": [
       "[1, 4, 9, 16]"
      ]
     },
     "execution_count": 12,
     "metadata": {},
     "output_type": "execute_result"
    }
   ],
   "source": [
    "another_function = square_list\n",
    "\n",
    "another_square = another_function([1,2,3,4])\n",
    "\n",
    "another_square"
   ]
  },
  {
   "cell_type": "markdown",
   "metadata": {
    "id": "8_Cqig5N_AGV"
   },
   "source": [
    "----\n",
    "\n",
    "# Section 2 - Higher Order Functions\n",
    "\n",
    "Python functions can take other functions as arguments, allowing us to modify the behaviour in powerful ways. Let's start with a simple case of applying a function to a list of strings.\n",
    "\n",
    "## 2.1 - `map`"
   ]
  },
  {
   "cell_type": "code",
   "execution_count": 13,
   "metadata": {
    "executionInfo": {
     "elapsed": 13,
     "status": "ok",
     "timestamp": 1669217819014,
     "user": {
      "displayName": "Ian Chong",
      "userId": "10615222189260864195"
     },
     "user_tz": -480
    },
    "id": "eZnqW-0nyxSC"
   },
   "outputs": [],
   "source": [
    "my_list = ['Ian','Richard', 'RJ', 'Kwong']"
   ]
  },
  {
   "cell_type": "markdown",
   "metadata": {
    "id": "SjhQBkwJqTxT"
   },
   "source": [
    "You could use a simple for loop to get what you want."
   ]
  },
  {
   "cell_type": "code",
   "execution_count": 14,
   "metadata": {
    "colab": {
     "base_uri": "https://localhost:8080/"
    },
    "executionInfo": {
     "elapsed": 14,
     "status": "ok",
     "timestamp": 1669217819015,
     "user": {
      "displayName": "Ian Chong",
      "userId": "10615222189260864195"
     },
     "user_tz": -480
    },
    "id": "kWr1uUjpqYET",
    "outputId": "2bc89453-0518-4bf0-f66c-5c81b774c720"
   },
   "outputs": [
    {
     "data": {
      "text/plain": [
       "['IAN', 'RICHARD', 'RJ', 'KWONG']"
      ]
     },
     "execution_count": 14,
     "metadata": {},
     "output_type": "execute_result"
    }
   ],
   "source": [
    "upper_list = [i.upper() for i in my_list]\n",
    "upper_list"
   ]
  },
  {
   "cell_type": "markdown",
   "metadata": {
    "id": "MCDQl3S4qeQ6"
   },
   "source": [
    "Another way to do this is using the `map` function, which takes a function and an iterable (list, tuple etc.) as arguments, and applies that function to each element in the iterable.\n",
    "\n",
    "For the below example, we define `uppercase()` and apply it to each element in `my_list`."
   ]
  },
  {
   "cell_type": "code",
   "execution_count": 15,
   "metadata": {
    "colab": {
     "base_uri": "https://localhost:8080/"
    },
    "executionInfo": {
     "elapsed": 12,
     "status": "ok",
     "timestamp": 1669217819015,
     "user": {
      "displayName": "Ian Chong",
      "userId": "10615222189260864195"
     },
     "user_tz": -480
    },
    "id": "-KIGsCSFqwR0",
    "outputId": "70468091-ecd9-44e4-d462-60c678037b01"
   },
   "outputs": [
    {
     "data": {
      "text/plain": [
       "['IAN', 'RICHARD', 'RJ', 'KWONG']"
      ]
     },
     "execution_count": 15,
     "metadata": {},
     "output_type": "execute_result"
    }
   ],
   "source": [
    "def uppercase(x):\n",
    "    return x.upper()\n",
    "\n",
    "upper_list_map = list(map(uppercase, my_list))\n",
    "upper_list_map"
   ]
  },
  {
   "cell_type": "markdown",
   "metadata": {
    "id": "3t4O4lJCrNcv"
   },
   "source": [
    "## 2.2 - `lambda`\n",
    "\n",
    "Also called anonymous functions. Unlike normal functions who stay in memory after you define them, lambdas will get erased after being executed.\n",
    "\n",
    "This may sound troublesome, and you will wonder why even bother?\n",
    "\n",
    "- **Firstly**, if the function is really simple, rather then defining it then calling it separately, you can define and call it in the same statement\n",
    "- **Secondly**, it is easy to have too many functions defined at the beginning of your program, and by the time you get 1000 lines in, you can forget what that function is supposed to do. Defining it at the point of execution might make logic easier to understand."
   ]
  },
  {
   "cell_type": "code",
   "execution_count": 16,
   "metadata": {
    "colab": {
     "base_uri": "https://localhost:8080/"
    },
    "executionInfo": {
     "elapsed": 11,
     "status": "ok",
     "timestamp": 1669217819015,
     "user": {
      "displayName": "Ian Chong",
      "userId": "10615222189260864195"
     },
     "user_tz": -480
    },
    "id": "P4IadOmPr-zI",
    "outputId": "a7e180fa-2be6-4a62-cf21-69c082b0ea93"
   },
   "outputs": [
    {
     "data": {
      "text/plain": [
       "['IAN', 'RICHARD', 'RJ', 'KWONG']"
      ]
     },
     "execution_count": 16,
     "metadata": {},
     "output_type": "execute_result"
    }
   ],
   "source": [
    "upper_list_lambda = list(map(lambda x: x.upper(), upper_list))\n",
    "upper_list_lambda"
   ]
  },
  {
   "cell_type": "markdown",
   "metadata": {
    "id": "2oUkAeQ0sFfR"
   },
   "source": [
    "How `lambda` works is it will substitute the elements in the iterable into the variable that comes immediately after lambda.\n",
    "\n",
    "In the above case, `x` will represent each element in `upper_list`, and the method `.upper()` will be called on each element.\n",
    "\n",
    "## 2.3 - `filter`\n",
    "\n",
    "Can be called on an iterable to filter out elements where the logical function evaluates to `False`. Since 'Ian' and 'RJ' are shorter than 4, they get filtered out."
   ]
  },
  {
   "cell_type": "code",
   "execution_count": 17,
   "metadata": {
    "colab": {
     "base_uri": "https://localhost:8080/"
    },
    "executionInfo": {
     "elapsed": 10,
     "status": "ok",
     "timestamp": 1669217819015,
     "user": {
      "displayName": "Ian Chong",
      "userId": "10615222189260864195"
     },
     "user_tz": -480
    },
    "id": "ZPRCFcctuepb",
    "outputId": "d3167dd1-aa31-43fc-b2eb-386c70de8c64"
   },
   "outputs": [
    {
     "data": {
      "text/plain": [
       "['Richard', 'Kwong']"
      ]
     },
     "execution_count": 17,
     "metadata": {},
     "output_type": "execute_result"
    }
   ],
   "source": [
    "list(filter(lambda x: len(x)>4, my_list))"
   ]
  },
  {
   "cell_type": "markdown",
   "metadata": {
    "id": "vdC8TLNA-IIm"
   },
   "source": [
    "----\n",
    "\n",
    "# Section 3 - Recursion\n",
    "\n",
    "![warning](https://cdn.searchenginejournal.com/wp-content/uploads/2017/05/shutterstock_389230123-760x400.jpg)\n",
    "\n",
    "This is your first heavy computer science concept. A recursive is a function that calls itself, used extensively in paradigms such as divide-and-conquer and dynamic programming. Algorithms that use recursive solutions are tough to understand and often stump beginners. While you rarely need to use recursion in your daily life, its a cornerstone of computer science education so you need to get this down pat.\n",
    "\n",
    "![](https://cdn-media-1.freecodecamp.org/images/1*QrQ5uFKIhK3jQSFYeRBIRg.png)\n",
    "\n",
    "The one take away from this crash course is you must always specify your **base case**. This is what ensures your recursive function will not endlessly call itself and crash your computer.\n",
    "\n",
    "For an example, we will follow the factorial example in [Real Python - Recursion](https://realpython.com/python-recursion/).\n",
    "\n",
    "$n!=n\\times (n-1)\\times (n-2) \\dots \\times 2\\times 1$"
   ]
  },
  {
   "cell_type": "code",
   "execution_count": 18,
   "metadata": {
    "colab": {
     "base_uri": "https://localhost:8080/"
    },
    "executionInfo": {
     "elapsed": 10,
     "status": "ok",
     "timestamp": 1669217819016,
     "user": {
      "displayName": "Ian Chong",
      "userId": "10615222189260864195"
     },
     "user_tz": -480
    },
    "id": "ofr6pvEf-J2F",
    "outputId": "aeb64e62-2089-4e9a-a1c1-ab215fae6231"
   },
   "outputs": [
    {
     "name": "stdout",
     "output_type": "stream",
     "text": [
      "Calling recursion: Computing 5 times 4!\n",
      "Calling recursion: Computing 4 times 3!\n",
      "Calling recursion: Computing 3 times 2!\n",
      "Calling recursion: Computing 2 times 1!\n",
      "Halting recursion at base case of 1\n"
     ]
    },
    {
     "data": {
      "text/plain": [
       "120"
      ]
     },
     "execution_count": 18,
     "metadata": {},
     "output_type": "execute_result"
    }
   ],
   "source": [
    "def factorial(n):    \n",
    "    if n <= 1:\n",
    "        print(f\"Halting recursion at base case of {n}\")\n",
    "        return 1\n",
    "\n",
    "    else:\n",
    "        print(f\"Calling recursion: Computing {n} times {n-1}!\")\n",
    "        return n*factorial(n-1)\n",
    "\n",
    "factorial(5)"
   ]
  },
  {
   "cell_type": "markdown",
   "metadata": {
    "id": "ez1W2LOjA9fb"
   },
   "source": [
    "My method of understanding recursion is starting from the base case\n",
    "\n",
    "The base case is sort of like your ground truth, and then work your way out one level of recursion and see how the function works:\n",
    "\n",
    "$Factorial(n)=n\\times Factorial(n-1)$\n",
    "\n",
    "When your $n=2$, it becomes:\n",
    "\n",
    "$Factorial(2)=2\\times Factorial(1)$\n",
    "\n",
    "But we already specified that $Factorial(1)=1$ so that function call returns 1. Now substitute the result inside the above equation. So now it becomes $2\\times 1$. \n",
    "\n",
    "Now that you know that $Factorial(2)=2$, you can work your way up to: \n",
    "\n",
    "$Factorial(3)=3\\times Factorial(2)=3\\times 2$\n",
    "\n",
    "And so on and so forth.\n",
    "\n",
    "This paradigm is what dynamic programming is about. You find a base case where the solution is easiest, and then slowly expand the algorithm to cover the available solution space. The idea is, if you found a solution to the problem for all cases that are simpler than the current case, you can build on those cases as opposed to computing a solution from scratch and doing the work again.\n",
    "\n",
    "For another example, we can use the definition of $\\phi$, the Golden Ratio. It can be recursively defined as:\n",
    "\n",
    "$\\phi = 1+\\frac{1}{1+\\frac{1}{1+\\dots}}$\n",
    "\n",
    "We can hence calculate it in Python. Specify a recursion depth and manually decrement the recursion counter. When the counter hits 0, return the base case."
   ]
  },
  {
   "cell_type": "code",
   "execution_count": 19,
   "metadata": {
    "colab": {
     "base_uri": "https://localhost:8080/"
    },
    "executionInfo": {
     "elapsed": 9,
     "status": "ok",
     "timestamp": 1669217819016,
     "user": {
      "displayName": "Ian Chong",
      "userId": "10615222189260864195"
     },
     "user_tz": -480
    },
    "id": "_o540YZNnEgf",
    "outputId": "5de553a5-b102-4685-cfa6-3e2b3f688f4c"
   },
   "outputs": [
    {
     "data": {
      "text/plain": [
       "1.6180257510729614"
      ]
     },
     "execution_count": 19,
     "metadata": {},
     "output_type": "execute_result"
    }
   ],
   "source": [
    "recursion_depth = 10\n",
    "\n",
    "def phi(recursion_depth):\n",
    "    if recursion_depth==0:\n",
    "        return 1+1/(1+1)\n",
    "    else:\n",
    "        return 1+1/phi(recursion_depth-1)\n",
    "\n",
    "phi(10)"
   ]
  },
  {
   "cell_type": "markdown",
   "metadata": {
    "id": "0rPR-P7Nuur8"
   },
   "source": [
    "----\n",
    "\n",
    "# Section 4 - Closure and Decorators\n",
    "\n",
    "This is an advanced topic, but invaluable on the job. See [Programiz](https://www.programiz.com/python-programming/decorator) for more details.\n",
    "\n",
    "In Python, functions are first class objects which means that functions in Python can be used or passed as arguments. (Function within a function)\n",
    "\n",
    "Decorators are used to modify the behaviour of function or class. In Decorators, functions are taken as the argument into another function and then called inside the wrapper function.\n",
    "\n",
    "## 4.1 - Closure\n",
    "\n",
    "Before tackling decorators, we need to understand very clearly what a **closure**, and by extension, **scope** is. Only then can we proceed to the slightly more advanced concept of decorator.\n",
    "\n",
    "> A function defined inside another function is called a **nested function**. Nested functions can access variables of the enclosing **scope**. \n",
    "\n",
    "See the following illustration for a visualization of the concept.\n",
    "\n",
    "![closure](https://miro.medium.com/max/720/1*zjrkiqxMi7Dy5aFL2OkawQ.jpeg)\n",
    "\n",
    "The code within the function `f(x)` is the closure to which `g(y)` can access non local variables."
   ]
  },
  {
   "cell_type": "code",
   "execution_count": 20,
   "metadata": {
    "colab": {
     "base_uri": "https://localhost:8080/"
    },
    "executionInfo": {
     "elapsed": 9,
     "status": "ok",
     "timestamp": 1669217819016,
     "user": {
      "displayName": "Ian Chong",
      "userId": "10615222189260864195"
     },
     "user_tz": -480
    },
    "id": "jhL9IAERv_EK",
    "outputId": "f4ffad6b-ae69-4f9e-d266-9b03a8b8dbc4"
   },
   "outputs": [
    {
     "name": "stdout",
     "output_type": "stream",
     "text": [
      "Hello\n"
     ]
    }
   ],
   "source": [
    "def print_msg(msg):\n",
    "    # This is the outer enclosing function\n",
    "\n",
    "    def printer():\n",
    "        # This is the nested function\n",
    "        print(msg)\n",
    "\n",
    "    return printer  # returns the nested function\n",
    "\n",
    "\n",
    "# Now let's try calling this function.\n",
    "# Output: Hello\n",
    "another = print_msg(\"Hello\")\n",
    "another()"
   ]
  },
  {
   "cell_type": "markdown",
   "metadata": {
    "id": "_443FYFwwGEx"
   },
   "source": [
    "Notice how the parameter `msg` in the outer function (`print_msg()`) is available to the inner function `printer()`? \n",
    "\n",
    "Also, notice how `print_msg()` was assigned to another name `another` and calling `another()` automatically passed the `\"Hello\"` string as an argument?\n",
    "\n",
    "`msg` is a variable within the **scope** of `print_msg()`, and \n",
    "\n",
    "These will be very important in your understanding of how a decorator works.\n",
    "\n",
    "## 4.2 - Decorator\n",
    "\n",
    "Once you're clear on the ideas of scope and closure, we can take a look at this simple decorator example.\n",
    "\n",
    "`hello_decorator()` is itself the decorator."
   ]
  },
  {
   "cell_type": "code",
   "execution_count": 21,
   "metadata": {
    "executionInfo": {
     "elapsed": 8,
     "status": "ok",
     "timestamp": 1669217819016,
     "user": {
      "displayName": "Ian Chong",
      "userId": "10615222189260864195"
     },
     "user_tz": -480
    },
    "id": "RQoVnRwXnzcC"
   },
   "outputs": [],
   "source": [
    "def hello_decorator(func):\n",
    "    def inner1(*args, **kwargs):\n",
    "         \n",
    "        print(\"Before execution\")\n",
    "         \n",
    "        # getting the returned value\n",
    "        returned_value = func(*args, **kwargs)\n",
    "        print(\"After Execution\")\n",
    "         \n",
    "        # returning the value to the original frame\n",
    "        return returned_value\n",
    "         \n",
    "    return inner1"
   ]
  },
  {
   "cell_type": "markdown",
   "metadata": {
    "id": "dp_lsO_p0amL"
   },
   "source": [
    "But a decorator also needs to be given another function to which it will decorate. Let us design the following simple function `sum_two_numbers()` which takes two arguments `a` and `b`, and then adds them together.\n",
    "\n",
    "In the below code, the `@hello_decorator` basically means you are going to pass the function `sum_two_numbers()` whenever you call it to the `hello_decorator()` function, together with the arguments."
   ]
  },
  {
   "cell_type": "code",
   "execution_count": 22,
   "metadata": {
    "executionInfo": {
     "elapsed": 8,
     "status": "ok",
     "timestamp": 1669217819016,
     "user": {
      "displayName": "Ian Chong",
      "userId": "10615222189260864195"
     },
     "user_tz": -480
    },
    "id": "yPFzY6Fcu0I_"
   },
   "outputs": [],
   "source": [
    " # adding decorator to the function\n",
    "@hello_decorator\n",
    "def sum_two_numbers(a, b):\n",
    "    print(\"Inside the function\")\n",
    "    return a + b"
   ]
  },
  {
   "cell_type": "code",
   "execution_count": 23,
   "metadata": {
    "colab": {
     "base_uri": "https://localhost:8080/"
    },
    "executionInfo": {
     "elapsed": 8,
     "status": "ok",
     "timestamp": 1669217819017,
     "user": {
      "displayName": "Ian Chong",
      "userId": "10615222189260864195"
     },
     "user_tz": -480
    },
    "id": "380pP2rPu2yu",
    "outputId": "b77f12b2-64fe-4eed-8b8e-6fe4d31f8c65"
   },
   "outputs": [
    {
     "name": "stdout",
     "output_type": "stream",
     "text": [
      "Before execution\n",
      "Inside the function\n",
      "After Execution\n",
      "Sum = 3\n"
     ]
    }
   ],
   "source": [
    "a, b = 1, 2\n",
    " \n",
    "# getting the value through return of the function\n",
    "print(\"Sum =\", sum_two_numbers(a, b))"
   ]
  },
  {
   "cell_type": "markdown",
   "metadata": {
    "id": "A4SVS5zt3Yhd"
   },
   "source": [
    "The good thing about decorators is, they're meant to be reusable with other functions. Let's say you are designing a website and there's a particular way of doing things which is enforced by a decorator. The decorator could be handling issues like the fonts required, the precise area in the page to which your code pertains etc.\n",
    "\n",
    "Defining a function to work with the decorator will save you a lot of trouble of dealing with the underlying issues that the decorator is trying to abstract away for you.\n",
    "\n",
    "Let's define another function."
   ]
  },
  {
   "cell_type": "code",
   "execution_count": 24,
   "metadata": {
    "colab": {
     "base_uri": "https://localhost:8080/",
     "height": 87
    },
    "executionInfo": {
     "elapsed": 7,
     "status": "ok",
     "timestamp": 1669217819017,
     "user": {
      "displayName": "Ian Chong",
      "userId": "10615222189260864195"
     },
     "user_tz": -480
    },
    "id": "K6QOcocn3u-a",
    "outputId": "427fa1d2-59e0-43d0-a72f-34296dbe6a83"
   },
   "outputs": [
    {
     "name": "stdout",
     "output_type": "stream",
     "text": [
      "Before execution\n",
      "Returning:  ianrichard\n",
      "After Execution\n"
     ]
    },
    {
     "data": {
      "text/plain": [
       "'ianrichard'"
      ]
     },
     "execution_count": 24,
     "metadata": {},
     "output_type": "execute_result"
    }
   ],
   "source": [
    "@hello_decorator\n",
    "def concatenate(*args):\n",
    "    result = \"\".join([i for i in args])\n",
    "    print(\"Returning: \",result)\n",
    "    return result\n",
    "\n",
    "concatenate(\"ian\",\"richard\")"
   ]
  }
 ],
 "metadata": {
  "colab": {
   "authorship_tag": "ABX9TyPROlFMK7KBYXUzEtFvtqHX",
   "provenance": []
  },
  "kernelspec": {
   "display_name": "Python 3 (ipykernel)",
   "language": "python",
   "name": "python3"
  },
  "language_info": {
   "codemirror_mode": {
    "name": "ipython",
    "version": 3
   },
   "file_extension": ".py",
   "mimetype": "text/x-python",
   "name": "python",
   "nbconvert_exporter": "python",
   "pygments_lexer": "ipython3",
   "version": "3.9.6"
  }
 },
 "nbformat": 4,
 "nbformat_minor": 4
}
