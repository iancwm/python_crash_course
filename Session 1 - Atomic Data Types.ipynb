{
 "cells": [
  {
   "cell_type": "markdown",
   "metadata": {
    "id": "YLyzIOwbNOv4"
   },
   "source": [
    "<h1><font color='blue'>Session 1 - Atomic Data Types</font></h1>\n",
    "\n",
    "We will focus on the basic data types that you should know before proceeding further. They are called atomic because in Python, you cannot get any more granular than these unless you go into machine code (1's and 0's). You can liken them to bricks in construction because if you break down a brick you get dust. Which is not very useful....\n",
    "\n",
    "The atomic data types are `int`, `float`, `bool` and `str`\n",
    "\n",
    "![data types](https://i.imgur.com/6cg2E9Q.png)\n",
    "\n",
    "Before we being, the code is run on Google Colaboratory, which is a Google-hosted version of Jupyter Notebook. Jupyter Notebook is an easy way to run Python code in an interactive manner through an interface like Excel cells. The architecture is shown below\n",
    "\n",
    "![](https://miro.medium.com/max/720/1*OSnF3tM2sXsVXrmM4qV2qw.png)\n",
    "\n",
    "Since the kernel resides on Google's servers and not your own computer, reading and writing files will be challenging and requires additional setup. It is recommended you download the notebooks and run it on your own Jupyter Notebook server locally.\n",
    "\n",
    "And now, without further ado, let's learn a little bit of everything about Python!\n",
    "\n",
    "----"
   ]
  },
  {
   "cell_type": "markdown",
   "metadata": {
    "id": "ugsYGhVsPKTt"
   },
   "source": [
    "# Section 1 - Numerical Data\n",
    "\n",
    "Computers like numbers. They're easy to store in memory and operate with. We will further breakdown numerical data into integers (hereafter referred to as `int`) and floating point (`float`). [Boring discourse here](https://en.wikipedia.org/wiki/IEEE_754).\n",
    "\n",
    "For all numerical data you can perform arithmetic operations like addition, subtraction, multiplication and division, as well as exponential calculations.\n",
    "\n",
    "## 1a - `int`\n",
    "\n",
    "An integer is a whole number with no decimal. It is useful as a tool to index your data e.g. the first element in a list or the third letter in a word.\n",
    "\n",
    "\n",
    "### Quick note on variable assignment\n",
    "Note: Here we will also teach you about variable assignment. \n",
    "\n",
    "> A single equals sign (=) means assignment \n",
    "\n",
    "> An operator followed by an equals sign (`+=` or `-=` or `*=` or `/=`) means concurrent operation and assignment i.e. if `a=1`, and then you execute `a+=1`, Python will add 1 to `a` and then assign that result back to `a` meaning `a` is now 2.\n",
    "\n",
    "i.e. binding a value to a variable. \n",
    "\n",
    "> A double equals sign (==) means equivalence\n",
    "\n",
    "If you want to compare whether two variables or expressions are the same, use two equals (==). This expression will return `True` or `False` and is known as a logical operator. We will cover this in detail in the section on Boolean values.\n",
    "\n",
    "### print() function\n",
    "Used to display outputs on the console. Can print multiple inputs in a single function call."
   ]
  },
  {
   "cell_type": "code",
   "execution_count": 1,
   "metadata": {
    "colab": {
     "base_uri": "https://localhost:8080/"
    },
    "executionInfo": {
     "elapsed": 52,
     "status": "ok",
     "timestamp": 1670028010655,
     "user": {
      "displayName": "Ian Chong",
      "userId": "10615222189260864195"
     },
     "user_tz": -480
    },
    "id": "CL1KSc6tNMpM",
    "outputId": "c851f103-d1fe-4018-d109-2b00239a410c"
   },
   "outputs": [
    {
     "name": "stdout",
     "output_type": "stream",
     "text": [
      "5\n",
      "<class 'int'>\n",
      "6\n",
      "<class 'int'>\n"
     ]
    }
   ],
   "source": [
    "a = 5\n",
    "print(a)\n",
    "print(type(a))\n",
    "\n",
    "a += 1\n",
    "\n",
    "print(a)\n",
    "print(type(a))"
   ]
  },
  {
   "cell_type": "code",
   "execution_count": 2,
   "metadata": {
    "colab": {
     "base_uri": "https://localhost:8080/"
    },
    "executionInfo": {
     "elapsed": 51,
     "status": "ok",
     "timestamp": 1670028010656,
     "user": {
      "displayName": "Ian Chong",
      "userId": "10615222189260864195"
     },
     "user_tz": -480
    },
    "id": "SZzLPCmgO5Wy",
    "outputId": "804e3a6e-dccb-433e-eee9-5e0a3da54d85"
   },
   "outputs": [
    {
     "name": "stdout",
     "output_type": "stream",
     "text": [
      "2\n",
      "<class 'int'>\n"
     ]
    }
   ],
   "source": [
    "b = 2\n",
    "print(b)\n",
    "print(type(b))"
   ]
  },
  {
   "cell_type": "code",
   "execution_count": 3,
   "metadata": {
    "colab": {
     "base_uri": "https://localhost:8080/"
    },
    "executionInfo": {
     "elapsed": 49,
     "status": "ok",
     "timestamp": 1670028010657,
     "user": {
      "displayName": "Ian Chong",
      "userId": "10615222189260864195"
     },
     "user_tz": -480
    },
    "id": "16H7gwmaVZwD",
    "outputId": "e614d69f-96f3-4e6b-8496-ea26d2193fdf"
   },
   "outputs": [
    {
     "name": "stdout",
     "output_type": "stream",
     "text": [
      "3\n",
      "<class 'int'>\n"
     ]
    }
   ],
   "source": [
    "c = 3\n",
    "print(c)\n",
    "print(type(c))"
   ]
  },
  {
   "cell_type": "markdown",
   "metadata": {
    "id": "4scoqKtYPT9I"
   },
   "source": [
    "Variables `a` and `b` are now stored in memory. You can now do things with them. The following are examples of what you can do with two variables.\n",
    "\n",
    "- addition (`+`)\n",
    "- subtraction (`-`)\n",
    "- multiplication (`*`)\n",
    "- division (`/`)\n",
    "- exponential (`**`)\n",
    "- modulo a.k.a remainder (`%`)\n",
    "- quotient (`//`)\n",
    "\n",
    "Note: As in regular mathematics, $BEDMAS$ rule applies."
   ]
  },
  {
   "cell_type": "code",
   "execution_count": 4,
   "metadata": {
    "colab": {
     "base_uri": "https://localhost:8080/"
    },
    "executionInfo": {
     "elapsed": 48,
     "status": "ok",
     "timestamp": 1670028010657,
     "user": {
      "displayName": "Ian Chong",
      "userId": "10615222189260864195"
     },
     "user_tz": -480
    },
    "id": "V8Wq2xQ3PSVM",
    "outputId": "1a3c7a2c-55fa-4b50-c095-5d5ba1ca8143"
   },
   "outputs": [
    {
     "name": "stdout",
     "output_type": "stream",
     "text": [
      "The sum of a and b is:  5\n",
      "The difference between a and b is:  15\n",
      "The product of a and b is:  -50\n",
      "The result of (a+b)*c is:  35\n",
      "The result of (a+b*c is:  -25\n",
      "a divided b is:  -2.0\n",
      "a to the power of b is:  1e-05\n",
      "The remainder when a is divided by b is:  0\n",
      "The quotient when a is divided by b is:  -2\n"
     ]
    }
   ],
   "source": [
    "a = 10\n",
    "b = -5\n",
    "c = 7\n",
    "\n",
    "print(\"The sum of a and b is: \",a+b)\n",
    "print(\"The difference between a and b is: \",a-b)\n",
    "print(\"The product of a and b is: \",a*b)\n",
    "print(\"The result of (a+b)*c is: \",(a+b)*c)\n",
    "print(\"The result of (a+b*c is: \",a+b*c)\n",
    "print(\"a divided b is: \",a/b)\n",
    "print(\"a to the power of b is: \",a**b)\n",
    "print(\"The remainder when a is divided by b is: \",a%b)\n",
    "print(\"The quotient when a is divided by b is: \",a//b)"
   ]
  },
  {
   "cell_type": "markdown",
   "metadata": {
    "id": "rpgMGSCjQmC7"
   },
   "source": [
    "The modulo (`%`) operator is useful for keeping a numerical quantity to be bounded within a range. I.e. if you want to select a card from a deck and you have a large random number, you can calculate the modulus of 52 with it and your answer will always be between 0 and 52\n",
    "\n",
    "Notice that there is a decimal point when you take a/b. That is no longer an integer, but an......\n",
    "\n",
    "## 1b - `float`\n",
    "\n",
    "When you add, subtract and multiply integers, you get integers back. But whenever you divide, you ALWAYS get a `float` back."
   ]
  },
  {
   "cell_type": "code",
   "execution_count": 5,
   "metadata": {
    "colab": {
     "base_uri": "https://localhost:8080/"
    },
    "executionInfo": {
     "elapsed": 45,
     "status": "ok",
     "timestamp": 1670028010657,
     "user": {
      "displayName": "Ian Chong",
      "userId": "10615222189260864195"
     },
     "user_tz": -480
    },
    "id": "wNvTyk6XQOg9",
    "outputId": "94dc458a-df08-490a-dad4-ebb15675386e"
   },
   "outputs": [
    {
     "data": {
      "text/plain": [
       "float"
      ]
     },
     "execution_count": 5,
     "metadata": {},
     "output_type": "execute_result"
    }
   ],
   "source": [
    "type(a/b)"
   ]
  },
  {
   "cell_type": "markdown",
   "metadata": {
    "id": "lQJitJIqRFrV"
   },
   "source": [
    "### Coercion\n",
    "\n",
    "If your code requires you numerical input be of a different type, you can coerce or cast the input to be a different type.\n",
    "\n",
    "Note: int will typecast by removing decimals, not rounding! See [w3schools](https://www.w3schools.com/python/python_casting.asp)"
   ]
  },
  {
   "cell_type": "code",
   "execution_count": 6,
   "metadata": {
    "colab": {
     "base_uri": "https://localhost:8080/"
    },
    "executionInfo": {
     "elapsed": 45,
     "status": "ok",
     "timestamp": 1670028010658,
     "user": {
      "displayName": "Ian Chong",
      "userId": "10615222189260864195"
     },
     "user_tz": -480
    },
    "id": "vnIiHr-rRELd",
    "outputId": "98d344df-4185-4ccf-cc35-fb9dc9947146"
   },
   "outputs": [
    {
     "data": {
      "text/plain": [
       "-2"
      ]
     },
     "execution_count": 6,
     "metadata": {},
     "output_type": "execute_result"
    }
   ],
   "source": [
    "int(a/b)"
   ]
  },
  {
   "cell_type": "code",
   "execution_count": 7,
   "metadata": {
    "colab": {
     "base_uri": "https://localhost:8080/",
     "height": 35
    },
    "executionInfo": {
     "elapsed": 43,
     "status": "ok",
     "timestamp": 1670028010658,
     "user": {
      "displayName": "Ian Chong",
      "userId": "10615222189260864195"
     },
     "user_tz": -480
    },
    "id": "4L8NtLQPTAgC",
    "outputId": "a868e9ff-2c23-42a1-d00a-40ac39af0fb2"
   },
   "outputs": [
    {
     "data": {
      "text/plain": [
       "'-2.0'"
      ]
     },
     "execution_count": 7,
     "metadata": {},
     "output_type": "execute_result"
    }
   ],
   "source": [
    "str(a/b)"
   ]
  },
  {
   "cell_type": "markdown",
   "metadata": {
    "id": "BfyqTpcZTdDV"
   },
   "source": [
    "## 1c - `bool`\n",
    "\n",
    "Boolean values simply mean `True` or `False`. They are commonly represented by 0 for `False` and 1 for `True`. Whenever you use logical operators, you get a Boolean value. e.g. when you ask Python whether `a` is larger than/smaller than/equal to `b`:"
   ]
  },
  {
   "cell_type": "code",
   "execution_count": 8,
   "metadata": {
    "colab": {
     "base_uri": "https://localhost:8080/"
    },
    "executionInfo": {
     "elapsed": 42,
     "status": "ok",
     "timestamp": 1670028010658,
     "user": {
      "displayName": "Ian Chong",
      "userId": "10615222189260864195"
     },
     "user_tz": -480
    },
    "id": "EuEUWcisTDJ9",
    "outputId": "07b701da-b222-4614-d764-fc605a4ed871"
   },
   "outputs": [
    {
     "name": "stdout",
     "output_type": "stream",
     "text": [
      "Is a greater than b?:  True\n",
      "Is a lesser than b?:  False\n",
      "Is a equal to b?:  False\n"
     ]
    }
   ],
   "source": [
    "a=7\n",
    "b=5\n",
    "print(\"Is a greater than b?: \",a>b)\n",
    "print(\"Is a lesser than b?: \",a<b)\n",
    "print(\"Is a equal to b?: \",a==b)"
   ]
  },
  {
   "cell_type": "markdown",
   "metadata": {
    "id": "i76MEgwQUKDz"
   },
   "source": [
    "> Quick note: Now that we have assigned new values to a and b, the old values get discarded."
   ]
  },
  {
   "cell_type": "code",
   "execution_count": 9,
   "metadata": {
    "colab": {
     "base_uri": "https://localhost:8080/"
    },
    "executionInfo": {
     "elapsed": 41,
     "status": "ok",
     "timestamp": 1670028010659,
     "user": {
      "displayName": "Ian Chong",
      "userId": "10615222189260864195"
     },
     "user_tz": -480
    },
    "id": "0PjDYn4rUFez",
    "outputId": "42a8604e-e7d7-4a93-bc40-cd7e5e9742d3"
   },
   "outputs": [
    {
     "name": "stdout",
     "output_type": "stream",
     "text": [
      "7\n",
      "5\n"
     ]
    }
   ],
   "source": [
    "print(a)\n",
    "print(b)"
   ]
  },
  {
   "cell_type": "markdown",
   "metadata": {
    "id": "i7k4meFoV12p"
   },
   "source": [
    "Boolean values are very useful to influencing the logical flow of your program. For example, you can find out whether a number is odd or even, and then print out a different response according to whether the number is odd or even.\n",
    "\n",
    "Note: We will cover flow control in detail in later sections. the `if` statement requires that an expression that evaluates to either `True` or `False` immediately after it followed by a colon `:`, and executes the code that follows it if the expression is `True`. The code has to be indented.\n",
    "\n",
    "If the `if` portion evaluates to false, it will execute the code in the `else` portion. Note that you can nest another `if-else` within an `if-else` statement for more complex logic."
   ]
  },
  {
   "cell_type": "code",
   "execution_count": 10,
   "metadata": {
    "colab": {
     "base_uri": "https://localhost:8080/"
    },
    "executionInfo": {
     "elapsed": 39,
     "status": "ok",
     "timestamp": 1670028010659,
     "user": {
      "displayName": "Ian Chong",
      "userId": "10615222189260864195"
     },
     "user_tz": -480
    },
    "id": "RKzTps7uUQoB",
    "outputId": "086388ec-b8eb-4c01-99df-75beee127901"
   },
   "outputs": [
    {
     "name": "stdout",
     "output_type": "stream",
     "text": [
      "True\n",
      "number_to_check is even\n"
     ]
    }
   ],
   "source": [
    "number_to_check = 10\n",
    "\n",
    "print(number_to_check % 2 == 0)\n",
    "\n",
    "if number_to_check % 2 == 0: # If it can be divided by 2 with no remainder\n",
    "    print(\"number_to_check is even\")\n",
    "else:\n",
    "    print(\"number_to_check is odd\")"
   ]
  },
  {
   "cell_type": "markdown",
   "metadata": {
    "id": "fgpxWIoscDGa"
   },
   "source": [
    "----\n",
    "\n",
    "# Section 2 - Strings\n",
    "\n",
    "Textual data in programming are called strings, or `str` for short. Textual data is infinitely more complex than numerical data, and there many ways to manipulate strings. We will focus on the absolute basics for this notebook. [See here for more in depth coverage](https://www.pythoncheatsheet.org/cheatsheet/manipulating-strings).\n",
    "\n",
    "> **!!!IMPORTANT!!!** A string can be enclosed in single `'` or double quotes `\"`. If you want to use single or double quotes in your string, you need to make sure the quotes used to enclose the text are different. I.e. if you want to use `'`, enclose with `\"` and vice versa.\n",
    "\n",
    "You can also use escape characters `\\'` to negate any special characters and use the literal version. [Escape characters primer](https://www.scaler.com/topics/escape-sequence-in-python/) can be viewed here if interested."
   ]
  },
  {
   "cell_type": "code",
   "execution_count": 11,
   "metadata": {
    "colab": {
     "base_uri": "https://localhost:8080/"
    },
    "executionInfo": {
     "elapsed": 39,
     "status": "ok",
     "timestamp": 1670028010660,
     "user": {
      "displayName": "Ian Chong",
      "userId": "10615222189260864195"
     },
     "user_tz": -480
    },
    "id": "QGgdXN4IXH2W",
    "outputId": "bd7cdb60-98e5-4f1d-9182-f46a3c1e9e33"
   },
   "outputs": [
    {
     "name": "stdout",
     "output_type": "stream",
     "text": [
      "Hello Ian! Is your last name 'Chong'?\n",
      "Actually, I'm not even sure if your first name is even \"Ian\"\n"
     ]
    }
   ],
   "source": [
    "first_name = 'Ian'\n",
    "last_name = \"Chong\"\n",
    "print(f\"Hello {first_name}! Is your last name '{last_name}'?\")\n",
    "print(f\"Actually, I'm not even sure if your first name is even \\\"{first_name}\\\"\")"
   ]
  },
  {
   "cell_type": "markdown",
   "metadata": {
    "id": "2cZZ5KFZ9pf_"
   },
   "source": [
    "A common source of confusion when basic python code doesn't work is when you add a string representation of a number to another number. It will lead to unexpected behaviour. Coerce or handle the errors with `try` and `except`"
   ]
  },
  {
   "cell_type": "code",
   "execution_count": 12,
   "metadata": {
    "colab": {
     "base_uri": "https://localhost:8080/"
    },
    "executionInfo": {
     "elapsed": 38,
     "status": "ok",
     "timestamp": 1670028010660,
     "user": {
      "displayName": "Ian Chong",
      "userId": "10615222189260864195"
     },
     "user_tz": -480
    },
    "id": "_Z7B2LmM9xj5",
    "outputId": "317ff046-e2c1-439f-8ead-ebe12de90f34"
   },
   "outputs": [
    {
     "name": "stdout",
     "output_type": "stream",
     "text": [
      "3\n",
      "3.0\n",
      "12\n",
      "Cant add int to string. Always check your data types!\n"
     ]
    }
   ],
   "source": [
    "print(1+2) # this becomes int 3\n",
    "print(1+2.0) # this becomes float 3.0\n",
    "print('1'+'2') # this becomes string 12\n",
    "\n",
    "try:\n",
    "    1 + '2' # this results in an error\n",
    "except:\n",
    "    print(\"Cant add int to string. Always check your data types!\")"
   ]
  },
  {
   "cell_type": "code",
   "execution_count": 13,
   "metadata": {},
   "outputs": [
    {
     "name": "stdout",
     "output_type": "stream",
     "text": [
      "3\n",
      "12\n"
     ]
    }
   ],
   "source": [
    "# To fix the above, have to coerce!\n",
    "print(1+int('2'))\n",
    "print(str(1)+'2')"
   ]
  },
  {
   "cell_type": "markdown",
   "metadata": {
    "id": "zAxHKEmStPtC"
   },
   "source": [
    "## 2a - String formatting\n",
    "\n",
    "Many a time, we want to change the string programmatically i.e. without any human input. This is called string formatting. In Python the easiest way to do this is append an `f` in front of the string and use curly braces to encapsulate variables to inject into the string, as shown above.\n",
    "\n",
    "For numbers, you can even change the precision `in-situ` by using a few characters to specify after the variable name as shown below.\n",
    "\n",
    "See this [cookbook](https://mkaz.blog/code/python-string-format-cookbook/) for more details!"
   ]
  },
  {
   "cell_type": "code",
   "execution_count": 14,
   "metadata": {
    "colab": {
     "base_uri": "https://localhost:8080/"
    },
    "executionInfo": {
     "elapsed": 36,
     "status": "ok",
     "timestamp": 1670028010660,
     "user": {
      "displayName": "Ian Chong",
      "userId": "10615222189260864195"
     },
     "user_tz": -480
    },
    "id": "GuD7CByEs_kI",
    "outputId": "5cee6278-d869-4412-dba4-852df84bdebd"
   },
   "outputs": [
    {
     "name": "stdout",
     "output_type": "stream",
     "text": [
      "3.141592653589793\n",
      "Pi to 4 places is 3.1416\n"
     ]
    }
   ],
   "source": [
    "from math import pi\n",
    "print(pi)\n",
    "\n",
    "print(f\"Pi to 4 places is {pi:.4f}\")"
   ]
  },
  {
   "cell_type": "markdown",
   "metadata": {
    "id": "M68ZzjJruVo8"
   },
   "source": [
    "For further reference, [see this cheatsheet](https://www.pythoncheatsheet.org/cheatsheet/string-formatting)\n",
    "\n",
    "To store a multi-line string, use triple double-quotes `\"\"\"`."
   ]
  },
  {
   "cell_type": "code",
   "execution_count": 15,
   "metadata": {
    "colab": {
     "base_uri": "https://localhost:8080/"
    },
    "executionInfo": {
     "elapsed": 35,
     "status": "ok",
     "timestamp": 1670028010661,
     "user": {
      "displayName": "Ian Chong",
      "userId": "10615222189260864195"
     },
     "user_tz": -480
    },
    "id": "U5ZA5zkJucEY",
    "outputId": "f76f6d3d-538e-4509-e368-671e2f87dbb3"
   },
   "outputs": [
    {
     "name": "stdout",
     "output_type": "stream",
     "text": [
      "Pull on my\n",
      "motherfucking\n",
      "beads\n",
      "\n"
     ]
    }
   ],
   "source": [
    "my_string = \"\"\"Pull on my\n",
    "motherfucking\n",
    "beads\n",
    "\"\"\"\n",
    "\n",
    "print(my_string)"
   ]
  },
  {
   "cell_type": "markdown",
   "metadata": {},
   "source": [
    "Otherwise, you will have to use the newline character `\\n` within your string. A simple Enter will cause an error"
   ]
  },
  {
   "cell_type": "code",
   "execution_count": 16,
   "metadata": {},
   "outputs": [
    {
     "name": "stdout",
     "output_type": "stream",
     "text": [
      "alskdjfkjsadfl\n",
      "sjdklfjaks\n",
      "ldflkasjdkfjklasdj\n",
      "fasdjfkljasdfkjsakldjfl\n",
      "kasjdfklasjdklfjklasdfjasdflkjaskldjfklasjdf\n"
     ]
    }
   ],
   "source": [
    "my_string2= \"alskdjfkjsadfl\\nsjdklfjaks\\nldflkasjdkfjklasdj\\nfasdjfkljasdfkjsakldjfl\\nkasjdfklasjdklfjklasdfjasdflkjaskldjfklasjdf\"\n",
    "\n",
    "print(my_string2)"
   ]
  },
  {
   "cell_type": "markdown",
   "metadata": {
    "id": "peyKhH74y6bl"
   },
   "source": [
    "## 2b - String Operations"
   ]
  },
  {
   "cell_type": "markdown",
   "metadata": {
    "id": "e0kR3ZeRvPwJ"
   },
   "source": [
    "### 2ai) - Concatenation\n",
    "\n",
    "You can add strings together, or `concatenate` them."
   ]
  },
  {
   "cell_type": "code",
   "execution_count": 17,
   "metadata": {
    "colab": {
     "base_uri": "https://localhost:8080/"
    },
    "executionInfo": {
     "elapsed": 33,
     "status": "ok",
     "timestamp": 1670028010661,
     "user": {
      "displayName": "Ian Chong",
      "userId": "10615222189260864195"
     },
     "user_tz": -480
    },
    "id": "ooYX047yu6rW",
    "outputId": "cef978be-311e-4712-9d41-335dbac033f1"
   },
   "outputs": [
    {
     "name": "stdout",
     "output_type": "stream",
     "text": [
      "RichardSymonds\n"
     ]
    }
   ],
   "source": [
    "first_name = 'Richard'\n",
    "last_name = 'Symonds'\n",
    "full_name = first_name+last_name\n",
    "print(full_name)"
   ]
  },
  {
   "cell_type": "code",
   "execution_count": 18,
   "metadata": {},
   "outputs": [
    {
     "name": "stdout",
     "output_type": "stream",
     "text": [
      "Richard Symonds\n"
     ]
    }
   ],
   "source": [
    "print(first_name+' '+last_name)"
   ]
  },
  {
   "cell_type": "markdown",
   "metadata": {
    "id": "S0UApvKhviBl"
   },
   "source": [
    "Note that Python will not automatically add spaces between your strings. To join a collection of strings with a specified character between them, use the `.join()` method. In the following example, we join first_name and last_name on a single space. Functions and methods will be covered in detail in a later section"
   ]
  },
  {
   "cell_type": "code",
   "execution_count": 19,
   "metadata": {
    "colab": {
     "base_uri": "https://localhost:8080/"
    },
    "executionInfo": {
     "elapsed": 32,
     "status": "ok",
     "timestamp": 1670028010662,
     "user": {
      "displayName": "Ian Chong",
      "userId": "10615222189260864195"
     },
     "user_tz": -480
    },
    "id": "w4Zyh182vdN4",
    "outputId": "9e62d798-76a6-4b3b-bffc-c99ca1b725ec"
   },
   "outputs": [
    {
     "name": "stdout",
     "output_type": "stream",
     "text": [
      "My full name is Richard Symonds\n"
     ]
    }
   ],
   "source": [
    "full_name = \" \".join([first_name,last_name])\n",
    "print(\"My full name is \"+full_name)"
   ]
  },
  {
   "cell_type": "code",
   "execution_count": 20,
   "metadata": {},
   "outputs": [
    {
     "name": "stdout",
     "output_type": "stream",
     "text": [
      "super cali fragilistic expialidocious\n"
     ]
    }
   ],
   "source": [
    "my_list = [\"super\",\"cali\",\"fragilistic\",\"expialidocious\"]\n",
    "print(\" \".join(my_list))"
   ]
  },
  {
   "cell_type": "markdown",
   "metadata": {
    "id": "3SGgCovXy-Ib"
   },
   "source": [
    "### 2bi) - Indexing\n",
    "\n",
    "You can also subset strings using an indexer, which in Python is denoted by square brackets. This will segue into our next section on `lists`.\n",
    "\n",
    "![](https://media.geeksforgeeks.org/wp-content/uploads/List-Slicing.jpg)\n",
    "\n",
    "*Source: [GeeksForGeeks](https://www.geeksforgeeks.org/python-lists/)*\n",
    "\n",
    "Python is a *zero-based indexing* language. i.e. the first element is zero, second is one and so on and so forth. So if you want to subset \"`d`\" in \"Richard\", you subset it using `[6]`.\n",
    "\n",
    "Alternatively, you can use `[-1]` to select the last element in the string i.e. first from the end.\n",
    "\n",
    "If you want to subset a range of elements, you need to specify where the index starts and where it ends. The ending element will be the position of the last element plus one. \n",
    "\n",
    "Confusing? Think of it as having pointers segmenting a word. In \"Richard\", if you want to subset '`R`' and '`i`', the elements will be denoted as `[0:2]`. `0` will refer to the point before '`R`', and 2 will refer to the point just after '`i`'."
   ]
  },
  {
   "cell_type": "code",
   "execution_count": 21,
   "metadata": {
    "colab": {
     "base_uri": "https://localhost:8080/"
    },
    "executionInfo": {
     "elapsed": 31,
     "status": "ok",
     "timestamp": 1670028010662,
     "user": {
      "displayName": "Ian Chong",
      "userId": "10615222189260864195"
     },
     "user_tz": -480
    },
    "id": "W_3zzAoFvxCI",
    "outputId": "32d5caf5-06ce-4441-b08a-376f07342c23"
   },
   "outputs": [
    {
     "name": "stdout",
     "output_type": "stream",
     "text": [
      "first_name: Richard\n",
      "First element (zero-th character) in first_name:  R\n",
      "Last element (character -1) in first_name:  d\n"
     ]
    }
   ],
   "source": [
    "print(\"first_name:\", first_name)\n",
    "print(\"First element (zero-th character) in first_name: \",first_name[0])\n",
    "print(\"Last element (character -1) in first_name: \",first_name[-1])"
   ]
  },
  {
   "cell_type": "code",
   "execution_count": 22,
   "metadata": {
    "colab": {
     "base_uri": "https://localhost:8080/",
     "height": 35
    },
    "executionInfo": {
     "elapsed": 30,
     "status": "ok",
     "timestamp": 1670028010662,
     "user": {
      "displayName": "Ian Chong",
      "userId": "10615222189260864195"
     },
     "user_tz": -480
    },
    "id": "ybX0sWTtzTk0",
    "outputId": "81e5a16a-f7b5-48d2-e6ff-176ada0d2447"
   },
   "outputs": [
    {
     "data": {
      "text/plain": [
       "'Ri'"
      ]
     },
     "execution_count": 22,
     "metadata": {},
     "output_type": "execute_result"
    }
   ],
   "source": [
    "first_name[0:2]"
   ]
  },
  {
   "cell_type": "markdown",
   "metadata": {
    "id": "9a0drU3r0qxt"
   },
   "source": [
    "You can not only specify the start and end, but also the step of your selection i.e. how many positions to skip. The format will be `[start:stop:step]`.\n",
    "\n",
    "If you dont specify a start or stop, Python will take it to mean as the first or last character, respectively. So to print all characters after the 3rd element, use `[3:]`"
   ]
  },
  {
   "cell_type": "code",
   "execution_count": 23,
   "metadata": {
    "colab": {
     "base_uri": "https://localhost:8080/"
    },
    "executionInfo": {
     "elapsed": 30,
     "status": "ok",
     "timestamp": 1670028010663,
     "user": {
      "displayName": "Ian Chong",
      "userId": "10615222189260864195"
     },
     "user_tz": -480
    },
    "id": "-f5nPROk0o0Q",
    "outputId": "b92821f1-3c56-44d5-b56c-5b1b7cc4896d"
   },
   "outputs": [
    {
     "name": "stdout",
     "output_type": "stream",
     "text": [
      "hard\n",
      "Giggidy\n"
     ]
    }
   ],
   "source": [
    "print(first_name[3:])\n",
    "print(\"Giggidy\")"
   ]
  },
  {
   "cell_type": "markdown",
   "metadata": {
    "id": "q7CUmtQa1L3o"
   },
   "source": [
    "To print every alternate letter in the string, use a step of 2."
   ]
  },
  {
   "cell_type": "code",
   "execution_count": 24,
   "metadata": {
    "colab": {
     "base_uri": "https://localhost:8080/"
    },
    "executionInfo": {
     "elapsed": 29,
     "status": "ok",
     "timestamp": 1670028010663,
     "user": {
      "displayName": "Ian Chong",
      "userId": "10615222189260864195"
     },
     "user_tz": -480
    },
    "id": "EgOsyFoc09Pc",
    "outputId": "2e99a9b0-4bc9-46e4-ee5c-8e30a75914ed"
   },
   "outputs": [
    {
     "name": "stdout",
     "output_type": "stream",
     "text": [
      "Rcad\n"
     ]
    }
   ],
   "source": [
    "print(first_name[::2])"
   ]
  },
  {
   "cell_type": "markdown",
   "metadata": {
    "id": "pQSX9R5q1W55"
   },
   "source": [
    "What happens when you print a step of -1?"
   ]
  },
  {
   "cell_type": "code",
   "execution_count": 25,
   "metadata": {
    "colab": {
     "base_uri": "https://localhost:8080/"
    },
    "executionInfo": {
     "elapsed": 27,
     "status": "ok",
     "timestamp": 1670028010663,
     "user": {
      "displayName": "Ian Chong",
      "userId": "10615222189260864195"
     },
     "user_tz": -480
    },
    "id": "a3Qg_2lw1S1m",
    "outputId": "0083a3fd-94a0-4481-f886-a41d34c9608e"
   },
   "outputs": [
    {
     "name": "stdout",
     "output_type": "stream",
     "text": [
      "drahciR\n"
     ]
    }
   ],
   "source": [
    "print(first_name[::-1])"
   ]
  },
  {
   "cell_type": "code",
   "execution_count": 26,
   "metadata": {},
   "outputs": [],
   "source": [
    "my_string=\"Supercalifragilisticexpialidocious\""
   ]
  },
  {
   "cell_type": "code",
   "execution_count": 27,
   "metadata": {},
   "outputs": [
    {
     "data": {
      "text/plain": [
       "'Sprairglsiepaioiu'"
      ]
     },
     "execution_count": 27,
     "metadata": {},
     "output_type": "execute_result"
    }
   ],
   "source": [
    "my_string[::2]"
   ]
  },
  {
   "cell_type": "code",
   "execution_count": 28,
   "metadata": {},
   "outputs": [
    {
     "data": {
      "text/plain": [
       "'urlriscploo'"
      ]
     },
     "execution_count": 28,
     "metadata": {},
     "output_type": "execute_result"
    }
   ],
   "source": [
    "my_string[1::3]"
   ]
  },
  {
   "cell_type": "markdown",
   "metadata": {
    "id": "h9SEdtbH1fch"
   },
   "source": [
    "### Common methods\n",
    "\n",
    "Apart from `.join()` which we have used, the following methods are very common when you want to modify your strings. This guide will not cover all methods but rather will give you a taste of what can be done.\n",
    "\n",
    "> Note: We will cover functions in greater detail later but for now, just think of a method as a function that's specific to the object you are operating on.\n",
    "\n",
    "#### .upper() and .lower()\n",
    "\n",
    "Used to change the case of a string. "
   ]
  },
  {
   "cell_type": "code",
   "execution_count": 29,
   "metadata": {
    "colab": {
     "base_uri": "https://localhost:8080/"
    },
    "executionInfo": {
     "elapsed": 27,
     "status": "ok",
     "timestamp": 1670028010664,
     "user": {
      "displayName": "Ian Chong",
      "userId": "10615222189260864195"
     },
     "user_tz": -480
    },
    "id": "AzePqP-b1a1U",
    "outputId": "23b4bfdf-7561-40f1-f005-74127072066e"
   },
   "outputs": [
    {
     "name": "stdout",
     "output_type": "stream",
     "text": [
      "RICHARD\n",
      "richard\n"
     ]
    }
   ],
   "source": [
    "print(first_name.upper())\n",
    "print(first_name.lower())"
   ]
  },
  {
   "cell_type": "markdown",
   "metadata": {
    "id": "JpHGSM9Z188d"
   },
   "source": [
    "#### `.split(character)`\n",
    "\n",
    "You can also split a string into multiple sub-strings at a specified character. This is useful when dealing with strings with particular patterns i.e. comma delimited values. If no character is given, split on spaces."
   ]
  },
  {
   "cell_type": "code",
   "execution_count": 30,
   "metadata": {
    "colab": {
     "base_uri": "https://localhost:8080/"
    },
    "executionInfo": {
     "elapsed": 26,
     "status": "ok",
     "timestamp": 1670028010664,
     "user": {
      "displayName": "Ian Chong",
      "userId": "10615222189260864195"
     },
     "user_tz": -480
    },
    "id": "lcJqI7hM17Bu",
    "outputId": "348a6a23-4486-423c-c082-5ee462eba03e"
   },
   "outputs": [
    {
     "name": "stdout",
     "output_type": "stream",
     "text": [
      "['Why,hello', 'there,Richard', 'Symonds']\n",
      "['Why', 'hello there', 'Richard Symonds']\n",
      "['Why,h', 'llo th', 'r', ',Richard Symonds']\n"
     ]
    }
   ],
   "source": [
    "my_string = \"Why,hello there,Richard Symonds\"\n",
    "print(my_string.split())\n",
    "print(my_string.split(\",\"))\n",
    "print(my_string.split(\"e\"))"
   ]
  },
  {
   "cell_type": "markdown",
   "metadata": {
    "id": "xF5FwCIq-O7o"
   },
   "source": [
    "You can also find the position of a sub string within a string with `.find()` or `.index()`"
   ]
  },
  {
   "cell_type": "code",
   "execution_count": 31,
   "metadata": {
    "colab": {
     "base_uri": "https://localhost:8080/"
    },
    "executionInfo": {
     "elapsed": 24,
     "status": "ok",
     "timestamp": 1670028010664,
     "user": {
      "displayName": "Ian Chong",
      "userId": "10615222189260864195"
     },
     "user_tz": -480
    },
    "id": "KrXhS-HB2ITM",
    "outputId": "d4084f7c-c116-4e77-bb24-79346091df32"
   },
   "outputs": [
    {
     "data": {
      "text/plain": [
       "11"
      ]
     },
     "execution_count": 31,
     "metadata": {},
     "output_type": "execute_result"
    }
   ],
   "source": [
    "my_string=\"This is my rifle. There are many like it, but this one is mine.\"\n",
    "my_string.find(\"rifle\")"
   ]
  },
  {
   "cell_type": "markdown",
   "metadata": {
    "id": "pPo1rCSU-uFa"
   },
   "source": [
    "Python will search from left to right and only return the first match. In the below case, the \"is\" in \"This\" (position 2)"
   ]
  },
  {
   "cell_type": "code",
   "execution_count": 32,
   "metadata": {
    "colab": {
     "base_uri": "https://localhost:8080/"
    },
    "executionInfo": {
     "elapsed": 24,
     "status": "ok",
     "timestamp": 1670028010665,
     "user": {
      "displayName": "Ian Chong",
      "userId": "10615222189260864195"
     },
     "user_tz": -480
    },
    "id": "hIjxZQua-ocR",
    "outputId": "d99fe06b-04c1-4b30-f085-030cee4566e3"
   },
   "outputs": [
    {
     "data": {
      "text/plain": [
       "2"
      ]
     },
     "execution_count": 32,
     "metadata": {},
     "output_type": "execute_result"
    }
   ],
   "source": [
    "my_string.index(\"is\")"
   ]
  },
  {
   "cell_type": "markdown",
   "metadata": {
    "id": "b3isgA7o_GhR"
   },
   "source": [
    "## 2c - Regular Expressions\n",
    "\n",
    "The following is an advanced topic and you are not expected to know how to code it from scratch. This is meant to illustrate the power of knowing how to work with string data. See [this Medium article](https://medium.com/factory-mind/regex-tutorial-a-simple-cheatsheet-by-examples-649dc1c3f285) for a more in depth introduction.\n",
    "\n",
    "![](https://i0.wp.com/www.novixys.com/blog/wp-content/uploads/2018/02/regex.png?w=700&ssl=1)\n",
    "\n",
    "*Note: Not required for basic Python.*\n",
    "\n",
    "Regular Expression, or `regex` or `regexp` in short, is extremely and amazingly powerful in searching and manipulating text strings, particularly in processing text files. This is invaluable in parsing standardized reports and scraping data from the web.\n",
    "\n",
    "Regex is supported in all the scripting languages (such as Perl, Python, PHP, and JavaScript); as well as general purpose programming languages such as Java; and even word processors such as Word for searching texts.\n",
    "\n",
    "You can quickly prototype regex in many sites including [regex101](https://regex101.com/)\n",
    "\n",
    "We will use Apple's Q4 earnings as an example:"
   ]
  },
  {
   "cell_type": "code",
   "execution_count": 33,
   "metadata": {
    "executionInfo": {
     "elapsed": 22,
     "status": "ok",
     "timestamp": 1670028010665,
     "user": {
      "displayName": "Ian Chong",
      "userId": "10615222189260864195"
     },
     "user_tz": -480
    },
    "id": "dt8VZB8d-qCx"
   },
   "outputs": [],
   "source": [
    "apple_earnings = \"\"\"CUPERTINO, CALIFORNIA OCTOBER 27, 2022 Apple today announced financial results for its fiscal 2022 fourth quarter ended September 24, 2022. The Company posted a September quarter record revenue of $90.1 billion, up 8 percent year over year, and quarterly earnings per diluted share of $1.29, up 4 percent year over year. Annual revenue was $394.3 billion, up 8 percent year over year, and annual earnings per diluted share were $6.11, up 9 percent year over year.\n",
    "“This quarter’s results reflect Apple’s commitment to our customers, to the pursuit of innovation, and to leaving the world better than we found it,” said Tim Cook, Apple’s CEO. “As we head into the holiday season with our most powerful lineup ever, we are leading with our values in every action we take and every decision we make. We are deeply committed to protecting the environment, to securing user privacy, to strengthening accessibility, and to creating products and services that can unlock humanity’s full creative potential.”\n",
    "“Our record September quarter results continue to demonstrate our ability to execute effectively in spite of a challenging and volatile macroeconomic backdrop,” said Luca Maestri, Apple’s CFO. “We continued to invest in our long-term growth plans, generated over $24 billion in operating cash flow, and returned over $29 billion to our shareholders during the quarter. The strength of our ecosystem, unmatched customer loyalty, and record sales spurred our active installed base of devices to a new all-time high. This quarter capped another record-breaking year for Apple, with revenue growing over $28 billion and operating cash flow up $18 billion versus last year.”\n",
    "Apple’s board of directors has declared a cash dividend of $0.23 per share of the Company’s common stock. The dividend is payable on November 10, 2022 to shareholders of record as of the close of business on November 7, 2022.\n",
    "Apple will provide live streaming of its Q4 2022 financial results conference call beginning at 2:00 p.m. PT on October 27, 2022 at apple.com/investor/earnings-call. This webcast will be available for replay for approximately two weeks thereafter.\n",
    "Apple periodically provides information for investors on its corporate website, apple.com, and its investor relations website, investor.apple.com. This includes press releases and other information about financial performance, reports filed or furnished with the SEC, information on corporate governance, and details related to its annual meeting of shareholders.\n",
    "\"\"\""
   ]
  },
  {
   "cell_type": "markdown",
   "metadata": {
    "id": "v2Y6rjQyB84T"
   },
   "source": [
    "The following code finds all instances of financial numbers in the text."
   ]
  },
  {
   "cell_type": "code",
   "execution_count": 34,
   "metadata": {
    "colab": {
     "base_uri": "https://localhost:8080/"
    },
    "executionInfo": {
     "elapsed": 22,
     "status": "ok",
     "timestamp": 1670028010665,
     "user": {
      "displayName": "Ian Chong",
      "userId": "10615222189260864195"
     },
     "user_tz": -480
    },
    "id": "bqQVrwZ_AYi8",
    "outputId": "8b5b2e33-851d-46d3-c4ac-0ff254b24934"
   },
   "outputs": [
    {
     "data": {
      "text/plain": [
       "['$90.1', '$1.29', '$394.3', '$6.11', '$24', '$29', '$28', '$18', '$0.23']"
      ]
     },
     "execution_count": 34,
     "metadata": {},
     "output_type": "execute_result"
    }
   ],
   "source": [
    "import re\n",
    "pattern = r\"\\$\\d+,*\\d*\\.*\\d*\"\n",
    "regex = re.compile(pattern)\n",
    "regex.findall(apple_earnings)"
   ]
  },
  {
   "cell_type": "markdown",
   "metadata": {
    "id": "-2SzIaJgbeo9"
   },
   "source": [
    "The following code will find all words that come immediately after \"Apple\" with any suffixes. (i.e. \"Apple\" or \"Apple's\" or \"Apple,\")"
   ]
  },
  {
   "cell_type": "code",
   "execution_count": 35,
   "metadata": {
    "colab": {
     "base_uri": "https://localhost:8080/"
    },
    "executionInfo": {
     "elapsed": 317,
     "status": "ok",
     "timestamp": 1670028363657,
     "user": {
      "displayName": "Ian Chong",
      "userId": "10615222189260864195"
     },
     "user_tz": -480
    },
    "id": "AnL1MqQvbd4X",
    "outputId": "d98e17e3-71cd-4af9-cd38-5f7b896488c7"
   },
   "outputs": [
    {
     "data": {
      "text/plain": [
       "['today', 'commitment', 'CEO', 'CFO', 'with', 'board', 'will', 'periodically']"
      ]
     },
     "execution_count": 35,
     "metadata": {},
     "output_type": "execute_result"
    }
   ],
   "source": [
    "pattern = r\"(?<=Apple).*? (\\w+)\"\n",
    "regex = re.compile(pattern)\n",
    "regex.findall(apple_earnings)"
   ]
  }
 ],
 "metadata": {
  "colab": {
   "authorship_tag": "ABX9TyP/cBiYM7lNaaOOOJnaXgYH",
   "provenance": []
  },
  "kernelspec": {
   "display_name": "Python 3",
   "language": "python",
   "name": "python3"
  },
  "language_info": {
   "codemirror_mode": {
    "name": "ipython",
    "version": 3
   },
   "file_extension": ".py",
   "mimetype": "text/x-python",
   "name": "python",
   "nbconvert_exporter": "python",
   "pygments_lexer": "ipython3",
   "version": "3.8.10"
  }
 },
 "nbformat": 4,
 "nbformat_minor": 1
}
