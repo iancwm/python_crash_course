{
 "cells": [
  {
   "cell_type": "markdown",
   "metadata": {
    "id": "zqrss-fsSBpB"
   },
   "source": [
    "<h1><font color='blue'>Session 5 - OOP and Other Concepts</font></h1>\n",
    "\n",
    "\"Object Oriented Programming\" is one of the hardest concepts in basic programming to get and requires a sound understanding of all the prior concepts. That said, we can go through the basics here so you at least know what a Class is. This will help a lot when you actually go through it in class.\n",
    "\n",
    "![](https://media.geeksforgeeks.org/wp-content/uploads/20220608174843/OOPS1-282x300.png)\n",
    "\n",
    "# Section 1 - OOP\n",
    "\n",
    "Object-oriented programming is a programming paradigm that provides a means of structuring programs so that properties and behaviors are bundled into individual objects.\n",
    "\n",
    "For instance, an object could represent a person with:\n",
    "- properties (attributes): \n",
    "    - name\n",
    "    - age\n",
    "    - address \n",
    "- behaviors (methods):\n",
    "    - walk()\n",
    "    - talk()\n",
    "    - breathe()\n",
    "    - run() \n",
    "    \n",
    "Put another way, object-oriented programming is an approach for modeling concrete, real-world things, like cars, as well as relations between things, like companies and employees, students and teachers, and so on. OOP models real-world entities as software objects that have some data associated with them and can perform certain functions.\n",
    "\n",
    "![](https://media.geeksforgeeks.org/wp-content/uploads/Blank-Diagram-Page-1-3.png)\n",
    "\n",
    "The blue print for an object is the Class. A Class determines the basic properties and functions that an object would have. An Object is simply an instance of a Class. We can have multiple Objects all of the same Class, but they are separate instances and keep track of their own data. In the example above, `Dog` is the Class. `Dog 1` is an instance of the `Dog` Class, along with `Dog 2`, `3` and `4`.\n",
    "\n",
    "Let's make a simple program consisting of a `Soldier` class and a `Weapon` class. Our `Soldier` has a `Name`, some `HP` and `Accuracy` stats, and `arms` himself with a `Weapon` . The `Soldier` can `attack` an enemy `Soldier`, and rolls a random normal distribution. If the value is lower than the `Accuracy`, he misses. Otherwise, the enemy Soldier gets `wound`. If `Soldier` HP decreases below zero, his `status` is now \"Dead\".\n",
    "\n",
    "Put into Python terms, the `Soldier` Class has the following attributes:\n",
    "- `Name`\n",
    "- `HP`\n",
    "- `Accuracy`\n",
    "\n",
    "It also has the following methods:\n",
    "- `arm`\n",
    "- `attack`\n",
    "- `wound`\n",
    "\n",
    "Our `Weapon` Class has `Damage` and `Accuracy` attributes."
   ]
  },
  {
   "cell_type": "code",
   "execution_count": 1,
   "metadata": {
    "id": "m3y6SvqCR2J1"
   },
   "outputs": [],
   "source": [
    "from random import random\n",
    "\n",
    "class Soldier:\n",
    "    \n",
    "    def __init__(self,Name, HP, Accuracy):\n",
    "        # Also called the constructor. It is a special method that is run when an instance of a class is created.\n",
    "        # It will take the arguments entered into the class when you initialize it.\n",
    "        self.Name = Name\n",
    "        self.HP = HP        \n",
    "        self.Accuracy = Accuracy\n",
    "        self.Status = \"Alive\"\n",
    "        print(f\"Soldier Name:{self.Name} has entered the fray.\\nHP:{self.HP}\\nAccuracy:{self.Accuracy}\")\n",
    "\n",
    "    \n",
    "    def arm(self,Weapon):\n",
    "        # Arm the Soldier with a Weapon\n",
    "        self.Weapon = Weapon\n",
    "        print(f\"{self.Name} locks and loads his {self.Weapon.Name}\")\n",
    "\n",
    "    def attack(self,Enemy):\n",
    "        # Attack an enemy Soldier\n",
    "        if self.Status == \"Dead\":\n",
    "            print(f\"{self.Name} is dead. Cannot attack.\")\n",
    "        else:\n",
    "            print(f\"{self.Name} aims his {self.Weapon.Name} at {Enemy.Name}\")\n",
    "            roll = random()\n",
    "            print(f\"{self.Name} rolls {roll}\")\n",
    "            if roll < self.Accuracy:                \n",
    "                Enemy.wound(self.Weapon.Damage)\n",
    "                \n",
    "            else:\n",
    "                print(f\"{self.Name} missed a shot.\")\n",
    "    \n",
    "    def wound(self,damage):\n",
    "        # Reduce HP by specified amount\n",
    "        print(f\"{self.Name} takes {damage} damage\")\n",
    "        self.HP-=damage\n",
    "        if self.HP <=0:\n",
    "            self.Status = \"Dead\"\n",
    "            print(f\"{self.Name} bites the dust\")\n",
    "            \n",
    "\n",
    "class Weapon:\n",
    "    def __init__(self,Name,Damage):\n",
    "        self.Name=Name\n",
    "        self.Damage=Damage"
   ]
  },
  {
   "cell_type": "code",
   "execution_count": 2,
   "metadata": {
    "colab": {
     "base_uri": "https://localhost:8080/"
    },
    "executionInfo": {
     "elapsed": 10,
     "status": "ok",
     "timestamp": 1669215683675,
     "user": {
      "displayName": "Ian Chong",
      "userId": "10615222189260864195"
     },
     "user_tz": -480
    },
    "id": "1_Jnp7Y9WN9C",
    "outputId": "a31c24ab-21c7-4d8a-eb5d-e896cb644cb3"
   },
   "outputs": [
    {
     "name": "stdout",
     "output_type": "stream",
     "text": [
      "Soldier Name:Richard has entered the fray.\n",
      "HP:100\n",
      "Accuracy:0.7\n",
      "Richard locks and loads his M16\n",
      "Soldier Name:UberMensch has entered the fray.\n",
      "HP:1000\n",
      "Accuracy:0.9\n",
      "UberMensch locks and loads his Doom BFG\n"
     ]
    }
   ],
   "source": [
    "Richard = Soldier(Name='Richard',HP=100,Accuracy=0.7)\n",
    "M16 = Weapon(Name=\"M16\",Damage=30)\n",
    "Richard.arm(M16)\n",
    "\n",
    "Jason = Soldier(Name='UberMensch',HP=1000, Accuracy=0.9)\n",
    "BFG = Weapon(Name=\"Doom BFG\",Damage=9000)\n",
    "Jason.arm(BFG)"
   ]
  },
  {
   "cell_type": "code",
   "execution_count": 3,
   "metadata": {
    "colab": {
     "base_uri": "https://localhost:8080/"
    },
    "executionInfo": {
     "elapsed": 10,
     "status": "ok",
     "timestamp": 1669215683675,
     "user": {
      "displayName": "Ian Chong",
      "userId": "10615222189260864195"
     },
     "user_tz": -480
    },
    "id": "bpmfmwXKXNzr",
    "outputId": "b7fe8d0e-164e-4e62-cc3f-cf8e0c39c8fd"
   },
   "outputs": [
    {
     "name": "stdout",
     "output_type": "stream",
     "text": [
      "UberMensch aims his Doom BFG at Richard\n",
      "UberMensch rolls 0.8756244440289468\n",
      "Richard takes 9000 damage\n",
      "Richard bites the dust\n"
     ]
    }
   ],
   "source": [
    "Jason.attack(Richard)"
   ]
  },
  {
   "cell_type": "code",
   "execution_count": 4,
   "metadata": {
    "colab": {
     "base_uri": "https://localhost:8080/"
    },
    "executionInfo": {
     "elapsed": 8,
     "status": "ok",
     "timestamp": 1669215683675,
     "user": {
      "displayName": "Ian Chong",
      "userId": "10615222189260864195"
     },
     "user_tz": -480
    },
    "id": "xklNyPCfX5s9",
    "outputId": "fce2d227-0640-48b8-9f5f-ef6afe60cd77"
   },
   "outputs": [
    {
     "name": "stdout",
     "output_type": "stream",
     "text": [
      "Richard is dead. Cannot attack.\n"
     ]
    }
   ],
   "source": [
    "Richard.attack(Jason)"
   ]
  },
  {
   "cell_type": "markdown",
   "metadata": {
    "id": "EL0_Ee4zv1w_"
   },
   "source": [
    "## 1.1 - Attributes\n",
    "\n",
    "We need to distinguish between Class attributes and Instance attributes. If an attribute is common to the whole Class and doesn't change with the instances, its a Class attribute. If its an attribute which differs among the instances i.e. you set the attribute when you initialize the instance like the HP in the Soldier Class above, its an Instance Attribute. \n",
    "\n",
    "You can access attributes of an instance/object directly simply by calling it."
   ]
  },
  {
   "cell_type": "code",
   "execution_count": 5,
   "metadata": {
    "colab": {
     "base_uri": "https://localhost:8080/"
    },
    "executionInfo": {
     "elapsed": 7,
     "status": "ok",
     "timestamp": 1669215683675,
     "user": {
      "displayName": "Ian Chong",
      "userId": "10615222189260864195"
     },
     "user_tz": -480
    },
    "id": "ja_RhXdxvpC2",
    "outputId": "47135763-fcca-4db8-b647-8306c85f0dde"
   },
   "outputs": [
    {
     "data": {
      "text/plain": [
       "-8900"
      ]
     },
     "execution_count": 5,
     "metadata": {},
     "output_type": "execute_result"
    }
   ],
   "source": [
    "Richard.HP"
   ]
  },
  {
   "cell_type": "code",
   "execution_count": 6,
   "metadata": {
    "colab": {
     "base_uri": "https://localhost:8080/"
    },
    "executionInfo": {
     "elapsed": 6,
     "status": "ok",
     "timestamp": 1669215683675,
     "user": {
      "displayName": "Ian Chong",
      "userId": "10615222189260864195"
     },
     "user_tz": -480
    },
    "id": "br52hEzJwbx_",
    "outputId": "6c5b3ae4-5722-4fcd-fd3f-1d47543a8b73"
   },
   "outputs": [
    {
     "data": {
      "text/plain": [
       "30"
      ]
     },
     "execution_count": 6,
     "metadata": {},
     "output_type": "execute_result"
    }
   ],
   "source": [
    "M16.Damage"
   ]
  },
  {
   "cell_type": "markdown",
   "metadata": {
    "id": "BYb_-OKlwjwJ"
   },
   "source": [
    "Not recommended but you can modify the values of your attributes simply by assigning them."
   ]
  },
  {
   "cell_type": "code",
   "execution_count": 7,
   "metadata": {
    "colab": {
     "base_uri": "https://localhost:8080/"
    },
    "executionInfo": {
     "elapsed": 7,
     "status": "ok",
     "timestamp": 1669215683676,
     "user": {
      "displayName": "Ian Chong",
      "userId": "10615222189260864195"
     },
     "user_tz": -480
    },
    "id": "oKI3aI9sweyn",
    "outputId": "c3acda0f-9610-41c0-baf8-4b4ac5ecf885"
   },
   "outputs": [
    {
     "data": {
      "text/plain": [
       "50"
      ]
     },
     "execution_count": 7,
     "metadata": {},
     "output_type": "execute_result"
    }
   ],
   "source": [
    "M16.Damage = 50\n",
    "M16.Damage"
   ]
  },
  {
   "cell_type": "markdown",
   "metadata": {
    "id": "1MxTdxRIwsV5"
   },
   "source": [
    "## 1.2 - Methods\n",
    "\n",
    "Methods are functions specific to the Object. You cannot call them outside of the object. However, you can assign a function object to a class. Let's try defining a `yell()` function and then adding it to a Class.\n",
    "\n",
    "Note: Remember, the function name without the parentheses is the function object e.g. `yell`. It is only a function call if you add the parentheses e.g. `yell()`"
   ]
  },
  {
   "cell_type": "code",
   "execution_count": 8,
   "metadata": {
    "colab": {
     "base_uri": "https://localhost:8080/"
    },
    "executionInfo": {
     "elapsed": 6,
     "status": "ok",
     "timestamp": 1669215683676,
     "user": {
      "displayName": "Ian Chong",
      "userId": "10615222189260864195"
     },
     "user_tz": -480
    },
    "id": "cpETlJ5lwili",
    "outputId": "805745e4-b4e0-4308-9c4d-dd9df0f02c4e"
   },
   "outputs": [
    {
     "name": "stdout",
     "output_type": "stream",
     "text": [
      "EDF! EDF! EDF!\n"
     ]
    }
   ],
   "source": [
    "def yell():\n",
    "    print(\"EDF! EDF! EDF!\")\n",
    "\n",
    "Jason.shout = yell\n",
    "Jason.shout()"
   ]
  },
  {
   "cell_type": "markdown",
   "metadata": {},
   "source": [
    "Richard has no shout because you have not defined it when the class was defined!"
   ]
  },
  {
   "cell_type": "code",
   "execution_count": 9,
   "metadata": {},
   "outputs": [
    {
     "ename": "AttributeError",
     "evalue": "'Soldier' object has no attribute 'shout'",
     "output_type": "error",
     "traceback": [
      "\u001b[0;31m---------------------------------------------------------------------------\u001b[0m",
      "\u001b[0;31mAttributeError\u001b[0m                            Traceback (most recent call last)",
      "\u001b[0;32m<ipython-input-9-45fb01cd55ac>\u001b[0m in \u001b[0;36m<module>\u001b[0;34m\u001b[0m\n\u001b[0;32m----> 1\u001b[0;31m \u001b[0mRichard\u001b[0m\u001b[0;34m.\u001b[0m\u001b[0mshout\u001b[0m\u001b[0;34m(\u001b[0m\u001b[0;34m)\u001b[0m\u001b[0;34m\u001b[0m\u001b[0;34m\u001b[0m\u001b[0m\n\u001b[0m",
      "\u001b[0;31mAttributeError\u001b[0m: 'Soldier' object has no attribute 'shout'"
     ]
    }
   ],
   "source": [
    "Richard.shout()"
   ]
  },
  {
   "cell_type": "markdown",
   "metadata": {
    "id": "7PbHKnvy1Iul"
   },
   "source": [
    "# Section 2 - File I/O \n",
    "\n",
    "See [Programiz](https://www.programiz.com/python-programming/file-operation) for more in-depth examples.\n",
    "\n",
    "What we've done so far is manually creating data and performing operations in memory. It's great for learning the basics. However, you often need to: \n",
    "- output your computations to a file for storage\n",
    "- read files to get inputs for your algorithms\n",
    "- automate processes\n",
    "\n",
    "Run the following code if you're running on Colab only, as Google colab's computers aren't directly linked to your Google Drive unless you set it up. You will need login in the pop up widow to authorize Colab to read your Google Drive."
   ]
  },
  {
   "cell_type": "code",
   "execution_count": 10,
   "metadata": {
    "colab": {
     "base_uri": "https://localhost:8080/"
    },
    "executionInfo": {
     "elapsed": 2665,
     "status": "ok",
     "timestamp": 1669215686336,
     "user": {
      "displayName": "Ian Chong",
      "userId": "10615222189260864195"
     },
     "user_tz": -480
    },
    "id": "5utDK3Wy12R5",
    "outputId": "394044bd-c11b-419a-d1f7-852c855bbcbb"
   },
   "outputs": [],
   "source": [
    "import os\n",
    "\n",
    "try:\n",
    "    from google.colab import drive\n",
    "\n",
    "    drive.mount('/content/drive')\n",
    "    os.chdir('/content/drive/My Drive/Python Crash Course')\n",
    "\n",
    "except:\n",
    "    pass"
   ]
  },
  {
   "cell_type": "markdown",
   "metadata": {
    "id": "TVQtXfj6T7cq"
   },
   "source": [
    "Run this code to create a folder called data if it does not exist."
   ]
  },
  {
   "cell_type": "code",
   "execution_count": 11,
   "metadata": {
    "colab": {
     "base_uri": "https://localhost:8080/"
    },
    "executionInfo": {
     "elapsed": 9,
     "status": "ok",
     "timestamp": 1669215686336,
     "user": {
      "displayName": "Ian Chong",
      "userId": "10615222189260864195"
     },
     "user_tz": -480
    },
    "id": "sa_KlUnxPXvK",
    "outputId": "5b63199e-dad8-4236-f62e-0b6b4b72d21c"
   },
   "outputs": [
    {
     "name": "stdout",
     "output_type": "stream",
     "text": [
      "removed './data/BFG.json'\r\n",
      "removed './data/M16.json'\r\n",
      "removed './data/jason.json'\r\n",
      "removed './data/myfile.txt'\r\n",
      "removed './data/pokemon.csv'\r\n",
      "removed './data/richard.json'\r\n"
     ]
    }
   ],
   "source": [
    "if not os.path.exists(\"data\"):\n",
    "    os.makedirs(\"data\")\n",
    "\n",
    "!rm -v ./data/*"
   ]
  },
  {
   "cell_type": "markdown",
   "metadata": {
    "id": "F0VTt7CVT--9"
   },
   "source": [
    "## 2.1 - Plaintext files\n",
    "\n",
    "Here we will create a simple text file with a few lines of text and save it to `myfile.txt`."
   ]
  },
  {
   "cell_type": "code",
   "execution_count": 12,
   "metadata": {
    "id": "kftyeGUU1MJw"
   },
   "outputs": [],
   "source": [
    "with open(\"data/myfile.txt\", \"x\") as f:\n",
    "    for i in range(10):\n",
    "        f.write(f\"This is Line {i}\\n\")"
   ]
  },
  {
   "cell_type": "markdown",
   "metadata": {
    "id": "465s9QBOUJe9"
   },
   "source": [
    "This code reads the file `myfile.txt` and outputs the lines to a list."
   ]
  },
  {
   "cell_type": "code",
   "execution_count": 12,
   "metadata": {
    "colab": {
     "base_uri": "https://localhost:8080/"
    },
    "executionInfo": {
     "elapsed": 7,
     "status": "ok",
     "timestamp": 1669215686337,
     "user": {
      "displayName": "Ian Chong",
      "userId": "10615222189260864195"
     },
     "user_tz": -480
    },
    "id": "qkp-A5yK2hnB",
    "outputId": "0044a6bb-93cc-40df-e889-5571d1775a01"
   },
   "outputs": [
    {
     "data": {
      "text/plain": [
       "['This is Line 0\\n',\n",
       " 'This is Line 1\\n',\n",
       " 'This is Line 2\\n',\n",
       " 'This is Line 3\\n',\n",
       " 'This is Line 4\\n',\n",
       " 'This is Line 5\\n',\n",
       " 'This is Line 6\\n',\n",
       " 'This is Line 7\\n',\n",
       " 'This is Line 8\\n',\n",
       " 'This is Line 9\\n']"
      ]
     },
     "execution_count": 12,
     "metadata": {},
     "output_type": "execute_result"
    }
   ],
   "source": [
    "with open(\"data/myfile.txt\", \"r\") as f:\n",
    "    file_data=f.readlines()\n",
    "\n",
    "file_data"
   ]
  },
  {
   "cell_type": "markdown",
   "metadata": {
    "id": "8DDb1AFAOhHF"
   },
   "source": [
    "A lot of the time there will be special characters when you read a file. You can get rid of them with the `.strip()` method."
   ]
  },
  {
   "cell_type": "code",
   "execution_count": 13,
   "metadata": {
    "colab": {
     "base_uri": "https://localhost:8080/"
    },
    "executionInfo": {
     "elapsed": 5,
     "status": "ok",
     "timestamp": 1669215686337,
     "user": {
      "displayName": "Ian Chong",
      "userId": "10615222189260864195"
     },
     "user_tz": -480
    },
    "id": "modjYP4UO2Lh",
    "outputId": "f3ff7772-fa65-4a0e-f119-6c84aa06fce1"
   },
   "outputs": [
    {
     "data": {
      "text/plain": [
       "['This is Line 0',\n",
       " 'This is Line 1',\n",
       " 'This is Line 2',\n",
       " 'This is Line 3',\n",
       " 'This is Line 4',\n",
       " 'This is Line 5',\n",
       " 'This is Line 6',\n",
       " 'This is Line 7',\n",
       " 'This is Line 8',\n",
       " 'This is Line 9']"
      ]
     },
     "execution_count": 13,
     "metadata": {},
     "output_type": "execute_result"
    }
   ],
   "source": [
    "file_data_cleaned = list(map(lambda x: x.strip(\"\\n\"),file_data))\n",
    "file_data_cleaned"
   ]
  },
  {
   "cell_type": "markdown",
   "metadata": {
    "id": "a-X7dd8vKHPp"
   },
   "source": [
    "## 2.2 - JSON\n",
    "\n",
    "The JavaScript Object Notation (or JSON for short) is a universal format for storing data. It is basically like a Python Dictionary. Most web applications on the internet communicate with each other via sending JSON responses.\n",
    "\n",
    "We will use a JSON file to save your character into a file, and that \"load\" it by initializing a Soldier object with the attributes."
   ]
  },
  {
   "cell_type": "code",
   "execution_count": 13,
   "metadata": {
    "id": "7-97BbPw2kc8"
   },
   "outputs": [],
   "source": [
    "import json\n",
    "\n",
    "richard_soldier_json={'Name':'Richard','HP':100,'Accuracy':0.70}\n",
    "jason_soldier_json={'Name':'Jason','HP':1000,'Accuracy':0.90}\n",
    "M16_weapon_json={'Name':'M16','Damage':30}\n",
    "BFG_weapon_json={'Name':'Doom BFG','Damage':9000}\n",
    "\n",
    "folder='data'\n",
    "\n",
    "with open(f\"{folder}/richard.json\", \"w\") as f:\n",
    "    json.dump(richard_soldier_json, f, indent=4)\n",
    "\n",
    "with open(f\"{folder}/jason.json\", \"w\") as f:\n",
    "    json.dump(jason_soldier_json, f, indent=4)\n",
    "\n",
    "with open(f\"{folder}/M16.json\", \"w\") as f:\n",
    "    json.dump(M16_weapon_json, f, indent=4)\n",
    "\n",
    "with open(f\"{folder}/BFG.json\", \"w\") as f:\n",
    "    json.dump(BFG_weapon_json, f, indent=4)"
   ]
  },
  {
   "cell_type": "markdown",
   "metadata": {
    "id": "xy3Ks6f8L0PF"
   },
   "source": [
    "To run command line commands in Jupyter, use an exclamation mark followed by the command. `ls` lists the files in your current working directory (cwd)"
   ]
  },
  {
   "cell_type": "code",
   "execution_count": 14,
   "metadata": {
    "colab": {
     "base_uri": "https://localhost:8080/"
    },
    "executionInfo": {
     "elapsed": 529,
     "status": "ok",
     "timestamp": 1669215686862,
     "user": {
      "displayName": "Ian Chong",
      "userId": "10615222189260864195"
     },
     "user_tz": -480
    },
    "id": "leSF0SAJLFtM",
    "outputId": "9810160a-ad24-41e6-f1db-15e6814e97d1"
   },
   "outputs": [
    {
     "name": "stdout",
     "output_type": "stream",
     "text": [
      "'Python Practice.ipynb'\r\n",
      " README.md\r\n",
      "'Session 1 - Atomic Data Types.ipynb'\r\n",
      "'Session 2 - Atomic Data Structures.ipynb'\r\n",
      "'Session 3 - Flow Control.ipynb'\r\n",
      "'Session 4 - Functional Programming.ipynb'\r\n",
      "'Session 5 - Object Oriented Programming and Others.ipynb'\r\n",
      "'Session 6 - Advanced Topics - Regular Expressions.ipynb'\r\n",
      "'Session 7 - Advanced Topics - Numpy.ipynb'\r\n",
      "'Session 8 - Advanced Topics - pandas.ipynb'\r\n",
      " data\r\n",
      " regex\r\n"
     ]
    }
   ],
   "source": [
    "!ls"
   ]
  },
  {
   "cell_type": "markdown",
   "metadata": {
    "id": "bBnpiqVtMpVV"
   },
   "source": [
    "We will now load the relevant data from JSON files into our program"
   ]
  },
  {
   "cell_type": "code",
   "execution_count": 16,
   "metadata": {
    "id": "GzyXCV0tL-xq"
   },
   "outputs": [],
   "source": [
    "with open(f\"{folder}/richard.json\", 'r') as f:\n",
    "    richard_data = json.load(f)\n",
    "\n",
    "with open(f'{folder}/jason.json', 'r') as f:\n",
    "    jason_data = json.load(f)\n",
    "\n",
    "with open(f'{folder}/M16.json', 'r') as f:\n",
    "    M16_data = json.load(f)\n",
    "\n",
    "with open(f'{folder}/BFG.json', 'r') as f:\n",
    "    BFG_data = json.load(f)"
   ]
  },
  {
   "cell_type": "markdown",
   "metadata": {
    "id": "ZoViTvDlMz4t"
   },
   "source": [
    "We now initialize the classes with keyword arguments"
   ]
  },
  {
   "cell_type": "code",
   "execution_count": 17,
   "metadata": {
    "colab": {
     "base_uri": "https://localhost:8080/"
    },
    "executionInfo": {
     "elapsed": 5,
     "status": "ok",
     "timestamp": 1669215686863,
     "user": {
      "displayName": "Ian Chong",
      "userId": "10615222189260864195"
     },
     "user_tz": -480
    },
    "id": "XCaIWQZhMoF_",
    "outputId": "be5f5359-ede4-441d-b2be-ff90f54565bb"
   },
   "outputs": [
    {
     "name": "stdout",
     "output_type": "stream",
     "text": [
      "Soldier Name:Richard has entered the fray.\n",
      "HP:100\n",
      "Accuracy:0.7\n",
      "Soldier Name:Jason has entered the fray.\n",
      "HP:1000\n",
      "Accuracy:0.9\n",
      "Richard locks and loads his Doom BFG\n",
      "Jason locks and loads his M16\n"
     ]
    }
   ],
   "source": [
    "richard_loaded = Soldier(**richard_data)\n",
    "jason_loaded = Soldier(**jason_data)\n",
    "M16_loaded = Weapon(**M16_data)\n",
    "BFG_loaded = Weapon(**BFG_data)\n",
    "\n",
    "richard_loaded.arm(BFG_loaded)\n",
    "jason_loaded.arm(M16_loaded)"
   ]
  },
  {
   "cell_type": "markdown",
   "metadata": {
    "id": "P9VJYA-4NPGY"
   },
   "source": [
    "Magic! We have programatically created our game from JSON files. We can now edit the files directly, and change the inputs into our program without touching the code!"
   ]
  },
  {
   "cell_type": "code",
   "execution_count": 19,
   "metadata": {
    "colab": {
     "base_uri": "https://localhost:8080/"
    },
    "executionInfo": {
     "elapsed": 4,
     "status": "ok",
     "timestamp": 1669215686863,
     "user": {
      "displayName": "Ian Chong",
      "userId": "10615222189260864195"
     },
     "user_tz": -480
    },
    "id": "jKbz7iwkNJc8",
    "outputId": "ff89f4f9-5029-403f-bf24-562f0f6c6ee2"
   },
   "outputs": [
    {
     "name": "stdout",
     "output_type": "stream",
     "text": [
      "Richard aims his Doom BFG at Jason\n",
      "Richard rolls 0.22223781771330475\n",
      "Jason takes 9000 damage\n",
      "Jason bites the dust\n"
     ]
    }
   ],
   "source": [
    "richard_loaded.attack(jason_loaded)"
   ]
  },
  {
   "cell_type": "markdown",
   "metadata": {
    "id": "PRGmw5Uk7ayT"
   },
   "source": [
    "## 2.3 - `requests`\n",
    "\n",
    "Probably the most practical skill you'll learn so far. Another way to get data is to get it directly from the internet! Obviously a more advanced solution would yield more results, but we will be sticking to a basic `requests` GET query. See [Dataquest - Introduction to requests](https://www.dataquest.io/blog/tutorial-an-introduction-to-python-requests-library/) for an in-depth tutorial.\n",
    "\n",
    "We are going to download live taxi data from [data.gov.sg](https://data.gov.sg/dataset/taxi-availability) and visualize it. It will be downloaded in, you guessed it, JSON format!"
   ]
  },
  {
   "cell_type": "code",
   "execution_count": 20,
   "metadata": {
    "id": "RPfaR5JMNbVw"
   },
   "outputs": [],
   "source": [
    "import requests\n",
    "from datetime import datetime\n",
    "\n",
    "now = datetime.now().strftime('%Y-%m-%dT%H:%M:%S')\n",
    "\n",
    "URL = 'https://api.data.gov.sg/v1/transport/taxi-availability'\n",
    "r = requests.get(URL,params={'date_time': now})\n",
    "data=r.json()"
   ]
  },
  {
   "cell_type": "markdown",
   "metadata": {
    "id": "r3hLKEI_-x9M"
   },
   "source": [
    "### 2.3.1 - Data Cleaning\n",
    "\n",
    "As an analytics professional you will spend more time preparing data than you do presenting your analysis. Time to get your hands dirty. Start by exploring the structure of the JSON data you just pulled"
   ]
  },
  {
   "cell_type": "code",
   "execution_count": 22,
   "metadata": {
    "colab": {
     "base_uri": "https://localhost:8080/"
    },
    "executionInfo": {
     "elapsed": 2,
     "status": "ok",
     "timestamp": 1669215687755,
     "user": {
      "displayName": "Ian Chong",
      "userId": "10615222189260864195"
     },
     "user_tz": -480
    },
    "id": "Q3okp6vm8WEv",
    "outputId": "8768af27-5a17-4626-9683-f386f7439ffc"
   },
   "outputs": [
    {
     "data": {
      "text/plain": [
       "dict_keys(['type', 'crs', 'features'])"
      ]
     },
     "execution_count": 22,
     "metadata": {},
     "output_type": "execute_result"
    }
   ],
   "source": [
    "data.keys()"
   ]
  },
  {
   "cell_type": "code",
   "execution_count": 23,
   "metadata": {
    "colab": {
     "base_uri": "https://localhost:8080/"
    },
    "executionInfo": {
     "elapsed": 437,
     "status": "ok",
     "timestamp": 1669215688191,
     "user": {
      "displayName": "Ian Chong",
      "userId": "10615222189260864195"
     },
     "user_tz": -480
    },
    "id": "IR7lzlyF_DL5",
    "outputId": "2de95696-616d-4f55-fb99-66636c52d58c"
   },
   "outputs": [
    {
     "data": {
      "text/plain": [
       "[{'type': 'Feature',\n",
       "  'geometry': {'type': 'MultiPoint',\n",
       "   'coordinates': [[103.63481, 1.31491],\n",
       "    [103.65249, 1.32],\n",
       "    [103.659853233333, 1.30924488333333],\n",
       "    [103.68863, 1.33921],\n",
       "    [103.688687, 1.34111216666667],\n",
       "    [103.69072, 1.2667],\n",
       "    [103.692207583333, 1.34608875],\n",
       "    [103.69312, 1.34],\n",
       "    [103.693499, 1.341669],\n",
       "    [103.694378483333, 1.34383955],\n",
       "    [103.696108333333, 1.34547283333333],\n",
       "    [103.69876, 1.34],\n",
       "    [103.699251333333, 1.34744833333333],\n",
       "    [103.69999, 1.35],\n",
       "    [103.70009, 1.41156],\n",
       "    [103.70026365, 1.33901053333333],\n",
       "    [103.700441833333, 1.349718],\n",
       "    [103.70119, 1.34],\n",
       "    [103.70357, 1.35],\n",
       "    [103.70388, 1.35],\n",
       "    [103.70419, 1.34],\n",
       "    [103.70589415, 1.34230933333333],\n",
       "    [103.70684, 1.35],\n",
       "    [103.7071, 1.33897],\n",
       "    [103.70849, 1.36216],\n",
       "    [103.70888, 1.34],\n",
       "    [103.70897, 1.34609],\n",
       "    [103.70904, 1.3211],\n",
       "    [103.70967, 1.3146],\n",
       "    [103.70993, 1.27564],\n",
       "    [103.71096, 1.34602],\n",
       "    [103.714587716667, 1.3461443],\n",
       "    [103.715551216667, 1.3473465],\n",
       "    [103.71614, 1.35],\n",
       "    [103.71683, 1.31715],\n",
       "    [103.71699, 1.34298],\n",
       "    [103.71898, 1.35],\n",
       "    [103.71901, 1.34997],\n",
       "    [103.71979, 1.34602],\n",
       "    [103.7202, 1.35],\n",
       "    [103.72053, 1.33319],\n",
       "    [103.72064, 1.35],\n",
       "    [103.72134, 1.32641],\n",
       "    [103.72325235, 1.33761286666667],\n",
       "    [103.72337, 1.35],\n",
       "    [103.724303033333, 1.31997601666667],\n",
       "    [103.725, 1.35],\n",
       "    [103.726071083333, 1.3493138],\n",
       "    [103.73132, 1.34909],\n",
       "    [103.731905666667, 1.34962483333333],\n",
       "    [103.73297, 1.34495],\n",
       "    [103.73549, 1.34077],\n",
       "    [103.736353666667, 1.37925716666667],\n",
       "    [103.73669, 1.38],\n",
       "    [103.73781, 1.38314],\n",
       "    [103.73799, 1.38],\n",
       "    [103.73805, 1.35511],\n",
       "    [103.73821, 1.33981],\n",
       "    [103.73844, 1.32698],\n",
       "    [103.73864, 1.37934],\n",
       "    [103.7387, 1.34048],\n",
       "    [103.73876, 1.34],\n",
       "    [103.73884, 1.33544],\n",
       "    [103.73899, 1.38],\n",
       "    [103.739011366667, 1.34053043333333],\n",
       "    [103.73944, 1.35073],\n",
       "    [103.73948, 1.34],\n",
       "    [103.739540966667, 1.37570026666667],\n",
       "    [103.73993, 1.32],\n",
       "    [103.73995, 1.38],\n",
       "    [103.73997, 1.38225],\n",
       "    [103.74011, 1.37885],\n",
       "    [103.74038, 1.37588],\n",
       "    [103.74079, 1.38],\n",
       "    [103.741117, 1.337154],\n",
       "    [103.74129, 1.34485],\n",
       "    [103.741829316667, 1.38311695],\n",
       "    [103.74184, 1.35],\n",
       "    [103.74211, 1.34],\n",
       "    [103.74283, 1.39],\n",
       "    [103.74288, 1.33853],\n",
       "    [103.742900383333, 1.35866251666667],\n",
       "    [103.74298, 1.34103],\n",
       "    [103.743001083333, 1.39210258333333],\n",
       "    [103.74314, 1.38407],\n",
       "    [103.74317, 1.35],\n",
       "    [103.743271083333, 1.3205122],\n",
       "    [103.74338, 1.38],\n",
       "    [103.7434, 1.39],\n",
       "    [103.743487683333, 1.3856733],\n",
       "    [103.74372, 1.36479],\n",
       "    [103.74386, 1.33836],\n",
       "    [103.74407, 1.33],\n",
       "    [103.74462, 1.3825],\n",
       "    [103.7446597, 1.33378923333333],\n",
       "    [103.7448, 1.3846],\n",
       "    [103.74486, 1.33508],\n",
       "    [103.74498, 1.38026],\n",
       "    [103.744993966667, 1.37636703333333],\n",
       "    [103.74548, 1.35],\n",
       "    [103.74571, 1.34684],\n",
       "    [103.74617, 1.38],\n",
       "    [103.7462345, 1.346377],\n",
       "    [103.74634, 1.38559],\n",
       "    [103.74637965, 1.39705921666667],\n",
       "    [103.74648, 1.35],\n",
       "    [103.746667666667, 1.36089083333333],\n",
       "    [103.7467, 1.32626],\n",
       "    [103.74678, 1.38024],\n",
       "    [103.7468626, 1.39875843333333],\n",
       "    [103.74722, 1.33111],\n",
       "    [103.74733, 1.3652],\n",
       "    [103.74772, 1.33515],\n",
       "    [103.74811, 1.35],\n",
       "    [103.74857, 1.33],\n",
       "    [103.7485799, 1.39077508333333],\n",
       "    [103.7489031, 1.39686088333333],\n",
       "    [103.74925, 1.39592],\n",
       "    [103.74934, 1.35],\n",
       "    [103.74954, 1.35],\n",
       "    [103.74958, 1.39],\n",
       "    [103.749775416667, 1.31977548333333],\n",
       "    [103.75002, 1.35],\n",
       "    [103.75005, 1.36266],\n",
       "    [103.75026, 1.4],\n",
       "    [103.75058, 1.35776],\n",
       "    [103.7509, 1.37],\n",
       "    [103.7518, 1.39547],\n",
       "    [103.75182, 1.38],\n",
       "    [103.75185, 1.35],\n",
       "    [103.752, 1.30377],\n",
       "    [103.75254, 1.32728],\n",
       "    [103.7530775, 1.3766968],\n",
       "    [103.75406, 1.38],\n",
       "    [103.75407, 1.38],\n",
       "    [103.75478, 1.41819],\n",
       "    [103.75606, 1.35],\n",
       "    [103.75625, 1.38672],\n",
       "    [103.75899, 1.35],\n",
       "    [103.7591, 1.38377],\n",
       "    [103.75928, 1.33379],\n",
       "    [103.75932, 1.35725],\n",
       "    [103.760438333333, 1.386543],\n",
       "    [103.76065, 1.33502],\n",
       "    [103.76075, 1.34867],\n",
       "    [103.761458, 1.38318366666667],\n",
       "    [103.7619, 1.384454],\n",
       "    [103.761934616667, 1.42537611666667],\n",
       "    [103.76195, 1.39],\n",
       "    [103.76224, 1.38],\n",
       "    [103.76239, 1.38453],\n",
       "    [103.76254, 1.37682],\n",
       "    [103.76266, 1.3704],\n",
       "    [103.76272, 1.37448],\n",
       "    [103.76356, 1.38],\n",
       "    [103.76368, 1.31648],\n",
       "    [103.76397, 1.33],\n",
       "    [103.764, 1.38],\n",
       "    [103.76406, 1.37979],\n",
       "    [103.76481, 1.31498],\n",
       "    [103.76489, 1.31497],\n",
       "    [103.76505, 1.35],\n",
       "    [103.76528575, 1.38096943333333],\n",
       "    [103.765357333333, 1.32184183333333],\n",
       "    [103.76568, 1.31778],\n",
       "    [103.76592, 1.36],\n",
       "    [103.76618, 1.38],\n",
       "    [103.7667595, 1.387617],\n",
       "    [103.76683045, 1.37638221666667],\n",
       "    [103.767058, 1.38869],\n",
       "    [103.76715, 1.29435],\n",
       "    [103.76735, 1.31],\n",
       "    [103.76787, 1.37677],\n",
       "    [103.76857, 1.38873],\n",
       "    [103.768582833333, 1.30958583333333],\n",
       "    [103.76863, 1.31796],\n",
       "    [103.76871, 1.36406],\n",
       "    [103.76899, 1.31],\n",
       "    [103.769216, 1.44042816666667],\n",
       "    [103.76953, 1.44],\n",
       "    [103.7696, 1.38334],\n",
       "    [103.770038666667, 1.376702],\n",
       "    [103.77016, 1.39],\n",
       "    [103.77048, 1.31],\n",
       "    [103.770731333333, 1.439786],\n",
       "    [103.770767833333, 1.3792325],\n",
       "    [103.77082, 1.32071],\n",
       "    [103.77089, 1.313],\n",
       "    [103.771019, 1.319578],\n",
       "    [103.77107, 1.44171],\n",
       "    [103.77141, 1.39],\n",
       "    [103.7717, 1.38],\n",
       "    [103.77219, 1.37787],\n",
       "    [103.7727245, 1.38538011666667],\n",
       "    [103.77284, 1.44],\n",
       "    [103.77311, 1.43214],\n",
       "    [103.7732085, 1.37661433333333],\n",
       "    [103.77323, 1.39],\n",
       "    [103.77351, 1.37662],\n",
       "    [103.77378515, 1.43227723333333],\n",
       "    [103.77389, 1.37933],\n",
       "    [103.774233666667, 1.3738765],\n",
       "    [103.774455833333, 1.37977416666667],\n",
       "    [103.7745, 1.29062],\n",
       "    [103.774885, 1.410283],\n",
       "    [103.775118166667, 1.37665333333333],\n",
       "    [103.77532, 1.43],\n",
       "    [103.77545, 1.43],\n",
       "    [103.77552, 1.44],\n",
       "    [103.77615, 1.44],\n",
       "    [103.77616, 1.44],\n",
       "    [103.77636, 1.44],\n",
       "    [103.77674, 1.4337],\n",
       "    [103.77739, 1.44],\n",
       "    [103.77843, 1.44],\n",
       "    [103.77843, 1.44],\n",
       "    [103.77856, 1.44],\n",
       "    [103.77887, 1.43084],\n",
       "    [103.77914, 1.43],\n",
       "    [103.77921, 1.43],\n",
       "    [103.779362833333, 1.439696],\n",
       "    [103.77973, 1.44],\n",
       "    [103.7799706, 1.43042705],\n",
       "    [103.78173, 1.44],\n",
       "    [103.78419, 1.43],\n",
       "    [103.7854978, 1.43540361666667],\n",
       "    [103.7856565, 1.43489516666667],\n",
       "    [103.78619, 1.43],\n",
       "    [103.78641, 1.30363],\n",
       "    [103.78662, 1.43606],\n",
       "    [103.78761, 1.30947],\n",
       "    [103.78848, 1.31],\n",
       "    [103.78871, 1.44],\n",
       "    [103.78879, 1.31],\n",
       "    [103.78913, 1.40513],\n",
       "    [103.78945, 1.43085],\n",
       "    [103.78952, 1.30517],\n",
       "    [103.78991, 1.29],\n",
       "    [103.790069066667, 1.4314769],\n",
       "    [103.79042, 1.43949],\n",
       "    [103.790493, 1.314512],\n",
       "    [103.7905, 1.43874],\n",
       "    [103.79058, 1.44],\n",
       "    [103.790744483333, 1.43359366666667],\n",
       "    [103.79104, 1.43],\n",
       "    [103.79157, 1.44177],\n",
       "    [103.79185, 1.44],\n",
       "    [103.792033216667, 1.30889411666667],\n",
       "    [103.79239, 1.44],\n",
       "    [103.79336, 1.44],\n",
       "    [103.79349, 1.43],\n",
       "    [103.79425, 1.43],\n",
       "    [103.79425, 1.45],\n",
       "    [103.79469, 1.30553],\n",
       "    [103.79525, 1.44],\n",
       "    [103.79564, 1.44],\n",
       "    [103.79565, 1.45],\n",
       "    [103.79572, 1.42783],\n",
       "    [103.795790833333, 1.442871],\n",
       "    [103.796004116667, 1.44479551666667],\n",
       "    [103.79633, 1.44481],\n",
       "    [103.79642, 1.45],\n",
       "    [103.79644, 1.42395],\n",
       "    [103.79644, 1.43],\n",
       "    [103.79644, 1.44],\n",
       "    [103.79669, 1.43],\n",
       "    [103.79723345, 1.30038473333333],\n",
       "    [103.7975045, 1.44630683333333],\n",
       "    [103.79751, 1.30465],\n",
       "    [103.79792, 1.29215],\n",
       "    [103.79806805, 1.30152346666667],\n",
       "    [103.79827, 1.44083],\n",
       "    [103.79835, 1.30219],\n",
       "    [103.79841, 1.3],\n",
       "    [103.798505333333, 1.444996],\n",
       "    [103.79866, 1.33495],\n",
       "    [103.79874, 1.44],\n",
       "    [103.7990815, 1.30689383333333],\n",
       "    [103.79923, 1.44],\n",
       "    [103.799769833333, 1.42853333333333],\n",
       "    [103.79982, 1.27388],\n",
       "    [103.80033, 1.45],\n",
       "    [103.80079, 1.31],\n",
       "    [103.80087, 1.30431],\n",
       "    [103.8009, 1.30729],\n",
       "    [103.800909833333, 1.42947731666667],\n",
       "    [103.8012324, 1.44109196666667],\n",
       "    [103.801344533333, 1.29726705],\n",
       "    [103.801428116667, 1.44226995],\n",
       "    [103.80199, 1.2739],\n",
       "    [103.80206, 1.44],\n",
       "    [103.8021, 1.284187],\n",
       "    [103.80256, 1.44],\n",
       "    [103.80269, 1.2829],\n",
       "    [103.8027, 1.29424],\n",
       "    [103.802827516667, 1.44531786666667],\n",
       "    [103.80318, 1.44],\n",
       "    [103.80467, 1.29873],\n",
       "    [103.8048355, 1.44249733333333],\n",
       "    [103.80499, 1.45],\n",
       "    [103.80549, 1.44],\n",
       "    [103.8055, 1.29],\n",
       "    [103.80776, 1.2753],\n",
       "    [103.80803, 1.29171],\n",
       "    [103.80847, 1.30928],\n",
       "    [103.808478783333, 1.33732343333333],\n",
       "    [103.808617833333, 1.29372883333333],\n",
       "    [103.80951, 1.28592],\n",
       "    [103.80958, 1.27],\n",
       "    [103.81029, 1.29269],\n",
       "    [103.81147, 1.31988],\n",
       "    [103.81152, 1.29],\n",
       "    [103.81228, 1.27526],\n",
       "    [103.81309, 1.3228],\n",
       "    [103.81318, 1.32322],\n",
       "    [103.81319, 1.32],\n",
       "    [103.81329, 1.45],\n",
       "    [103.81356, 1.28798],\n",
       "    [103.81356, 1.45],\n",
       "    [103.81364, 1.29],\n",
       "    [103.81375, 1.44669],\n",
       "    [103.8139, 1.2919],\n",
       "    [103.81447, 1.29],\n",
       "    [103.81502, 1.46],\n",
       "    [103.81615, 1.3058],\n",
       "    [103.81622, 1.45],\n",
       "    [103.81652, 1.28395],\n",
       "    [103.8165205, 1.45282116666667],\n",
       "    [103.816528, 1.452863],\n",
       "    [103.81756, 1.26455],\n",
       "    [103.817714, 1.451152],\n",
       "    [103.8179, 1.26731],\n",
       "    [103.81866, 1.39363],\n",
       "    [103.8188795, 1.264448],\n",
       "    [103.81993, 1.28349],\n",
       "    [103.820278166667, 1.4392305],\n",
       "    [103.82033, 1.28353],\n",
       "    [103.82039, 1.34],\n",
       "    [103.82077, 1.26413],\n",
       "    [103.82122, 1.44],\n",
       "    [103.82169, 1.28],\n",
       "    [103.82196, 1.27161],\n",
       "    [103.82205, 1.28],\n",
       "    [103.82221, 1.28346],\n",
       "    [103.82239, 1.44542],\n",
       "    [103.8227, 1.45],\n",
       "    [103.82347, 1.27789],\n",
       "    [103.82357, 1.44455],\n",
       "    [103.82407, 1.45],\n",
       "    [103.82423, 1.25198],\n",
       "    [103.82479, 1.25531],\n",
       "    [103.82491, 1.25494],\n",
       "    [103.82492, 1.4],\n",
       "    [103.82494, 1.25185],\n",
       "    [103.82502, 1.27149],\n",
       "    [103.82517, 1.28606],\n",
       "    [103.82535, 1.28],\n",
       "    [103.82546, 1.25],\n",
       "    [103.82547, 1.2539],\n",
       "    [103.82548, 1.25458],\n",
       "    [103.82553, 1.4381],\n",
       "    [103.82557, 1.25442],\n",
       "    [103.82563, 1.28897],\n",
       "    [103.82565, 1.3212],\n",
       "    [103.82579, 1.32],\n",
       "    [103.82587, 1.43735],\n",
       "    [103.82594, 1.267],\n",
       "    [103.82595, 1.28],\n",
       "    [103.82598, 1.30399],\n",
       "    [103.826173666667, 1.2720545],\n",
       "    [103.82621, 1.32443],\n",
       "    [103.82634, 1.45113],\n",
       "    [103.82653, 1.28],\n",
       "    [103.82655, 1.4269],\n",
       "    [103.82755, 1.43],\n",
       "    [103.82791, 1.30728],\n",
       "    [103.82834, 1.38],\n",
       "    [103.828695816667, 1.27680791666667],\n",
       "    [103.82879, 1.43],\n",
       "    [103.8289, 1.43],\n",
       "    [103.82891, 1.36],\n",
       "    [103.829, 1.43],\n",
       "    [103.82912, 1.28086],\n",
       "    [103.829184666667, 1.44561733333333],\n",
       "    [103.82986, 1.41027],\n",
       "    [103.829986166667, 1.28166116666667],\n",
       "    [103.83003, 1.29804],\n",
       "    [103.8303, 1.43],\n",
       "    [103.83044, 1.43181],\n",
       "    [103.8309, 1.45181],\n",
       "    [103.83151, 1.30345],\n",
       "    [103.83158, 1.43],\n",
       "    [103.83174, 1.31],\n",
       "    [103.83182, 1.35489],\n",
       "    [103.83202, 1.31],\n",
       "    [103.832092333333, 1.43554331666667],\n",
       "    [103.8322, 1.43],\n",
       "    [103.83234, 1.37062],\n",
       "    [103.83237, 1.30571],\n",
       "    [103.8325, 1.31],\n",
       "    [103.832578833333, 1.29267033333333],\n",
       "    [103.83325, 1.43],\n",
       "    [103.833263483333, 1.43837151666667],\n",
       "    [103.83334, 1.30422],\n",
       "    [103.83344, 1.28595],\n",
       "    [103.833476666667, 1.42422433333333],\n",
       "    [103.833497866667, 1.42456016666667],\n",
       "    [103.83362, 1.3],\n",
       "    [103.83373, 1.43],\n",
       "    [103.83377, 1.27962],\n",
       "    [103.83417, 1.39469],\n",
       "    [103.83418, 1.43],\n",
       "    [103.83459, 1.28],\n",
       "    [103.83484, 1.28078],\n",
       "    [103.83494, 1.28093],\n",
       "    [103.83511, 1.43],\n",
       "    [103.83518, 1.41648],\n",
       "    [103.83526435, 1.30790858333333],\n",
       "    [103.835286883333, 1.39491513333333],\n",
       "    [103.835301133333, 1.41963995],\n",
       "    [103.835355283333, 1.2777989],\n",
       "    [103.83545, 1.36],\n",
       "    [103.835546, 1.41942833333333],\n",
       "    [103.83565, 1.28363],\n",
       "    [103.835759833333, 1.29079916666667],\n",
       "    [103.835838266667, 1.2778337],\n",
       "    [103.83586, 1.30244],\n",
       "    [103.83595, 1.43],\n",
       "    [103.83604, 1.44337],\n",
       "    [103.83606, 1.37913],\n",
       "    [103.8361803, 1.28373266666667],\n",
       "    [103.83619, 1.28],\n",
       "    [103.836375333333, 1.37568016666667],\n",
       "    [103.83642, 1.27983],\n",
       "    [103.83661, 1.43],\n",
       "    [103.83665, 1.44],\n",
       "    [103.83669, 1.378798],\n",
       "    [103.83682, 1.2723],\n",
       "    [103.83686, 1.30127],\n",
       "    [103.83689, 1.30341],\n",
       "    [103.83689, 1.39],\n",
       "    [103.8369, 1.36],\n",
       "    [103.83693, 1.44],\n",
       "    [103.83698, 1.24322],\n",
       "    [103.83703035, 1.43485103333333],\n",
       "    [103.8371, 1.30147],\n",
       "    [103.83733, 1.42],\n",
       "    [103.837396333333, 1.300543],\n",
       "    [103.83746, 1.44],\n",
       "    [103.83765, 1.37],\n",
       "    [103.83778, 1.30352],\n",
       "    [103.83785, 1.3707],\n",
       "    [103.83812, 1.338001],\n",
       "    [103.838383, 1.29561433333333],\n",
       "    [103.83839, 1.42],\n",
       "    [103.83847, 1.3002],\n",
       "    [103.8386, 1.42],\n",
       "    [103.83865, 1.28154],\n",
       "    [103.8387, 1.431599],\n",
       "    [103.8387243, 1.34254191666667],\n",
       "    [103.838776666667, 1.3808115],\n",
       "    [103.838807, 1.3780475],\n",
       "    [103.838846266667, 1.2863596],\n",
       "    [103.83887, 1.41914],\n",
       "    [103.83901, 1.37048],\n",
       "    [103.83909, 1.29576],\n",
       "    [103.8391, 1.44],\n",
       "    [103.83916, 1.43629],\n",
       "    [103.8393335, 1.39082801666667],\n",
       "    [103.8395, 1.28775],\n",
       "    [103.839559583333, 1.375075],\n",
       "    [103.83958, 1.42],\n",
       "    [103.8397, 1.3207],\n",
       "    [103.83972, 1.28685],\n",
       "    [103.83978, 1.43],\n",
       "    [103.83998, 1.43215],\n",
       "    [103.84, 1.36508],\n",
       "    [103.84029, 1.37448],\n",
       "    [103.84031, 1.43],\n",
       "    [103.84043, 1.42],\n",
       "    [103.84046, 1.36091],\n",
       "    [103.840706066667, 1.37686926666667],\n",
       "    [103.84072, 1.43],\n",
       "    [103.8407775, 1.37880633333333],\n",
       "    [103.840783833333, 1.28766266666667],\n",
       "    [103.84091, 1.28879],\n",
       "    [103.8411065, 1.31217166666667],\n",
       "    [103.84121, 1.43076],\n",
       "    [103.84124, 1.42],\n",
       "    [103.841266766667, 1.36939865],\n",
       "    [103.84136, 1.36844],\n",
       "    [103.84148, 1.27428],\n",
       "    [103.841599, 1.31181563333333],\n",
       "    [103.84164, 1.30246],\n",
       "    [103.84174, 1.28171],\n",
       "    [103.84177, 1.43141],\n",
       "    [103.84199, 1.36],\n",
       "    [103.84204, 1.42],\n",
       "    [103.842051, 1.28889501666667],\n",
       "    [103.84206, 1.4292],\n",
       "    [103.84214, 1.32],\n",
       "    [103.842347533333, 1.31870506666667],\n",
       "    [103.84242, 1.43],\n",
       "    [103.84244, 1.3],\n",
       "    [103.842633, 1.426941],\n",
       "    [103.84273, 1.28366],\n",
       "    [103.84276, 1.28795],\n",
       "    [103.8428753, 1.28784128333333],\n",
       "    [103.84297, 1.42814],\n",
       "    [103.843058566667, 1.38874471666667],\n",
       "    [103.843173616667, 1.2744925],\n",
       "    [103.84324, 1.3168],\n",
       "    [103.84335, 1.2852],\n",
       "    [103.84353, 1.28753],\n",
       "    [103.84357, 1.2847],\n",
       "    [103.843649533333, 1.28486958333333],\n",
       "    [103.84367, 1.37059],\n",
       "    [103.843673333333, 1.27574066666667],\n",
       "    [103.8437, 1.28542],\n",
       "    [103.84373, 1.32664],\n",
       "    [103.84378, 1.37],\n",
       "    [103.84382, 1.42123],\n",
       "    [103.84387, 1.42],\n",
       "    [103.843902, 1.310696],\n",
       "    [103.84394, 1.28799],\n",
       "    [103.843993, 1.28883416666667],\n",
       "    [103.84407, 1.2862],\n",
       "    [103.84409, 1.31836],\n",
       "    [103.844189583333, 1.38250923333333],\n",
       "    [103.84431, 1.36435],\n",
       "    [103.8445, 1.37],\n",
       "    [103.84461, 1.29627],\n",
       "    [103.844700166667, 1.29762916666667],\n",
       "    [103.8448, 1.33367],\n",
       "    [103.844866933333, 1.42086271666667],\n",
       "    [103.84506, 1.4242],\n",
       "    [103.845147066667, 1.42883976666667],\n",
       "    [103.84515, 1.28619],\n",
       "    [103.84518, 1.27728],\n",
       "    [103.84522, 1.37657],\n",
       "    [103.84533, 1.2877],\n",
       "    [103.8453755, 1.33300316666667],\n",
       "    [103.845419583333, 1.34104551666667],\n",
       "    [103.845452216667, 1.37199626666667],\n",
       "    [103.845536, 1.300397],\n",
       "    [103.84558, 1.33773],\n",
       "    [103.845690333333, 1.36562066666667],\n",
       "    [103.84573, 1.32332],\n",
       "    [103.845808166667, 1.33151066666667],\n",
       "    [103.84585, 1.34388],\n",
       "    [103.84636, 1.27768],\n",
       "    [103.84649, 1.32065],\n",
       "    [103.846553783333, 1.27554381666667],\n",
       "    [103.84663, 1.37],\n",
       "    [103.84678, 1.33351],\n",
       "    [103.846941833333, 1.29950343333333],\n",
       "    [103.84699, 1.42],\n",
       "    [103.84723, 1.35435],\n",
       "    [103.84725, 1.30819],\n",
       "    [103.84727, 1.33],\n",
       "    [103.84727245, 1.29955731666667],\n",
       "    [103.847486, 1.376827],\n",
       "    [103.84785, 1.28219],\n",
       "    [103.84786, 1.28941],\n",
       "    [103.8478875, 1.33609716666667],\n",
       "    [103.84796, 1.3265],\n",
       "    [103.8481, 1.37],\n",
       "    [103.84814, 1.3204],\n",
       "    [103.848269283333, 1.38488008333333],\n",
       "    [103.848301333333, 1.383802],\n",
       "    [103.84834, 1.42],\n",
       "    [103.84837, 1.27629],\n",
       "    [103.8484295, 1.38446533333333],\n",
       "    [103.848431666667, 1.36785],\n",
       "    [103.84843475, 1.38393598333333],\n",
       "    [103.8484425, 1.3843],\n",
       "    [103.84849, 1.39],\n",
       "    [103.848496283333, 1.42074703333333],\n",
       "    [103.8485, 1.384603],\n",
       "    [103.848518833333, 1.38513538333333],\n",
       "    [103.848526766667, 1.38399406666667],\n",
       "    [103.848563, 1.38516333333333],\n",
       "    [103.848614, 1.38390066666667],\n",
       "    [103.848647333333, 1.384498],\n",
       "    [103.8486747, 1.36742233333333],\n",
       "    [103.848769283333, 1.3847482],\n",
       "    [103.84881, 1.37],\n",
       "    [103.848949766667, 1.38508126666667],\n",
       "    [103.84895, 1.32815],\n",
       "    [103.84898, 1.36525],\n",
       "    [103.849023, 1.346625],\n",
       "    [103.8492185, 1.38441016666667],\n",
       "    [103.849393333333, 1.42228183333333],\n",
       "    [103.849471833333, 1.3841705],\n",
       "    [103.84951, 1.35],\n",
       "    [103.8495515, 1.38402666666667],\n",
       "    [103.84957, 1.30598],\n",
       "    [103.849837783333, 1.42865736666667],\n",
       "    [103.84985, 1.29055],\n",
       "    [103.850229166667, 1.34162783333333],\n",
       "    [103.85027, 1.27986],\n",
       "    [103.85038, 1.33423],\n",
       "    [103.85063, 1.32507],\n",
       "    [103.85081, 1.3],\n",
       "    [103.85106, 1.36299],\n",
       "    [103.85149, 1.29],\n",
       "    [103.85155, 1.29288],\n",
       "    [103.85156, 1.37],\n",
       "    [103.85158, 1.31932],\n",
       "    [103.85169, 1.37],\n",
       "    [103.85171, 1.29622],\n",
       "    [103.85171, 1.33573],\n",
       "    [103.85181, 1.30083],\n",
       "    [103.85182, 1.29618],\n",
       "    [103.8521905, 1.331263],\n",
       "    [103.85227, 1.33],\n",
       "    [103.85253, 1.28614],\n",
       "    [103.85267, 1.3],\n",
       "    [103.85269125, 1.36371941666667],\n",
       "    [103.85283, 1.36302],\n",
       "    [103.85298, 1.29942],\n",
       "    [103.853, 1.3121],\n",
       "    [103.85308, 1.31],\n",
       "    [103.85322, 1.31],\n",
       "    [103.85334, 1.28498],\n",
       "    [103.85341, 1.36],\n",
       "    [103.853461, 1.37488],\n",
       "    [103.8536925, 1.36240616666667],\n",
       "    [103.85401, 1.34151],\n",
       "    [103.85407, 1.31369],\n",
       "    [103.85409, 1.29649],\n",
       "    [103.854094533333, 1.3488388],\n",
       "    [103.85416, 1.29633],\n",
       "    [103.85419, 1.31894],\n",
       "    [103.85445, 1.36],\n",
       "    [103.854465883333, 1.31825001666667],\n",
       "    [103.85449, 1.32],\n",
       "    [103.85473, 1.29456],\n",
       "    [103.85476, 1.31288],\n",
       "    [103.85477, 1.31039],\n",
       "    [103.85481535, 1.3565496],\n",
       "    [103.85482, 1.37],\n",
       "    [103.854820783333, 1.3229763],\n",
       "    [103.85506, 1.34],\n",
       "    [103.85507, 1.36091],\n",
       "    [103.85516595, 1.31216438333333],\n",
       "    [103.85539, 1.37],\n",
       "    [103.85542, 1.32348],\n",
       "    [103.855461833333, 1.32064516666667],\n",
       "    [103.85558, 1.30578],\n",
       "    [103.85561, 1.29541],\n",
       "    [103.855619666667, 1.3663085],\n",
       "    [103.85568, 1.32],\n",
       "    [103.85571, 1.34559],\n",
       "    [103.855791666667, 1.36627483333333],\n",
       "    [103.8558, 1.30968],\n",
       "    [103.85595, 1.28],\n",
       "    [103.855970883333, 1.29605973333333],\n",
       "    [103.85599, 1.34],\n",
       "    [103.85602, 1.33419],\n",
       "    [103.85605, 1.3007],\n",
       "    [103.85613, 1.29622],\n",
       "    [103.85613, 1.37],\n",
       "    [103.85614, 1.33548],\n",
       "    [103.8562, 1.29199],\n",
       "    [103.85632, 1.33],\n",
       "    [103.85636, 1.30299],\n",
       "    [103.8564, 1.36237],\n",
       "    [103.856491516667, 1.3623571],\n",
       "    [103.85664, 1.34],\n",
       "    [103.8567955, 1.27944],\n",
       "    [103.85683, 1.31061],\n",
       "    [103.856860683333, 1.30860435],\n",
       "    [103.85698, 1.27912],\n",
       "    [103.857047866667, 1.33484508333333],\n",
       "    [103.8571, 1.362216],\n",
       "    [103.85714, 1.33],\n",
       "    [103.857168166667, 1.32186933333333],\n",
       "    [103.85721, 1.30225],\n",
       "    [103.85728, 1.29776],\n",
       "    [103.8573, 1.29546],\n",
       "    [103.857404016667, 1.37079973333333],\n",
       "    [103.857560816667, 1.2818608],\n",
       "    [103.85777, 1.32442],\n",
       "    [103.858098783333, 1.37937451666667],\n",
       "    [103.8581, 1.32352],\n",
       "    [103.85824, 1.3],\n",
       "    [103.85842, 1.2955],\n",
       "    [103.85848, 1.29],\n",
       "    [103.85851, 1.34],\n",
       "    [103.85852, 1.34213],\n",
       "    [103.858800666667, 1.33748016666667],\n",
       "    [103.858865133333, 1.32637588333333],\n",
       "    [103.85899, 1.3],\n",
       "    [103.85906, 1.29168],\n",
       "    [103.85908, 1.2915],\n",
       "    [103.85915, 1.29957],\n",
       "    [103.85931, 1.28209],\n",
       "    [103.85934, 1.29442],\n",
       "    [103.85958, 1.29565],\n",
       "    [103.85963, 1.28253],\n",
       "    [103.85965, 1.2668],\n",
       "    [103.86008, 1.31],\n",
       "    [103.86024, 1.3],\n",
       "    [103.8603, 1.2835],\n",
       "    [103.86032, 1.28353],\n",
       "    [103.86039, 1.28354],\n",
       "    [103.8605, 1.30525],\n",
       "    [103.86058, 1.31],\n",
       "    [103.86059, 1.29236],\n",
       "    [103.86067, 1.28353],\n",
       "    [103.86068, 1.28348],\n",
       "    [103.86075, 1.3004],\n",
       "    [103.86086, 1.28961],\n",
       "    [103.860913333333, 1.28519816666667],\n",
       "    [103.860924066667, 1.32819038333333],\n",
       "    [103.860959633333, 1.28564506666667],\n",
       "    [103.8611, 1.2847],\n",
       "    [103.86184, 1.37743],\n",
       "    [103.86197, 1.3853],\n",
       "    [103.86198, 1.31729],\n",
       "    [103.86278, 1.3103],\n",
       "    [103.86279, 1.38581],\n",
       "    [103.86287, 1.30192],\n",
       "    [103.86323, 1.3],\n",
       "    [103.86323, 1.32183],\n",
       "    [103.86326, 1.29934],\n",
       "    [103.86327, 1.34],\n",
       "    [103.86349, 1.31949],\n",
       "    [103.863666333333, 1.31930983333333],\n",
       "    [103.86392, 1.30885],\n",
       "    [103.864324, 1.307275],\n",
       "    [103.864730966667, 1.30603788333333],\n",
       "    [103.86558, 1.32],\n",
       "    [103.86561, 1.30924],\n",
       "    [103.86578, 1.28132],\n",
       "    [103.86578, 1.28135],\n",
       "    [103.86603, 1.28077],\n",
       "    [103.86603, 1.33],\n",
       "    [103.8661326, 1.30932216666667],\n",
       "    [103.867135166667, 1.3543965],\n",
       "    [103.86714, 1.35],\n",
       "    [103.86852, 1.3042],\n",
       "    [103.86876, 1.32],\n",
       "    [103.86913, 1.38823],\n",
       "    [103.8693, 1.39167],\n",
       "    [103.86935, 1.33377],\n",
       "    [103.8694, 1.39214],\n",
       "    [103.8696, 1.37],\n",
       "    [103.86962, 1.37091],\n",
       "    [103.86963065, 1.38788631666667],\n",
       "    [103.869885333333, 1.39193316666667],\n",
       "    [103.86997, 1.37095],\n",
       "    [103.86998, 1.35],\n",
       "    [103.86999, 1.35045],\n",
       "    [103.8702, 1.28],\n",
       "    [103.870214333333, 1.37001573333333],\n",
       "    [103.87029, 1.31369],\n",
       "    [103.87061, 1.37],\n",
       "    [103.8706385, 1.33747933333333],\n",
       "    [103.87069, 1.36],\n",
       "    [103.8709471, 1.36853218333333],\n",
       "    [103.8712, 1.35],\n",
       "    [103.871394666667, 1.35043595],\n",
       "    [103.871758, 1.37395],\n",
       "    [103.87176, 1.37],\n",
       "    [103.87178, 1.31],\n",
       "    [103.87201, 1.31189],\n",
       "    [103.87217, 1.36],\n",
       "    [103.87232, 1.31437],\n",
       "    [103.87234, 1.31],\n",
       "    [103.87257, 1.39297],\n",
       "    [103.87268, 1.31471],\n",
       "    [103.87280175, 1.35149483333333],\n",
       "    [103.87281, 1.35345],\n",
       "    [103.87292, 1.35083],\n",
       "    [103.87294, 1.36866],\n",
       "    [103.87299, 1.30696],\n",
       "    [103.873192616667, 1.31331198333333],\n",
       "    [103.873624533333, 1.29619751666667],\n",
       "    [103.87372, 1.35],\n",
       "    [103.8741985, 1.35830666666667],\n",
       "    [103.87422745, 1.37219855],\n",
       "    [103.87434, 1.31303],\n",
       "    [103.87453, 1.31142],\n",
       "    [103.87487, 1.29373],\n",
       "    [103.87494, 1.32073],\n",
       "    [103.87532, 1.3115],\n",
       "    [103.875371166667, 1.3691095],\n",
       "    [103.87551765, 1.39210106666667],\n",
       "    [103.875940233333, 1.4013205],\n",
       "    [103.87601, 1.31027],\n",
       "    [103.87602, 1.39495],\n",
       "    [103.87625, 1.35283],\n",
       "    [103.87646, 1.39097],\n",
       "    [103.87671, 1.30541],\n",
       "    [103.87741, 1.30216],\n",
       "    [103.87756, 1.3916],\n",
       "    [103.87765, 1.37584],\n",
       "    [103.877674, 1.299408],\n",
       "    [103.87794, 1.32495],\n",
       "    [103.878277183333, 1.35716623333333],\n",
       "    [103.8783, 1.30257],\n",
       "    [103.87841, 1.30313],\n",
       "    [103.878551, 1.302781],\n",
       "    [103.87908, 1.3356],\n",
       "    [103.87912, 1.37175],\n",
       "    [103.879576333333, 1.38013433333333],\n",
       "    [103.879577666667, 1.3693265],\n",
       "    [103.87968, 1.37846],\n",
       "    [103.879684333333, 1.37151066666667],\n",
       "    [103.87973, 1.33566],\n",
       "    [103.87983, 1.36921],\n",
       "    [103.87985, 1.4],\n",
       "    [103.87996, 1.33],\n",
       "    [103.880055666667, 1.329948],\n",
       "    [103.880059, 1.317546],\n",
       "    [103.88007, 1.35297],\n",
       "    [103.88025, 1.38354],\n",
       "    [103.88033, 1.38],\n",
       "    [103.88038, 1.34857],\n",
       "    [103.88042, 1.34736],\n",
       "    [103.880624066667, 1.33671358333333],\n",
       "    [103.88065, 1.29853],\n",
       "    [103.880747833333, 1.38051133333333],\n",
       "    [103.880819, 1.351255],\n",
       "    [103.88092, 1.37504],\n",
       "    [103.88108, 1.37],\n",
       "    [103.881180616667, 1.32843831666667],\n",
       "    [103.88143, 1.4],\n",
       "    [103.881533, 1.374357],\n",
       "    [103.88163, 1.31],\n",
       "    [103.88188, 1.29986],\n",
       "    [103.88207, 1.31319],\n",
       "    [103.88268, 1.30557],\n",
       "    [103.883161333333, 1.31604533333333],\n",
       "    [103.8836, 1.33231],\n",
       "    [103.883800183333, 1.31051173333333],\n",
       "    [103.88394, 1.32],\n",
       "    [103.884336383333, 1.30082745],\n",
       "    [103.88437, 1.37],\n",
       "    [103.88444, 1.35204],\n",
       "    [103.88452, 1.30121],\n",
       "    [103.88454, 1.37914],\n",
       "    [103.885201783333, 1.33144981666667],\n",
       "    [103.885341166667, 1.29975583333333],\n",
       "    [103.88548, 1.37309233333333],\n",
       "    [103.8855, 1.3],\n",
       "    [103.88559, 1.33627],\n",
       "    [103.88564, 1.37945],\n",
       "    [103.885659016667, 1.31196318333333],\n",
       "    [103.88575, 1.39232],\n",
       "    [103.88578, 1.37196],\n",
       "    [103.88588, 1.33582],\n",
       "    [103.88605, 1.37],\n",
       "    [103.88617, 1.37],\n",
       "    [103.88635, 1.31],\n",
       "    [103.88644, 1.39],\n",
       "    [103.8865286, 1.37353446666667],\n",
       "    [103.88657, 1.35327],\n",
       "    [103.886728016667, 1.39265115],\n",
       "    [103.886745, 1.40129],\n",
       "    [103.88707, 1.35344],\n",
       "    [103.88740325, 1.31565526666667],\n",
       "    [103.8875, 1.38084],\n",
       "    [103.88795, 1.37],\n",
       "    [103.88831, 1.30715],\n",
       "    [103.88832, 1.35243],\n",
       "    [103.88851, 1.31],\n",
       "    [103.88884, 1.37],\n",
       "    [103.88884, 1.37],\n",
       "    [103.888884833333, 1.34931466666667],\n",
       "    [103.888939483333, 1.37164043333333],\n",
       "    [103.889301016667, 1.38765895],\n",
       "    [103.88931, 1.364],\n",
       "    [103.88996, 1.36463],\n",
       "    [103.89027, 1.36],\n",
       "    [103.89042, 1.39522],\n",
       "    [103.890496166667, 1.35311228333333],\n",
       "    [103.89099, 1.35],\n",
       "    [103.89115, 1.355],\n",
       "    [103.89117, 1.37302],\n",
       "    [103.89149, 1.38683],\n",
       "    [103.89169, 1.31941],\n",
       "    [103.89219475, 1.38846495],\n",
       "    [103.892244266667, 1.32540326666667],\n",
       "    [103.89263, 1.39],\n",
       "    [103.89266, 1.32029],\n",
       "    [103.89282, 1.36249],\n",
       "    [103.893020333333, 1.36136633333333],\n",
       "    [103.89315, 1.36789],\n",
       "    [103.89354, 1.38658],\n",
       "    [103.893801833333, 1.3192975],\n",
       "    [103.89398, 1.38682],\n",
       "    [103.89404, 1.38697],\n",
       "    [103.89408, 1.31464],\n",
       "    [103.89413, 1.3891],\n",
       "    [103.89496, 1.37],\n",
       "    [103.89537, 1.37],\n",
       "    [103.895397166667, 1.3949665],\n",
       "    [103.89541, 1.3709],\n",
       "    [103.895477, 1.366003],\n",
       "    [103.89556, 1.39296],\n",
       "    [103.895643, 1.392553],\n",
       "    [103.89597, 1.31],\n",
       "    [103.89629, 1.36867],\n",
       "    [103.89656, 1.30951],\n",
       "    [103.89674, 1.32427],\n",
       "    [103.89684, 1.37425],\n",
       "    [103.89703, 1.38123],\n",
       "    [103.89708, 1.3672],\n",
       "    [103.89719, 1.37],\n",
       "    [103.89748, 1.37522],\n",
       "    [103.89755, 1.4],\n",
       "    [103.897602, 1.38818083333333],\n",
       "    [103.89762, 1.33348],\n",
       "    [103.897622383333, 1.36718435],\n",
       "    [103.89769, 1.38],\n",
       "    [103.89789, 1.33196],\n",
       "    [103.89792, 1.3162],\n",
       "    [103.89796, 1.39],\n",
       "    [103.89842, 1.38925],\n",
       "    [103.89853485, 1.3015516],\n",
       "    [103.899255266667, 1.393713],\n",
       "    [103.89929, 1.40277],\n",
       "    [103.90055, 1.38609],\n",
       "    [103.9005885, 1.40083533333333],\n",
       "    [103.90078, 1.30985],\n",
       "    [103.90086, 1.30938],\n",
       "    [103.90089, 1.31],\n",
       "    [103.901037933333, 1.40139268333333],\n",
       "    [103.901086, 1.416849],\n",
       "    [103.90113, 1.39288],\n",
       "    [103.901135533333, 1.39651861666667],\n",
       "    [103.90125, 1.41],\n",
       "    [103.90164, 1.31698],\n",
       "    [103.90167, 1.41736],\n",
       "    [103.901796833333, 1.40671753333333],\n",
       "    [103.901891833333, 1.38372616666667],\n",
       "    [103.902014833333, 1.38401616666667],\n",
       "    [103.902056, 1.41011616666667],\n",
       "    [103.9023, 1.33],\n",
       "    [103.90236, 1.38869],\n",
       "    [103.90249, 1.41741],\n",
       "    [103.9025, 1.40107],\n",
       "    [103.902500666667, 1.3208885],\n",
       "    [103.902778816667, 1.32933288333333],\n",
       "    [103.902850166667, 1.39301433333333],\n",
       "    [103.90315, 1.3291],\n",
       "    [103.9032076, 1.38811606666667],\n",
       "    [103.90321, 1.33],\n",
       "    [103.90356, 1.38014],\n",
       "    [103.90359, 1.30779],\n",
       "    [103.903813333333, 1.3241735],\n",
       "    [103.903856016667, 1.32846183333333],\n",
       "    [103.90393, 1.38365],\n",
       "    [103.90398, 1.39005],\n",
       "    [103.90402, 1.39734],\n",
       "    [103.90414, 1.38692],\n",
       "    [103.90419375, 1.3173934],\n",
       "    [103.90439, 1.32],\n",
       "    [103.90451, 1.39],\n",
       "    [103.90498, 1.39627],\n",
       "    [103.90501, 1.39],\n",
       "    [103.905050516667, 1.39423445],\n",
       "    [103.9051705, 1.38912266666667],\n",
       "    [103.90532, 1.40029],\n",
       "    [103.90541, 1.33504],\n",
       "    [103.905865133333, 1.32616813333333],\n",
       "    [103.90675, 1.39019],\n",
       "    [103.90696, 1.38945],\n",
       "    [103.90723, 1.39],\n",
       "    [103.90738, 1.4027],\n",
       "    [103.90814, 1.37847],\n",
       "    [103.90814, 1.39173],\n",
       "    [103.90838, 1.4],\n",
       "    [103.90907, 1.40031],\n",
       "    [103.90939, 1.4008],\n",
       "    [103.90996, 1.33036],\n",
       "    [103.910009866667, 1.39597735],\n",
       "    [103.91073, 1.39517],\n",
       "    [103.91082, 1.39009],\n",
       "    [103.91113, 1.39554],\n",
       "    [103.9117, 1.32862],\n",
       "    [103.91176, 1.33468],\n",
       "    [103.91176, 1.34],\n",
       "    [103.911938166667, 1.33151883333333],\n",
       "    [103.9125, 1.39367],\n",
       "    [103.91258, 1.34],\n",
       "    [103.912729833333, 1.30487933333333],\n",
       "    [103.91304, 1.30231],\n",
       "    [103.913565, 1.33667133333333],\n",
       "    [103.91382, 1.33954],\n",
       "    [103.91487, 1.31],\n",
       "    [103.91509, 1.4],\n",
       "    [103.9154, 1.393921],\n",
       "    [103.91562, 1.30599],\n",
       "    [103.91704, 1.33128],\n",
       "    [103.91732, 1.4],\n",
       "    [103.917442833333, 1.39960466666667],\n",
       "    ...]},\n",
       "  'properties': {'timestamp': '2022-12-18T19:22:11+08:00',\n",
       "   'taxi_count': 1265,\n",
       "   'api_info': {'status': 'healthy'}}}]"
      ]
     },
     "execution_count": 23,
     "metadata": {},
     "output_type": "execute_result"
    }
   ],
   "source": [
    "data['features']"
   ]
  },
  {
   "cell_type": "code",
   "execution_count": 24,
   "metadata": {
    "id": "_VsUKA0j8ZNW"
   },
   "outputs": [],
   "source": [
    "coordinates = [{'long':taxi[0],'lat':taxi[1]} for taxi in data['features'][0]['geometry']['coordinates']]"
   ]
  },
  {
   "cell_type": "code",
   "execution_count": 25,
   "metadata": {
    "colab": {
     "base_uri": "https://localhost:8080/",
     "height": 424
    },
    "executionInfo": {
     "elapsed": 376,
     "status": "ok",
     "timestamp": 1669215688566,
     "user": {
      "displayName": "Ian Chong",
      "userId": "10615222189260864195"
     },
     "user_tz": -480
    },
    "id": "5qVrM3yO93uV",
    "outputId": "563a86c4-9f01-42ce-9765-27c6ecae077e"
   },
   "outputs": [
    {
     "data": {
      "text/html": [
       "<div>\n",
       "<style scoped>\n",
       "    .dataframe tbody tr th:only-of-type {\n",
       "        vertical-align: middle;\n",
       "    }\n",
       "\n",
       "    .dataframe tbody tr th {\n",
       "        vertical-align: top;\n",
       "    }\n",
       "\n",
       "    .dataframe thead th {\n",
       "        text-align: right;\n",
       "    }\n",
       "</style>\n",
       "<table border=\"1\" class=\"dataframe\">\n",
       "  <thead>\n",
       "    <tr style=\"text-align: right;\">\n",
       "      <th></th>\n",
       "      <th>long</th>\n",
       "      <th>lat</th>\n",
       "    </tr>\n",
       "  </thead>\n",
       "  <tbody>\n",
       "    <tr>\n",
       "      <th>0</th>\n",
       "      <td>103.634810</td>\n",
       "      <td>1.314910</td>\n",
       "    </tr>\n",
       "    <tr>\n",
       "      <th>1</th>\n",
       "      <td>103.652490</td>\n",
       "      <td>1.320000</td>\n",
       "    </tr>\n",
       "    <tr>\n",
       "      <th>2</th>\n",
       "      <td>103.659853</td>\n",
       "      <td>1.309245</td>\n",
       "    </tr>\n",
       "    <tr>\n",
       "      <th>3</th>\n",
       "      <td>103.688630</td>\n",
       "      <td>1.339210</td>\n",
       "    </tr>\n",
       "    <tr>\n",
       "      <th>4</th>\n",
       "      <td>103.688687</td>\n",
       "      <td>1.341112</td>\n",
       "    </tr>\n",
       "    <tr>\n",
       "      <th>...</th>\n",
       "      <td>...</td>\n",
       "      <td>...</td>\n",
       "    </tr>\n",
       "    <tr>\n",
       "      <th>1260</th>\n",
       "      <td>103.999530</td>\n",
       "      <td>1.385910</td>\n",
       "    </tr>\n",
       "    <tr>\n",
       "      <th>1261</th>\n",
       "      <td>104.002180</td>\n",
       "      <td>1.376190</td>\n",
       "    </tr>\n",
       "    <tr>\n",
       "      <th>1262</th>\n",
       "      <td>104.002290</td>\n",
       "      <td>1.375750</td>\n",
       "    </tr>\n",
       "    <tr>\n",
       "      <th>1263</th>\n",
       "      <td>104.002520</td>\n",
       "      <td>1.376010</td>\n",
       "    </tr>\n",
       "    <tr>\n",
       "      <th>1264</th>\n",
       "      <td>104.003430</td>\n",
       "      <td>1.374800</td>\n",
       "    </tr>\n",
       "  </tbody>\n",
       "</table>\n",
       "<p>1265 rows × 2 columns</p>\n",
       "</div>"
      ],
      "text/plain": [
       "            long       lat\n",
       "0     103.634810  1.314910\n",
       "1     103.652490  1.320000\n",
       "2     103.659853  1.309245\n",
       "3     103.688630  1.339210\n",
       "4     103.688687  1.341112\n",
       "...          ...       ...\n",
       "1260  103.999530  1.385910\n",
       "1261  104.002180  1.376190\n",
       "1262  104.002290  1.375750\n",
       "1263  104.002520  1.376010\n",
       "1264  104.003430  1.374800\n",
       "\n",
       "[1265 rows x 2 columns]"
      ]
     },
     "execution_count": 25,
     "metadata": {},
     "output_type": "execute_result"
    }
   ],
   "source": [
    "import pandas as pd\n",
    "dataframe = pd.DataFrame(coordinates)\n",
    "dataframe"
   ]
  },
  {
   "cell_type": "markdown",
   "metadata": {
    "id": "6IjM61FG_KRc"
   },
   "source": [
    "### 2.3.2 - Data Analysis\n",
    "\n",
    "This dataset is very basic, so analysis is easy. pandas is a powerful tool to do analysis and manipulation. It is a mammoth so we will not go into details here. Just know you can easily do statistical analysis."
   ]
  },
  {
   "cell_type": "code",
   "execution_count": 26,
   "metadata": {
    "colab": {
     "base_uri": "https://localhost:8080/"
    },
    "executionInfo": {
     "elapsed": 314,
     "status": "ok",
     "timestamp": 1669215688877,
     "user": {
      "displayName": "Ian Chong",
      "userId": "10615222189260864195"
     },
     "user_tz": -480
    },
    "id": "-KdP7YUK-mRV",
    "outputId": "8f8bf67e-5c71-4c74-e335-88a836e6c53d"
   },
   "outputs": [
    {
     "data": {
      "text/plain": [
       "long    103.856774\n",
       "lat       1.352352\n",
       "dtype: float64"
      ]
     },
     "execution_count": 26,
     "metadata": {},
     "output_type": "execute_result"
    }
   ],
   "source": [
    "dataframe.mean()"
   ]
  },
  {
   "cell_type": "code",
   "execution_count": 27,
   "metadata": {
    "colab": {
     "base_uri": "https://localhost:8080/"
    },
    "executionInfo": {
     "elapsed": 7,
     "status": "ok",
     "timestamp": 1669215688877,
     "user": {
      "displayName": "Ian Chong",
      "userId": "10615222189260864195"
     },
     "user_tz": -480
    },
    "id": "ZifLwrok_VmN",
    "outputId": "8fe6c690-2042-49db-a890-ed4132d26305"
   },
   "outputs": [
    {
     "data": {
      "text/plain": [
       "long    104.00343\n",
       "lat       1.46000\n",
       "dtype: float64"
      ]
     },
     "execution_count": 27,
     "metadata": {},
     "output_type": "execute_result"
    }
   ],
   "source": [
    "dataframe.max()"
   ]
  },
  {
   "cell_type": "code",
   "execution_count": 28,
   "metadata": {
    "colab": {
     "base_uri": "https://localhost:8080/"
    },
    "executionInfo": {
     "elapsed": 6,
     "status": "ok",
     "timestamp": 1669215688877,
     "user": {
      "displayName": "Ian Chong",
      "userId": "10615222189260864195"
     },
     "user_tz": -480
    },
    "id": "e12cXjSD_YjY",
    "outputId": "de4570ca-a5a8-44df-b3f3-af36bc2cc2ed"
   },
   "outputs": [
    {
     "data": {
      "text/plain": [
       "long    103.63481\n",
       "lat       1.24322\n",
       "dtype: float64"
      ]
     },
     "execution_count": 28,
     "metadata": {},
     "output_type": "execute_result"
    }
   ],
   "source": [
    "dataframe.min()"
   ]
  },
  {
   "cell_type": "code",
   "execution_count": 29,
   "metadata": {
    "colab": {
     "base_uri": "https://localhost:8080/",
     "height": 300
    },
    "executionInfo": {
     "elapsed": 5,
     "status": "ok",
     "timestamp": 1669215688877,
     "user": {
      "displayName": "Ian Chong",
      "userId": "10615222189260864195"
     },
     "user_tz": -480
    },
    "id": "yfDfRwX5_Zu5",
    "outputId": "0dd82ed2-9f88-4e6e-9c0d-abb48033fa9c"
   },
   "outputs": [
    {
     "data": {
      "text/html": [
       "<div>\n",
       "<style scoped>\n",
       "    .dataframe tbody tr th:only-of-type {\n",
       "        vertical-align: middle;\n",
       "    }\n",
       "\n",
       "    .dataframe tbody tr th {\n",
       "        vertical-align: top;\n",
       "    }\n",
       "\n",
       "    .dataframe thead th {\n",
       "        text-align: right;\n",
       "    }\n",
       "</style>\n",
       "<table border=\"1\" class=\"dataframe\">\n",
       "  <thead>\n",
       "    <tr style=\"text-align: right;\">\n",
       "      <th></th>\n",
       "      <th>long</th>\n",
       "      <th>lat</th>\n",
       "    </tr>\n",
       "  </thead>\n",
       "  <tbody>\n",
       "    <tr>\n",
       "      <th>count</th>\n",
       "      <td>1265.000000</td>\n",
       "      <td>1265.000000</td>\n",
       "    </tr>\n",
       "    <tr>\n",
       "      <th>mean</th>\n",
       "      <td>103.856774</td>\n",
       "      <td>1.352352</td>\n",
       "    </tr>\n",
       "    <tr>\n",
       "      <th>std</th>\n",
       "      <td>0.072690</td>\n",
       "      <td>0.045306</td>\n",
       "    </tr>\n",
       "    <tr>\n",
       "      <th>min</th>\n",
       "      <td>103.634810</td>\n",
       "      <td>1.243220</td>\n",
       "    </tr>\n",
       "    <tr>\n",
       "      <th>25%</th>\n",
       "      <td>103.813290</td>\n",
       "      <td>1.319080</td>\n",
       "    </tr>\n",
       "    <tr>\n",
       "      <th>50%</th>\n",
       "      <td>103.854160</td>\n",
       "      <td>1.350830</td>\n",
       "    </tr>\n",
       "    <tr>\n",
       "      <th>75%</th>\n",
       "      <td>103.903150</td>\n",
       "      <td>1.380000</td>\n",
       "    </tr>\n",
       "    <tr>\n",
       "      <th>max</th>\n",
       "      <td>104.003430</td>\n",
       "      <td>1.460000</td>\n",
       "    </tr>\n",
       "  </tbody>\n",
       "</table>\n",
       "</div>"
      ],
      "text/plain": [
       "              long          lat\n",
       "count  1265.000000  1265.000000\n",
       "mean    103.856774     1.352352\n",
       "std       0.072690     0.045306\n",
       "min     103.634810     1.243220\n",
       "25%     103.813290     1.319080\n",
       "50%     103.854160     1.350830\n",
       "75%     103.903150     1.380000\n",
       "max     104.003430     1.460000"
      ]
     },
     "execution_count": 29,
     "metadata": {},
     "output_type": "execute_result"
    }
   ],
   "source": [
    "dataframe.describe()"
   ]
  },
  {
   "cell_type": "code",
   "execution_count": 30,
   "metadata": {
    "colab": {
     "base_uri": "https://localhost:8080/"
    },
    "executionInfo": {
     "elapsed": 6,
     "status": "ok",
     "timestamp": 1669215688878,
     "user": {
      "displayName": "Ian Chong",
      "userId": "10615222189260864195"
     },
     "user_tz": -480
    },
    "id": "KB7Q_D8d_l4e",
    "outputId": "786a0ef7-ecda-4e5b-86d1-3a675d984146"
   },
   "outputs": [
    {
     "name": "stdout",
     "output_type": "stream",
     "text": [
      "<class 'pandas.core.frame.DataFrame'>\n",
      "RangeIndex: 1265 entries, 0 to 1264\n",
      "Data columns (total 2 columns):\n",
      " #   Column  Non-Null Count  Dtype  \n",
      "---  ------  --------------  -----  \n",
      " 0   long    1265 non-null   float64\n",
      " 1   lat     1265 non-null   float64\n",
      "dtypes: float64(2)\n",
      "memory usage: 19.9 KB\n"
     ]
    }
   ],
   "source": [
    "dataframe.info(verbose=True)"
   ]
  },
  {
   "cell_type": "markdown",
   "metadata": {
    "id": "29fMBF_m_pie"
   },
   "source": [
    "### 2.3.3 - Data Visualization\n",
    "\n",
    "`matplotlib` is the most common data visualization tool. It is power and affords you great customization over your graphics. However, it is also a mammoth and will not be covered here."
   ]
  },
  {
   "cell_type": "code",
   "execution_count": 36,
   "metadata": {
    "colab": {
     "base_uri": "https://localhost:8080/",
     "height": 298
    },
    "executionInfo": {
     "elapsed": 646,
     "status": "ok",
     "timestamp": 1669215689519,
     "user": {
      "displayName": "Ian Chong",
      "userId": "10615222189260864195"
     },
     "user_tz": -480
    },
    "id": "ZrHGLHRL_nml",
    "outputId": "5ec0591a-eecb-4e08-a9f4-a8204771124e"
   },
   "outputs": [
    {
     "data": {
      "text/plain": [
       "Text(0.5, 1.0, 'Coordinates of Singapore Taxis as of 2022-12-18T19:22:37')"
      ]
     },
     "execution_count": 36,
     "metadata": {},
     "output_type": "execute_result"
    },
    {
     "data": {
      "image/png": "[encoded data removed]",
      "text/plain": [
       "<Figure size 432x288 with 1 Axes>"
      ]
     },
     "metadata": {
      "needs_background": "light"
     },
     "output_type": "display_data"
    }
   ],
   "source": [
    "from matplotlib import pyplot as plt\n",
    "\n",
    "plt.scatter(x=dataframe['long'],y=dataframe['lat'])\n",
    "plt.title(f\"Coordinates of Singapore Taxis as of {now}\")"
   ]
  },
  {
   "cell_type": "code",
   "execution_count": null,
   "metadata": {},
   "outputs": [],
   "source": []
  }
 ],
 "metadata": {
  "colab": {
   "authorship_tag": "ABX9TyNvbW8Eb4Spsim6iR/SUg+F",
   "provenance": []
  },
  "kernelspec": {
   "display_name": "Python 3",
   "language": "python",
   "name": "python3"
  },
  "language_info": {
   "codemirror_mode": {
    "name": "ipython",
    "version": 3
   },
   "file_extension": ".py",
   "mimetype": "text/x-python",
   "name": "python",
   "nbconvert_exporter": "python",
   "pygments_lexer": "ipython3",
   "version": "3.8.10"
  }
 },
 "nbformat": 4,
 "nbformat_minor": 1
}
