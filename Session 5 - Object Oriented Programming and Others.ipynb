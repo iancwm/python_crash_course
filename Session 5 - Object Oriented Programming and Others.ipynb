{
 "cells": [
  {
   "cell_type": "markdown",
   "metadata": {
    "id": "zqrss-fsSBpB"
   },
   "source": [
    "<h1><font color='blue'>Session 5 - OOP and Other Concepts</font></h1>\n",
    "\n",
    "OOP is one of the hardest concepts to get and requires a sound understanding of all the prior concepts. That said, we can go through the basics here.\n",
    "\n",
    "![](https://media.geeksforgeeks.org/wp-content/uploads/20220608174843/OOPS1-282x300.png)\n",
    "\n",
    "# Section 1 - OOP\n",
    "\n",
    "Object-oriented programming is a programming paradigm that provides a means of structuring programs so that properties and behaviors are bundled into individual objects.\n",
    "\n",
    "For instance, an object could represent a person with:\n",
    "- properties (attributes): \n",
    "    - name\n",
    "    - age\n",
    "    - address \n",
    "- behaviors (methods):\n",
    "    - walk()\n",
    "    - talk()\n",
    "    - breathe()\n",
    "    - run() \n",
    "    \n",
    "Put another way, object-oriented programming is an approach for modeling concrete, real-world things, like cars, as well as relations between things, like companies and employees, students and teachers, and so on. OOP models real-world entities as software objects that have some data associated with them and can perform certain functions.\n",
    "\n",
    "![](https://media.geeksforgeeks.org/wp-content/uploads/Blank-Diagram-Page-1-3.png)\n",
    "\n",
    "The blue print for an object is the Class. A Class determines the basic properties and functions that an object would have. An Object is simply an instance of a Class. We can have multiple Objects all of the same Class, but they are separate instances and keep track of their own data. In the example above, Dog is the Class. Dog 1 is an instance of the Dog Class, along with Dog 2, 3 and 4.\n",
    "\n",
    "Let's make a simple program consisting of a `Soldier` class and a `Weapon` class. Our `Soldier` has a `Name`, some `HP` and `Accuracy` stats, and `arms` himself with a `Weapon` . The `Soldier` can `attack` an enemy `Soldier`, and rolls a random normal distribution. If the value is lower than the `Accuracy`, he misses. Otherwise, the enemy Soldier gets `wound`. If `Soldier` HP decreases below zero, his `status` is now \"Dead\".\n",
    "\n",
    "Put into Python terms, the `Soldier` Class has the following attributes:\n",
    "- `Name`\n",
    "- `HP`\n",
    "- `Accuracy`\n",
    "\n",
    "It also has the following methods:\n",
    "- `arm`\n",
    "- `attack`\n",
    "- `wound`\n",
    "\n",
    "Our `Weapon` Class has `Damage` and `Accuracy` attributes."
   ]
  },
  {
   "cell_type": "code",
   "execution_count": 1,
   "metadata": {
    "id": "m3y6SvqCR2J1"
   },
   "outputs": [],
   "source": [
    "from random import random\n",
    "\n",
    "class Soldier:\n",
    "    # the __init__ method is\n",
    "    def __init__(self,Name, HP, Accuracy):\n",
    "        self.Name = Name\n",
    "        self.HP = HP        \n",
    "        self.Accuracy = Accuracy\n",
    "        self.Status = \"Alive\"\n",
    "        print(f\"Soldier Name:{self.Name} has entered the fray.\\nHP:{self.HP}\\nAccuracy:{self.Accuracy}\")\n",
    "\n",
    "    # Arm the Soldier with a Weapon\n",
    "    def arm(self,Weapon):        \n",
    "        self.Weapon = Weapon\n",
    "        print(f\"{self.Name} locks and loads his {self.Weapon.Name}\")\n",
    "\n",
    "    def attack(self,Enemy):        \n",
    "        if self.Status == \"Dead\":\n",
    "            print(f\"{self.Name} is dead. Cannot attack.\")\n",
    "        else:\n",
    "            print(f\"{self.Name} aims his {self.Weapon.Name} at {Enemy.Name}\")\n",
    "            roll = random()\n",
    "            print(f\"{self.Name} rolls {roll}\")\n",
    "            if roll < self.Accuracy:                \n",
    "                Enemy.wound(self.Weapon.Damage)\n",
    "                \n",
    "            else:\n",
    "                print(f\"{self.Name} missed a shot.\")\n",
    "    \n",
    "    def wound(self,damage):\n",
    "        print(f\"{self.Name} takes {damage} damage\")\n",
    "        self.HP-=damage\n",
    "        if self.HP <=0:\n",
    "            self.Status = \"Dead\"\n",
    "            print(f\"{self.Name} bites the dust\")\n",
    "            \n",
    "\n",
    "class Weapon:\n",
    "    def __init__(self,Name,Damage):\n",
    "        self.Name=Name\n",
    "        self.Damage=Damage"
   ]
  },
  {
   "cell_type": "code",
   "execution_count": 2,
   "metadata": {
    "colab": {
     "base_uri": "https://localhost:8080/"
    },
    "executionInfo": {
     "elapsed": 10,
     "status": "ok",
     "timestamp": 1669215683675,
     "user": {
      "displayName": "Ian Chong",
      "userId": "10615222189260864195"
     },
     "user_tz": -480
    },
    "id": "1_Jnp7Y9WN9C",
    "outputId": "a31c24ab-21c7-4d8a-eb5d-e896cb644cb3"
   },
   "outputs": [
    {
     "name": "stdout",
     "output_type": "stream",
     "text": [
      "Soldier Name:Richard has entered the fray.\n",
      "HP:100\n",
      "Accuracy:0.7\n",
      "Richard locks and loads his M16\n",
      "Soldier Name:UberMensch has entered the fray.\n",
      "HP:1000\n",
      "Accuracy:0.9\n",
      "UberMensch locks and loads his Doom BFG\n"
     ]
    }
   ],
   "source": [
    "Richard = Soldier(Name='Richard',HP=100,Accuracy=0.7)\n",
    "M16 = Weapon(Name=\"M16\",Damage=30)\n",
    "Richard.arm(M16)\n",
    "\n",
    "Jason = Soldier(Name='UberMensch',HP=1000, Accuracy=0.9)\n",
    "BFG = Weapon(Name=\"Doom BFG\",Damage=9000)\n",
    "Jason.arm(BFG)"
   ]
  },
  {
   "cell_type": "code",
   "execution_count": 3,
   "metadata": {
    "colab": {
     "base_uri": "https://localhost:8080/"
    },
    "executionInfo": {
     "elapsed": 10,
     "status": "ok",
     "timestamp": 1669215683675,
     "user": {
      "displayName": "Ian Chong",
      "userId": "10615222189260864195"
     },
     "user_tz": -480
    },
    "id": "bpmfmwXKXNzr",
    "outputId": "b7fe8d0e-164e-4e62-cc3f-cf8e0c39c8fd"
   },
   "outputs": [
    {
     "name": "stdout",
     "output_type": "stream",
     "text": [
      "UberMensch aims his Doom BFG at Richard\n",
      "UberMensch rolls 0.5201155383640245\n",
      "Richard takes 9000 damage\n",
      "Richard bites the dust\n"
     ]
    }
   ],
   "source": [
    "Jason.attack(Richard)"
   ]
  },
  {
   "cell_type": "code",
   "execution_count": 4,
   "metadata": {
    "colab": {
     "base_uri": "https://localhost:8080/"
    },
    "executionInfo": {
     "elapsed": 8,
     "status": "ok",
     "timestamp": 1669215683675,
     "user": {
      "displayName": "Ian Chong",
      "userId": "10615222189260864195"
     },
     "user_tz": -480
    },
    "id": "xklNyPCfX5s9",
    "outputId": "fce2d227-0640-48b8-9f5f-ef6afe60cd77"
   },
   "outputs": [
    {
     "name": "stdout",
     "output_type": "stream",
     "text": [
      "Richard is dead. Cannot attack.\n"
     ]
    }
   ],
   "source": [
    "Richard.attack(Jason)"
   ]
  },
  {
   "cell_type": "markdown",
   "metadata": {
    "id": "EL0_Ee4zv1w_"
   },
   "source": [
    "## 1.1 - Attributes\n",
    "\n",
    "We need to distinguish between Class attributes and Instance attributes. If an attribute is common to the whole Class and doesn't change with the instances, its a Class attribute. If its an attribute which differs among the instances i.e. you set the attribute when you initialize the instance like the HP in the Soldier Class above, its an Instance Attribute. \n",
    "\n",
    "You can access attributes of an instance/object directly simply by calling it."
   ]
  },
  {
   "cell_type": "code",
   "execution_count": 5,
   "metadata": {
    "colab": {
     "base_uri": "https://localhost:8080/"
    },
    "executionInfo": {
     "elapsed": 7,
     "status": "ok",
     "timestamp": 1669215683675,
     "user": {
      "displayName": "Ian Chong",
      "userId": "10615222189260864195"
     },
     "user_tz": -480
    },
    "id": "ja_RhXdxvpC2",
    "outputId": "47135763-fcca-4db8-b647-8306c85f0dde"
   },
   "outputs": [
    {
     "data": {
      "text/plain": [
       "-8900"
      ]
     },
     "execution_count": 5,
     "metadata": {},
     "output_type": "execute_result"
    }
   ],
   "source": [
    "Richard.HP"
   ]
  },
  {
   "cell_type": "code",
   "execution_count": 6,
   "metadata": {
    "colab": {
     "base_uri": "https://localhost:8080/"
    },
    "executionInfo": {
     "elapsed": 6,
     "status": "ok",
     "timestamp": 1669215683675,
     "user": {
      "displayName": "Ian Chong",
      "userId": "10615222189260864195"
     },
     "user_tz": -480
    },
    "id": "br52hEzJwbx_",
    "outputId": "6c5b3ae4-5722-4fcd-fd3f-1d47543a8b73"
   },
   "outputs": [
    {
     "data": {
      "text/plain": [
       "30"
      ]
     },
     "execution_count": 6,
     "metadata": {},
     "output_type": "execute_result"
    }
   ],
   "source": [
    "M16.Damage"
   ]
  },
  {
   "cell_type": "markdown",
   "metadata": {
    "id": "BYb_-OKlwjwJ"
   },
   "source": [
    "Not recommended but you can modify the values of your attributes simply by assigning them."
   ]
  },
  {
   "cell_type": "code",
   "execution_count": 7,
   "metadata": {
    "colab": {
     "base_uri": "https://localhost:8080/"
    },
    "executionInfo": {
     "elapsed": 7,
     "status": "ok",
     "timestamp": 1669215683676,
     "user": {
      "displayName": "Ian Chong",
      "userId": "10615222189260864195"
     },
     "user_tz": -480
    },
    "id": "oKI3aI9sweyn",
    "outputId": "c3acda0f-9610-41c0-baf8-4b4ac5ecf885"
   },
   "outputs": [
    {
     "data": {
      "text/plain": [
       "50"
      ]
     },
     "execution_count": 7,
     "metadata": {},
     "output_type": "execute_result"
    }
   ],
   "source": [
    "M16.Damage = 50\n",
    "M16.Damage"
   ]
  },
  {
   "cell_type": "markdown",
   "metadata": {
    "id": "1MxTdxRIwsV5"
   },
   "source": [
    "## 1.2 - Methods\n",
    "\n",
    "Methods are functions specific to the Object. You cannot call them outside of the object. However, you can assign a function object to a class. Let's try defining a `yell()` function and then adding it to a Class.\n",
    "\n",
    "Note: Remember, the function name without the parentheses is the function object e.g. `yell`. It is only a function call if you add the parentheses e.g. `yell()`"
   ]
  },
  {
   "cell_type": "code",
   "execution_count": 8,
   "metadata": {
    "colab": {
     "base_uri": "https://localhost:8080/"
    },
    "executionInfo": {
     "elapsed": 6,
     "status": "ok",
     "timestamp": 1669215683676,
     "user": {
      "displayName": "Ian Chong",
      "userId": "10615222189260864195"
     },
     "user_tz": -480
    },
    "id": "cpETlJ5lwili",
    "outputId": "805745e4-b4e0-4308-9c4d-dd9df0f02c4e"
   },
   "outputs": [
    {
     "name": "stdout",
     "output_type": "stream",
     "text": [
      "EDF! EDF! EDF!\n"
     ]
    }
   ],
   "source": [
    "def yell():\n",
    "    print(\"EDF! EDF! EDF!\")\n",
    "\n",
    "Jason.shout = yell\n",
    "Jason.shout()"
   ]
  },
  {
   "cell_type": "markdown",
   "metadata": {
    "id": "tKLLbr6xxoXH"
   },
   "source": [
    "## 1.3 - Inheritance\n",
    "\n",
    "Sometimes you want to update a Class and extend its functionality without defining an entirely new Class. You can use the `super()` function to use a base Class as a template and then extend the functionality to your new Class.\n",
    "\n",
    "Let's extend the functionality of the `Soldier` and make an `Engineer` class. The `Engineer` can make a `Turret` and command it to shoot another Soldier."
   ]
  },
  {
   "cell_type": "code",
   "execution_count": null,
   "metadata": {
    "id": "d6SJHJgIxGaP"
   },
   "outputs": [],
   "source": []
  },
  {
   "cell_type": "markdown",
   "metadata": {
    "id": "7PbHKnvy1Iul"
   },
   "source": [
    "# Section 2 - File I/O \n",
    "\n",
    "See [Programiz](https://www.programiz.com/python-programming/file-operation) for more in-depth examples.\n",
    "\n",
    "What we've done so far is manually creating data and performing operations in memory. It's great for learning the basics. However, you often need to: \n",
    "- output your computations to a file for storage\n",
    "- read files to get inputs for your algorithms\n",
    "- automate processes\n",
    "\n",
    "Run the following code if you're running on Colab only, as Google colab's computers aren't directly linked to your Google Drive unless you set it up. You will need login in the pop up widow to authorize Colab to read your Google Drive."
   ]
  },
  {
   "cell_type": "code",
   "execution_count": 9,
   "metadata": {
    "colab": {
     "base_uri": "https://localhost:8080/"
    },
    "executionInfo": {
     "elapsed": 2665,
     "status": "ok",
     "timestamp": 1669215686336,
     "user": {
      "displayName": "Ian Chong",
      "userId": "10615222189260864195"
     },
     "user_tz": -480
    },
    "id": "5utDK3Wy12R5",
    "outputId": "394044bd-c11b-419a-d1f7-852c855bbcbb"
   },
   "outputs": [],
   "source": [
    "import os\n",
    "\n",
    "try:\n",
    "    from google.colab import drive\n",
    "\n",
    "    drive.mount('/content/drive')\n",
    "    os.chdir('/content/drive/My Drive/Python Crash Course')\n",
    "\n",
    "except:\n",
    "    pass"
   ]
  },
  {
   "cell_type": "markdown",
   "metadata": {
    "id": "TVQtXfj6T7cq"
   },
   "source": [
    "Run this code to create a folder called data if it does not exist."
   ]
  },
  {
   "cell_type": "code",
   "execution_count": 10,
   "metadata": {
    "colab": {
     "base_uri": "https://localhost:8080/"
    },
    "executionInfo": {
     "elapsed": 9,
     "status": "ok",
     "timestamp": 1669215686336,
     "user": {
      "displayName": "Ian Chong",
      "userId": "10615222189260864195"
     },
     "user_tz": -480
    },
    "id": "sa_KlUnxPXvK",
    "outputId": "5b63199e-dad8-4236-f62e-0b6b4b72d21c"
   },
   "outputs": [
    {
     "name": "stdout",
     "output_type": "stream",
     "text": [
      "removed './data/BFG.json'\r\n",
      "removed './data/M16.json'\r\n",
      "removed './data/exp_tweet.csv'\r\n",
      "removed './data/jason.json'\r\n",
      "removed './data/myfile.txt'\r\n",
      "removed './data/richard.json'\r\n"
     ]
    }
   ],
   "source": [
    "if not os.path.exists(\"data\"):\n",
    "    os.makedirs(\"data\")\n",
    "\n",
    "!rm -v ./data/*"
   ]
  },
  {
   "cell_type": "markdown",
   "metadata": {
    "id": "F0VTt7CVT--9"
   },
   "source": [
    "## 2.1 - Plaintext files\n",
    "\n",
    "Here we will create a simple text file with a few lines of text and save it to `myfile.txt`."
   ]
  },
  {
   "cell_type": "code",
   "execution_count": 11,
   "metadata": {
    "id": "kftyeGUU1MJw"
   },
   "outputs": [],
   "source": [
    "with open(\"data/myfile.txt\", \"x\") as f:\n",
    "    for i in range(10):\n",
    "        f.write(f\"This is Line {i}\\n\")"
   ]
  },
  {
   "cell_type": "markdown",
   "metadata": {
    "id": "465s9QBOUJe9"
   },
   "source": [
    "This code reads the file `myfile.txt` and outputs the lines to a list."
   ]
  },
  {
   "cell_type": "code",
   "execution_count": 12,
   "metadata": {
    "colab": {
     "base_uri": "https://localhost:8080/"
    },
    "executionInfo": {
     "elapsed": 7,
     "status": "ok",
     "timestamp": 1669215686337,
     "user": {
      "displayName": "Ian Chong",
      "userId": "10615222189260864195"
     },
     "user_tz": -480
    },
    "id": "qkp-A5yK2hnB",
    "outputId": "0044a6bb-93cc-40df-e889-5571d1775a01"
   },
   "outputs": [
    {
     "data": {
      "text/plain": [
       "['This is Line 0\\n',\n",
       " 'This is Line 1\\n',\n",
       " 'This is Line 2\\n',\n",
       " 'This is Line 3\\n',\n",
       " 'This is Line 4\\n',\n",
       " 'This is Line 5\\n',\n",
       " 'This is Line 6\\n',\n",
       " 'This is Line 7\\n',\n",
       " 'This is Line 8\\n',\n",
       " 'This is Line 9\\n']"
      ]
     },
     "execution_count": 12,
     "metadata": {},
     "output_type": "execute_result"
    }
   ],
   "source": [
    "with open(\"data/myfile.txt\", \"r\") as f:\n",
    "    file_data=f.readlines()\n",
    "\n",
    "file_data"
   ]
  },
  {
   "cell_type": "markdown",
   "metadata": {
    "id": "8DDb1AFAOhHF"
   },
   "source": [
    "A lot of the time there will be special characters when you read a file. You can get rid of them with the `.strip()` method."
   ]
  },
  {
   "cell_type": "code",
   "execution_count": 13,
   "metadata": {
    "colab": {
     "base_uri": "https://localhost:8080/"
    },
    "executionInfo": {
     "elapsed": 5,
     "status": "ok",
     "timestamp": 1669215686337,
     "user": {
      "displayName": "Ian Chong",
      "userId": "10615222189260864195"
     },
     "user_tz": -480
    },
    "id": "modjYP4UO2Lh",
    "outputId": "f3ff7772-fa65-4a0e-f119-6c84aa06fce1"
   },
   "outputs": [
    {
     "data": {
      "text/plain": [
       "['This is Line 0',\n",
       " 'This is Line 1',\n",
       " 'This is Line 2',\n",
       " 'This is Line 3',\n",
       " 'This is Line 4',\n",
       " 'This is Line 5',\n",
       " 'This is Line 6',\n",
       " 'This is Line 7',\n",
       " 'This is Line 8',\n",
       " 'This is Line 9']"
      ]
     },
     "execution_count": 13,
     "metadata": {},
     "output_type": "execute_result"
    }
   ],
   "source": [
    "file_data_cleaned = list(map(lambda x: x.strip(\"\\n\"),file_data))\n",
    "file_data_cleaned"
   ]
  },
  {
   "cell_type": "markdown",
   "metadata": {
    "id": "a-X7dd8vKHPp"
   },
   "source": [
    "## 2.2 - JSON\n",
    "\n",
    "The JavaScript Object Notation (or JSON for short) is a universal format for storing data. It is basically like a Python Dictionary. Most web applications on the internet communicate with each other via sending JSON responses.\n",
    "\n",
    "We will use a JSON file to save your character into a file, and that \"load\" it by initializing a Soldier object with the attributes."
   ]
  },
  {
   "cell_type": "code",
   "execution_count": 14,
   "metadata": {
    "id": "7-97BbPw2kc8"
   },
   "outputs": [],
   "source": [
    "import json\n",
    "\n",
    "richard_soldier_json={'Name':'Richard','HP':100,'Accuracy':0.70}\n",
    "jason_soldier_json={'Name':'Jason','HP':1000,'Accuracy':0.90}\n",
    "M16_weapon_json={'Name':'M16','Damage':30}\n",
    "BFG_weapon_json={'Name':'Doom BFG','Damage':9000}\n",
    "\n",
    "folder='data'\n",
    "\n",
    "with open(f\"{folder}/richard.json\", \"w\") as f:\n",
    "    json.dump(richard_soldier_json, f, indent=4)\n",
    "\n",
    "with open(f\"{folder}/jason.json\", \"w\") as f:\n",
    "    json.dump(jason_soldier_json, f, indent=4)\n",
    "\n",
    "with open(f\"{folder}/M16.json\", \"w\") as f:\n",
    "    json.dump(M16_weapon_json, f, indent=4)\n",
    "\n",
    "with open(f\"{folder}/BFG.json\", \"w\") as f:\n",
    "    json.dump(BFG_weapon_json, f, indent=4)"
   ]
  },
  {
   "cell_type": "markdown",
   "metadata": {
    "id": "xy3Ks6f8L0PF"
   },
   "source": [
    "To run command line commands in Jupyter, use an exclamation mark followed by the command. `ls` lists the files in your current working directory (cwd)"
   ]
  },
  {
   "cell_type": "code",
   "execution_count": 15,
   "metadata": {
    "colab": {
     "base_uri": "https://localhost:8080/"
    },
    "executionInfo": {
     "elapsed": 529,
     "status": "ok",
     "timestamp": 1669215686862,
     "user": {
      "displayName": "Ian Chong",
      "userId": "10615222189260864195"
     },
     "user_tz": -480
    },
    "id": "leSF0SAJLFtM",
    "outputId": "9810160a-ad24-41e6-f1db-15e6814e97d1"
   },
   "outputs": [
    {
     "name": "stdout",
     "output_type": "stream",
     "text": [
      " README.md\r\n",
      "'Session 1 - Atomic Data Types.ipynb'\r\n",
      "'Session 2 - Atomic Data Structures.ipynb'\r\n",
      "'Session 3 - Flow Control.ipynb'\r\n",
      "'Session 4 - Functional Programming.ipynb'\r\n",
      "'Session 5 - Object Oriented Programming and Others.ipynb'\r\n",
      " data\r\n",
      " regex\r\n"
     ]
    }
   ],
   "source": [
    "!ls"
   ]
  },
  {
   "cell_type": "markdown",
   "metadata": {
    "id": "bBnpiqVtMpVV"
   },
   "source": [
    "We will now load the relevant data from JSON files into our program"
   ]
  },
  {
   "cell_type": "code",
   "execution_count": 16,
   "metadata": {
    "id": "GzyXCV0tL-xq"
   },
   "outputs": [],
   "source": [
    "with open(f\"{folder}/richard.json\", 'r') as f:\n",
    "    richard_data = json.load(f)\n",
    "\n",
    "with open(f'{folder}/jason.json', 'r') as f:\n",
    "    jason_data = json.load(f)\n",
    "\n",
    "with open(f'{folder}/M16.json', 'r') as f:\n",
    "    M16_data = json.load(f)\n",
    "\n",
    "with open(f'{folder}/BFG.json', 'r') as f:\n",
    "    BFG_data = json.load(f)"
   ]
  },
  {
   "cell_type": "markdown",
   "metadata": {
    "id": "ZoViTvDlMz4t"
   },
   "source": [
    "We now initialize the classes with keyword arguments"
   ]
  },
  {
   "cell_type": "code",
   "execution_count": 17,
   "metadata": {
    "colab": {
     "base_uri": "https://localhost:8080/"
    },
    "executionInfo": {
     "elapsed": 5,
     "status": "ok",
     "timestamp": 1669215686863,
     "user": {
      "displayName": "Ian Chong",
      "userId": "10615222189260864195"
     },
     "user_tz": -480
    },
    "id": "XCaIWQZhMoF_",
    "outputId": "be5f5359-ede4-441d-b2be-ff90f54565bb"
   },
   "outputs": [
    {
     "name": "stdout",
     "output_type": "stream",
     "text": [
      "Soldier Name:Richard has entered the fray.\n",
      "HP:100\n",
      "Accuracy:0.7\n",
      "Soldier Name:Jason has entered the fray.\n",
      "HP:1000\n",
      "Accuracy:0.9\n",
      "Richard locks and loads his Doom BFG\n",
      "Jason locks and loads his M16\n"
     ]
    }
   ],
   "source": [
    "richard_loaded = Soldier(**richard_data)\n",
    "jason_loaded = Soldier(**jason_data)\n",
    "M16_loaded = Weapon(**M16_data)\n",
    "BFG_loaded = Weapon(**BFG_data)\n",
    "\n",
    "richard_loaded.arm(BFG_loaded)\n",
    "jason_loaded.arm(M16_loaded)"
   ]
  },
  {
   "cell_type": "markdown",
   "metadata": {
    "id": "P9VJYA-4NPGY"
   },
   "source": [
    "Magic! We have programatically created our game from JSON files. We can now edit the files directly, and change the inputs into our program without touching the code!"
   ]
  },
  {
   "cell_type": "code",
   "execution_count": 18,
   "metadata": {
    "colab": {
     "base_uri": "https://localhost:8080/"
    },
    "executionInfo": {
     "elapsed": 4,
     "status": "ok",
     "timestamp": 1669215686863,
     "user": {
      "displayName": "Ian Chong",
      "userId": "10615222189260864195"
     },
     "user_tz": -480
    },
    "id": "jKbz7iwkNJc8",
    "outputId": "ff89f4f9-5029-403f-bf24-562f0f6c6ee2"
   },
   "outputs": [
    {
     "name": "stdout",
     "output_type": "stream",
     "text": [
      "Richard aims his Doom BFG at Jason\n",
      "Richard rolls 0.8809180150605391\n",
      "Richard missed a shot.\n"
     ]
    }
   ],
   "source": [
    "richard_loaded.attack(jason_loaded)"
   ]
  },
  {
   "cell_type": "markdown",
   "metadata": {
    "id": "PRGmw5Uk7ayT"
   },
   "source": [
    "## 2.2 - `requests`\n",
    "\n",
    "Probably the most practical skill you'll learn so far. Another way to get data is to get it directly from the internet! Obviously a more advanced solution would yield more results, but we will be sticking to a basic `requests` GET query. See [Dataquest - Introduction to requests](https://www.dataquest.io/blog/tutorial-an-introduction-to-python-requests-library/) for an in-depth tutorial.\n",
    "\n",
    "We are going to download live taxi data from [data.gov.sg](https://data.gov.sg/dataset/taxi-availability) and visualize it. It will be downloaded in, you guessed it, JSON format!"
   ]
  },
  {
   "cell_type": "code",
   "execution_count": 19,
   "metadata": {
    "id": "RPfaR5JMNbVw"
   },
   "outputs": [],
   "source": [
    "import requests\n",
    "from datetime import datetime\n",
    "\n",
    "now = datetime.now().strftime('%Y-%m-%dT%H:%M:%S')\n",
    "\n",
    "URL = 'https://api.data.gov.sg/v1/transport/taxi-availability'\n",
    "r = requests.get(URL,params={'date_time': now})\n",
    "data=r.json()"
   ]
  },
  {
   "cell_type": "markdown",
   "metadata": {
    "id": "r3hLKEI_-x9M"
   },
   "source": [
    "## 2.2.1 - Data Cleaning\n",
    "\n",
    "As an analytics professional you will spend more time preparing data than you do presenting your analysis. Time to get your hands dirty. Start by exploring the structure of the JSON data you just pulled"
   ]
  },
  {
   "cell_type": "code",
   "execution_count": 20,
   "metadata": {
    "colab": {
     "base_uri": "https://localhost:8080/"
    },
    "executionInfo": {
     "elapsed": 2,
     "status": "ok",
     "timestamp": 1669215687755,
     "user": {
      "displayName": "Ian Chong",
      "userId": "10615222189260864195"
     },
     "user_tz": -480
    },
    "id": "Q3okp6vm8WEv",
    "outputId": "8768af27-5a17-4626-9683-f386f7439ffc"
   },
   "outputs": [
    {
     "data": {
      "text/plain": [
       "dict_keys(['type', 'crs', 'features'])"
      ]
     },
     "execution_count": 20,
     "metadata": {},
     "output_type": "execute_result"
    }
   ],
   "source": [
    "data.keys()"
   ]
  },
  {
   "cell_type": "code",
   "execution_count": 21,
   "metadata": {
    "colab": {
     "base_uri": "https://localhost:8080/"
    },
    "executionInfo": {
     "elapsed": 437,
     "status": "ok",
     "timestamp": 1669215688191,
     "user": {
      "displayName": "Ian Chong",
      "userId": "10615222189260864195"
     },
     "user_tz": -480
    },
    "id": "IR7lzlyF_DL5",
    "outputId": "2de95696-616d-4f55-fb99-66636c52d58c"
   },
   "outputs": [
    {
     "data": {
      "text/plain": [
       "[{'type': 'Feature',\n",
       "  'geometry': {'type': 'MultiPoint',\n",
       "   'coordinates': [[103.6254, 1.29027],\n",
       "    [103.62546, 1.30562],\n",
       "    [103.62575, 1.28992],\n",
       "    [103.62581, 1.28966],\n",
       "    [103.6275, 1.28601],\n",
       "    [103.62781, 1.29],\n",
       "    [103.6291, 1.29752],\n",
       "    [103.62912, 1.30424],\n",
       "    [103.63018, 1.30808],\n",
       "    [103.63107, 1.32],\n",
       "    [103.63206, 1.3082],\n",
       "    [103.63456, 1.33376],\n",
       "    [103.63831, 1.33216],\n",
       "    [103.63889, 1.29816],\n",
       "    [103.6413, 1.31604],\n",
       "    [103.64198, 1.33418],\n",
       "    [103.64229, 1.33442],\n",
       "    [103.64705, 1.32],\n",
       "    [103.6499, 1.32047],\n",
       "    [103.65145, 1.31896],\n",
       "    [103.65398, 1.31254],\n",
       "    [103.65648, 1.32402],\n",
       "    [103.6576, 1.32872],\n",
       "    [103.66161, 1.32487],\n",
       "    [103.67287, 1.33093],\n",
       "    [103.67472, 1.30925],\n",
       "    [103.6758, 1.3227],\n",
       "    [103.6762, 1.30941],\n",
       "    [103.67718, 1.30952],\n",
       "    [103.6786, 1.32057],\n",
       "    [103.679, 1.32235],\n",
       "    [103.67935, 1.32996],\n",
       "    [103.681389, 1.329991],\n",
       "    [103.682172316667, 1.34766028333333],\n",
       "    [103.68556, 1.34101],\n",
       "    [103.685871966667, 1.34061691666667],\n",
       "    [103.68821, 1.34315],\n",
       "    [103.69001, 1.33305],\n",
       "    [103.6914, 1.34223],\n",
       "    [103.69142, 1.33473],\n",
       "    [103.69327, 1.35649],\n",
       "    [103.69342, 1.33243],\n",
       "    [103.69419, 1.34],\n",
       "    [103.69563, 1.34],\n",
       "    [103.695764666667, 1.32577498333333],\n",
       "    [103.69597, 1.34128],\n",
       "    [103.69617, 1.32582],\n",
       "    [103.69644, 1.33152],\n",
       "    [103.69766, 1.35531],\n",
       "    [103.69794, 1.34006],\n",
       "    [103.69827, 1.31109],\n",
       "    [103.698964833333, 1.334287],\n",
       "    [103.69903, 1.32258],\n",
       "    [103.699605566667, 1.33966753333333],\n",
       "    [103.699863166667, 1.34962666666667],\n",
       "    [103.70039, 1.35],\n",
       "    [103.700428783333, 1.3444214],\n",
       "    [103.70119, 1.34],\n",
       "    [103.7047, 1.26775],\n",
       "    [103.70492, 1.36344],\n",
       "    [103.70518025, 1.34211278333333],\n",
       "    [103.7056, 1.35],\n",
       "    [103.70672, 1.33825],\n",
       "    [103.70688, 1.34397],\n",
       "    [103.70777, 1.34775],\n",
       "    [103.70899, 1.35],\n",
       "    [103.709190166667, 1.34740233333333],\n",
       "    [103.71012, 1.36687],\n",
       "    [103.71032, 1.34631],\n",
       "    [103.7116, 1.30271],\n",
       "    [103.71164, 1.34425],\n",
       "    [103.71235, 1.34534],\n",
       "    [103.71311, 1.35],\n",
       "    [103.71513, 1.33975],\n",
       "    [103.71513, 1.34002],\n",
       "    [103.71516, 1.35],\n",
       "    [103.715789666667, 1.35263583333333],\n",
       "    [103.71647, 1.35],\n",
       "    [103.716512616667, 1.37421963333333],\n",
       "    [103.71652, 1.33937],\n",
       "    [103.71679, 1.35],\n",
       "    [103.71703, 1.31644],\n",
       "    [103.71792, 1.28973],\n",
       "    [103.71833, 1.35],\n",
       "    [103.71857, 1.34921],\n",
       "    [103.71905, 1.35081],\n",
       "    [103.71961, 1.32305],\n",
       "    [103.71967, 1.3274],\n",
       "    [103.72003655, 1.34817763333333],\n",
       "    [103.72136, 1.34202],\n",
       "    [103.72207, 1.32836],\n",
       "    [103.72249, 1.33],\n",
       "    [103.722825283333, 1.34062848333333],\n",
       "    [103.72306, 1.33166],\n",
       "    [103.72428, 1.33291],\n",
       "    [103.72494, 1.32598],\n",
       "    [103.72537, 1.32662],\n",
       "    [103.7261, 1.3508],\n",
       "    [103.72622, 1.35172],\n",
       "    [103.72702, 1.37473],\n",
       "    [103.72829, 1.35013],\n",
       "    [103.73035, 1.34718],\n",
       "    [103.73035, 1.35],\n",
       "    [103.730383, 1.35063116666667],\n",
       "    [103.731596, 1.34675],\n",
       "    [103.73173, 1.34619],\n",
       "    [103.731872, 1.34965233333333],\n",
       "    [103.7321, 1.37974],\n",
       "    [103.73233, 1.38],\n",
       "    [103.73312, 1.34717],\n",
       "    [103.73322, 1.37882],\n",
       "    [103.73375, 1.35],\n",
       "    [103.734951666667, 1.33907883333333],\n",
       "    [103.73539, 1.38],\n",
       "    [103.735471166667, 1.3445275],\n",
       "    [103.73602, 1.38],\n",
       "    [103.73707, 1.37946],\n",
       "    [103.73749155, 1.37763605],\n",
       "    [103.737646, 1.381144],\n",
       "    [103.738073166667, 1.337168],\n",
       "    [103.73808, 1.37843],\n",
       "    [103.73820035, 1.34386218333333],\n",
       "    [103.73821, 1.32568],\n",
       "    [103.738339333333, 1.37827433333333],\n",
       "    [103.73843, 1.38],\n",
       "    [103.738438333333, 1.37751768333333],\n",
       "    [103.73878, 1.34],\n",
       "    [103.73881, 1.34],\n",
       "    [103.73915, 1.38],\n",
       "    [103.739654333333, 1.34643816666667],\n",
       "    [103.73981, 1.35],\n",
       "    [103.74013, 1.34],\n",
       "    [103.74028, 1.39175],\n",
       "    [103.74029, 1.38],\n",
       "    [103.740470066667, 1.35451685],\n",
       "    [103.7408, 1.34],\n",
       "    [103.74083, 1.38412],\n",
       "    [103.74111, 1.38],\n",
       "    [103.741197, 1.34639833333333],\n",
       "    [103.74158, 1.38],\n",
       "    [103.74204, 1.32066],\n",
       "    [103.74207, 1.38277],\n",
       "    [103.74229, 1.32],\n",
       "    [103.74234, 1.38],\n",
       "    [103.74262, 1.33994],\n",
       "    [103.74264, 1.38],\n",
       "    [103.74265, 1.38321],\n",
       "    [103.7429585, 1.39403466666667],\n",
       "    [103.74351, 1.38152],\n",
       "    [103.74379, 1.3315],\n",
       "    [103.74387, 1.3327],\n",
       "    [103.74419, 1.35],\n",
       "    [103.74427, 1.36246],\n",
       "    [103.74451, 1.4],\n",
       "    [103.744616, 1.3502375],\n",
       "    [103.74468, 1.36],\n",
       "    [103.74486, 1.34907],\n",
       "    [103.74488, 1.38],\n",
       "    [103.745158333333, 1.39299116666667],\n",
       "    [103.7456, 1.33864],\n",
       "    [103.746, 1.30114],\n",
       "    [103.74601, 1.35],\n",
       "    [103.74633, 1.3851],\n",
       "    [103.74636, 1.35],\n",
       "    [103.74678, 1.36199],\n",
       "    [103.747430166667, 1.3395736],\n",
       "    [103.7475048, 1.39681898333333],\n",
       "    [103.74762, 1.36242],\n",
       "    [103.74769, 1.38],\n",
       "    [103.74792, 1.36],\n",
       "    [103.74806, 1.35088],\n",
       "    [103.74875, 1.39663],\n",
       "    [103.74904, 1.4],\n",
       "    [103.74908, 1.39],\n",
       "    [103.74913, 1.35741],\n",
       "    [103.7493455, 1.360826],\n",
       "    [103.74937, 1.40398],\n",
       "    [103.74959, 1.35656],\n",
       "    [103.74991, 1.32228],\n",
       "    [103.750154, 1.36033666666667],\n",
       "    [103.75023, 1.38],\n",
       "    [103.7503, 1.35],\n",
       "    [103.75035, 1.39633],\n",
       "    [103.75048, 1.36],\n",
       "    [103.750498333333, 1.4016095],\n",
       "    [103.75063, 1.35972],\n",
       "    [103.75068, 1.36054],\n",
       "    [103.750686166667, 1.401249],\n",
       "    [103.75076, 1.41],\n",
       "    [103.751186866667, 1.32071051666667],\n",
       "    [103.751536333333, 1.37919066666667],\n",
       "    [103.7518695, 1.35692516666667],\n",
       "    [103.752882833333, 1.34884183333333],\n",
       "    [103.75365245, 1.38287728333333],\n",
       "    [103.75395, 1.39454],\n",
       "    [103.75421, 1.35],\n",
       "    [103.75422, 1.35],\n",
       "    [103.75433, 1.3786],\n",
       "    [103.75449, 1.38],\n",
       "    [103.75482, 1.35441],\n",
       "    [103.7553, 1.38],\n",
       "    [103.75587, 1.32318],\n",
       "    [103.7564531, 1.33726703333333],\n",
       "    [103.7574829, 1.3367711],\n",
       "    [103.75844, 1.40766],\n",
       "    [103.75845, 1.34758],\n",
       "    [103.75862, 1.38622],\n",
       "    [103.75906, 1.35],\n",
       "    [103.7591795, 1.3851365],\n",
       "    [103.75921, 1.38692],\n",
       "    [103.75924, 1.35],\n",
       "    [103.759310666667, 1.34832333333333],\n",
       "    [103.759322966667, 1.38502515],\n",
       "    [103.75967, 1.31],\n",
       "    [103.759727066667, 1.35029696666667],\n",
       "    [103.75977, 1.35023],\n",
       "    [103.75999, 1.32339],\n",
       "    [103.7602, 1.3082],\n",
       "    [103.760325166667, 1.31052766666667],\n",
       "    [103.7603875, 1.34529083333333],\n",
       "    [103.76043, 1.30603],\n",
       "    [103.7608615, 1.3451302],\n",
       "    [103.761231166667, 1.34565916666667],\n",
       "    [103.761317166667, 1.33802966666667],\n",
       "    [103.76138, 1.38],\n",
       "    [103.7616, 1.38],\n",
       "    [103.761644616667, 1.42534711666667],\n",
       "    [103.76185, 1.42561],\n",
       "    [103.76324, 1.38],\n",
       "    [103.7633005, 1.37782433333333],\n",
       "    [103.763516516667, 1.37308755],\n",
       "    [103.76353, 1.31453],\n",
       "    [103.76356, 1.39],\n",
       "    [103.76378, 1.38],\n",
       "    [103.76455, 1.3691],\n",
       "    [103.764758, 1.3470455],\n",
       "    [103.76476, 1.32],\n",
       "    [103.764998833333, 1.38587383333333],\n",
       "    [103.76512, 1.41022],\n",
       "    [103.765311166667, 1.3218175],\n",
       "    [103.76534, 1.43026],\n",
       "    [103.76619, 1.31],\n",
       "    [103.766597333333, 1.3878275],\n",
       "    [103.76702, 1.3899],\n",
       "    [103.76705, 1.43004],\n",
       "    [103.767557166667, 1.30442733333333],\n",
       "    [103.76796835, 1.32107385],\n",
       "    [103.76822, 1.2922],\n",
       "    [103.768224, 1.38130616666667],\n",
       "    [103.7683, 1.3641],\n",
       "    [103.768387666667, 1.3096165],\n",
       "    [103.76847, 1.36],\n",
       "    [103.7685785, 1.3227865],\n",
       "    [103.76874, 1.31012],\n",
       "    [103.768774333333, 1.318398],\n",
       "    [103.76886, 1.29196],\n",
       "    [103.76886, 1.32],\n",
       "    [103.76888, 1.36],\n",
       "    [103.76922, 1.31],\n",
       "    [103.7693, 1.31],\n",
       "    [103.76980605, 1.3518329],\n",
       "    [103.76981, 1.39],\n",
       "    [103.76997095, 1.31176655],\n",
       "    [103.770183666667, 1.37686966666667],\n",
       "    [103.77027, 1.38],\n",
       "    [103.770369583333, 1.38345415],\n",
       "    [103.770508166667, 1.36796366666667],\n",
       "    [103.770634, 1.38610866666667],\n",
       "    [103.77071, 1.43969],\n",
       "    [103.77096, 1.44235],\n",
       "    [103.77099, 1.34522],\n",
       "    [103.77111, 1.30505],\n",
       "    [103.77129, 1.38],\n",
       "    [103.77161915, 1.37442286666667],\n",
       "    [103.771802233333, 1.37579018333333],\n",
       "    [103.77189, 1.38],\n",
       "    [103.77216, 1.43],\n",
       "    [103.772187, 1.31404233333333],\n",
       "    [103.77240155, 1.38994601666667],\n",
       "    [103.77297, 1.44],\n",
       "    [103.77322, 1.45],\n",
       "    [103.773261666667, 1.37977533333333],\n",
       "    [103.773391866667, 1.44290316666667],\n",
       "    [103.77349, 1.43171],\n",
       "    [103.77352, 1.39],\n",
       "    [103.77367, 1.33844],\n",
       "    [103.7739, 1.44135],\n",
       "    [103.775045033333, 1.4335064],\n",
       "    [103.77511, 1.43],\n",
       "    [103.77518, 1.37],\n",
       "    [103.775349666667, 1.37620783333333],\n",
       "    [103.77541, 1.44],\n",
       "    [103.77544, 1.37425],\n",
       "    [103.775590666667, 1.34337416666667],\n",
       "    [103.77602, 1.43],\n",
       "    [103.776168, 1.339134],\n",
       "    [103.7763, 1.44],\n",
       "    [103.77649, 1.44],\n",
       "    [103.776629, 1.439274],\n",
       "    [103.776655666667, 1.4277335],\n",
       "    [103.77737, 1.44],\n",
       "    [103.77767, 1.44],\n",
       "    [103.77804, 1.44],\n",
       "    [103.77804, 1.44],\n",
       "    [103.77846, 1.3],\n",
       "    [103.7785414, 1.33616195],\n",
       "    [103.77891, 1.43],\n",
       "    [103.778962833333, 1.43858183333333],\n",
       "    [103.77897, 1.33872],\n",
       "    [103.7790735, 1.43414366666667],\n",
       "    [103.77935, 1.44],\n",
       "    [103.779368066667, 1.44085863333333],\n",
       "    [103.78081, 1.43],\n",
       "    [103.78086, 1.29752],\n",
       "    [103.78137, 1.44],\n",
       "    [103.78141, 1.30959],\n",
       "    [103.7817519, 1.45113995],\n",
       "    [103.78204, 1.43732],\n",
       "    [103.783091233333, 1.30460271666667],\n",
       "    [103.78338, 1.31543],\n",
       "    [103.78371, 1.30988],\n",
       "    [103.78377, 1.29373],\n",
       "    [103.78392, 1.31],\n",
       "    [103.78398, 1.30276],\n",
       "    [103.784486283333, 1.42915591666667],\n",
       "    [103.7845, 1.31],\n",
       "    [103.784828666667, 1.30329066666667],\n",
       "    [103.78506, 1.43],\n",
       "    [103.785167366667, 1.33422985],\n",
       "    [103.78527, 1.29],\n",
       "    [103.78555, 1.27971],\n",
       "    [103.78618, 1.43324],\n",
       "    [103.78627, 1.44043],\n",
       "    [103.78672, 1.31],\n",
       "    [103.78741, 1.30941],\n",
       "    [103.787522833333, 1.43521583333333],\n",
       "    [103.78755, 1.44],\n",
       "    [103.78758, 1.31],\n",
       "    [103.7876, 1.31184],\n",
       "    [103.78766, 1.33436],\n",
       "    [103.78775, 1.43258],\n",
       "    [103.78792, 1.40518],\n",
       "    [103.78801, 1.31],\n",
       "    [103.78808, 1.44],\n",
       "    [103.78875, 1.3059],\n",
       "    [103.78875, 1.43542],\n",
       "    [103.78877, 1.40488],\n",
       "    [103.78878, 1.31],\n",
       "    [103.78878, 1.4048],\n",
       "    [103.78891, 1.31181],\n",
       "    [103.789303316667, 1.31087165],\n",
       "    [103.7895371, 1.34497853333333],\n",
       "    [103.79059, 1.35075],\n",
       "    [103.79075, 1.43215],\n",
       "    [103.7916, 1.34687],\n",
       "    [103.791623833333, 1.45033383333333],\n",
       "    [103.791653, 1.3066805],\n",
       "    [103.79225, 1.41354],\n",
       "    [103.79237, 1.43],\n",
       "    [103.7925, 1.44],\n",
       "    [103.79252, 1.31725],\n",
       "    [103.7925765, 1.439556],\n",
       "    [103.79262, 1.43],\n",
       "    [103.79268, 1.44],\n",
       "    [103.79315, 1.43],\n",
       "    [103.79342, 1.30734],\n",
       "    [103.7935495, 1.4341014],\n",
       "    [103.79382, 1.43443],\n",
       "    [103.79413, 1.44],\n",
       "    [103.79426, 1.4542],\n",
       "    [103.7945, 1.43],\n",
       "    [103.79462, 1.4484],\n",
       "    [103.79469, 1.45],\n",
       "    [103.79471, 1.33224],\n",
       "    [103.79498, 1.45],\n",
       "    [103.79498, 1.45],\n",
       "    [103.79503, 1.45],\n",
       "    [103.79508, 1.31],\n",
       "    [103.79513, 1.44],\n",
       "    [103.79513, 1.44],\n",
       "    [103.79527, 1.31],\n",
       "    [103.79533, 1.45],\n",
       "    [103.79541, 1.45],\n",
       "    [103.79576, 1.33332],\n",
       "    [103.7958, 1.33328],\n",
       "    [103.79588, 1.44],\n",
       "    [103.79591, 1.43],\n",
       "    [103.79611, 1.44],\n",
       "    [103.79625, 1.43],\n",
       "    [103.7965695, 1.445899],\n",
       "    [103.79671, 1.31],\n",
       "    [103.796741883333, 1.32967631666667],\n",
       "    [103.79679, 1.45],\n",
       "    [103.79679, 1.45],\n",
       "    [103.796821833333, 1.44305316666667],\n",
       "    [103.79693, 1.3],\n",
       "    [103.79719, 1.43171],\n",
       "    [103.797310866667, 1.43470401666667],\n",
       "    [103.7974293, 1.33831905],\n",
       "    [103.79756, 1.43205],\n",
       "    [103.797952666667, 1.30253783333333],\n",
       "    [103.7982, 1.30234],\n",
       "    [103.7983, 1.43],\n",
       "    [103.79831, 1.45],\n",
       "    [103.79833, 1.45],\n",
       "    [103.79888, 1.43014],\n",
       "    [103.798894466667, 1.30533423333333],\n",
       "    [103.79899, 1.43],\n",
       "    [103.799043316667, 1.33047905],\n",
       "    [103.799338333333, 1.43974683333333],\n",
       "    [103.79936, 1.44],\n",
       "    [103.799368833333, 1.30721833333333],\n",
       "    [103.79943, 1.46],\n",
       "    [103.79944, 1.44],\n",
       "    [103.7999615, 1.3061809],\n",
       "    [103.8002, 1.44],\n",
       "    [103.800323516667, 1.45677133333333],\n",
       "    [103.8006826, 1.33774266666667],\n",
       "    [103.800842833333, 1.30669233333333],\n",
       "    [103.800868166667, 1.44185083333333],\n",
       "    [103.8013, 1.44],\n",
       "    [103.80136385, 1.43528353333333],\n",
       "    [103.80205, 1.29834],\n",
       "    [103.80216, 1.28087],\n",
       "    [103.802227833333, 1.43636266666667],\n",
       "    [103.80239, 1.4403],\n",
       "    [103.80252, 1.292],\n",
       "    [103.80265, 1.46389],\n",
       "    [103.80311, 1.44],\n",
       "    [103.803196633333, 1.28581736666667],\n",
       "    [103.80357, 1.29299],\n",
       "    [103.80359, 1.29],\n",
       "    [103.80375, 1.27692],\n",
       "    [103.80379, 1.45],\n",
       "    [103.80402, 1.29722],\n",
       "    [103.8040869, 1.4378984],\n",
       "    [103.80414, 1.44342],\n",
       "    [103.80429, 1.45],\n",
       "    [103.804686333333, 1.2849805],\n",
       "    [103.80496, 1.44],\n",
       "    [103.80497, 1.29234],\n",
       "    [103.804973166667, 1.43994283333333],\n",
       "    [103.80507, 1.29596],\n",
       "    [103.80532, 1.27216],\n",
       "    [103.80554, 1.45],\n",
       "    [103.80561, 1.44208],\n",
       "    [103.806477666667, 1.44084],\n",
       "    [103.80673, 1.27639],\n",
       "    [103.80686, 1.443],\n",
       "    [103.80704, 1.4462],\n",
       "    [103.807422166667, 1.28698433333333],\n",
       "    [103.8078, 1.2863],\n",
       "    [103.807874, 1.288443],\n",
       "    [103.808, 1.29],\n",
       "    [103.80803, 1.44],\n",
       "    [103.80848, 1.33388],\n",
       "    [103.808508166667, 1.27471483333333],\n",
       "    [103.8086135, 1.44266033333333],\n",
       "    [103.80867, 1.4384],\n",
       "    [103.80869, 1.29212],\n",
       "    [103.80942, 1.33629],\n",
       "    [103.809747066667, 1.27381633333333],\n",
       "    [103.81004, 1.45559],\n",
       "    [103.81027, 1.29102],\n",
       "    [103.810331666667, 1.28072],\n",
       "    [103.81118, 1.33414],\n",
       "    [103.81147, 1.32002],\n",
       "    [103.81161, 1.30359],\n",
       "    [103.8116245, 1.33449233333333],\n",
       "    [103.8123995, 1.32540558333333],\n",
       "    [103.8126315, 1.28542863333333],\n",
       "    [103.81274, 1.45],\n",
       "    [103.812865, 1.3011205],\n",
       "    [103.81287, 1.32208],\n",
       "    [103.81309, 1.2696],\n",
       "    [103.81325, 1.3],\n",
       "    [103.813925083333, 1.44821965],\n",
       "    [103.81406, 1.28411],\n",
       "    [103.8141, 1.29],\n",
       "    [103.814349333333, 1.3245065],\n",
       "    [103.814465333333, 1.44575233333333],\n",
       "    [103.81461, 1.46],\n",
       "    [103.8149078, 1.33339926666667],\n",
       "    [103.81533, 1.29061],\n",
       "    [103.81551, 1.29183],\n",
       "    [103.81552, 1.29],\n",
       "    [103.81554, 1.45049],\n",
       "    [103.815578316667, 1.25782831666667],\n",
       "    [103.81563, 1.45],\n",
       "    [103.81587, 1.27705],\n",
       "    [103.81593, 1.29],\n",
       "    [103.81632, 1.45],\n",
       "    [103.81639, 1.29],\n",
       "    [103.81721, 1.45221],\n",
       "    [103.817215966667, 1.28694956666667],\n",
       "    [103.81741, 1.25511],\n",
       "    [103.81745, 1.45],\n",
       "    [103.81778, 1.46],\n",
       "    [103.81827, 1.26635],\n",
       "    [103.81836, 1.27661],\n",
       "    [103.81836, 1.27668],\n",
       "    [103.81843, 1.29],\n",
       "    [103.81857, 1.30823],\n",
       "    [103.818595616667, 1.28662131666667],\n",
       "    [103.818884833333, 1.2818295],\n",
       "    [103.81901, 1.28],\n",
       "    [103.81917, 1.25198],\n",
       "    [103.8192435, 1.4507345],\n",
       "    [103.819882, 1.307298],\n",
       "    [103.819993416667, 1.28319713333333],\n",
       "    [103.82001, 1.30664],\n",
       "    [103.820021183333, 1.28766415],\n",
       "    [103.82034, 1.45],\n",
       "    [103.82048, 1.26468],\n",
       "    [103.8206, 1.25],\n",
       "    [103.8206, 1.25367],\n",
       "    [103.82076, 1.28],\n",
       "    [103.821, 1.28],\n",
       "    [103.821082833333, 1.28454366666667],\n",
       "    [103.82142, 1.45],\n",
       "    [103.82157, 1.45],\n",
       "    [103.821972, 1.288447],\n",
       "    [103.82204, 1.28405],\n",
       "    [103.822141666667, 1.44389183333333],\n",
       "    [103.82245, 1.30485],\n",
       "    [103.82267, 1.45],\n",
       "    [103.8229, 1.27],\n",
       "    [103.8229, 1.27433],\n",
       "    [103.82294, 1.27494],\n",
       "    [103.82296, 1.41321],\n",
       "    [103.823263, 1.27235883333333],\n",
       "    [103.823489233333, 1.30302393333333],\n",
       "    [103.82357, 1.28208],\n",
       "    [103.82366, 1.26553],\n",
       "    [103.82375, 1.27847],\n",
       "    [103.82376, 1.25979],\n",
       "    [103.823795216667, 1.32174861666667],\n",
       "    [103.823845416667, 1.27499203333333],\n",
       "    [103.824311183333, 1.2556453],\n",
       "    [103.8244555, 1.2728385],\n",
       "    [103.82449, 1.25],\n",
       "    [103.82464, 1.25496],\n",
       "    [103.82510095, 1.25515835],\n",
       "    [103.82515, 1.28],\n",
       "    [103.825199333333, 1.27267033333333],\n",
       "    [103.82522, 1.30548],\n",
       "    [103.82545085, 1.30329473333333],\n",
       "    [103.825511733333, 1.25469333333333],\n",
       "    [103.82555, 1.44],\n",
       "    [103.82562, 1.25],\n",
       "    [103.82563, 1.25],\n",
       "    [103.825658416667, 1.32080058333333],\n",
       "    [103.825752466667, 1.2803662],\n",
       "    [103.826006166667, 1.27192533333333],\n",
       "    [103.82603, 1.3038],\n",
       "    [103.82618, 1.26695],\n",
       "    [103.82637, 1.38],\n",
       "    [103.8265695, 1.45169783333333],\n",
       "    [103.82666, 1.34],\n",
       "    [103.827024166667, 1.43318866666667],\n",
       "    [103.82703, 1.43],\n",
       "    [103.82742, 1.30573],\n",
       "    [103.82746, 1.43],\n",
       "    [103.8275, 1.28592],\n",
       "    [103.82753155, 1.31623238333333],\n",
       "    [103.82777, 1.32667],\n",
       "    [103.827869233333, 1.30703933333333],\n",
       "    [103.82805, 1.28585],\n",
       "    [103.8283, 1.36774],\n",
       "    [103.82831, 1.44],\n",
       "    [103.828344833333, 1.42968983333333],\n",
       "    [103.82835385, 1.42900113333333],\n",
       "    [103.828830833333, 1.42651066666667],\n",
       "    [103.828835, 1.42627866666667],\n",
       "    [103.82898, 1.29135],\n",
       "    [103.82903, 1.4139],\n",
       "    [103.8291, 1.43],\n",
       "    [103.82912, 1.29511],\n",
       "    [103.82915, 1.28885],\n",
       "    [103.82915, 1.43],\n",
       "    [103.8292, 1.31315],\n",
       "    [103.82954, 1.29019],\n",
       "    [103.82957, 1.29],\n",
       "    [103.82961, 1.29913],\n",
       "    [103.82965, 1.28791],\n",
       "    [103.82977, 1.30615],\n",
       "    [103.82978, 1.29538],\n",
       "    [103.8300735, 1.39562566666667],\n",
       "    [103.830132433333, 1.283874],\n",
       "    [103.83017, 1.43],\n",
       "    [103.830202166667, 1.30776083333333],\n",
       "    [103.83024, 1.30589],\n",
       "    [103.83077, 1.36385],\n",
       "    [103.830885483333, 1.27722936666667],\n",
       "    [103.83116, 1.3],\n",
       "    [103.83144, 1.28372],\n",
       "    [103.83156, 1.30511],\n",
       "    [103.83166, 1.43],\n",
       "    [103.83168, 1.28],\n",
       "    [103.832033283333, 1.3063029],\n",
       "    [103.832056833333, 1.43663483333333],\n",
       "    [103.83206, 1.42],\n",
       "    [103.83209, 1.28],\n",
       "    [103.83209, 1.42],\n",
       "    [103.8321, 1.27822],\n",
       "    [103.83222, 1.32],\n",
       "    [103.83223, 1.3],\n",
       "    [103.83235, 1.44],\n",
       "    [103.8324, 1.29],\n",
       "    [103.83252, 1.43617],\n",
       "    [103.8326415, 1.42344016666667],\n",
       "    [103.832869166667, 1.42971883333333],\n",
       "    [103.83288, 1.36],\n",
       "    [103.83315, 1.27248],\n",
       "    [103.83328, 1.43198],\n",
       "    [103.8335, 1.37558],\n",
       "    [103.83352, 1.43],\n",
       "    [103.83355, 1.41505],\n",
       "    [103.83358, 1.37],\n",
       "    [103.833593283333, 1.30503296666667],\n",
       "    [103.83362, 1.42],\n",
       "    [103.8337, 1.35813],\n",
       "    [103.83376, 1.27644],\n",
       "    [103.83404, 1.30234],\n",
       "    [103.83412, 1.27786],\n",
       "    [103.83416, 1.35387],\n",
       "    [103.8342, 1.303891],\n",
       "    [103.834340783333, 1.32623093333333],\n",
       "    [103.83514, 1.43],\n",
       "    [103.8352, 1.42887],\n",
       "    [103.83521, 1.41843],\n",
       "    [103.83536, 1.41681],\n",
       "    [103.835387166667, 1.37298216666667],\n",
       "    [103.83539, 1.30201],\n",
       "    [103.835696166667, 1.41945916666667],\n",
       "    [103.83573, 1.38051],\n",
       "    [103.835783833333, 1.43348283333333],\n",
       "    [103.83592, 1.43],\n",
       "    [103.83597, 1.44337],\n",
       "    [103.83605, 1.42],\n",
       "    [103.83609485, 1.43330286666667],\n",
       "    [103.83616, 1.43436666666667],\n",
       "    [103.83633, 1.30935],\n",
       "    [103.836345833333, 1.4215315],\n",
       "    [103.8364275, 1.43649173333333],\n",
       "    [103.836555, 1.3042],\n",
       "    [103.83663, 1.44],\n",
       "    [103.837026483333, 1.316457],\n",
       "    [103.8371055, 1.41311966666667],\n",
       "    [103.83722, 1.33727],\n",
       "    [103.83727, 1.33775],\n",
       "    [103.83727, 1.36717],\n",
       "    [103.83741765, 1.30056793333333],\n",
       "    [103.837444333333, 1.3708115],\n",
       "    [103.83751, 1.44],\n",
       "    [103.837574433333, 1.32740811666667],\n",
       "    [103.83773, 1.30915],\n",
       "    [103.83779, 1.42654],\n",
       "    [103.83788, 1.27257],\n",
       "    [103.83793, 1.36013],\n",
       "    [103.8382, 1.31463],\n",
       "    [103.83824, 1.29944],\n",
       "    [103.83825, 1.34225],\n",
       "    [103.83825, 1.37],\n",
       "    [103.838319, 1.272576],\n",
       "    [103.8384025, 1.380445],\n",
       "    [103.8386, 1.28606],\n",
       "    [103.8388445, 1.420776],\n",
       "    [103.83887, 1.33107],\n",
       "    [103.838876816667, 1.35801841666667],\n",
       "    [103.83888, 1.43062],\n",
       "    [103.8391, 1.44021],\n",
       "    [103.83919, 1.43164],\n",
       "    [103.839417533333, 1.36198533333333],\n",
       "    [103.839477333333, 1.4324225],\n",
       "    [103.83992, 1.43],\n",
       "    [103.83995, 1.36617],\n",
       "    [103.84013, 1.41652],\n",
       "    [103.8401501, 1.37461123333333],\n",
       "    [103.8402548, 1.37419033333333],\n",
       "    [103.840255333333, 1.37643983333333],\n",
       "    [103.8404095, 1.35605866666667],\n",
       "    [103.8404415, 1.3821035],\n",
       "    [103.8405, 1.43],\n",
       "    [103.84053785, 1.44115256666667],\n",
       "    [103.8406, 1.29932],\n",
       "    [103.840649016667, 1.39617923333333],\n",
       "    [103.84067, 1.27809],\n",
       "    [103.84067, 1.36898],\n",
       "    [103.84069, 1.32791],\n",
       "    [103.84071, 1.29217],\n",
       "    [103.840875666667, 1.28879433333333],\n",
       "    [103.840879416667, 1.29518496666667],\n",
       "    [103.84089, 1.43132],\n",
       "    [103.84092355, 1.37624953333333],\n",
       "    [103.84094, 1.28824],\n",
       "    [103.84101, 1.36957],\n",
       "    [103.8411, 1.38],\n",
       "    [103.841188, 1.36822733333333],\n",
       "    [103.8412195, 1.28324516666667],\n",
       "    [103.84124, 1.38364],\n",
       "    [103.84133, 1.33],\n",
       "    [103.84138, 1.2881],\n",
       "    [103.84201, 1.32],\n",
       "    [103.84219, 1.28773],\n",
       "    [103.84226, 1.29032],\n",
       "    [103.84242, 1.3295],\n",
       "    [103.84259, 1.31103],\n",
       "    [103.84265, 1.34],\n",
       "    [103.84277, 1.33527],\n",
       "    [103.8428, 1.29276],\n",
       "    [103.84284, 1.43],\n",
       "    [103.843037883333, 1.43475556666667],\n",
       "    [103.84306, 1.32088],\n",
       "    [103.84331, 1.38],\n",
       "    [103.843690216667, 1.2860342],\n",
       "    [103.8438362, 1.32107591666667],\n",
       "    [103.843848, 1.3790535],\n",
       "    [103.843909166667, 1.3642905],\n",
       "    [103.84392, 1.37],\n",
       "    [103.84429, 1.33494],\n",
       "    [103.844314333333, 1.31676746666667],\n",
       "    [103.84457, 1.42],\n",
       "    [103.84469, 1.32206],\n",
       "    [103.84472, 1.35728],\n",
       "    [103.84486, 1.31029],\n",
       "    [103.84495, 1.34],\n",
       "    [103.84501, 1.32038],\n",
       "    [103.84501, 1.43192],\n",
       "    [103.84503, 1.43],\n",
       "    [103.845228116667, 1.2772546],\n",
       "    [103.84523, 1.43],\n",
       "    [103.8453425, 1.426514],\n",
       "    [103.84563, 1.31913],\n",
       "    [103.84564, 1.3702],\n",
       "    [103.8457, 1.32684],\n",
       "    [103.845749066667, 1.4230193],\n",
       "    [103.8457629, 1.37623885],\n",
       "    [103.84592, 1.28],\n",
       "    [103.846034833333, 1.3898715],\n",
       "    [103.84639815, 1.37312606666667],\n",
       "    [103.846423716667, 1.38029573333333],\n",
       "    [103.84647, 1.33559],\n",
       "    [103.84652, 1.33149],\n",
       "    [103.84662, 1.34079],\n",
       "    [103.84669, 1.42],\n",
       "    [103.84698, 1.27654],\n",
       "    [103.847015833333, 1.37051083333333],\n",
       "    [103.847046233333, 1.43227271666667],\n",
       "    [103.847098033333, 1.42602278333333],\n",
       "    [103.84716, 1.3483],\n",
       "    [103.84733, 1.28574],\n",
       "    [103.84743, 1.36724],\n",
       "    [103.84752, 1.33388],\n",
       "    [103.847628483333, 1.34106731666667],\n",
       "    [103.84763, 1.34839],\n",
       "    [103.84789225, 1.37669288333333],\n",
       "    [103.847934, 1.38198116666667],\n",
       "    [103.84796, 1.33],\n",
       "    [103.84801275, 1.3515541],\n",
       "    [103.84802, 1.35],\n",
       "    [103.848136833333, 1.38456966666667],\n",
       "    [103.84815, 1.42065],\n",
       "    [103.848315, 1.3844595],\n",
       "    [103.8483608, 1.38471805],\n",
       "    [103.848375, 1.38419131666667],\n",
       "    [103.848392166667, 1.384576],\n",
       "    [103.8484, 1.384642],\n",
       "    [103.848413816667, 1.38422098333333],\n",
       "    [103.84844, 1.42],\n",
       "    [103.848448, 1.35354816666667],\n",
       "    [103.848511, 1.28651595],\n",
       "    [103.848514166667, 1.38461233333333],\n",
       "    [103.848529166667, 1.38416033333333],\n",
       "    [103.848555133333, 1.38365021666667],\n",
       "    [103.84858, 1.28653],\n",
       "    [103.84862, 1.37],\n",
       "    [103.84872, 1.32852],\n",
       "    [103.848734666667, 1.38384583333333],\n",
       "    [103.84877, 1.34],\n",
       "    [103.8488115, 1.38424516666667],\n",
       "    [103.848818733333, 1.38523808333333],\n",
       "    [103.84882, 1.2819],\n",
       "    [103.848833916667, 1.38479615],\n",
       "    [103.848858833333, 1.3839835],\n",
       "    [103.84886, 1.28102],\n",
       "    [103.848863666667, 1.38393266666667],\n",
       "    [103.848877666667, 1.38381616666667],\n",
       "    [103.8489, 1.29126],\n",
       "    [103.848906416667, 1.38520936666667],\n",
       "    [103.848949333333, 1.3842605],\n",
       "    [103.84898, 1.35339],\n",
       "    [103.849025166667, 1.38371016666667],\n",
       "    [103.849046716667, 1.4227728],\n",
       "    [103.84922, 1.42635],\n",
       "    [103.84923, 1.43],\n",
       "    [103.849238166667, 1.3843815],\n",
       "    [103.849288, 1.38456],\n",
       "    [103.8492985, 1.38455758333333],\n",
       "    [103.84937, 1.27705],\n",
       "    [103.849525833333, 1.38420066666667],\n",
       "    [103.84966, 1.37],\n",
       "    [103.849683, 1.301713],\n",
       "    [103.849789666667, 1.38475766666667],\n",
       "    [103.84979, 1.30064],\n",
       "    [103.84987, 1.33298],\n",
       "    [103.85, 1.29346],\n",
       "    [103.85018, 1.27352],\n",
       "    [103.85018, 1.34787],\n",
       "    [103.85022, 1.29553],\n",
       "    [103.85028, 1.34],\n",
       "    [103.85036, 1.34354],\n",
       "    [103.8504, 1.30433],\n",
       "    [103.85049, 1.36],\n",
       "    [103.850497666667, 1.29298136666667],\n",
       "    [103.85051, 1.30447],\n",
       "    [103.850526, 1.340372],\n",
       "    [103.85073, 1.28257],\n",
       "    [103.850812666667, 1.3842565],\n",
       "    [103.85087, 1.34008],\n",
       "    [103.85088, 1.29432],\n",
       "    [103.85092, 1.37301],\n",
       "    [103.8509328, 1.35841838333333],\n",
       "    [103.85127, 1.29424],\n",
       "    [103.85139, 1.31857],\n",
       "    [103.8515186, 1.29563275],\n",
       "    [103.8517076, 1.33450503333333],\n",
       "    [103.85173, 1.29787],\n",
       "    [103.85173, 1.37],\n",
       "    [103.8517681, 1.31888793333333],\n",
       "    [103.852, 1.33374],\n",
       "    [103.852, 1.3606],\n",
       "    [103.852034916667, 1.29620428333333],\n",
       "    [103.85206, 1.3],\n",
       "    [103.85212, 1.36212],\n",
       "    [103.85225, 1.33861],\n",
       "    [103.85226, 1.33],\n",
       "    [103.852562983333, 1.36032065],\n",
       "    [103.85275, 1.32241],\n",
       "    [103.852929233333, 1.39240536666667],\n",
       "    [103.85298, 1.31176],\n",
       "    [103.85302, 1.30837],\n",
       "    [103.853122333333, 1.36486166666667],\n",
       "    [103.85314, 1.29973],\n",
       "    [103.8532, 1.29503],\n",
       "    [103.85327, 1.31229],\n",
       "    [103.85332, 1.30346],\n",
       "    [103.85345, 1.29934],\n",
       "    [103.853537166667, 1.334557],\n",
       "    [103.853565883333, 1.33138368333333],\n",
       "    [103.85392545, 1.2998872],\n",
       "    [103.85405, 1.36],\n",
       "    [103.854081, 1.367765],\n",
       "    [103.85428, 1.31395],\n",
       "    [103.854368, 1.368394],\n",
       "    [103.8544, 1.36978],\n",
       "    [103.85457, 1.32],\n",
       "    [103.8547142, 1.30673958333333],\n",
       "    [103.854722, 1.367157],\n",
       "    [103.854763966667, 1.32301281666667],\n",
       "    [103.85483, 1.37],\n",
       "    [103.85493, 1.37],\n",
       "    [103.854935333333, 1.37118],\n",
       "    [103.85497, 1.37],\n",
       "    [103.85552, 1.37],\n",
       "    [103.855578816667, 1.36610418333333],\n",
       "    [103.85563, 1.34],\n",
       "    [103.85567, 1.30033],\n",
       "    [103.855721166667, 1.34748666666667],\n",
       "    [103.85573, 1.34778],\n",
       "    [103.85574, 1.34],\n",
       "    [103.85576965, 1.37403691666667],\n",
       "    [103.8558, 1.36391],\n",
       "    [103.8558, 1.366081],\n",
       "    [103.855889, 1.36621633333333],\n",
       "    [103.85598, 1.34],\n",
       "    [103.85618, 1.37],\n",
       "    [103.856215333333, 1.3458645],\n",
       "    [103.856247, 1.34237883333333],\n",
       "    [103.85629, 1.33619],\n",
       "    [103.85636, 1.30298],\n",
       "    [103.85645325, 1.34256276666667],\n",
       "    [103.85655, 1.34],\n",
       "    [103.85658, 1.3728],\n",
       "    [103.8566, 1.30328],\n",
       "    [103.8566, 1.34],\n",
       "    [103.85662, 1.30336],\n",
       "    [103.85665, 1.30324],\n",
       "    [103.85681, 1.31204],\n",
       "    [103.856839883333, 1.3160057],\n",
       "    [103.8568445, 1.34786533333333],\n",
       "    [103.8569, 1.33979],\n",
       "    [103.85731, 1.31859],\n",
       "    [103.857353, 1.31422],\n",
       "    [103.857378833333, 1.31933433333333],\n",
       "    [103.857505, 1.36635666666667],\n",
       "    [103.85768, 1.28992],\n",
       "    [103.85772, 1.27621],\n",
       "    [103.85775, 1.35127],\n",
       "    [103.85791, 1.34],\n",
       "    [103.85802, 1.34],\n",
       "    [103.85804, 1.37405],\n",
       "    [103.85813, 1.34269],\n",
       "    [103.85831, 1.32479],\n",
       "    [103.85835, 1.29388],\n",
       "    [103.85837, 1.34189],\n",
       "    [103.85838, 1.34219],\n",
       "    [103.8584, 1.38],\n",
       "    [103.85844, 1.33981],\n",
       "    [103.85847, 1.40067],\n",
       "    [103.85849, 1.3482],\n",
       "    [103.858595833333, 1.31584933333333],\n",
       "    [103.85888, 1.31],\n",
       "    [103.85899, 1.37],\n",
       "    [103.859037533333, 1.3347628],\n",
       "    [103.85904, 1.37073],\n",
       "    [103.85918, 1.34],\n",
       "    [103.85919, 1.31],\n",
       "    [103.8592, 1.28169],\n",
       "    [103.85932, 1.32],\n",
       "    [103.8594292, 1.37044621666667],\n",
       "    [103.85944, 1.31107],\n",
       "    [103.85978, 1.3415],\n",
       "    [103.859812, 1.307755],\n",
       "    [103.8598345, 1.325147],\n",
       "    [103.8599039, 1.30265945],\n",
       "    [103.85993, 1.34489],\n",
       "    [103.85994, 1.29056],\n",
       "    [103.86003, 1.29139],\n",
       "    [103.86021, 1.36945],\n",
       "    [103.86027, 1.2831],\n",
       "    [103.86028, 1.2833],\n",
       "    [103.86028, 1.2938],\n",
       "    [103.8603, 1.30392],\n",
       "    [103.86032, 1.30477],\n",
       "    [103.860475133333, 1.31108796666667],\n",
       "    [103.860496833333, 1.27061483333333],\n",
       "    [103.8605, 1.29373],\n",
       "    [103.86059, 1.29546],\n",
       "    [103.86066, 1.32],\n",
       "    [103.86067, 1.30542],\n",
       "    [103.86083, 1.32],\n",
       "    [103.860888, 1.3680345],\n",
       "    [103.86095, 1.31469],\n",
       "    [103.86135, 1.32114],\n",
       "    [103.8616, 1.31685],\n",
       "    [103.86162, 1.30944],\n",
       "    [103.86176, 1.41251],\n",
       "    [103.86224, 1.33086],\n",
       "    [103.8623, 1.301562],\n",
       "    [103.86286, 1.33556],\n",
       "    [103.86292, 1.27515],\n",
       "    [103.86299, 1.30979],\n",
       "    [103.86303095, 1.31279868333333],\n",
       "    [103.86316, 1.3],\n",
       "    [103.86358, 1.30605],\n",
       "    [103.86372, 1.31],\n",
       "    [103.863791666667, 1.31992983333333],\n",
       "    [103.8639112, 1.30804816666667],\n",
       "    [103.86404, 1.37],\n",
       "    [103.86408, 1.30359],\n",
       "    [103.86434, 1.31],\n",
       "    [103.864403166667, 1.30292883333333],\n",
       "    [103.86453, 1.3],\n",
       "    [103.86458, 1.32329],\n",
       "    [103.86521, 1.32],\n",
       "    [103.8659, 1.31113],\n",
       "    [103.866078333333, 1.30342183333333],\n",
       "    [103.8663, 1.32],\n",
       "    [103.86658, 1.28176],\n",
       "    [103.86659, 1.28043],\n",
       "    [103.867285833333, 1.3544105],\n",
       "    [103.86782, 1.33392],\n",
       "    [103.86793, 1.37181],\n",
       "    [103.8685905, 1.35082266666667],\n",
       "    [103.868765, 1.328323],\n",
       "    [103.86896, 1.37],\n",
       "    [103.8691, 1.39802],\n",
       "    [103.869293333333, 1.31989033333333],\n",
       "    [103.86954, 1.32244],\n",
       "    [103.86979, 1.32],\n",
       "    [103.86984, 1.37003],\n",
       "    [103.86997, 1.39],\n",
       "    [103.870002833333, 1.37254683333333],\n",
       "    [103.8700515, 1.354341],\n",
       "    [103.87029, 1.36],\n",
       "    [103.870321516667, 1.35372678333333],\n",
       "    [103.87044, 1.32045],\n",
       "    [103.87056, 1.33827],\n",
       "    [103.87057, 1.374],\n",
       "    [103.8706, 1.34065],\n",
       "    [103.87061, 1.37],\n",
       "    [103.8708, 1.37],\n",
       "    [103.87113, 1.34],\n",
       "    [103.87113, 1.34579],\n",
       "    [103.871187333333, 1.36705073333333],\n",
       "    [103.871481683333, 1.3666129],\n",
       "    [103.87168, 1.31],\n",
       "    [103.871829166667, 1.39104],\n",
       "    [103.87218, 1.33425],\n",
       "    ...]},\n",
       "  'properties': {'timestamp': '2022-12-03T09:07:02+08:00',\n",
       "   'taxi_count': 1623,\n",
       "   'api_info': {'status': 'healthy'}}}]"
      ]
     },
     "execution_count": 21,
     "metadata": {},
     "output_type": "execute_result"
    }
   ],
   "source": [
    "data['features']"
   ]
  },
  {
   "cell_type": "code",
   "execution_count": 22,
   "metadata": {
    "id": "_VsUKA0j8ZNW"
   },
   "outputs": [],
   "source": [
    "coordinates = [{'long':taxi[0],'lat':taxi[1]} for taxi in data['features'][0]['geometry']['coordinates']]"
   ]
  },
  {
   "cell_type": "code",
   "execution_count": 23,
   "metadata": {
    "colab": {
     "base_uri": "https://localhost:8080/",
     "height": 424
    },
    "executionInfo": {
     "elapsed": 376,
     "status": "ok",
     "timestamp": 1669215688566,
     "user": {
      "displayName": "Ian Chong",
      "userId": "10615222189260864195"
     },
     "user_tz": -480
    },
    "id": "5qVrM3yO93uV",
    "outputId": "563a86c4-9f01-42ce-9765-27c6ecae077e"
   },
   "outputs": [
    {
     "data": {
      "text/html": [
       "<div>\n",
       "<style scoped>\n",
       "    .dataframe tbody tr th:only-of-type {\n",
       "        vertical-align: middle;\n",
       "    }\n",
       "\n",
       "    .dataframe tbody tr th {\n",
       "        vertical-align: top;\n",
       "    }\n",
       "\n",
       "    .dataframe thead th {\n",
       "        text-align: right;\n",
       "    }\n",
       "</style>\n",
       "<table border=\"1\" class=\"dataframe\">\n",
       "  <thead>\n",
       "    <tr style=\"text-align: right;\">\n",
       "      <th></th>\n",
       "      <th>long</th>\n",
       "      <th>lat</th>\n",
       "    </tr>\n",
       "  </thead>\n",
       "  <tbody>\n",
       "    <tr>\n",
       "      <th>0</th>\n",
       "      <td>103.625400</td>\n",
       "      <td>1.290270</td>\n",
       "    </tr>\n",
       "    <tr>\n",
       "      <th>1</th>\n",
       "      <td>103.625460</td>\n",
       "      <td>1.305620</td>\n",
       "    </tr>\n",
       "    <tr>\n",
       "      <th>2</th>\n",
       "      <td>103.625750</td>\n",
       "      <td>1.289920</td>\n",
       "    </tr>\n",
       "    <tr>\n",
       "      <th>3</th>\n",
       "      <td>103.625810</td>\n",
       "      <td>1.289660</td>\n",
       "    </tr>\n",
       "    <tr>\n",
       "      <th>4</th>\n",
       "      <td>103.627500</td>\n",
       "      <td>1.286010</td>\n",
       "    </tr>\n",
       "    <tr>\n",
       "      <th>...</th>\n",
       "      <td>...</td>\n",
       "      <td>...</td>\n",
       "    </tr>\n",
       "    <tr>\n",
       "      <th>1618</th>\n",
       "      <td>103.997860</td>\n",
       "      <td>1.381250</td>\n",
       "    </tr>\n",
       "    <tr>\n",
       "      <th>1619</th>\n",
       "      <td>103.998620</td>\n",
       "      <td>1.382920</td>\n",
       "    </tr>\n",
       "    <tr>\n",
       "      <th>1620</th>\n",
       "      <td>103.998820</td>\n",
       "      <td>1.383380</td>\n",
       "    </tr>\n",
       "    <tr>\n",
       "      <th>1621</th>\n",
       "      <td>103.999000</td>\n",
       "      <td>1.383790</td>\n",
       "    </tr>\n",
       "    <tr>\n",
       "      <th>1622</th>\n",
       "      <td>104.003982</td>\n",
       "      <td>1.374569</td>\n",
       "    </tr>\n",
       "  </tbody>\n",
       "</table>\n",
       "<p>1623 rows × 2 columns</p>\n",
       "</div>"
      ],
      "text/plain": [
       "            long       lat\n",
       "0     103.625400  1.290270\n",
       "1     103.625460  1.305620\n",
       "2     103.625750  1.289920\n",
       "3     103.625810  1.289660\n",
       "4     103.627500  1.286010\n",
       "...          ...       ...\n",
       "1618  103.997860  1.381250\n",
       "1619  103.998620  1.382920\n",
       "1620  103.998820  1.383380\n",
       "1621  103.999000  1.383790\n",
       "1622  104.003982  1.374569\n",
       "\n",
       "[1623 rows x 2 columns]"
      ]
     },
     "execution_count": 23,
     "metadata": {},
     "output_type": "execute_result"
    }
   ],
   "source": [
    "import pandas as pd\n",
    "dataframe = pd.DataFrame(coordinates)\n",
    "dataframe"
   ]
  },
  {
   "cell_type": "markdown",
   "metadata": {
    "id": "6IjM61FG_KRc"
   },
   "source": [
    "## 2.2.2 - Data Analysis\n",
    "\n",
    "This dataset is very basic, so analysis is easy. pandas is a powerful tool to do analysis and manipulation. It is a mammoth so we will not go into details here. Just know you can easily do statistical analysis."
   ]
  },
  {
   "cell_type": "code",
   "execution_count": 24,
   "metadata": {
    "colab": {
     "base_uri": "https://localhost:8080/"
    },
    "executionInfo": {
     "elapsed": 314,
     "status": "ok",
     "timestamp": 1669215688877,
     "user": {
      "displayName": "Ian Chong",
      "userId": "10615222189260864195"
     },
     "user_tz": -480
    },
    "id": "-KdP7YUK-mRV",
    "outputId": "8f8bf67e-5c71-4c74-e335-88a836e6c53d"
   },
   "outputs": [
    {
     "data": {
      "text/plain": [
       "long    103.853564\n",
       "lat       1.353148\n",
       "dtype: float64"
      ]
     },
     "execution_count": 24,
     "metadata": {},
     "output_type": "execute_result"
    }
   ],
   "source": [
    "dataframe.mean()"
   ]
  },
  {
   "cell_type": "code",
   "execution_count": 25,
   "metadata": {
    "colab": {
     "base_uri": "https://localhost:8080/"
    },
    "executionInfo": {
     "elapsed": 7,
     "status": "ok",
     "timestamp": 1669215688877,
     "user": {
      "displayName": "Ian Chong",
      "userId": "10615222189260864195"
     },
     "user_tz": -480
    },
    "id": "ZifLwrok_VmN",
    "outputId": "8fe6c690-2042-49db-a890-ed4132d26305"
   },
   "outputs": [
    {
     "data": {
      "text/plain": [
       "long    104.003982\n",
       "lat       1.463890\n",
       "dtype: float64"
      ]
     },
     "execution_count": 25,
     "metadata": {},
     "output_type": "execute_result"
    }
   ],
   "source": [
    "dataframe.max()"
   ]
  },
  {
   "cell_type": "code",
   "execution_count": 26,
   "metadata": {
    "colab": {
     "base_uri": "https://localhost:8080/"
    },
    "executionInfo": {
     "elapsed": 6,
     "status": "ok",
     "timestamp": 1669215688877,
     "user": {
      "displayName": "Ian Chong",
      "userId": "10615222189260864195"
     },
     "user_tz": -480
    },
    "id": "e12cXjSD_YjY",
    "outputId": "de4570ca-a5a8-44df-b3f3-af36bc2cc2ed"
   },
   "outputs": [
    {
     "data": {
      "text/plain": [
       "long    103.6254\n",
       "lat       1.2500\n",
       "dtype: float64"
      ]
     },
     "execution_count": 26,
     "metadata": {},
     "output_type": "execute_result"
    }
   ],
   "source": [
    "dataframe.min()"
   ]
  },
  {
   "cell_type": "code",
   "execution_count": 27,
   "metadata": {
    "colab": {
     "base_uri": "https://localhost:8080/",
     "height": 300
    },
    "executionInfo": {
     "elapsed": 5,
     "status": "ok",
     "timestamp": 1669215688877,
     "user": {
      "displayName": "Ian Chong",
      "userId": "10615222189260864195"
     },
     "user_tz": -480
    },
    "id": "yfDfRwX5_Zu5",
    "outputId": "0dd82ed2-9f88-4e6e-9c0d-abb48033fa9c"
   },
   "outputs": [
    {
     "data": {
      "text/html": [
       "<div>\n",
       "<style scoped>\n",
       "    .dataframe tbody tr th:only-of-type {\n",
       "        vertical-align: middle;\n",
       "    }\n",
       "\n",
       "    .dataframe tbody tr th {\n",
       "        vertical-align: top;\n",
       "    }\n",
       "\n",
       "    .dataframe thead th {\n",
       "        text-align: right;\n",
       "    }\n",
       "</style>\n",
       "<table border=\"1\" class=\"dataframe\">\n",
       "  <thead>\n",
       "    <tr style=\"text-align: right;\">\n",
       "      <th></th>\n",
       "      <th>long</th>\n",
       "      <th>lat</th>\n",
       "    </tr>\n",
       "  </thead>\n",
       "  <tbody>\n",
       "    <tr>\n",
       "      <th>count</th>\n",
       "      <td>1623.000000</td>\n",
       "      <td>1623.000000</td>\n",
       "    </tr>\n",
       "    <tr>\n",
       "      <th>mean</th>\n",
       "      <td>103.853564</td>\n",
       "      <td>1.353148</td>\n",
       "    </tr>\n",
       "    <tr>\n",
       "      <th>std</th>\n",
       "      <td>0.081406</td>\n",
       "      <td>0.044229</td>\n",
       "    </tr>\n",
       "    <tr>\n",
       "      <th>min</th>\n",
       "      <td>103.625400</td>\n",
       "      <td>1.250000</td>\n",
       "    </tr>\n",
       "    <tr>\n",
       "      <th>25%</th>\n",
       "      <td>103.798887</td>\n",
       "      <td>1.320466</td>\n",
       "    </tr>\n",
       "    <tr>\n",
       "      <th>50%</th>\n",
       "      <td>103.850360</td>\n",
       "      <td>1.350750</td>\n",
       "    </tr>\n",
       "    <tr>\n",
       "      <th>75%</th>\n",
       "      <td>103.906605</td>\n",
       "      <td>1.380000</td>\n",
       "    </tr>\n",
       "    <tr>\n",
       "      <th>max</th>\n",
       "      <td>104.003982</td>\n",
       "      <td>1.463890</td>\n",
       "    </tr>\n",
       "  </tbody>\n",
       "</table>\n",
       "</div>"
      ],
      "text/plain": [
       "              long          lat\n",
       "count  1623.000000  1623.000000\n",
       "mean    103.853564     1.353148\n",
       "std       0.081406     0.044229\n",
       "min     103.625400     1.250000\n",
       "25%     103.798887     1.320466\n",
       "50%     103.850360     1.350750\n",
       "75%     103.906605     1.380000\n",
       "max     104.003982     1.463890"
      ]
     },
     "execution_count": 27,
     "metadata": {},
     "output_type": "execute_result"
    }
   ],
   "source": [
    "dataframe.describe()"
   ]
  },
  {
   "cell_type": "code",
   "execution_count": 28,
   "metadata": {
    "colab": {
     "base_uri": "https://localhost:8080/"
    },
    "executionInfo": {
     "elapsed": 6,
     "status": "ok",
     "timestamp": 1669215688878,
     "user": {
      "displayName": "Ian Chong",
      "userId": "10615222189260864195"
     },
     "user_tz": -480
    },
    "id": "KB7Q_D8d_l4e",
    "outputId": "786a0ef7-ecda-4e5b-86d1-3a675d984146"
   },
   "outputs": [
    {
     "name": "stdout",
     "output_type": "stream",
     "text": [
      "<class 'pandas.core.frame.DataFrame'>\n",
      "RangeIndex: 1623 entries, 0 to 1622\n",
      "Data columns (total 2 columns):\n",
      " #   Column  Non-Null Count  Dtype  \n",
      "---  ------  --------------  -----  \n",
      " 0   long    1623 non-null   float64\n",
      " 1   lat     1623 non-null   float64\n",
      "dtypes: float64(2)\n",
      "memory usage: 25.5 KB\n"
     ]
    }
   ],
   "source": [
    "dataframe.info(verbose=True)"
   ]
  },
  {
   "cell_type": "markdown",
   "metadata": {
    "id": "29fMBF_m_pie"
   },
   "source": [
    "### 2.2.3 - Data Visualization\n",
    "\n",
    "`matplotlib` is the most common data visualization tool. It is power and affords you great customization over your graphics. However, it is also a mammoth and will not be covered here."
   ]
  },
  {
   "cell_type": "code",
   "execution_count": 29,
   "metadata": {
    "colab": {
     "base_uri": "https://localhost:8080/",
     "height": 298
    },
    "executionInfo": {
     "elapsed": 646,
     "status": "ok",
     "timestamp": 1669215689519,
     "user": {
      "displayName": "Ian Chong",
      "userId": "10615222189260864195"
     },
     "user_tz": -480
    },
    "id": "ZrHGLHRL_nml",
    "outputId": "5ec0591a-eecb-4e08-a9f4-a8204771124e"
   },
   "outputs": [
    {
     "data": {
      "text/plain": [
       "Text(0.5, 1.0, 'Coordinates of Singapore Taxis as of 2022-12-03T09:07:06')"
      ]
     },
     "execution_count": 29,
     "metadata": {},
     "output_type": "execute_result"
    },
    {
     "data": {
      "image/png": "[encoded data removed]",
      "text/plain": [
       "<Figure size 432x288 with 1 Axes>"
      ]
     },
     "metadata": {
      "needs_background": "light"
     },
     "output_type": "display_data"
    }
   ],
   "source": [
    "from matplotlib import pyplot as plt\n",
    "\n",
    "plt.scatter(x=dataframe['long'],y=dataframe['lat'])\n",
    "plt.title(f\"Coordinates of Singapore Taxis as of {now}\")"
   ]
  },
  {
   "cell_type": "code",
   "execution_count": null,
   "metadata": {
    "id": "hEUH7mRdAFzu"
   },
   "outputs": [],
   "source": []
  }
 ],
 "metadata": {
  "colab": {
   "authorship_tag": "ABX9TyNvbW8Eb4Spsim6iR/SUg+F",
   "provenance": []
  },
  "kernelspec": {
   "display_name": "Python 3 (ipykernel)",
   "language": "python",
   "name": "python3"
  },
  "language_info": {
   "codemirror_mode": {
    "name": "ipython",
    "version": 3
   },
   "file_extension": ".py",
   "mimetype": "text/x-python",
   "name": "python",
   "nbconvert_exporter": "python",
   "pygments_lexer": "ipython3",
   "version": "3.8.10"
  }
 },
 "nbformat": 4,
 "nbformat_minor": 1
}
