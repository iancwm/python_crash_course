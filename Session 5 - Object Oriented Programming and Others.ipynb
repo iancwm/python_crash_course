{
 "cells": [
  {
   "cell_type": "markdown",
   "metadata": {
    "id": "zqrss-fsSBpB"
   },
   "source": [
    "<h1><font color='blue'>Session 5 - OOP and Other Concepts</font></h1>\n",
    "\n",
    "OOP is one of the hardest concepts to get and requires a sound understanding of all the prior concepts. That said, we can go through the basics here.\n",
    "\n",
    "![](https://media.geeksforgeeks.org/wp-content/uploads/20220608174843/OOPS1-282x300.png)\n",
    "\n",
    "# Section 1 - OOP\n",
    "\n",
    "Object-oriented programming is a programming paradigm that provides a means of structuring programs so that properties and behaviors are bundled into individual objects.\n",
    "\n",
    "For instance, an object could represent a person with:\n",
    "- properties (attributes): \n",
    "    - name\n",
    "    - age\n",
    "    - address \n",
    "- behaviors (methods):\n",
    "    - walk()\n",
    "    - talk()\n",
    "    - breathe()\n",
    "    - run() \n",
    "    \n",
    "Put another way, object-oriented programming is an approach for modeling concrete, real-world things, like cars, as well as relations between things, like companies and employees, students and teachers, and so on. OOP models real-world entities as software objects that have some data associated with them and can perform certain functions.\n",
    "\n",
    "![](https://media.geeksforgeeks.org/wp-content/uploads/Blank-Diagram-Page-1-3.png)\n",
    "\n",
    "The blue print for an object is the Class. A Class determines the basic properties and functions that an object would have. An Object is simply an instance of a Class. We can have multiple Objects all of the same Class, but they are separate instances and keep track of their own data. In the example above, Dog is the Class. Dog 1 is an instance of the Dog Class, along with Dog 2, 3 and 4.\n",
    "\n",
    "Let's make a simple program consisting of a `Soldier` class and a `Weapon` class. Our `Soldier` has a `Name`, some `HP` and `Accuracy` stats, and `arms` himself with a `Weapon` . The `Soldier` can `attack` an enemy `Soldier`, and rolls a random normal distribution. If the value is lower than the `Accuracy`, he misses. Otherwise, the enemy Soldier gets `wound`. If `Soldier` HP decreases below zero, his `status` is now \"Dead\".\n",
    "\n",
    "Put into Python terms, the `Soldier` Class has the following attributes:\n",
    "- `Name`\n",
    "- `HP`\n",
    "- `Accuracy`\n",
    "\n",
    "It also has the following methods:\n",
    "- `arm`\n",
    "- `attack`\n",
    "- `wound`\n",
    "\n",
    "Our `Weapon` Class has `Damage` and `Accuracy` attributes."
   ]
  },
  {
   "cell_type": "code",
   "execution_count": 1,
   "metadata": {
    "id": "m3y6SvqCR2J1"
   },
   "outputs": [],
   "source": [
    "from random import random\n",
    "\n",
    "class Soldier:\n",
    "    # the __init__ method is\n",
    "    def __init__(self,Name, HP, Accuracy):\n",
    "        self.Name = Name\n",
    "        self.HP = HP        \n",
    "        self.Accuracy = Accuracy\n",
    "        self.Status = \"Alive\"\n",
    "        print(f\"Soldier Name:{self.Name} has entered the fray.\\nHP:{self.HP}\\nAccuracy:{self.Accuracy}\")\n",
    "\n",
    "    # Arm the Soldier with a Weapon\n",
    "    def arm(self,Weapon):        \n",
    "        self.Weapon = Weapon\n",
    "        print(f\"{self.Name} locks and loads his {self.Weapon.Name}\")\n",
    "\n",
    "    def attack(self,Enemy):        \n",
    "        if self.Status == \"Dead\":\n",
    "            print(f\"{self.Name} is dead. Cannot attack.\")\n",
    "        else:\n",
    "            print(f\"{self.Name} aims his {self.Weapon.Name} at {Enemy.Name}\")\n",
    "            roll = random()\n",
    "            print(f\"{self.Name} rolls {roll}\")\n",
    "            if roll < self.Accuracy:                \n",
    "                Enemy.wound(self.Weapon.Damage)\n",
    "                \n",
    "            else:\n",
    "                print(f\"{self.Name} missed a shot.\")\n",
    "    \n",
    "    def wound(self,damage):\n",
    "        print(f\"{self.Name} takes {damage} damage\")\n",
    "        self.HP-=damage\n",
    "        if self.HP <=0:\n",
    "            self.Status = \"Dead\"\n",
    "            print(f\"{self.Name} bites the dust\")\n",
    "            \n",
    "\n",
    "class Weapon:\n",
    "    def __init__(self,Name,Damage):\n",
    "        self.Name=Name\n",
    "        self.Damage=Damage"
   ]
  },
  {
   "cell_type": "code",
   "execution_count": 2,
   "metadata": {
    "colab": {
     "base_uri": "https://localhost:8080/"
    },
    "executionInfo": {
     "elapsed": 10,
     "status": "ok",
     "timestamp": 1669215683675,
     "user": {
      "displayName": "Ian Chong",
      "userId": "10615222189260864195"
     },
     "user_tz": -480
    },
    "id": "1_Jnp7Y9WN9C",
    "outputId": "a31c24ab-21c7-4d8a-eb5d-e896cb644cb3"
   },
   "outputs": [
    {
     "name": "stdout",
     "output_type": "stream",
     "text": [
      "Soldier Name:Richard has entered the fray.\n",
      "HP:100\n",
      "Accuracy:0.7\n",
      "Richard locks and loads his M16\n",
      "Soldier Name:UberMensch has entered the fray.\n",
      "HP:1000\n",
      "Accuracy:0.9\n",
      "UberMensch locks and loads his Doom BFG\n"
     ]
    }
   ],
   "source": [
    "Richard = Soldier(Name='Richard',HP=100,Accuracy=0.7)\n",
    "M16 = Weapon(Name=\"M16\",Damage=30)\n",
    "Richard.arm(M16)\n",
    "\n",
    "Jason = Soldier(Name='UberMensch',HP=1000, Accuracy=0.9)\n",
    "BFG = Weapon(Name=\"Doom BFG\",Damage=9000)\n",
    "Jason.arm(BFG)"
   ]
  },
  {
   "cell_type": "code",
   "execution_count": 3,
   "metadata": {
    "colab": {
     "base_uri": "https://localhost:8080/"
    },
    "executionInfo": {
     "elapsed": 10,
     "status": "ok",
     "timestamp": 1669215683675,
     "user": {
      "displayName": "Ian Chong",
      "userId": "10615222189260864195"
     },
     "user_tz": -480
    },
    "id": "bpmfmwXKXNzr",
    "outputId": "b7fe8d0e-164e-4e62-cc3f-cf8e0c39c8fd"
   },
   "outputs": [
    {
     "name": "stdout",
     "output_type": "stream",
     "text": [
      "UberMensch aims his Doom BFG at Richard\n",
      "UberMensch rolls 0.7119698009794972\n",
      "Richard takes 9000 damage\n",
      "Richard bites the dust\n"
     ]
    }
   ],
   "source": [
    "Jason.attack(Richard)"
   ]
  },
  {
   "cell_type": "code",
   "execution_count": 4,
   "metadata": {
    "colab": {
     "base_uri": "https://localhost:8080/"
    },
    "executionInfo": {
     "elapsed": 8,
     "status": "ok",
     "timestamp": 1669215683675,
     "user": {
      "displayName": "Ian Chong",
      "userId": "10615222189260864195"
     },
     "user_tz": -480
    },
    "id": "xklNyPCfX5s9",
    "outputId": "fce2d227-0640-48b8-9f5f-ef6afe60cd77"
   },
   "outputs": [
    {
     "name": "stdout",
     "output_type": "stream",
     "text": [
      "Richard is dead. Cannot attack.\n"
     ]
    }
   ],
   "source": [
    "Richard.attack(Jason)"
   ]
  },
  {
   "cell_type": "markdown",
   "metadata": {
    "id": "EL0_Ee4zv1w_"
   },
   "source": [
    "## 1.1 - Attributes\n",
    "\n",
    "We need to distinguish between Class attributes and Instance attributes. If an attribute is common to the whole Class and doesn't change with the instances, its a Class attribute. If its an attribute which differs among the instances i.e. you set the attribute when you initialize the instance like the HP in the Soldier Class above, its an Instance Attribute. \n",
    "\n",
    "You can access attributes of an instance/object directly simply by calling it."
   ]
  },
  {
   "cell_type": "code",
   "execution_count": 5,
   "metadata": {
    "colab": {
     "base_uri": "https://localhost:8080/"
    },
    "executionInfo": {
     "elapsed": 7,
     "status": "ok",
     "timestamp": 1669215683675,
     "user": {
      "displayName": "Ian Chong",
      "userId": "10615222189260864195"
     },
     "user_tz": -480
    },
    "id": "ja_RhXdxvpC2",
    "outputId": "47135763-fcca-4db8-b647-8306c85f0dde"
   },
   "outputs": [
    {
     "data": {
      "text/plain": [
       "-8900"
      ]
     },
     "execution_count": 5,
     "metadata": {},
     "output_type": "execute_result"
    }
   ],
   "source": [
    "Richard.HP"
   ]
  },
  {
   "cell_type": "code",
   "execution_count": 6,
   "metadata": {
    "colab": {
     "base_uri": "https://localhost:8080/"
    },
    "executionInfo": {
     "elapsed": 6,
     "status": "ok",
     "timestamp": 1669215683675,
     "user": {
      "displayName": "Ian Chong",
      "userId": "10615222189260864195"
     },
     "user_tz": -480
    },
    "id": "br52hEzJwbx_",
    "outputId": "6c5b3ae4-5722-4fcd-fd3f-1d47543a8b73"
   },
   "outputs": [
    {
     "data": {
      "text/plain": [
       "30"
      ]
     },
     "execution_count": 6,
     "metadata": {},
     "output_type": "execute_result"
    }
   ],
   "source": [
    "M16.Damage"
   ]
  },
  {
   "cell_type": "markdown",
   "metadata": {
    "id": "BYb_-OKlwjwJ"
   },
   "source": [
    "Not recommended but you can modify the values of your attributes simply by assigning them."
   ]
  },
  {
   "cell_type": "code",
   "execution_count": 7,
   "metadata": {
    "colab": {
     "base_uri": "https://localhost:8080/"
    },
    "executionInfo": {
     "elapsed": 7,
     "status": "ok",
     "timestamp": 1669215683676,
     "user": {
      "displayName": "Ian Chong",
      "userId": "10615222189260864195"
     },
     "user_tz": -480
    },
    "id": "oKI3aI9sweyn",
    "outputId": "c3acda0f-9610-41c0-baf8-4b4ac5ecf885"
   },
   "outputs": [
    {
     "data": {
      "text/plain": [
       "50"
      ]
     },
     "execution_count": 7,
     "metadata": {},
     "output_type": "execute_result"
    }
   ],
   "source": [
    "M16.Damage = 50\n",
    "M16.Damage"
   ]
  },
  {
   "cell_type": "markdown",
   "metadata": {
    "id": "1MxTdxRIwsV5"
   },
   "source": [
    "## 1.2 - Methods\n",
    "\n",
    "Methods are functions specific to the Object. You cannot call them outside of the object. However, you can assign a function object to a class. Let's try defining a `yell()` function and then adding it to a Class.\n",
    "\n",
    "Note: Remember, the function name without the parentheses is the function object e.g. `yell`. It is only a function call if you add the parentheses e.g. `yell()`"
   ]
  },
  {
   "cell_type": "code",
   "execution_count": 8,
   "metadata": {
    "colab": {
     "base_uri": "https://localhost:8080/"
    },
    "executionInfo": {
     "elapsed": 6,
     "status": "ok",
     "timestamp": 1669215683676,
     "user": {
      "displayName": "Ian Chong",
      "userId": "10615222189260864195"
     },
     "user_tz": -480
    },
    "id": "cpETlJ5lwili",
    "outputId": "805745e4-b4e0-4308-9c4d-dd9df0f02c4e"
   },
   "outputs": [
    {
     "name": "stdout",
     "output_type": "stream",
     "text": [
      "EDF! EDF! EDF!\n"
     ]
    }
   ],
   "source": [
    "def yell():\n",
    "    print(\"EDF! EDF! EDF!\")\n",
    "\n",
    "Jason.shout = yell\n",
    "Jason.shout()"
   ]
  },
  {
   "cell_type": "markdown",
   "metadata": {
    "id": "tKLLbr6xxoXH"
   },
   "source": [
    "## 1.3 - Inheritance\n",
    "\n",
    "Sometimes you want to update a Class and extend its functionality without defining an entirely new Class. You can use the `super()` function to use a base Class as a template and then extend the functionality to your new Class.\n",
    "\n",
    "Let's extend the functionality of the `Soldier` and make an `Engineer` class. The `Engineer` can make a `Turret` and command it to shoot another Soldier."
   ]
  },
  {
   "cell_type": "code",
   "execution_count": null,
   "metadata": {
    "id": "d6SJHJgIxGaP"
   },
   "outputs": [],
   "source": []
  },
  {
   "cell_type": "markdown",
   "metadata": {
    "id": "7PbHKnvy1Iul"
   },
   "source": [
    "# Section 2 - File I/O \n",
    "\n",
    "See [Programiz](https://www.programiz.com/python-programming/file-operation) for more in-depth examples.\n",
    "\n",
    "What we've done so far is manually creating data and performing operations in memory. It's great for learning the basics. However, you often need to: \n",
    "- output your computations to a file for storage\n",
    "- read files to get inputs for your algorithms\n",
    "- automate processes\n",
    "\n",
    "Run the following code if you're running on Colab only, as Google colab's computers aren't directly linked to your Google Drive unless you set it up. You will need login in the pop up widow to authorize Colab to read your Google Drive."
   ]
  },
  {
   "cell_type": "code",
   "execution_count": 9,
   "metadata": {
    "colab": {
     "base_uri": "https://localhost:8080/"
    },
    "executionInfo": {
     "elapsed": 2665,
     "status": "ok",
     "timestamp": 1669215686336,
     "user": {
      "displayName": "Ian Chong",
      "userId": "10615222189260864195"
     },
     "user_tz": -480
    },
    "id": "5utDK3Wy12R5",
    "outputId": "394044bd-c11b-419a-d1f7-852c855bbcbb"
   },
   "outputs": [],
   "source": [
    "import os\n",
    "\n",
    "try:\n",
    "    from google.colab import drive\n",
    "\n",
    "    drive.mount('/content/drive')\n",
    "    os.chdir('/content/drive/My Drive/Python Crash Course')\n",
    "\n",
    "except:\n",
    "    pass"
   ]
  },
  {
   "cell_type": "markdown",
   "metadata": {
    "id": "TVQtXfj6T7cq"
   },
   "source": [
    "Run this code to create a folder called data if it does not exist."
   ]
  },
  {
   "cell_type": "code",
   "execution_count": 10,
   "metadata": {
    "colab": {
     "base_uri": "https://localhost:8080/"
    },
    "executionInfo": {
     "elapsed": 9,
     "status": "ok",
     "timestamp": 1669215686336,
     "user": {
      "displayName": "Ian Chong",
      "userId": "10615222189260864195"
     },
     "user_tz": -480
    },
    "id": "sa_KlUnxPXvK",
    "outputId": "5b63199e-dad8-4236-f62e-0b6b4b72d21c"
   },
   "outputs": [
    {
     "name": "stdout",
     "output_type": "stream",
     "text": [
      "removed './data/BFG.json'\r\n",
      "removed './data/M16.json'\r\n",
      "removed './data/jason.json'\r\n",
      "removed './data/myfile.txt'\r\n",
      "removed './data/richard.json'\r\n"
     ]
    }
   ],
   "source": [
    "if not os.path.exists(\"data\"):\n",
    "    os.makedirs(\"data\")\n",
    "\n",
    "!rm -v ./data/*"
   ]
  },
  {
   "cell_type": "markdown",
   "metadata": {
    "id": "F0VTt7CVT--9"
   },
   "source": [
    "## 2.1 - Plaintext files\n",
    "\n",
    "Here we will create a simple text file with a few lines of text and save it to `myfile.txt`."
   ]
  },
  {
   "cell_type": "code",
   "execution_count": 11,
   "metadata": {
    "id": "kftyeGUU1MJw"
   },
   "outputs": [],
   "source": [
    "with open(\"data/myfile.txt\", \"x\") as f:\n",
    "    for i in range(10):\n",
    "        f.write(f\"This is Line {i}\\n\")"
   ]
  },
  {
   "cell_type": "markdown",
   "metadata": {
    "id": "465s9QBOUJe9"
   },
   "source": [
    "This code reads the file `myfile.txt` and outputs the lines to a list."
   ]
  },
  {
   "cell_type": "code",
   "execution_count": 12,
   "metadata": {
    "colab": {
     "base_uri": "https://localhost:8080/"
    },
    "executionInfo": {
     "elapsed": 7,
     "status": "ok",
     "timestamp": 1669215686337,
     "user": {
      "displayName": "Ian Chong",
      "userId": "10615222189260864195"
     },
     "user_tz": -480
    },
    "id": "qkp-A5yK2hnB",
    "outputId": "0044a6bb-93cc-40df-e889-5571d1775a01"
   },
   "outputs": [
    {
     "data": {
      "text/plain": [
       "['This is Line 0\\n',\n",
       " 'This is Line 1\\n',\n",
       " 'This is Line 2\\n',\n",
       " 'This is Line 3\\n',\n",
       " 'This is Line 4\\n',\n",
       " 'This is Line 5\\n',\n",
       " 'This is Line 6\\n',\n",
       " 'This is Line 7\\n',\n",
       " 'This is Line 8\\n',\n",
       " 'This is Line 9\\n']"
      ]
     },
     "execution_count": 12,
     "metadata": {},
     "output_type": "execute_result"
    }
   ],
   "source": [
    "with open(\"data/myfile.txt\", \"r\") as f:\n",
    "    file_data=f.readlines()\n",
    "\n",
    "file_data"
   ]
  },
  {
   "cell_type": "markdown",
   "metadata": {
    "id": "8DDb1AFAOhHF"
   },
   "source": [
    "A lot of the time there will be special characters when you read a file. You can get rid of them with the `.strip()` method."
   ]
  },
  {
   "cell_type": "code",
   "execution_count": 13,
   "metadata": {
    "colab": {
     "base_uri": "https://localhost:8080/"
    },
    "executionInfo": {
     "elapsed": 5,
     "status": "ok",
     "timestamp": 1669215686337,
     "user": {
      "displayName": "Ian Chong",
      "userId": "10615222189260864195"
     },
     "user_tz": -480
    },
    "id": "modjYP4UO2Lh",
    "outputId": "f3ff7772-fa65-4a0e-f119-6c84aa06fce1"
   },
   "outputs": [
    {
     "data": {
      "text/plain": [
       "['This is Line 0',\n",
       " 'This is Line 1',\n",
       " 'This is Line 2',\n",
       " 'This is Line 3',\n",
       " 'This is Line 4',\n",
       " 'This is Line 5',\n",
       " 'This is Line 6',\n",
       " 'This is Line 7',\n",
       " 'This is Line 8',\n",
       " 'This is Line 9']"
      ]
     },
     "execution_count": 13,
     "metadata": {},
     "output_type": "execute_result"
    }
   ],
   "source": [
    "file_data_cleaned = list(map(lambda x: x.strip(\"\\n\"),file_data))\n",
    "file_data_cleaned"
   ]
  },
  {
   "cell_type": "markdown",
   "metadata": {
    "id": "a-X7dd8vKHPp"
   },
   "source": [
    "## 2.2 - JSON\n",
    "\n",
    "The JavaScript Object Notation (or JSON for short) is a universal format for storing data. It is basically like a Python Dictionary. Most web applications on the internet communicate with each other via sending JSON responses.\n",
    "\n",
    "We will use a JSON file to save your character into a file, and that \"load\" it by initializing a Soldier object with the attributes."
   ]
  },
  {
   "cell_type": "code",
   "execution_count": 14,
   "metadata": {
    "id": "7-97BbPw2kc8"
   },
   "outputs": [],
   "source": [
    "import json\n",
    "\n",
    "richard_soldier_json={'Name':'Richard','HP':100,'Accuracy':0.70}\n",
    "jason_soldier_json={'Name':'Jason','HP':1000,'Accuracy':0.90}\n",
    "M16_weapon_json={'Name':'M16','Damage':30}\n",
    "BFG_weapon_json={'Name':'Doom BFG','Damage':9000}\n",
    "\n",
    "folder='data'\n",
    "\n",
    "with open(f\"{folder}/richard.json\", \"w\") as f:\n",
    "    json.dump(richard_soldier_json, f, indent=4)\n",
    "\n",
    "with open(f\"{folder}/jason.json\", \"w\") as f:\n",
    "    json.dump(jason_soldier_json, f, indent=4)\n",
    "\n",
    "with open(f\"{folder}/M16.json\", \"w\") as f:\n",
    "    json.dump(M16_weapon_json, f, indent=4)\n",
    "\n",
    "with open(f\"{folder}/BFG.json\", \"w\") as f:\n",
    "    json.dump(BFG_weapon_json, f, indent=4)"
   ]
  },
  {
   "cell_type": "markdown",
   "metadata": {
    "id": "xy3Ks6f8L0PF"
   },
   "source": [
    "To run command line commands in Jupyter, use an exclamation mark followed by the command. `ls` lists the files in your current working directory (cwd)"
   ]
  },
  {
   "cell_type": "code",
   "execution_count": 15,
   "metadata": {
    "colab": {
     "base_uri": "https://localhost:8080/"
    },
    "executionInfo": {
     "elapsed": 529,
     "status": "ok",
     "timestamp": 1669215686862,
     "user": {
      "displayName": "Ian Chong",
      "userId": "10615222189260864195"
     },
     "user_tz": -480
    },
    "id": "leSF0SAJLFtM",
    "outputId": "9810160a-ad24-41e6-f1db-15e6814e97d1"
   },
   "outputs": [
    {
     "name": "stdout",
     "output_type": "stream",
     "text": [
      " README.md\r\n",
      "'Session 1 - Atomic Data Types.ipynb'\r\n",
      "'Session 2 - Atomic Data Structures.ipynb'\r\n",
      "'Session 3 - Flow Control.ipynb'\r\n",
      "'Session 4 - Functional Programming.ipynb'\r\n",
      "'Session 5 - Object Oriented Programming and Others.ipynb'\r\n",
      " data\r\n",
      " regex\r\n"
     ]
    }
   ],
   "source": [
    "!ls"
   ]
  },
  {
   "cell_type": "markdown",
   "metadata": {
    "id": "bBnpiqVtMpVV"
   },
   "source": [
    "We will now load the relevant data from JSON files into our program"
   ]
  },
  {
   "cell_type": "code",
   "execution_count": 16,
   "metadata": {
    "id": "GzyXCV0tL-xq"
   },
   "outputs": [],
   "source": [
    "with open(f\"{folder}/richard.json\", 'r') as f:\n",
    "    richard_data = json.load(f)\n",
    "\n",
    "with open(f'{folder}/jason.json', 'r') as f:\n",
    "    jason_data = json.load(f)\n",
    "\n",
    "with open(f'{folder}/M16.json', 'r') as f:\n",
    "    M16_data = json.load(f)\n",
    "\n",
    "with open(f'{folder}/BFG.json', 'r') as f:\n",
    "    BFG_data = json.load(f)"
   ]
  },
  {
   "cell_type": "markdown",
   "metadata": {
    "id": "ZoViTvDlMz4t"
   },
   "source": [
    "We now initialize the classes with keyword arguments"
   ]
  },
  {
   "cell_type": "code",
   "execution_count": 17,
   "metadata": {
    "colab": {
     "base_uri": "https://localhost:8080/"
    },
    "executionInfo": {
     "elapsed": 5,
     "status": "ok",
     "timestamp": 1669215686863,
     "user": {
      "displayName": "Ian Chong",
      "userId": "10615222189260864195"
     },
     "user_tz": -480
    },
    "id": "XCaIWQZhMoF_",
    "outputId": "be5f5359-ede4-441d-b2be-ff90f54565bb"
   },
   "outputs": [
    {
     "name": "stdout",
     "output_type": "stream",
     "text": [
      "Soldier Name:Richard has entered the fray.\n",
      "HP:100\n",
      "Accuracy:0.7\n",
      "Soldier Name:Jason has entered the fray.\n",
      "HP:1000\n",
      "Accuracy:0.9\n",
      "Richard locks and loads his Doom BFG\n",
      "Jason locks and loads his M16\n"
     ]
    }
   ],
   "source": [
    "richard_loaded = Soldier(**richard_data)\n",
    "jason_loaded = Soldier(**jason_data)\n",
    "M16_loaded = Weapon(**M16_data)\n",
    "BFG_loaded = Weapon(**BFG_data)\n",
    "\n",
    "richard_loaded.arm(BFG_loaded)\n",
    "jason_loaded.arm(M16_loaded)"
   ]
  },
  {
   "cell_type": "markdown",
   "metadata": {
    "id": "P9VJYA-4NPGY"
   },
   "source": [
    "Magic! We have programatically created our game from JSON files. We can now edit the files directly, and change the inputs into our program without touching the code!"
   ]
  },
  {
   "cell_type": "code",
   "execution_count": 18,
   "metadata": {
    "colab": {
     "base_uri": "https://localhost:8080/"
    },
    "executionInfo": {
     "elapsed": 4,
     "status": "ok",
     "timestamp": 1669215686863,
     "user": {
      "displayName": "Ian Chong",
      "userId": "10615222189260864195"
     },
     "user_tz": -480
    },
    "id": "jKbz7iwkNJc8",
    "outputId": "ff89f4f9-5029-403f-bf24-562f0f6c6ee2"
   },
   "outputs": [
    {
     "name": "stdout",
     "output_type": "stream",
     "text": [
      "Richard aims his Doom BFG at Jason\n",
      "Richard rolls 0.5336690941378042\n",
      "Jason takes 9000 damage\n",
      "Jason bites the dust\n"
     ]
    }
   ],
   "source": [
    "richard_loaded.attack(jason_loaded)"
   ]
  },
  {
   "cell_type": "markdown",
   "metadata": {
    "id": "PRGmw5Uk7ayT"
   },
   "source": [
    "## 2.2 - `requests`\n",
    "\n",
    "Probably the most practical skill you'll learn so far. Another way to get data is to get it directly from the internet! Obviously a more advanced solution would yield more results, but we will be sticking to a basic `requests` GET query. See [Dataquest - Introduction to requests](https://www.dataquest.io/blog/tutorial-an-introduction-to-python-requests-library/) for an in-depth tutorial.\n",
    "\n",
    "We are going to download live taxi data from [data.gov.sg](https://data.gov.sg/dataset/taxi-availability) and visualize it. It will be downloaded in, you guessed it, JSON format!"
   ]
  },
  {
   "cell_type": "code",
   "execution_count": 19,
   "metadata": {
    "id": "RPfaR5JMNbVw"
   },
   "outputs": [],
   "source": [
    "import requests\n",
    "from datetime import datetime\n",
    "\n",
    "now = datetime.now().strftime('%Y-%m-%dT%H:%M:%S')\n",
    "\n",
    "URL = 'https://api.data.gov.sg/v1/transport/taxi-availability'\n",
    "r = requests.get(URL,params={'date_time': now})\n",
    "data=r.json()"
   ]
  },
  {
   "cell_type": "markdown",
   "metadata": {
    "id": "r3hLKEI_-x9M"
   },
   "source": [
    "## 2.2.1 - Data Cleaning\n",
    "\n",
    "As an analytics professional you will spend more time preparing data than you do presenting your analysis. Time to get your hands dirty. Start by exploring the structure of the JSON data you just pulled"
   ]
  },
  {
   "cell_type": "code",
   "execution_count": 20,
   "metadata": {
    "colab": {
     "base_uri": "https://localhost:8080/"
    },
    "executionInfo": {
     "elapsed": 2,
     "status": "ok",
     "timestamp": 1669215687755,
     "user": {
      "displayName": "Ian Chong",
      "userId": "10615222189260864195"
     },
     "user_tz": -480
    },
    "id": "Q3okp6vm8WEv",
    "outputId": "8768af27-5a17-4626-9683-f386f7439ffc"
   },
   "outputs": [
    {
     "data": {
      "text/plain": [
       "dict_keys(['type', 'crs', 'features'])"
      ]
     },
     "execution_count": 20,
     "metadata": {},
     "output_type": "execute_result"
    }
   ],
   "source": [
    "data.keys()"
   ]
  },
  {
   "cell_type": "code",
   "execution_count": 21,
   "metadata": {
    "colab": {
     "base_uri": "https://localhost:8080/"
    },
    "executionInfo": {
     "elapsed": 437,
     "status": "ok",
     "timestamp": 1669215688191,
     "user": {
      "displayName": "Ian Chong",
      "userId": "10615222189260864195"
     },
     "user_tz": -480
    },
    "id": "IR7lzlyF_DL5",
    "outputId": "2de95696-616d-4f55-fb99-66636c52d58c"
   },
   "outputs": [
    {
     "data": {
      "text/plain": [
       "[{'type': 'Feature',\n",
       "  'geometry': {'type': 'MultiPoint',\n",
       "   'coordinates': [[103.62866, 1.29858],\n",
       "    [103.63489, 1.32635],\n",
       "    [103.63589, 1.33009],\n",
       "    [103.64688, 1.3266],\n",
       "    [103.6544345, 1.31220633333333],\n",
       "    [103.66029, 1.30755],\n",
       "    [103.66664, 1.3123],\n",
       "    [103.66665, 1.31229],\n",
       "    [103.68169, 1.35069],\n",
       "    [103.685944433333, 1.34058806666667],\n",
       "    [103.68749, 1.3731],\n",
       "    [103.68763245, 1.38423778333333],\n",
       "    [103.687837183333, 1.34211386666667],\n",
       "    [103.689012833333, 1.34299766666667],\n",
       "    [103.69467, 1.34463],\n",
       "    [103.69495195, 1.34013688333333],\n",
       "    [103.69542, 1.3497],\n",
       "    [103.696468166667, 1.33975016666667],\n",
       "    [103.697120216667, 1.34369973333333],\n",
       "    [103.69796, 1.35486],\n",
       "    [103.698298166667, 1.3470925],\n",
       "    [103.69897, 1.32236],\n",
       "    [103.699379, 1.3349105],\n",
       "    [103.699805166667, 1.34988166666667],\n",
       "    [103.70238, 1.35],\n",
       "    [103.702461733333, 1.34551413333333],\n",
       "    [103.703516, 1.344237],\n",
       "    [103.70402, 1.35],\n",
       "    [103.70406, 1.33829],\n",
       "    [103.70442, 1.26803],\n",
       "    [103.70617, 1.33657],\n",
       "    [103.708038483333, 1.34464263333333],\n",
       "    [103.708081, 1.34884116666667],\n",
       "    [103.708103433333, 1.32087636666667],\n",
       "    [103.70846, 1.32842],\n",
       "    [103.708500666667, 1.339844],\n",
       "    [103.70901, 1.35],\n",
       "    [103.7102, 1.33319],\n",
       "    [103.71194, 1.36738],\n",
       "    [103.71349, 1.34553],\n",
       "    [103.71529, 1.3525],\n",
       "    [103.71533, 1.34951],\n",
       "    [103.71766, 1.3524],\n",
       "    [103.717688883333, 1.3538271],\n",
       "    [103.71786, 1.35621],\n",
       "    [103.71875, 1.35],\n",
       "    [103.71918, 1.3495],\n",
       "    [103.7202225, 1.35058488333333],\n",
       "    [103.72059, 1.33549],\n",
       "    [103.7213, 1.33],\n",
       "    [103.72146, 1.34489],\n",
       "    [103.72283, 1.35184],\n",
       "    [103.72297, 1.33176],\n",
       "    [103.72332, 1.35],\n",
       "    [103.724238033333, 1.33666113333333],\n",
       "    [103.724623733333, 1.3499861],\n",
       "    [103.72504, 1.35],\n",
       "    [103.725404, 1.34837716666667],\n",
       "    [103.72634, 1.38697],\n",
       "    [103.730160166667, 1.3506815],\n",
       "    [103.731900333333, 1.34965433333333],\n",
       "    [103.7319735, 1.31334583333333],\n",
       "    [103.736671333333, 1.3385865],\n",
       "    [103.736920833333, 1.37887933333333],\n",
       "    [103.73707, 1.38],\n",
       "    [103.73806, 1.34],\n",
       "    [103.738223666667, 1.33633],\n",
       "    [103.73878, 1.34],\n",
       "    [103.73913, 1.34411],\n",
       "    [103.7393, 1.38],\n",
       "    [103.73934, 1.32],\n",
       "    [103.73948, 1.35],\n",
       "    [103.74027, 1.38],\n",
       "    [103.74065, 1.33691],\n",
       "    [103.740671666667, 1.38003083333333],\n",
       "    [103.74074, 1.33324],\n",
       "    [103.74088, 1.33297],\n",
       "    [103.74108, 1.38],\n",
       "    [103.74113, 1.38],\n",
       "    [103.74114, 1.34],\n",
       "    [103.74122, 1.34406],\n",
       "    [103.741691, 1.36223],\n",
       "    [103.74173, 1.3461],\n",
       "    [103.7419, 1.33945],\n",
       "    [103.74213, 1.32054],\n",
       "    [103.74232, 1.32],\n",
       "    [103.74236, 1.38],\n",
       "    [103.7426, 1.3926],\n",
       "    [103.742608533333, 1.38289776666667],\n",
       "    [103.74272, 1.39],\n",
       "    [103.74307, 1.4],\n",
       "    [103.74319, 1.34],\n",
       "    [103.743503516667, 1.40056518333333],\n",
       "    [103.74363, 1.32911],\n",
       "    [103.743873, 1.37791688333333],\n",
       "    [103.74407, 1.32045],\n",
       "    [103.7441, 1.33823],\n",
       "    [103.744212066667, 1.34773956666667],\n",
       "    [103.744353333333, 1.32996933333333],\n",
       "    [103.74444, 1.38],\n",
       "    [103.74463, 1.34847],\n",
       "    [103.74543, 1.33287],\n",
       "    [103.74554, 1.4],\n",
       "    [103.74624, 1.38],\n",
       "    [103.74654, 1.33401],\n",
       "    [103.74657, 1.37],\n",
       "    [103.74658, 1.3807],\n",
       "    [103.74665, 1.36731],\n",
       "    [103.74688, 1.37],\n",
       "    [103.7469, 1.4],\n",
       "    [103.74695, 1.33353],\n",
       "    [103.747104883333, 1.3457548],\n",
       "    [103.74737, 1.35667],\n",
       "    [103.74756, 1.33],\n",
       "    [103.74813, 1.40182],\n",
       "    [103.74862, 1.34838],\n",
       "    [103.748822216667, 1.39090963333333],\n",
       "    [103.74895, 1.40305],\n",
       "    [103.74967, 1.35],\n",
       "    [103.74983, 1.38],\n",
       "    [103.7499, 1.30447],\n",
       "    [103.75005, 1.38],\n",
       "    [103.75019, 1.3623],\n",
       "    [103.75024, 1.35],\n",
       "    [103.7505847, 1.3631437],\n",
       "    [103.751087666667, 1.40101516666667],\n",
       "    [103.75268, 1.43],\n",
       "    [103.753557, 1.34874533333333],\n",
       "    [103.7535981, 1.38293211666667],\n",
       "    [103.75432, 1.38],\n",
       "    [103.75534, 1.35048],\n",
       "    [103.7555, 1.34126],\n",
       "    [103.75573, 1.34137],\n",
       "    [103.75665, 1.34794],\n",
       "    [103.75885, 1.34894],\n",
       "    [103.75898, 1.35],\n",
       "    [103.7589985, 1.3341375],\n",
       "    [103.759170666667, 1.3850655],\n",
       "    [103.759212333333, 1.34860966666667],\n",
       "    [103.75927, 1.35],\n",
       "    [103.75965, 1.31],\n",
       "    [103.76002, 1.3404],\n",
       "    [103.7603435, 1.34542716666667],\n",
       "    [103.76039, 1.34],\n",
       "    [103.76089, 1.30841],\n",
       "    [103.761260166667, 1.34558583333333],\n",
       "    [103.7612875, 1.3455175],\n",
       "    [103.7614685, 1.30841716666667],\n",
       "    [103.7616, 1.38442],\n",
       "    [103.76175, 1.38],\n",
       "    [103.761783666667, 1.3791165],\n",
       "    [103.762149083333, 1.31066496666667],\n",
       "    [103.762655566667, 1.38459038333333],\n",
       "    [103.76267, 1.3875],\n",
       "    [103.76312, 1.3043],\n",
       "    [103.763205266667, 1.3043079],\n",
       "    [103.763521833333, 1.30501866666667],\n",
       "    [103.763681616667, 1.30430513333333],\n",
       "    [103.76486, 1.32],\n",
       "    [103.76487, 1.36323],\n",
       "    [103.76491, 1.38785],\n",
       "    [103.76494, 1.2979],\n",
       "    [103.7650446, 1.3860937],\n",
       "    [103.765423, 1.32166783333333],\n",
       "    [103.76548, 1.3],\n",
       "    [103.765559666667, 1.38103966666667],\n",
       "    [103.76572, 1.36219],\n",
       "    [103.76576, 1.3135],\n",
       "    [103.766239666667, 1.37775483333333],\n",
       "    [103.766499333333, 1.3215235],\n",
       "    [103.76687, 1.38],\n",
       "    [103.767005533333, 1.30484431666667],\n",
       "    [103.76711, 1.34091],\n",
       "    [103.76751, 1.39],\n",
       "    [103.76768, 1.31436],\n",
       "    [103.76774, 1.30658],\n",
       "    [103.76775, 1.38],\n",
       "    [103.7681675, 1.381182],\n",
       "    [103.76867, 1.37736],\n",
       "    [103.76868, 1.29999],\n",
       "    [103.76868, 1.31847],\n",
       "    [103.76887, 1.31],\n",
       "    [103.76891, 1.31],\n",
       "    [103.76975, 1.44579],\n",
       "    [103.77, 1.38],\n",
       "    [103.77005, 1.34892],\n",
       "    [103.77011, 1.30467],\n",
       "    [103.7701765, 1.382561],\n",
       "    [103.77018, 1.38],\n",
       "    [103.77032, 1.39],\n",
       "    [103.770462666667, 1.3679005],\n",
       "    [103.77094, 1.31],\n",
       "    [103.77099, 1.31295],\n",
       "    [103.77112, 1.42],\n",
       "    [103.77112, 1.43744],\n",
       "    [103.77139, 1.38],\n",
       "    [103.77195, 1.38625],\n",
       "    [103.77209, 1.43],\n",
       "    [103.77211, 1.37721],\n",
       "    [103.77232, 1.34],\n",
       "    [103.772610516667, 1.3837123],\n",
       "    [103.772724666667, 1.3753255],\n",
       "    [103.772989983333, 1.38401031666667],\n",
       "    [103.77311, 1.33812],\n",
       "    [103.77372, 1.39702],\n",
       "    [103.77378, 1.44586],\n",
       "    [103.77381, 1.38039],\n",
       "    [103.774033983333, 1.38795221666667],\n",
       "    [103.774534333333, 1.4435275],\n",
       "    [103.77488, 1.39215],\n",
       "    [103.774979433333, 1.43952038333333],\n",
       "    [103.77517, 1.37],\n",
       "    [103.77538, 1.37],\n",
       "    [103.775616083333, 1.42784943333333],\n",
       "    [103.775865666667, 1.37622166666667],\n",
       "    [103.77599, 1.44],\n",
       "    [103.775994683333, 1.3757487],\n",
       "    [103.77754, 1.44356],\n",
       "    [103.77797, 1.44],\n",
       "    [103.77842, 1.42759],\n",
       "    [103.77895, 1.4312],\n",
       "    [103.77932, 1.44],\n",
       "    [103.77935, 1.28911],\n",
       "    [103.77937, 1.34],\n",
       "    [103.77938, 1.43],\n",
       "    [103.779643833333, 1.4396655],\n",
       "    [103.77987, 1.43372],\n",
       "    [103.780347, 1.34212],\n",
       "    [103.78079, 1.43],\n",
       "    [103.78109, 1.43],\n",
       "    [103.78133, 1.44],\n",
       "    [103.78161, 1.44],\n",
       "    [103.78213, 1.34],\n",
       "    [103.783631233333, 1.30465671666667],\n",
       "    [103.78478, 1.43],\n",
       "    [103.7852, 1.43575],\n",
       "    [103.78545, 1.29],\n",
       "    [103.78626, 1.43],\n",
       "    [103.78627, 1.44147],\n",
       "    [103.78688, 1.35],\n",
       "    [103.78706, 1.29574],\n",
       "    [103.787116166667, 1.43612866666667],\n",
       "    [103.78738, 1.44],\n",
       "    [103.78776725, 1.43457811666667],\n",
       "    [103.78879, 1.31],\n",
       "    [103.78882, 1.33385],\n",
       "    [103.788861166667, 1.30943033333333],\n",
       "    [103.78913, 1.44],\n",
       "    [103.789236333333, 1.43018966666667],\n",
       "    [103.7896, 1.44],\n",
       "    [103.78994, 1.41273],\n",
       "    [103.790075033333, 1.43089508333333],\n",
       "    [103.79023, 1.43585],\n",
       "    [103.790307033333, 1.43868745],\n",
       "    [103.79057, 1.44],\n",
       "    [103.79099, 1.44],\n",
       "    [103.79180275, 1.31201336666667],\n",
       "    [103.792121333333, 1.30834133333333],\n",
       "    [103.79216, 1.30825],\n",
       "    [103.79217, 1.43],\n",
       "    [103.792196666667, 1.4440095],\n",
       "    [103.7922, 1.44],\n",
       "    [103.79234, 1.44],\n",
       "    [103.79236, 1.44],\n",
       "    [103.79268, 1.44],\n",
       "    [103.7928, 1.44],\n",
       "    [103.79299, 1.43],\n",
       "    [103.79307, 1.34968],\n",
       "    [103.793070816667, 1.4456979],\n",
       "    [103.79314, 1.42925],\n",
       "    [103.79339, 1.30762],\n",
       "    [103.794042983333, 1.30512858333333],\n",
       "    [103.79456, 1.43],\n",
       "    [103.79475, 1.27533],\n",
       "    [103.79483, 1.44813],\n",
       "    [103.79484, 1.31225],\n",
       "    [103.79485, 1.44],\n",
       "    [103.7949, 1.43],\n",
       "    [103.79504, 1.31],\n",
       "    [103.79571, 1.31017],\n",
       "    [103.796112666667, 1.33314993333333],\n",
       "    [103.79648, 1.43],\n",
       "    [103.796886833333, 1.44570766666667],\n",
       "    [103.79694, 1.43],\n",
       "    [103.79784, 1.44],\n",
       "    [103.7982, 1.45],\n",
       "    [103.79825, 1.29875],\n",
       "    [103.79863, 1.43],\n",
       "    [103.7989475, 1.306839],\n",
       "    [103.79966, 1.28505],\n",
       "    [103.7997035, 1.30660856666667],\n",
       "    [103.79977, 1.34],\n",
       "    [103.799811833333, 1.43816916666667],\n",
       "    [103.79982, 1.44],\n",
       "    [103.79997, 1.44007],\n",
       "    [103.80044, 1.31168],\n",
       "    [103.800888333333, 1.3064875],\n",
       "    [103.800988, 1.292894],\n",
       "    [103.80129, 1.44104],\n",
       "    [103.80135, 1.44105],\n",
       "    [103.80179, 1.43],\n",
       "    [103.80187, 1.29914],\n",
       "    [103.80238, 1.30721],\n",
       "    [103.8025039, 1.44542475],\n",
       "    [103.80297, 1.43922],\n",
       "    [103.80316, 1.44],\n",
       "    [103.803349666667, 1.43949466666667],\n",
       "    [103.80337, 1.45],\n",
       "    [103.80338, 1.44],\n",
       "    [103.80341, 1.29126],\n",
       "    [103.803885, 1.28161616666667],\n",
       "    [103.80458, 1.46],\n",
       "    [103.80475, 1.29695],\n",
       "    [103.80532, 1.3],\n",
       "    [103.80538, 1.44],\n",
       "    [103.8056, 1.29],\n",
       "    [103.8059155, 1.44097233333333],\n",
       "    [103.80673, 1.29032],\n",
       "    [103.806831, 1.29391833333333],\n",
       "    [103.80689, 1.43625],\n",
       "    [103.807359333333, 1.29057805],\n",
       "    [103.8074415, 1.28708716666667],\n",
       "    [103.807716716667, 1.43709936666667],\n",
       "    [103.80782, 1.32],\n",
       "    [103.80895, 1.32313],\n",
       "    [103.809117666667, 1.27213716666667],\n",
       "    [103.80921, 1.28366],\n",
       "    [103.80935, 1.27349],\n",
       "    [103.809946516667, 1.28689295],\n",
       "    [103.810813, 1.27614166666667],\n",
       "    [103.810956283333, 1.29466161666667],\n",
       "    [103.81128, 1.29],\n",
       "    [103.81147, 1.27],\n",
       "    [103.81191, 1.30581],\n",
       "    [103.812, 1.27549],\n",
       "    [103.81254, 1.28221],\n",
       "    [103.81304, 1.31359],\n",
       "    [103.81343, 1.29],\n",
       "    [103.81345, 1.33405],\n",
       "    [103.81387, 1.45],\n",
       "    [103.81388, 1.29314],\n",
       "    [103.81393, 1.46],\n",
       "    [103.813980033333, 1.45249686666667],\n",
       "    [103.81416, 1.3286],\n",
       "    [103.8142, 1.28507],\n",
       "    [103.81428, 1.45],\n",
       "    [103.814531166667, 1.45571333333333],\n",
       "    [103.814779833333, 1.451243],\n",
       "    [103.81548, 1.45],\n",
       "    [103.815559, 1.45280866666667],\n",
       "    [103.81578, 1.44479],\n",
       "    [103.81595025, 1.28970715],\n",
       "    [103.816, 1.28386],\n",
       "    [103.81626, 1.29477],\n",
       "    [103.81634, 1.449],\n",
       "    [103.81656, 1.45],\n",
       "    [103.8166945, 1.28230033333333],\n",
       "    [103.816710333333, 1.45284783333333],\n",
       "    [103.81742, 1.45073],\n",
       "    [103.81743, 1.32629],\n",
       "    [103.8181, 1.27842],\n",
       "    [103.818175166667, 1.26728083333333],\n",
       "    [103.81837, 1.28647],\n",
       "    [103.81838, 1.28],\n",
       "    [103.818479066667, 1.28287715],\n",
       "    [103.81857, 1.28],\n",
       "    [103.81857, 1.28],\n",
       "    [103.8186, 1.28],\n",
       "    [103.81863, 1.3956],\n",
       "    [103.81867, 1.29],\n",
       "    [103.81873, 1.44906],\n",
       "    [103.81882, 1.3168],\n",
       "    [103.81897, 1.39768],\n",
       "    [103.81924, 1.28],\n",
       "    [103.81936, 1.46112],\n",
       "    [103.81969, 1.26462],\n",
       "    [103.81984, 1.28359],\n",
       "    [103.81989, 1.29355],\n",
       "    [103.82036955, 1.27888756666667],\n",
       "    [103.82038, 1.28323],\n",
       "    [103.82048, 1.29],\n",
       "    [103.8207, 1.44],\n",
       "    [103.8207744, 1.28321963333333],\n",
       "    [103.82079, 1.28439],\n",
       "    [103.821011, 1.277666],\n",
       "    [103.82108, 1.28],\n",
       "    [103.8213, 1.28607],\n",
       "    [103.82185, 1.29327],\n",
       "    [103.822460316667, 1.26493435],\n",
       "    [103.82248, 1.45852],\n",
       "    [103.82259, 1.45],\n",
       "    [103.82284, 1.29095],\n",
       "    [103.82298, 1.41],\n",
       "    [103.823218166667, 1.4458815],\n",
       "    [103.82328, 1.25253],\n",
       "    [103.823319533333, 1.45234713333333],\n",
       "    [103.8238, 1.26166],\n",
       "    [103.8239, 1.27803],\n",
       "    [103.82394, 1.31],\n",
       "    [103.82432, 1.44163],\n",
       "    [103.824617833333, 1.27267566666667],\n",
       "    [103.824816583333, 1.3286432],\n",
       "    [103.82489, 1.254715],\n",
       "    [103.825, 1.30557],\n",
       "    [103.82523, 1.32117],\n",
       "    [103.82536, 1.26879],\n",
       "    [103.82541, 1.28],\n",
       "    [103.82547, 1.25438],\n",
       "    [103.82555425, 1.25456038333333],\n",
       "    [103.825621, 1.266094],\n",
       "    [103.82585, 1.28201],\n",
       "    [103.82602, 1.26763],\n",
       "    [103.82603, 1.27485],\n",
       "    [103.82616, 1.26729],\n",
       "    [103.82625, 1.2908],\n",
       "    [103.8263485, 1.28165116666667],\n",
       "    [103.82666, 1.30517],\n",
       "    [103.826933866667, 1.28863688333333],\n",
       "    [103.82709, 1.29],\n",
       "    [103.827318166667, 1.274113],\n",
       "    [103.827320266667, 1.24862721666667],\n",
       "    [103.82746, 1.31052],\n",
       "    [103.82749, 1.43],\n",
       "    [103.82762, 1.24815],\n",
       "    [103.82776, 1.28],\n",
       "    [103.827875, 1.435277],\n",
       "    [103.82800095, 1.4309692],\n",
       "    [103.82863, 1.43],\n",
       "    [103.8287106, 1.4289365],\n",
       "    [103.828783, 1.371475],\n",
       "    [103.82883, 1.30437],\n",
       "    [103.828905466667, 1.42607353333333],\n",
       "    [103.82892, 1.43],\n",
       "    [103.829224333333, 1.4267],\n",
       "    [103.8294565, 1.43035533333333],\n",
       "    [103.8301, 1.43],\n",
       "    [103.83051, 1.29985],\n",
       "    [103.83085, 1.4295],\n",
       "    [103.83095, 1.34],\n",
       "    [103.83142, 1.43],\n",
       "    [103.831546833333, 1.42294133333333],\n",
       "    [103.83182, 1.43],\n",
       "    [103.83212, 1.42185],\n",
       "    [103.833023833333, 1.272306],\n",
       "    [103.83324, 1.2896],\n",
       "    [103.83331, 1.43],\n",
       "    [103.83342, 1.43],\n",
       "    [103.83344, 1.30888],\n",
       "    [103.83346, 1.28737],\n",
       "    [103.83355, 1.36],\n",
       "    [103.833604616667, 1.42455491666667],\n",
       "    [103.833787333333, 1.30364633333333],\n",
       "    [103.8338, 1.303849],\n",
       "    [103.83383, 1.3],\n",
       "    [103.834122916667, 1.30451275],\n",
       "    [103.83454, 1.42012],\n",
       "    [103.83468, 1.41207],\n",
       "    [103.83487, 1.28676],\n",
       "    [103.835039083333, 1.39391868333333],\n",
       "    [103.83506, 1.29739],\n",
       "    [103.83507, 1.37],\n",
       "    [103.83518, 1.42891],\n",
       "    [103.8352, 1.3521],\n",
       "    [103.83565, 1.38049],\n",
       "    [103.83573, 1.36],\n",
       "    [103.83581, 1.33994],\n",
       "    [103.83588, 1.44369],\n",
       "    [103.83592, 1.43],\n",
       "    [103.83603, 1.30273],\n",
       "    [103.83603, 1.38],\n",
       "    [103.83608, 1.28],\n",
       "    [103.83613, 1.42],\n",
       "    [103.83646, 1.27745],\n",
       "    [103.83646, 1.27996],\n",
       "    [103.8365815, 1.3709445],\n",
       "    [103.8365895, 1.41619133333333],\n",
       "    [103.8365905, 1.3713345],\n",
       "    [103.8366435, 1.41419666666667],\n",
       "    [103.83677, 1.3054],\n",
       "    [103.836775166667, 1.421538],\n",
       "    [103.83684, 1.42902],\n",
       "    [103.83688, 1.43],\n",
       "    [103.83693, 1.37247],\n",
       "    [103.83695, 1.42891],\n",
       "    [103.83727, 1.42],\n",
       "    [103.83731, 1.37368],\n",
       "    [103.83732, 1.415779],\n",
       "    [103.83743, 1.44],\n",
       "    [103.83751, 1.30759],\n",
       "    [103.83762, 1.28722],\n",
       "    [103.83766, 1.34865],\n",
       "    [103.837845966667, 1.28657683333333],\n",
       "    [103.837877783333, 1.43612103333333],\n",
       "    [103.83797, 1.2855],\n",
       "    [103.838066, 1.440583],\n",
       "    [103.83807, 1.31],\n",
       "    [103.83837, 1.30814],\n",
       "    [103.83839, 1.28783],\n",
       "    [103.83841, 1.37],\n",
       "    [103.838491666667, 1.3682275],\n",
       "    [103.838566133333, 1.42385218333333],\n",
       "    [103.83858, 1.37481],\n",
       "    [103.838788766667, 1.43692015],\n",
       "    [103.838850733333, 1.42356296666667],\n",
       "    [103.83887, 1.44],\n",
       "    [103.83894, 1.41813],\n",
       "    [103.8390799, 1.4191167],\n",
       "    [103.8391995, 1.28646466666667],\n",
       "    [103.83927, 1.36295],\n",
       "    [103.83928, 1.34],\n",
       "    [103.83942, 1.27964],\n",
       "    [103.83948, 1.44],\n",
       "    [103.8395, 1.39587],\n",
       "    [103.83951, 1.35023],\n",
       "    [103.839552366667, 1.37508983333333],\n",
       "    [103.83957, 1.31],\n",
       "    [103.83970255, 1.24804525],\n",
       "    [103.84004, 1.43],\n",
       "    [103.840144, 1.28716983333333],\n",
       "    [103.84036, 1.2876925],\n",
       "    [103.84039, 1.43],\n",
       "    [103.84045, 1.30014],\n",
       "    [103.84047, 1.36091],\n",
       "    [103.84057, 1.36108],\n",
       "    [103.8405791, 1.2880816],\n",
       "    [103.840675733333, 1.38063738333333],\n",
       "    [103.84073, 1.42],\n",
       "    [103.840765833333, 1.38006816666667],\n",
       "    [103.840944583333, 1.41490296666667],\n",
       "    [103.840962483333, 1.36809008333333],\n",
       "    [103.8411, 1.27267],\n",
       "    [103.84138, 1.41743],\n",
       "    [103.841733083333, 1.36543723333333],\n",
       "    [103.84192, 1.36125],\n",
       "    [103.8421, 1.28109],\n",
       "    [103.84222, 1.30121],\n",
       "    [103.84232, 1.35671],\n",
       "    [103.842337866667, 1.28606321666667],\n",
       "    [103.842344666667, 1.42110416666667],\n",
       "    [103.84256, 1.43],\n",
       "    [103.84265, 1.34],\n",
       "    [103.84275, 1.3],\n",
       "    [103.8428, 1.24625],\n",
       "    [103.84326, 1.38],\n",
       "    [103.84334, 1.28529],\n",
       "    [103.843345183333, 1.28544185],\n",
       "    [103.84336, 1.28932],\n",
       "    [103.84347, 1.2852],\n",
       "    [103.84359, 1.28],\n",
       "    [103.84368, 1.42],\n",
       "    [103.843691616667, 1.33717046666667],\n",
       "    [103.84388, 1.35916],\n",
       "    [103.84393, 1.28488],\n",
       "    [103.8442837, 1.3297952],\n",
       "    [103.844368716667, 1.37196821666667],\n",
       "    [103.84439, 1.41964],\n",
       "    [103.84441, 1.41761],\n",
       "    [103.84442, 1.35765],\n",
       "    [103.8445, 1.27865],\n",
       "    [103.8445, 1.37],\n",
       "    [103.844583333333, 1.33034],\n",
       "    [103.84459785, 1.35831388333333],\n",
       "    [103.84465, 1.31038],\n",
       "    [103.844748, 1.3681135],\n",
       "    [103.844881983333, 1.28671855],\n",
       "    [103.84508, 1.27853],\n",
       "    [103.84518485, 1.36892566666667],\n",
       "    [103.8453, 1.28351],\n",
       "    [103.8453, 1.43786],\n",
       "    [103.84531045, 1.31522368333333],\n",
       "    [103.84532, 1.35743],\n",
       "    [103.845320316667, 1.42317588333333],\n",
       "    [103.845328, 1.42644266666667],\n",
       "    [103.845670666667, 1.3657285],\n",
       "    [103.845675483333, 1.2839491],\n",
       "    [103.84568, 1.42],\n",
       "    [103.84575, 1.3273],\n",
       "    [103.84609, 1.30975],\n",
       "    [103.84609, 1.32768],\n",
       "    [103.84611, 1.32],\n",
       "    [103.84638, 1.34491],\n",
       "    [103.846459333333, 1.33600683333333],\n",
       "    [103.8464655, 1.28719476666667],\n",
       "    [103.84649, 1.43205],\n",
       "    [103.84658, 1.37518],\n",
       "    [103.84662, 1.3091],\n",
       "    [103.84668, 1.32],\n",
       "    [103.84674, 1.37522],\n",
       "    [103.846774833333, 1.2754395],\n",
       "    [103.84678, 1.32295],\n",
       "    [103.8470081, 1.42606098333333],\n",
       "    [103.84725, 1.2988],\n",
       "    [103.84733, 1.33135],\n",
       "    [103.84751, 1.37],\n",
       "    [103.847556333333, 1.32179933333333],\n",
       "    [103.84772, 1.28258],\n",
       "    [103.84775, 1.37],\n",
       "    [103.8478495, 1.3580845],\n",
       "    [103.847928483333, 1.34109731666667],\n",
       "    [103.84794, 1.28],\n",
       "    [103.84794, 1.3],\n",
       "    [103.847976483333, 1.41996358333333],\n",
       "    [103.84799, 1.35159],\n",
       "    [103.84804, 1.35],\n",
       "    [103.84804, 1.35174],\n",
       "    [103.84817, 1.35221],\n",
       "    [103.8482715, 1.38419116666667],\n",
       "    [103.84828, 1.35258],\n",
       "    [103.848305433333, 1.38493436666667],\n",
       "    [103.848329666667, 1.38390633333333],\n",
       "    [103.8483931, 1.38500763333333],\n",
       "    [103.8484, 1.3846],\n",
       "    [103.8484331, 1.38481628333333],\n",
       "    [103.8485, 1.28309],\n",
       "    [103.848528783333, 1.38515485],\n",
       "    [103.84858, 1.34],\n",
       "    [103.8486435, 1.38397216666667],\n",
       "    [103.84868, 1.33378],\n",
       "    [103.848686, 1.38513566666667],\n",
       "    [103.84882, 1.37655],\n",
       "    [103.848919333333, 1.3842575],\n",
       "    [103.849027216667, 1.38428916666667],\n",
       "    [103.84903, 1.34],\n",
       "    [103.849085833333, 1.38415666666667],\n",
       "    [103.8490915, 1.38422183333333],\n",
       "    [103.84910765, 1.34888611666667],\n",
       "    [103.84918435, 1.35505526666667],\n",
       "    [103.849214, 1.38469516666667],\n",
       "    [103.84922, 1.35091],\n",
       "    [103.8493056, 1.38508215],\n",
       "    [103.849308, 1.384562],\n",
       "    [103.849372833333, 1.34700366666667],\n",
       "    [103.849398866667, 1.33796878333333],\n",
       "    [103.84942, 1.39],\n",
       "    [103.84946, 1.28],\n",
       "    [103.84951, 1.39633],\n",
       "    [103.849554666667, 1.383998],\n",
       "    [103.84958, 1.36932],\n",
       "    [103.84969, 1.37],\n",
       "    [103.849709916667, 1.30197523333333],\n",
       "    [103.849776666667, 1.32565],\n",
       "    [103.8498005, 1.37517633333333],\n",
       "    [103.85001, 1.42697],\n",
       "    [103.850268933333, 1.31515495],\n",
       "    [103.8503, 1.28287],\n",
       "    [103.850300333333, 1.31524253333333],\n",
       "    [103.85038, 1.29444],\n",
       "    [103.85074, 1.38],\n",
       "    [103.85088, 1.29432],\n",
       "    [103.85088, 1.2948],\n",
       "    [103.85101, 1.33456],\n",
       "    [103.85118, 1.29853],\n",
       "    [103.85118, 1.33557],\n",
       "    [103.85135, 1.33393],\n",
       "    [103.851388, 1.292601],\n",
       "    [103.85145, 1.28273],\n",
       "    [103.85158, 1.31932],\n",
       "    [103.85164, 1.29578],\n",
       "    [103.8517365, 1.360899],\n",
       "    [103.85175, 1.37],\n",
       "    [103.8520124, 1.31182271666667],\n",
       "    [103.852018183333, 1.335501],\n",
       "    [103.85204, 1.36192],\n",
       "    [103.85205, 1.35967],\n",
       "    [103.8522149, 1.31468],\n",
       "    [103.852265333333, 1.3309825],\n",
       "    [103.85237, 1.3001],\n",
       "    [103.852617833333, 1.29346698333333],\n",
       "    [103.852662, 1.30096],\n",
       "    [103.85285, 1.3],\n",
       "    [103.8530118, 1.39212216666667],\n",
       "    [103.85323, 1.37],\n",
       "    [103.85327, 1.30091],\n",
       "    [103.85329, 1.29932],\n",
       "    [103.85334, 1.28573],\n",
       "    [103.853472, 1.29290733333333],\n",
       "    [103.85353, 1.31],\n",
       "    [103.85357195, 1.3135071],\n",
       "    [103.85365, 1.29588],\n",
       "    [103.85367, 1.31947],\n",
       "    [103.85369, 1.31],\n",
       "    [103.85374, 1.29247],\n",
       "    [103.85381, 1.37365],\n",
       "    [103.853866266667, 1.34445368333333],\n",
       "    [103.853945, 1.303166],\n",
       "    [103.85406, 1.36],\n",
       "    [103.85408, 1.36],\n",
       "    [103.854127616667, 1.3585178],\n",
       "    [103.85425, 1.27272],\n",
       "    [103.854259333333, 1.36778966666667],\n",
       "    [103.85428345, 1.344636],\n",
       "    [103.85439, 1.3188],\n",
       "    [103.854429, 1.363921],\n",
       "    [103.85445, 1.37348],\n",
       "    [103.85458, 1.36293],\n",
       "    [103.85468, 1.30442],\n",
       "    [103.854685066667, 1.30260231666667],\n",
       "    [103.854691133333, 1.30676965],\n",
       "    [103.8548, 1.34],\n",
       "    [103.8550067, 1.30662721666667],\n",
       "    [103.85516, 1.34467],\n",
       "    [103.85517, 1.2976],\n",
       "    [103.85524, 1.32365],\n",
       "    [103.85544, 1.35],\n",
       "    [103.8556318, 1.3661241],\n",
       "    [103.855666833333, 1.32630783333333],\n",
       "    [103.85572, 1.37],\n",
       "    [103.855753666667, 1.37083316666667],\n",
       "    [103.85583, 1.34],\n",
       "    [103.8559656, 1.36773391666667],\n",
       "    [103.856068766667, 1.32260265],\n",
       "    [103.8561, 1.36611],\n",
       "    [103.856150333333, 1.34745316666667],\n",
       "    [103.856210166667, 1.3224975],\n",
       "    [103.85629, 1.37],\n",
       "    [103.85636, 1.32],\n",
       "    [103.85658, 1.34],\n",
       "    [103.85663, 1.34],\n",
       "    [103.85672, 1.3],\n",
       "    [103.856777, 1.371363],\n",
       "    [103.85678, 1.34],\n",
       "    [103.8569, 1.362244],\n",
       "    [103.85711, 1.3],\n",
       "    [103.857129533333, 1.27897808333333],\n",
       "    [103.85717, 1.30905],\n",
       "    [103.85736, 1.29229],\n",
       "    [103.85743, 1.30156],\n",
       "    [103.8575, 1.27925],\n",
       "    [103.85754, 1.30962],\n",
       "    [103.85755, 1.30686],\n",
       "    [103.85767, 1.33],\n",
       "    [103.857708, 1.36645033333333],\n",
       "    [103.857806833333, 1.3691135],\n",
       "    [103.85801, 1.32596],\n",
       "    [103.85834, 1.34],\n",
       "    [103.85866, 1.34],\n",
       "    [103.85869, 1.37],\n",
       "    [103.85884, 1.28968],\n",
       "    [103.85889, 1.37],\n",
       "    [103.85898, 1.39079],\n",
       "    [103.859133833333, 1.30814],\n",
       "    [103.8592, 1.29325],\n",
       "    [103.85942, 1.37],\n",
       "    [103.85974, 1.32725],\n",
       "    [103.85978, 1.27065],\n",
       "    [103.85991545, 1.26708636666667],\n",
       "    [103.859934333333, 1.30793783333333],\n",
       "    [103.86028, 1.2833],\n",
       "    [103.86043, 1.30446],\n",
       "    [103.86047, 1.284],\n",
       "    [103.86049, 1.28149],\n",
       "    [103.86063, 1.29478],\n",
       "    [103.8608341, 1.31982365],\n",
       "    [103.86113865, 1.30334598333333],\n",
       "    [103.8612, 1.28476],\n",
       "    [103.861234283333, 1.30081445],\n",
       "    [103.86138, 1.28463],\n",
       "    [103.86138, 1.41588],\n",
       "    [103.861392, 1.289473],\n",
       "    [103.86147, 1.32],\n",
       "    [103.86149, 1.29652],\n",
       "    [103.86176, 1.27075],\n",
       "    [103.861823, 1.30543516666667],\n",
       "    [103.86204, 1.30213],\n",
       "    [103.86216, 1.29982],\n",
       "    [103.86216, 1.3392],\n",
       "    [103.862746, 1.292359],\n",
       "    [103.86297, 1.33],\n",
       "    [103.8631, 1.34],\n",
       "    [103.86349, 1.3],\n",
       "    [103.8636912, 1.33665108333333],\n",
       "    [103.86381, 1.29012],\n",
       "    [103.86542, 1.35452],\n",
       "    [103.86605, 1.28074],\n",
       "    [103.866251266667, 1.32775896666667],\n",
       "    [103.86682, 1.30316],\n",
       "    [103.867107616667, 1.33311256666667],\n",
       "    [103.867179, 1.303168],\n",
       "    [103.86721, 1.30692],\n",
       "    [103.867220583333, 1.33398108333333],\n",
       "    [103.86727, 1.35],\n",
       "    [103.86744, 1.35],\n",
       "    [103.867709716667, 1.3878665],\n",
       "    [103.868200466667, 1.34975056666667],\n",
       "    [103.86847, 1.34286],\n",
       "    [103.86882, 1.32782],\n",
       "    [103.8693055, 1.31960733333333],\n",
       "    [103.86937, 1.37167],\n",
       "    [103.86968, 1.3209],\n",
       "    [103.869683, 1.378452],\n",
       "    [103.86974, 1.36],\n",
       "    [103.86987, 1.37],\n",
       "    [103.869886333333, 1.35436066666667],\n",
       "    [103.87004, 1.37856],\n",
       "    [103.87008, 1.37746],\n",
       "    [103.87016, 1.35474],\n",
       "    [103.87022, 1.33254],\n",
       "    [103.87062, 1.32162],\n",
       "    [103.87065, 1.37],\n",
       "    [103.87067, 1.36],\n",
       "    [103.870740166667, 1.372386],\n",
       "    [103.87082, 1.35104],\n",
       "    [103.87087, 1.34349],\n",
       "    [103.871, 1.35707],\n",
       "    [103.871049516667, 1.37011731666667],\n",
       "    [103.87106, 1.31],\n",
       "    [103.87116, 1.32575],\n",
       "    [103.87179, 1.37],\n",
       "    [103.8721, 1.32],\n",
       "    [103.87222, 1.34846],\n",
       "    [103.872601633333, 1.36861176666667],\n",
       "    [103.872666, 1.36754],\n",
       "    [103.8728165, 1.368826],\n",
       "    [103.872824283333, 1.32877496666667],\n",
       "    [103.87289, 1.31],\n",
       "    [103.872959833333, 1.31334966666667],\n",
       "    [103.872990066667, 1.35082855],\n",
       "    [103.87302, 1.35081],\n",
       "    [103.87307, 1.39849],\n",
       "    [103.873173333333, 1.3673435],\n",
       "    [103.873259683333, 1.31352205],\n",
       "    [103.87351, 1.39],\n",
       "    [103.873694833333, 1.35704801666667],\n",
       "    [103.87374, 1.35],\n",
       "    [103.873794333333, 1.39433616666667],\n",
       "    [103.87429, 1.38574],\n",
       "    [103.87441, 1.37],\n",
       "    [103.8745435, 1.374169],\n",
       "    [103.87474, 1.33],\n",
       "    [103.87477, 1.3489],\n",
       "    [103.87491, 1.37218],\n",
       "    [103.8753, 1.4],\n",
       "    [103.87565, 1.36982],\n",
       "    [103.87574, 1.39162],\n",
       "    [103.87639, 1.39105],\n",
       "    [103.87665, 1.32],\n",
       "    [103.87706, 1.37526],\n",
       "    [103.87724, 1.3528],\n",
       "    [103.87725, 1.43103],\n",
       "    [103.877277066667, 1.36979146666667],\n",
       "    [103.877956666667, 1.35632635],\n",
       "    [103.87824, 1.4],\n",
       "    [103.878611166667, 1.3779595],\n",
       "    [103.87863, 1.35167],\n",
       "    [103.878993466667, 1.37449758333333],\n",
       "    [103.87901085, 1.31763911666667],\n",
       "    [103.879187233333, 1.3714924],\n",
       "    [103.879833816667, 1.37655108333333],\n",
       "    [103.879954333333, 1.37153766666667],\n",
       "    [103.87997, 1.37458],\n",
       "    [103.87998, 1.33669],\n",
       "    [103.8804973, 1.31520338333333],\n",
       "    [103.88057, 1.38],\n",
       "    [103.880611866667, 1.33666293333333],\n",
       "    [103.88078, 1.3948],\n",
       "    [103.88093, 1.38069866666667],\n",
       "    [103.88107, 1.38],\n",
       "    [103.88108, 1.39629],\n",
       "    [103.88126, 1.31297],\n",
       "    [103.88132, 1.37508],\n",
       "    [103.88135, 1.37],\n",
       "    [103.881358333333, 1.31243833333333],\n",
       "    [103.881591166667, 1.38062916666667],\n",
       "    [103.88167, 1.37],\n",
       "    [103.88186, 1.31832],\n",
       "    [103.88189, 1.31308],\n",
       "    [103.882128833333, 1.3693655],\n",
       "    [103.88273, 1.31052],\n",
       "    [103.8828, 1.37],\n",
       "    [103.882896133333, 1.34272403333333],\n",
       "    [103.883005616667, 1.30868461666667],\n",
       "    [103.88307, 1.31969],\n",
       "    [103.88383, 1.32],\n",
       "    [103.88392, 1.31],\n",
       "    [103.88394, 1.37105],\n",
       "    [103.88428, 1.38],\n",
       "    [103.8843218, 1.30085453333333],\n",
       "    [103.88452, 1.31102],\n",
       "    [103.884760083333, 1.3133304],\n",
       "    [103.884764, 1.313438],\n",
       "    [103.885052566667, 1.34020153333333],\n",
       "    [103.88533, 1.34074],\n",
       "    [103.886236233333, 1.35323231666667],\n",
       "    [103.886368916667, 1.3264453],\n",
       "    [103.88638, 1.38945],\n",
       "    [103.88653, 1.35206],\n",
       "    [103.886546333333, 1.33303033333333],\n",
       "    [103.88657, 1.36],\n",
       "    [103.88678, 1.39257],\n",
       "    [103.886988, 1.311918],\n",
       "    [103.887108583333, 1.35318836666667],\n",
       "    [103.88735, 1.35237],\n",
       "    [103.8876961, 1.31600851666667],\n",
       "    [103.88827, 1.38],\n",
       "    [103.88831, 1.37725],\n",
       "    [103.888866833333, 1.350786],\n",
       "    [103.88893, 1.3717],\n",
       "    [103.88898, 1.37541],\n",
       "    [103.88904, 1.32596],\n",
       "    [103.88914, 1.37],\n",
       "    [103.88929, 1.37214],\n",
       "    [103.889486, 1.379916],\n",
       "    [103.889928666667, 1.36531483333333],\n",
       "    [103.890123133333, 1.35247926666667],\n",
       "    [103.8902, 1.38697],\n",
       "    [103.89041, 1.36],\n",
       "    [103.89042, 1.39522],\n",
       "    [103.89062, 1.38682],\n",
       "    [103.890712333333, 1.3907116],\n",
       "    [103.89134, 1.3543],\n",
       "    [103.89139, 1.38975],\n",
       "    [103.891588216667, 1.32050125],\n",
       "    [103.89166, 1.32027],\n",
       "    [103.89174, 1.36125],\n",
       "    [103.89175, 1.31508],\n",
       "    [103.89189, 1.39],\n",
       "    [103.892216666667, 1.35998516666667],\n",
       "    [103.892499516667, 1.38738],\n",
       "    [103.8925, 1.36],\n",
       "    [103.89268, 1.3672],\n",
       "    [103.89303, 1.31879],\n",
       "    [103.893236333333, 1.373737],\n",
       "    [103.89325, 1.36],\n",
       "    [103.89327, 1.38],\n",
       "    [103.89331, 1.37262],\n",
       "    [103.89377, 1.39343],\n",
       "    [103.8938, 1.4],\n",
       "    [103.89403, 1.31864],\n",
       "    [103.89411, 1.31436],\n",
       "    [103.894404133333, 1.31734075],\n",
       "    [103.89472, 1.39057],\n",
       "    [103.895141533333, 1.3387418],\n",
       "    [103.89517905, 1.35985193333333],\n",
       "    [103.895506166667, 1.39260028333333],\n",
       "    [103.89583085, 1.37677516666667],\n",
       "    [103.8961, 1.36189],\n",
       "    [103.89613, 1.39],\n",
       "    [103.89622, 1.3961],\n",
       "    [103.89627, 1.36417],\n",
       "    [103.896670666667, 1.31402466666667],\n",
       "    [103.89709, 1.3],\n",
       "    [103.89712, 1.37],\n",
       "    [103.89721, 1.4],\n",
       "    [103.897643483333, 1.31168233333333],\n",
       "    [103.89785, 1.38],\n",
       "    [103.89791, 1.40648],\n",
       "    [103.89793, 1.39],\n",
       "    [103.89859, 1.33217],\n",
       "    [103.8987782, 1.4060014],\n",
       "    [103.898931616667, 1.34219695],\n",
       "    [103.899027, 1.37010883333333],\n",
       "    [103.89942, 1.37],\n",
       "    [103.89943, 1.41395],\n",
       "    [103.89954, 1.38072],\n",
       "    [103.89983, 1.37612],\n",
       "    [103.89985, 1.40324],\n",
       "    [103.90002, 1.32163],\n",
       "    [103.900311516667, 1.40653878333333],\n",
       "    [103.90048, 1.38],\n",
       "    [103.90051, 1.39554],\n",
       "    [103.90052, 1.31],\n",
       "    [103.90066, 1.39056],\n",
       "    [103.9010475, 1.38005483333333],\n",
       "    [103.90108, 1.37329],\n",
       "    [103.901105333333, 1.40025083333333],\n",
       "    [103.90124, 1.39201],\n",
       "    [103.9016, 1.40327],\n",
       "    [103.90182, 1.4],\n",
       "    [103.90185, 1.40213],\n",
       "    [103.901915, 1.38346283333333],\n",
       "    [103.901997566667, 1.3309513],\n",
       "    [103.90219, 1.33],\n",
       "    [103.902214833333, 1.35671233333333],\n",
       "    [103.90222, 1.33417],\n",
       "    [103.90222, 1.39517],\n",
       "    [103.902222333333, 1.38550426666667],\n",
       "    [103.90227, 1.33601],\n",
       "    [103.90272, 1.40491],\n",
       "    [103.90295, 1.38],\n",
       "    [103.90299485, 1.38757251666667],\n",
       "    [103.903210833333, 1.38764733333333],\n",
       "    [103.90347725, 1.38017871666667],\n",
       "    [103.90355, 1.38087],\n",
       "    [103.90356, 1.38235],\n",
       "    [103.903574166667, 1.39307783333333],\n",
       "    [103.903701166667, 1.38181866666667],\n",
       "    [103.903759966667, 1.40005053333333],\n",
       "    [103.90385, 1.39618],\n",
       "    [103.90386, 1.30913],\n",
       "    [103.90387, 1.3257],\n",
       "    [103.90408, 1.32765],\n",
       "    [103.90423, 1.38],\n",
       "    [103.904818166667, 1.299902],\n",
       "    [103.90493, 1.39185],\n",
       "    [103.90512555, 1.39500391666667],\n",
       "    [103.905274166667, 1.30384566666667],\n",
       "    [103.905320833333, 1.330791],\n",
       "    [103.9053915, 1.40261283333333],\n",
       "    [103.90543, 1.32648],\n",
       "    [103.905452566667, 1.3868322],\n",
       "    ...]},\n",
       "  'properties': {'timestamp': '2022-12-04T17:09:44+08:00',\n",
       "   'taxi_count': 1328,\n",
       "   'api_info': {'status': 'healthy'}}}]"
      ]
     },
     "execution_count": 21,
     "metadata": {},
     "output_type": "execute_result"
    }
   ],
   "source": [
    "data['features']"
   ]
  },
  {
   "cell_type": "code",
   "execution_count": 22,
   "metadata": {
    "id": "_VsUKA0j8ZNW"
   },
   "outputs": [],
   "source": [
    "coordinates = [{'long':taxi[0],'lat':taxi[1]} for taxi in data['features'][0]['geometry']['coordinates']]"
   ]
  },
  {
   "cell_type": "code",
   "execution_count": 23,
   "metadata": {
    "colab": {
     "base_uri": "https://localhost:8080/",
     "height": 424
    },
    "executionInfo": {
     "elapsed": 376,
     "status": "ok",
     "timestamp": 1669215688566,
     "user": {
      "displayName": "Ian Chong",
      "userId": "10615222189260864195"
     },
     "user_tz": -480
    },
    "id": "5qVrM3yO93uV",
    "outputId": "563a86c4-9f01-42ce-9765-27c6ecae077e"
   },
   "outputs": [
    {
     "data": {
      "text/html": [
       "<div>\n",
       "<style scoped>\n",
       "    .dataframe tbody tr th:only-of-type {\n",
       "        vertical-align: middle;\n",
       "    }\n",
       "\n",
       "    .dataframe tbody tr th {\n",
       "        vertical-align: top;\n",
       "    }\n",
       "\n",
       "    .dataframe thead th {\n",
       "        text-align: right;\n",
       "    }\n",
       "</style>\n",
       "<table border=\"1\" class=\"dataframe\">\n",
       "  <thead>\n",
       "    <tr style=\"text-align: right;\">\n",
       "      <th></th>\n",
       "      <th>long</th>\n",
       "      <th>lat</th>\n",
       "    </tr>\n",
       "  </thead>\n",
       "  <tbody>\n",
       "    <tr>\n",
       "      <th>0</th>\n",
       "      <td>103.628660</td>\n",
       "      <td>1.298580</td>\n",
       "    </tr>\n",
       "    <tr>\n",
       "      <th>1</th>\n",
       "      <td>103.634890</td>\n",
       "      <td>1.326350</td>\n",
       "    </tr>\n",
       "    <tr>\n",
       "      <th>2</th>\n",
       "      <td>103.635890</td>\n",
       "      <td>1.330090</td>\n",
       "    </tr>\n",
       "    <tr>\n",
       "      <th>3</th>\n",
       "      <td>103.646880</td>\n",
       "      <td>1.326600</td>\n",
       "    </tr>\n",
       "    <tr>\n",
       "      <th>4</th>\n",
       "      <td>103.654434</td>\n",
       "      <td>1.312206</td>\n",
       "    </tr>\n",
       "    <tr>\n",
       "      <th>...</th>\n",
       "      <td>...</td>\n",
       "      <td>...</td>\n",
       "    </tr>\n",
       "    <tr>\n",
       "      <th>1323</th>\n",
       "      <td>103.989660</td>\n",
       "      <td>1.360000</td>\n",
       "    </tr>\n",
       "    <tr>\n",
       "      <th>1324</th>\n",
       "      <td>103.989937</td>\n",
       "      <td>1.357573</td>\n",
       "    </tr>\n",
       "    <tr>\n",
       "      <th>1325</th>\n",
       "      <td>103.990110</td>\n",
       "      <td>1.358530</td>\n",
       "    </tr>\n",
       "    <tr>\n",
       "      <th>1326</th>\n",
       "      <td>103.990140</td>\n",
       "      <td>1.358320</td>\n",
       "    </tr>\n",
       "    <tr>\n",
       "      <th>1327</th>\n",
       "      <td>103.990388</td>\n",
       "      <td>1.389989</td>\n",
       "    </tr>\n",
       "  </tbody>\n",
       "</table>\n",
       "<p>1328 rows × 2 columns</p>\n",
       "</div>"
      ],
      "text/plain": [
       "            long       lat\n",
       "0     103.628660  1.298580\n",
       "1     103.634890  1.326350\n",
       "2     103.635890  1.330090\n",
       "3     103.646880  1.326600\n",
       "4     103.654434  1.312206\n",
       "...          ...       ...\n",
       "1323  103.989660  1.360000\n",
       "1324  103.989937  1.357573\n",
       "1325  103.990110  1.358530\n",
       "1326  103.990140  1.358320\n",
       "1327  103.990388  1.389989\n",
       "\n",
       "[1328 rows x 2 columns]"
      ]
     },
     "execution_count": 23,
     "metadata": {},
     "output_type": "execute_result"
    }
   ],
   "source": [
    "import pandas as pd\n",
    "dataframe = pd.DataFrame(coordinates)\n",
    "dataframe"
   ]
  },
  {
   "cell_type": "markdown",
   "metadata": {
    "id": "6IjM61FG_KRc"
   },
   "source": [
    "## 2.2.2 - Data Analysis\n",
    "\n",
    "This dataset is very basic, so analysis is easy. pandas is a powerful tool to do analysis and manipulation. It is a mammoth so we will not go into details here. Just know you can easily do statistical analysis."
   ]
  },
  {
   "cell_type": "code",
   "execution_count": 24,
   "metadata": {
    "colab": {
     "base_uri": "https://localhost:8080/"
    },
    "executionInfo": {
     "elapsed": 314,
     "status": "ok",
     "timestamp": 1669215688877,
     "user": {
      "displayName": "Ian Chong",
      "userId": "10615222189260864195"
     },
     "user_tz": -480
    },
    "id": "-KdP7YUK-mRV",
    "outputId": "8f8bf67e-5c71-4c74-e335-88a836e6c53d"
   },
   "outputs": [
    {
     "data": {
      "text/plain": [
       "long    103.857220\n",
       "lat       1.352577\n",
       "dtype: float64"
      ]
     },
     "execution_count": 24,
     "metadata": {},
     "output_type": "execute_result"
    }
   ],
   "source": [
    "dataframe.mean()"
   ]
  },
  {
   "cell_type": "code",
   "execution_count": 25,
   "metadata": {
    "colab": {
     "base_uri": "https://localhost:8080/"
    },
    "executionInfo": {
     "elapsed": 7,
     "status": "ok",
     "timestamp": 1669215688877,
     "user": {
      "displayName": "Ian Chong",
      "userId": "10615222189260864195"
     },
     "user_tz": -480
    },
    "id": "ZifLwrok_VmN",
    "outputId": "8fe6c690-2042-49db-a890-ed4132d26305"
   },
   "outputs": [
    {
     "data": {
      "text/plain": [
       "long    103.990388\n",
       "lat       1.461120\n",
       "dtype: float64"
      ]
     },
     "execution_count": 25,
     "metadata": {},
     "output_type": "execute_result"
    }
   ],
   "source": [
    "dataframe.max()"
   ]
  },
  {
   "cell_type": "code",
   "execution_count": 26,
   "metadata": {
    "colab": {
     "base_uri": "https://localhost:8080/"
    },
    "executionInfo": {
     "elapsed": 6,
     "status": "ok",
     "timestamp": 1669215688877,
     "user": {
      "displayName": "Ian Chong",
      "userId": "10615222189260864195"
     },
     "user_tz": -480
    },
    "id": "e12cXjSD_YjY",
    "outputId": "de4570ca-a5a8-44df-b3f3-af36bc2cc2ed"
   },
   "outputs": [
    {
     "data": {
      "text/plain": [
       "long    103.62866\n",
       "lat       1.24625\n",
       "dtype: float64"
      ]
     },
     "execution_count": 26,
     "metadata": {},
     "output_type": "execute_result"
    }
   ],
   "source": [
    "dataframe.min()"
   ]
  },
  {
   "cell_type": "code",
   "execution_count": 27,
   "metadata": {
    "colab": {
     "base_uri": "https://localhost:8080/",
     "height": 300
    },
    "executionInfo": {
     "elapsed": 5,
     "status": "ok",
     "timestamp": 1669215688877,
     "user": {
      "displayName": "Ian Chong",
      "userId": "10615222189260864195"
     },
     "user_tz": -480
    },
    "id": "yfDfRwX5_Zu5",
    "outputId": "0dd82ed2-9f88-4e6e-9c0d-abb48033fa9c"
   },
   "outputs": [
    {
     "data": {
      "text/html": [
       "<div>\n",
       "<style scoped>\n",
       "    .dataframe tbody tr th:only-of-type {\n",
       "        vertical-align: middle;\n",
       "    }\n",
       "\n",
       "    .dataframe tbody tr th {\n",
       "        vertical-align: top;\n",
       "    }\n",
       "\n",
       "    .dataframe thead th {\n",
       "        text-align: right;\n",
       "    }\n",
       "</style>\n",
       "<table border=\"1\" class=\"dataframe\">\n",
       "  <thead>\n",
       "    <tr style=\"text-align: right;\">\n",
       "      <th></th>\n",
       "      <th>long</th>\n",
       "      <th>lat</th>\n",
       "    </tr>\n",
       "  </thead>\n",
       "  <tbody>\n",
       "    <tr>\n",
       "      <th>count</th>\n",
       "      <td>1328.000000</td>\n",
       "      <td>1328.000000</td>\n",
       "    </tr>\n",
       "    <tr>\n",
       "      <th>mean</th>\n",
       "      <td>103.857220</td>\n",
       "      <td>1.352577</td>\n",
       "    </tr>\n",
       "    <tr>\n",
       "      <th>std</th>\n",
       "      <td>0.075215</td>\n",
       "      <td>0.044290</td>\n",
       "    </tr>\n",
       "    <tr>\n",
       "      <th>min</th>\n",
       "      <td>103.628660</td>\n",
       "      <td>1.246250</td>\n",
       "    </tr>\n",
       "    <tr>\n",
       "      <th>25%</th>\n",
       "      <td>103.811422</td>\n",
       "      <td>1.320203</td>\n",
       "    </tr>\n",
       "    <tr>\n",
       "      <th>50%</th>\n",
       "      <td>103.852132</td>\n",
       "      <td>1.351514</td>\n",
       "    </tr>\n",
       "    <tr>\n",
       "      <th>75%</th>\n",
       "      <td>103.905286</td>\n",
       "      <td>1.380000</td>\n",
       "    </tr>\n",
       "    <tr>\n",
       "      <th>max</th>\n",
       "      <td>103.990388</td>\n",
       "      <td>1.461120</td>\n",
       "    </tr>\n",
       "  </tbody>\n",
       "</table>\n",
       "</div>"
      ],
      "text/plain": [
       "              long          lat\n",
       "count  1328.000000  1328.000000\n",
       "mean    103.857220     1.352577\n",
       "std       0.075215     0.044290\n",
       "min     103.628660     1.246250\n",
       "25%     103.811422     1.320203\n",
       "50%     103.852132     1.351514\n",
       "75%     103.905286     1.380000\n",
       "max     103.990388     1.461120"
      ]
     },
     "execution_count": 27,
     "metadata": {},
     "output_type": "execute_result"
    }
   ],
   "source": [
    "dataframe.describe()"
   ]
  },
  {
   "cell_type": "code",
   "execution_count": 28,
   "metadata": {
    "colab": {
     "base_uri": "https://localhost:8080/"
    },
    "executionInfo": {
     "elapsed": 6,
     "status": "ok",
     "timestamp": 1669215688878,
     "user": {
      "displayName": "Ian Chong",
      "userId": "10615222189260864195"
     },
     "user_tz": -480
    },
    "id": "KB7Q_D8d_l4e",
    "outputId": "786a0ef7-ecda-4e5b-86d1-3a675d984146"
   },
   "outputs": [
    {
     "name": "stdout",
     "output_type": "stream",
     "text": [
      "<class 'pandas.core.frame.DataFrame'>\n",
      "RangeIndex: 1328 entries, 0 to 1327\n",
      "Data columns (total 2 columns):\n",
      " #   Column  Non-Null Count  Dtype  \n",
      "---  ------  --------------  -----  \n",
      " 0   long    1328 non-null   float64\n",
      " 1   lat     1328 non-null   float64\n",
      "dtypes: float64(2)\n",
      "memory usage: 20.9 KB\n"
     ]
    }
   ],
   "source": [
    "dataframe.info(verbose=True)"
   ]
  },
  {
   "cell_type": "markdown",
   "metadata": {
    "id": "29fMBF_m_pie"
   },
   "source": [
    "### 2.2.3 - Data Visualization\n",
    "\n",
    "`matplotlib` is the most common data visualization tool. It is power and affords you great customization over your graphics. However, it is also a mammoth and will not be covered here."
   ]
  },
  {
   "cell_type": "code",
   "execution_count": 29,
   "metadata": {
    "colab": {
     "base_uri": "https://localhost:8080/",
     "height": 298
    },
    "executionInfo": {
     "elapsed": 646,
     "status": "ok",
     "timestamp": 1669215689519,
     "user": {
      "displayName": "Ian Chong",
      "userId": "10615222189260864195"
     },
     "user_tz": -480
    },
    "id": "ZrHGLHRL_nml",
    "outputId": "5ec0591a-eecb-4e08-a9f4-a8204771124e"
   },
   "outputs": [
    {
     "data": {
      "text/plain": [
       "Text(0.5, 1.0, 'Coordinates of Singapore Taxis as of 2022-12-04T17:10:18')"
      ]
     },
     "execution_count": 29,
     "metadata": {},
     "output_type": "execute_result"
    },
    {
     "data": {
      "image/png": "[encoded data removed]",
      "text/plain": [
       "<Figure size 432x288 with 1 Axes>"
      ]
     },
     "metadata": {
      "needs_background": "light"
     },
     "output_type": "display_data"
    }
   ],
   "source": [
    "from matplotlib import pyplot as plt\n",
    "\n",
    "plt.scatter(x=dataframe['long'],y=dataframe['lat'])\n",
    "plt.title(f\"Coordinates of Singapore Taxis as of {now}\")"
   ]
  }
 ],
 "metadata": {
  "colab": {
   "authorship_tag": "ABX9TyNvbW8Eb4Spsim6iR/SUg+F",
   "provenance": []
  },
  "kernelspec": {
   "display_name": "Python 3 (ipykernel)",
   "language": "python",
   "name": "python3"
  },
  "language_info": {
   "codemirror_mode": {
    "name": "ipython",
    "version": 3
   },
   "file_extension": ".py",
   "mimetype": "text/x-python",
   "name": "python",
   "nbconvert_exporter": "python",
   "pygments_lexer": "ipython3",
   "version": "3.8.10"
  }
 },
 "nbformat": 4,
 "nbformat_minor": 1
}
